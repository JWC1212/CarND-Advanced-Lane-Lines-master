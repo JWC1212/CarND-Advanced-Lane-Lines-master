{
 "cells": [
  {
   "cell_type": "code",
   "execution_count": 1,
   "metadata": {
    "collapsed": false
   },
   "outputs": [
    {
     "name": "stderr",
     "output_type": "stream",
     "text": [
      "WARNING:py.warnings:E:\\Anaconda3\\lib\\site-packages\\skimage\\filter\\__init__.py:6: skimage_deprecation: The `skimage.filter` module has been renamed to `skimage.filters`.  This placeholder module will be removed in v0.13.\n",
      "  warn(skimage_deprecation('The `skimage.filter` module has been renamed '\n",
      "\n"
     ]
    }
   ],
   "source": [
    "import numpy as np\n",
    "import pickle\n",
    "import cv2\n",
    "import glob\n",
    "import matplotlib.pyplot as plt\n",
    "import matplotlib.image as mpimg\n",
    "# Import everything needed to edit/save/watch video clips\n",
    "from moviepy.editor import VideoFileClip\n",
    "from IPython.display import HTML\n",
    "import pickle\n",
    "%matplotlib inline\n",
    "\n",
    "with open('obj_pts.p', 'rb') as f:\n",
    "    objpoints = pickle.load(f)\n",
    "with open('img_pts.p', 'rb') as f:\n",
    "    imgpoints =pickle.load(f)\n",
    "with open(\"M.p\", \"rb\") as f:\n",
    "    M = pickle.load(f)\n",
    "with open(\"inverseM.p\", \"rb\") as f:\n",
    "    inverseM = pickle.load(f)"
   ]
  },
  {
   "cell_type": "code",
   "execution_count": 2,
   "metadata": {
    "collapsed": true
   },
   "outputs": [],
   "source": [
    "#get X or Y gradient via Sobel Operator.\n",
    "def get_abs_Sobel_grad(gray_img, sobel_kernel=5, direction = 'X'):\n",
    "    if direction == 'X':\n",
    "        sobelx=cv2.Sobel(gray_img, cv2.CV_64F, 1, 0,sobel_kernel)\n",
    "        return np.absolute(sobelx)\n",
    "    elif direction =='Y':\n",
    "        sobely=cv2.Sobel(gray_img, cv2.CV_64F, 0, 1,sobel_kernel)\n",
    "        return np.absolute(sobely)\n",
    "    else:\n",
    "        print('Please set gradient direction parameter: X or Y?')\n",
    "        return gray_img\n",
    "\n",
    "#Scale the gradient image.\n",
    "def get_scaled_Sobel(abs_sobel_img):\n",
    "    return np.uint8(255*abs_sobel_img/np.max(abs_sobel_img))\n",
    "\n",
    "#get binary image of gradient.\n",
    "def binary_Sobel(scaled_img, threshold=(20, 100)):\n",
    "    binary_sobel = np.zeros_like(scaled_img)\n",
    "    binary_sobel[(scaled_img>=threshold[0])&(scaled_img<=threshold[1])]=1\n",
    "    return binary_sobel\n",
    "\n",
    "#get binary image of gradient's magnitude\n",
    "def binary_Magnitude(abs_sobelx, abs_sobely, threshold=(20, 100)):    \n",
    "    sobelxy = np.sqrt(np.square(abs_sobelx)+np.square(abs_sobely)) \n",
    "    scaled_sobelxy = np.uint8(255*sobelxy/np.max(sobelxy))\n",
    "    binary_sobelxy = np.zeros_like(scaled_sobelxy)\n",
    "    binary_sobelxy[(scaled_sobelxy >= threshold[0]) & (scaled_sobelxy <= threshold[1])] = 1\n",
    "    return binary_sobelxy\n",
    "\n",
    "#get binary image of direction of gradient\n",
    "def binary_Dir_Grad(abs_sobelx, abs_sobely, arc_threshold=(0.7, 1.3)):\n",
    "    dir_grad = np.arctan2(abs_sobely, abs_sobelx)\n",
    "    binary_dir_grad = np.zeros_like(dir_grad)\n",
    "    binary_dir_grad[(dir_grad>=arc_threshold[0]) & (dir_grad<=arc_threshold[1])] = 1\n",
    "    return binary_dir_grad\n",
    "                    \n",
    "def combine_Binary_Grad(binary_sbx, binary_sby, binary_mag, binary_dir_grad):\n",
    "    binary_Comb_Grad = np.zeros_like(binary_sbx)\n",
    "    binary_Comb_Grad[((binary_sbx==1)&(binary_sby==1))|((binary_mag==1)&(binary_dir_grad==1))] = 1\n",
    "    return binary_Comb_Grad"
   ]
  },
  {
   "cell_type": "code",
   "execution_count": 3,
   "metadata": {
    "collapsed": true
   },
   "outputs": [],
   "source": [
    "def get_HLS_channel(undist_img, channel='S', threshold=(0,255)):\n",
    "    HLS_img = cv2.cvtColor(undist_img, cv2.COLOR_BGR2HLS)\n",
    "    if channel=='H':\n",
    "        H = HLS_img[:,:,0]\n",
    "        binary_H = np.zeros_like(H)\n",
    "        binary_H[(H>=threshold[0])&(H<=threshold[1])]=1\n",
    "        return binary_H\n",
    "    elif channel=='L':\n",
    "        L = HLS_img[:,:,1]\n",
    "        binary_L = np.zeros_like(L)\n",
    "        binary_L[(L>=threshold[0])&(L<=threshold[1])]=1\n",
    "        return binary_L\n",
    "    elif channel=='S':\n",
    "        S = HLS_img[:,:,2]\n",
    "        binary_S = np.zeros_like(S)\n",
    "        binary_S[(S>=threshold[0])&(S<=threshold[1])]=1\n",
    "        return binary_S\n",
    "    else:\n",
    "        print('Please choose one channel parameter of H, L or S?')\n",
    "        return undist_img\n",
    "def combine_HS(binary_H, binary_S):\n",
    "    binary_HS = np.zeros_like(binary_H)\n",
    "    binary_HS[(binary_H ==1)&(binary_S ==1)] = 1\n",
    "    return binary_HS"
   ]
  },
  {
   "cell_type": "code",
   "execution_count": 4,
   "metadata": {
    "collapsed": true
   },
   "outputs": [],
   "source": [
    "def combine_Binary(binary_color, binary_grad):\n",
    "    color_grad_comb = np.zeros_like(binary_grad)\n",
    "    color_grad_comb[(binary_color==1) | (binary_grad==1)]=1\n",
    "    return color_grad_comb"
   ]
  },
  {
   "cell_type": "code",
   "execution_count": 6,
   "metadata": {
    "collapsed": false
   },
   "outputs": [],
   "source": [
    "#This function calculates points of lanes for fitting curve.\n",
    "def calc_Lane_Points(binary_Combine):\n",
    "    mid_height = np.int(binary_Combine.shape[0]/2)\n",
    "    histogram = np.sum(binary_Combine[mid_height:,:],axis=0)\n",
    "    mid_width = np.int(histogram.shape[0]/2)\n",
    "    print(\"The middle point of image:{}\".format(mid_width))\n",
    "    leftx_base = np.argmax(histogram[:mid_width])\n",
    "    rightx_base = np.argmax(histogram[mid_width:]) + mid_width\n",
    "    print(\"Max value at x-{} left part.\".format(leftx_base))\n",
    "    print(\"Max value at x-{} right part.\".format(rightx_base))\n",
    "    nonzero = np.nonzero(binary_Combine)\n",
    "    nonzerox = nonzero[1]\n",
    "    nonzeroy = nonzero[0]\n",
    "    nwindows = 9\n",
    "    height = binary_Combine.shape[0]\n",
    "    win_height = np.int(binary_Combine.shape[0]/nwindows)\n",
    "    margin = 100\n",
    "    minpixel = 50\n",
    "    #These two empty lists store indexes of nonzero pixels in nonzerox and nonzeroy.\n",
    "    left_lane_index = []\n",
    "    right_lane_index = []\n",
    "    leftx_current = leftx_base\n",
    "    rightx_current = rightx_base\n",
    "    for window in range(nwindows):\n",
    "        win_y_low = height - (window+1)*win_height\n",
    "        win_y_high = height - window*win_height\n",
    "        win_leftx_left = leftx_current - margin\n",
    "        win_leftx_right = leftx_current + margin\n",
    "        win_rightx_left = rightx_current - margin\n",
    "        win_rightx_right = rightx_current + margin\n",
    "        good_left_ind=((nonzeroy>=win_y_low)&(nonzeroy<win_y_high)&(nonzerox>=win_leftx_left)&(nonzerox<win_leftx_right)).nonzero()[0]\n",
    "        good_right_ind=((nonzeroy>=win_y_low)&(nonzeroy<win_y_high)&(nonzerox>=win_rightx_left)&(nonzerox<win_rightx_right)).nonzero()[0]\n",
    "        left_lane_index.append(good_left_ind)\n",
    "        right_lane_index.append(good_right_ind)\n",
    "        if len(good_left_ind) > minpixel:\n",
    "            leftx_current = np.int(np.mean(nonzerox[good_left_ind]))\n",
    "        if len(good_right_ind) > minpixel:\n",
    "            rightx_current = np.int(np.mean(nonzerox[good_right_ind]))\n",
    "    left_lane_index = np.concatenate(left_lane_index)\n",
    "    right_lane_index = np.concatenate(right_lane_index)\n",
    "\n",
    "    leftx = nonzerox[left_lane_index]\n",
    "    lefty = nonzeroy[left_lane_index] \n",
    "    rightx = nonzerox[right_lane_index]\n",
    "    righty = nonzeroy[right_lane_index]\n",
    "    return leftx, lefty, rightx, righty\n",
    "\n",
    "#This function gets left and right lanes via A*y*y+B*y+C which returns A, B and C coefficients.\n",
    "def fit_Lanes(leftx, lefty, rightx, righty):\n",
    "    left_fit = np.polyfit(lefty, leftx, 2)\n",
    "    right_fit = np.polyfit(righty, rightx, 2)\n",
    "    return left_fit, right_fit\n",
    "\n",
    "#This function calculates the whole lanes using fit coefficients A, B, C\n",
    "def calc_X(binary_Combine, left_fit, right_fit):\n",
    "    ploty = np.linspace(0, binary_Combine.shape[0]-1, binary_Combine.shape[0] )\n",
    "    left_fitx = left_fit[0]*ploty**2 + left_fit[1]*ploty + left_fit[2]\n",
    "    right_fitx = right_fit[0]*ploty**2 + right_fit[1]*ploty + right_fit[2]\n",
    "    return left_fitx, right_fitx"
   ]
  },
  {
   "cell_type": "code",
   "execution_count": 7,
   "metadata": {
    "collapsed": true
   },
   "outputs": [],
   "source": [
    "def process_image(img, First_Frame = True):\n",
    "    #undist = undistortImage(img, objpoints, imgpoints)\n",
    "    warped_img = cv2.warpPerspective(img, M, (1280, 720))\n",
    "    gray_warped = cv2.cvtColor(warped_img, cv2.COLOR_RGB2GRAY)\n",
    "    warped_sobelx = get_abs_Sobel_grad(gray_warped, sobel_kernel=5, direction = 'X')\n",
    "    warped_sobely = get_abs_Sobel_grad(gray_warped, sobel_kernel=5, direction = 'Y')\n",
    "    scaled_warped_sobelx = get_scaled_Sobel(warped_sobelx)\n",
    "    scaled_warped_sobely = get_scaled_Sobel(warped_sobely)\n",
    "\n",
    "    binary_warped_sobelx = binary_Sobel(scaled_warped_sobelx, threshold=(20, 100))\n",
    "    binary_warped_sobely = binary_Sobel(scaled_warped_sobely, threshold=(20, 100))\n",
    "    #binary_mag = binary_Magnitude(warped_sobelx, warped_sobely, threshold=(28, 141))\n",
    "    #binary_dir_grad = binary_Dir_Grad(warped_sobelx, warped_sobely, arc_threshold=(1.0, np.pi/2))\n",
    "\n",
    "    #binary_grad = combine_Binary_Grad(binary_warped_sobelx, binary_warped_sobely, binary_mag, binary_dir_grad)\n",
    "    \n",
    "    binary_S = get_HLS_channel(warped_img, threshold=(170,255))\n",
    "    binary_H = get_HLS_channel(warped_img, 'H',threshold=(25,40))\n",
    "    #binary_L = get_HLS_channel(warped_img, 'L',threshold=(24,200))\n",
    "    #binary_HS = combine_HS(binary_H, binary_S)\n",
    "    \n",
    "    binary_Combine = combine_Binary(binary_S, binary_warped_sobelx)\n",
    "    \n",
    "    if First_Frame:\n",
    "        #detected pixels on lanes\n",
    "        leftx, lefty, rightx, righty = calc_Lane_Points(binary_Combine)\n",
    "        First_Frame = False\n",
    "    else:\n",
    "        nonzero = binary_warped.nonzero()\n",
    "        nonzeroy = np.array(nonzero[0])\n",
    "        nonzerox = np.array(nonzero[1])\n",
    "        margin = 100\n",
    "        left_lane_inds = ((nonzerox > (left_fit[0]*(nonzeroy**2) + left_fit[1]*nonzeroy + \n",
    "        left_fit[2] - margin)) & (nonzerox < (left_fit[0]*(nonzeroy**2) + \n",
    "        left_fit[1]*nonzeroy + left_fit[2] + margin))) \n",
    "\n",
    "        right_lane_inds = ((nonzerox > (right_fit[0]*(nonzeroy**2) + right_fit[1]*nonzeroy + \n",
    "        right_fit[2] - margin)) & (nonzerox < (right_fit[0]*(nonzeroy**2) + \n",
    "        right_fit[1]*nonzeroy + right_fit[2] + margin)))  \n",
    "\n",
    "        # Again, extract left and right line pixel positions\n",
    "        leftx = nonzerox[left_lane_inds]\n",
    "        lefty = nonzeroy[left_lane_inds] \n",
    "        rightx = nonzerox[right_lane_inds]\n",
    "        righty = nonzeroy[right_lane_inds]\n",
    "    \n",
    "    # Fit a second order polynomial to each.calculates coefficients\n",
    "    left_fit, right_fit = fit_Lanes(leftx, lefty, rightx, righty)\n",
    "    #calculate x position of lanes via coefficients\n",
    "    left_fitx, right_fitx = calc_X(binary_Combine, left_fit, right_fit)\n",
    "    # Create an image to draw the lines on\n",
    "    warp_zero = np.zeros_like(binary_Combine).astype(np.uint8)\n",
    "    color_warp = np.dstack((warp_zero, warp_zero, warp_zero))\n",
    "    \n",
    "    ploty = np.linspace(0, binary_Combine.shape[0]-1, binary_Combine.shape[0])\n",
    "    # Recast the x and y points into usable format for cv2.fillPoly()\n",
    "    pts_left = np.array([np.transpose(np.vstack([left_fitx, ploty]))])\n",
    "    pts_right = np.array([np.flipud(np.transpose(np.vstack([right_fitx, ploty])))])\n",
    "    pts = np.hstack((pts_left, pts_right))\n",
    "\n",
    "    # Draw the lane onto the warped blank image\n",
    "    cv2.fillPoly(color_warp, np.int_([pts]), (0,255, 0))\n",
    "\n",
    "    # Warp the blank back to original image space using inverse perspective matrix (Minv)\n",
    "    newwarp = cv2.warpPerspective(color_warp, inverseM, (1280, 720)) \n",
    "    # Combine the result with the original image\n",
    "    result = cv2.addWeighted(img, 1, newwarp, 0.3, 0)\n",
    "    return result"
   ]
  },
  {
   "cell_type": "code",
   "execution_count": 8,
   "metadata": {
    "collapsed": false,
    "scrolled": false
   },
   "outputs": [
    {
     "name": "stdout",
     "output_type": "stream",
     "text": [
      "The middle point of image:640\n",
      "Max value at x-343 left part.\n",
      "Max value at x-1036 right part.\n",
      "[MoviePy] >>>> Building video ../output_images/project_video_output.mp4\n",
      "[MoviePy] Writing video ../output_images/project_video_output.mp4\n"
     ]
    },
    {
     "name": "stderr",
     "output_type": "stream",
     "text": [
      "\r",
      "  0%|                                                 | 0/1261 [00:00<?, ?it/s]"
     ]
    },
    {
     "name": "stdout",
     "output_type": "stream",
     "text": [
      "The middle point of image:640\n",
      "Max value at x-343 left part.\n",
      "Max value at x-1036 right part.\n"
     ]
    },
    {
     "name": "stderr",
     "output_type": "stream",
     "text": [
      "\r",
      "  0%|                                         | 1/1261 [00:00<07:08,  2.94it/s]"
     ]
    },
    {
     "name": "stdout",
     "output_type": "stream",
     "text": [
      "The middle point of image:640\n",
      "Max value at x-343 left part.\n",
      "Max value at x-1038 right part.\n"
     ]
    },
    {
     "name": "stderr",
     "output_type": "stream",
     "text": [
      "\r",
      "  0%|                                         | 2/1261 [00:00<06:22,  3.29it/s]"
     ]
    },
    {
     "name": "stdout",
     "output_type": "stream",
     "text": [
      "The middle point of image:640\n",
      "Max value at x-343 left part.\n",
      "Max value at x-1040 right part.\n"
     ]
    },
    {
     "name": "stderr",
     "output_type": "stream",
     "text": [
      "\r",
      "  0%|                                         | 3/1261 [00:00<05:35,  3.75it/s]"
     ]
    },
    {
     "name": "stdout",
     "output_type": "stream",
     "text": [
      "The middle point of image:640\n",
      "Max value at x-342 left part.\n",
      "Max value at x-1044 right part.\n"
     ]
    },
    {
     "name": "stderr",
     "output_type": "stream",
     "text": [
      "\r",
      "  0%|▏                                        | 4/1261 [00:00<05:06,  4.10it/s]"
     ]
    },
    {
     "name": "stdout",
     "output_type": "stream",
     "text": [
      "The middle point of image:640\n",
      "Max value at x-343 left part.\n",
      "Max value at x-1046 right part.\n"
     ]
    },
    {
     "name": "stderr",
     "output_type": "stream",
     "text": [
      "\r",
      "  0%|▏                                        | 5/1261 [00:01<04:42,  4.45it/s]"
     ]
    },
    {
     "name": "stdout",
     "output_type": "stream",
     "text": [
      "The middle point of image:640\n",
      "Max value at x-345 left part.\n",
      "Max value at x-1009 right part.\n"
     ]
    },
    {
     "name": "stderr",
     "output_type": "stream",
     "text": [
      "\r",
      "  0%|▏                                        | 6/1261 [00:01<04:32,  4.60it/s]"
     ]
    },
    {
     "name": "stdout",
     "output_type": "stream",
     "text": [
      "The middle point of image:640\n",
      "Max value at x-346 left part.\n",
      "Max value at x-1009 right part.\n"
     ]
    },
    {
     "name": "stderr",
     "output_type": "stream",
     "text": [
      "\r",
      "  1%|▏                                        | 7/1261 [00:01<04:27,  4.70it/s]"
     ]
    },
    {
     "name": "stdout",
     "output_type": "stream",
     "text": [
      "The middle point of image:640\n",
      "Max value at x-349 left part.\n",
      "Max value at x-1004 right part.\n"
     ]
    },
    {
     "name": "stderr",
     "output_type": "stream",
     "text": [
      "\r",
      "  1%|▎                                        | 8/1261 [00:01<04:13,  4.94it/s]"
     ]
    },
    {
     "name": "stdout",
     "output_type": "stream",
     "text": [
      "The middle point of image:640\n",
      "Max value at x-348 left part.\n",
      "Max value at x-1011 right part.\n"
     ]
    },
    {
     "name": "stderr",
     "output_type": "stream",
     "text": [
      "\r",
      "  1%|▎                                        | 9/1261 [00:01<04:18,  4.84it/s]"
     ]
    },
    {
     "name": "stdout",
     "output_type": "stream",
     "text": [
      "The middle point of image:640\n",
      "Max value at x-348 left part.\n",
      "Max value at x-1018 right part.\n"
     ]
    },
    {
     "name": "stderr",
     "output_type": "stream",
     "text": [
      "\r",
      "  1%|▎                                       | 10/1261 [00:02<04:17,  4.87it/s]"
     ]
    },
    {
     "name": "stdout",
     "output_type": "stream",
     "text": [
      "The middle point of image:640\n",
      "Max value at x-348 left part.\n",
      "Max value at x-1020 right part.\n"
     ]
    },
    {
     "name": "stderr",
     "output_type": "stream",
     "text": [
      "\r",
      "  1%|▎                                       | 11/1261 [00:02<04:27,  4.67it/s]"
     ]
    },
    {
     "name": "stdout",
     "output_type": "stream",
     "text": [
      "The middle point of image:640\n",
      "Max value at x-345 left part.\n",
      "Max value at x-1032 right part.\n"
     ]
    },
    {
     "name": "stderr",
     "output_type": "stream",
     "text": [
      "\r",
      "  1%|▍                                       | 12/1261 [00:02<04:44,  4.38it/s]"
     ]
    },
    {
     "name": "stdout",
     "output_type": "stream",
     "text": [
      "The middle point of image:640\n",
      "Max value at x-346 left part.\n",
      "Max value at x-1033 right part.\n"
     ]
    },
    {
     "name": "stderr",
     "output_type": "stream",
     "text": [
      "\r",
      "  1%|▍                                       | 13/1261 [00:02<04:32,  4.58it/s]"
     ]
    },
    {
     "name": "stdout",
     "output_type": "stream",
     "text": [
      "The middle point of image:640\n",
      "Max value at x-347 left part.\n",
      "Max value at x-1037 right part.\n"
     ]
    },
    {
     "name": "stderr",
     "output_type": "stream",
     "text": [
      "\r",
      "  1%|▍                                       | 14/1261 [00:03<04:26,  4.67it/s]"
     ]
    },
    {
     "name": "stdout",
     "output_type": "stream",
     "text": [
      "The middle point of image:640\n",
      "Max value at x-347 left part.\n",
      "Max value at x-1035 right part.\n"
     ]
    },
    {
     "name": "stderr",
     "output_type": "stream",
     "text": [
      "\r",
      "  1%|▍                                       | 15/1261 [00:03<04:22,  4.75it/s]"
     ]
    },
    {
     "name": "stdout",
     "output_type": "stream",
     "text": [
      "The middle point of image:640\n",
      "Max value at x-348 left part.\n",
      "Max value at x-1037 right part.\n"
     ]
    },
    {
     "name": "stderr",
     "output_type": "stream",
     "text": [
      "\r",
      "  1%|▌                                       | 16/1261 [00:03<04:19,  4.80it/s]"
     ]
    },
    {
     "name": "stdout",
     "output_type": "stream",
     "text": [
      "The middle point of image:640\n",
      "Max value at x-347 left part.\n",
      "Max value at x-1040 right part.\n"
     ]
    },
    {
     "name": "stderr",
     "output_type": "stream",
     "text": [
      "\r",
      "  1%|▌                                       | 17/1261 [00:03<04:12,  4.92it/s]"
     ]
    },
    {
     "name": "stdout",
     "output_type": "stream",
     "text": [
      "The middle point of image:640\n",
      "Max value at x-346 left part.\n",
      "Max value at x-980 right part.\n"
     ]
    },
    {
     "name": "stderr",
     "output_type": "stream",
     "text": [
      "\r",
      "  1%|▌                                       | 18/1261 [00:03<04:12,  4.92it/s]"
     ]
    },
    {
     "name": "stdout",
     "output_type": "stream",
     "text": [
      "The middle point of image:640\n",
      "Max value at x-346 left part.\n",
      "Max value at x-974 right part.\n"
     ]
    },
    {
     "name": "stderr",
     "output_type": "stream",
     "text": [
      "\r",
      "  2%|▌                                       | 19/1261 [00:03<04:08,  4.99it/s]"
     ]
    },
    {
     "name": "stdout",
     "output_type": "stream",
     "text": [
      "The middle point of image:640\n",
      "Max value at x-344 left part.\n",
      "Max value at x-989 right part.\n"
     ]
    },
    {
     "name": "stderr",
     "output_type": "stream",
     "text": [
      "\r",
      "  2%|▋                                       | 20/1261 [00:04<04:04,  5.08it/s]"
     ]
    },
    {
     "name": "stdout",
     "output_type": "stream",
     "text": [
      "The middle point of image:640\n",
      "Max value at x-343 left part.\n",
      "Max value at x-992 right part.\n"
     ]
    },
    {
     "name": "stderr",
     "output_type": "stream",
     "text": [
      "\r",
      "  2%|▋                                       | 21/1261 [00:04<04:19,  4.77it/s]"
     ]
    },
    {
     "name": "stdout",
     "output_type": "stream",
     "text": [
      "The middle point of image:640\n",
      "Max value at x-343 left part.\n",
      "Max value at x-1009 right part.\n"
     ]
    },
    {
     "name": "stderr",
     "output_type": "stream",
     "text": [
      "\r",
      "  2%|▋                                       | 22/1261 [00:04<04:28,  4.62it/s]"
     ]
    },
    {
     "name": "stdout",
     "output_type": "stream",
     "text": [
      "The middle point of image:640\n",
      "Max value at x-319 left part.\n",
      "Max value at x-1012 right part.\n"
     ]
    },
    {
     "name": "stderr",
     "output_type": "stream",
     "text": [
      "\r",
      "  2%|▋                                       | 23/1261 [00:04<04:23,  4.70it/s]"
     ]
    },
    {
     "name": "stdout",
     "output_type": "stream",
     "text": [
      "The middle point of image:640\n",
      "Max value at x-335 left part.\n",
      "Max value at x-1011 right part.\n"
     ]
    },
    {
     "name": "stderr",
     "output_type": "stream",
     "text": [
      "\r",
      "  2%|▊                                       | 24/1261 [00:05<04:05,  5.04it/s]"
     ]
    },
    {
     "name": "stdout",
     "output_type": "stream",
     "text": [
      "The middle point of image:640\n",
      "Max value at x-336 left part.\n",
      "Max value at x-1014 right part.\n"
     ]
    },
    {
     "name": "stderr",
     "output_type": "stream",
     "text": [
      "\r",
      "  2%|▊                                       | 25/1261 [00:05<03:58,  5.19it/s]"
     ]
    },
    {
     "name": "stdout",
     "output_type": "stream",
     "text": [
      "The middle point of image:640\n",
      "Max value at x-317 left part.\n",
      "Max value at x-1024 right part.\n"
     ]
    },
    {
     "name": "stderr",
     "output_type": "stream",
     "text": [
      "\r",
      "  2%|▊                                       | 26/1261 [00:05<03:53,  5.30it/s]"
     ]
    },
    {
     "name": "stdout",
     "output_type": "stream",
     "text": [
      "The middle point of image:640\n",
      "Max value at x-327 left part.\n",
      "Max value at x-1027 right part.\n"
     ]
    },
    {
     "name": "stderr",
     "output_type": "stream",
     "text": [
      "\r",
      "  2%|▊                                       | 27/1261 [00:05<03:47,  5.42it/s]"
     ]
    },
    {
     "name": "stdout",
     "output_type": "stream",
     "text": [
      "The middle point of image:640\n",
      "Max value at x-323 left part.\n",
      "Max value at x-1033 right part.\n"
     ]
    },
    {
     "name": "stderr",
     "output_type": "stream",
     "text": [
      "\r",
      "  2%|▉                                       | 28/1261 [00:05<03:47,  5.43it/s]"
     ]
    },
    {
     "name": "stdout",
     "output_type": "stream",
     "text": [
      "The middle point of image:640\n",
      "Max value at x-322 left part.\n",
      "Max value at x-1036 right part.\n"
     ]
    },
    {
     "name": "stderr",
     "output_type": "stream",
     "text": [
      "\r",
      "  2%|▉                                       | 29/1261 [00:05<03:47,  5.41it/s]"
     ]
    },
    {
     "name": "stdout",
     "output_type": "stream",
     "text": [
      "The middle point of image:640\n",
      "Max value at x-329 left part.\n",
      "Max value at x-1036 right part.\n"
     ]
    },
    {
     "name": "stderr",
     "output_type": "stream",
     "text": [
      "\r",
      "  2%|▉                                       | 30/1261 [00:06<03:45,  5.45it/s]"
     ]
    },
    {
     "name": "stdout",
     "output_type": "stream",
     "text": [
      "The middle point of image:640\n",
      "Max value at x-326 left part.\n",
      "Max value at x-981 right part.\n"
     ]
    },
    {
     "name": "stderr",
     "output_type": "stream",
     "text": [
      "\r",
      "  2%|▉                                       | 31/1261 [00:06<03:52,  5.30it/s]"
     ]
    },
    {
     "name": "stdout",
     "output_type": "stream",
     "text": [
      "The middle point of image:640\n",
      "Max value at x-329 left part.\n",
      "Max value at x-985 right part.\n"
     ]
    },
    {
     "name": "stderr",
     "output_type": "stream",
     "text": [
      "\r",
      "  3%|█                                       | 32/1261 [00:06<03:48,  5.37it/s]"
     ]
    },
    {
     "name": "stdout",
     "output_type": "stream",
     "text": [
      "The middle point of image:640\n",
      "Max value at x-327 left part.\n",
      "Max value at x-994 right part.\n"
     ]
    },
    {
     "name": "stderr",
     "output_type": "stream",
     "text": [
      "\r",
      "  3%|█                                       | 33/1261 [00:06<03:47,  5.40it/s]"
     ]
    },
    {
     "name": "stdout",
     "output_type": "stream",
     "text": [
      "The middle point of image:640\n",
      "Max value at x-328 left part.\n",
      "Max value at x-1000 right part.\n"
     ]
    },
    {
     "name": "stderr",
     "output_type": "stream",
     "text": [
      "\r",
      "  3%|█                                       | 34/1261 [00:06<03:50,  5.32it/s]"
     ]
    },
    {
     "name": "stdout",
     "output_type": "stream",
     "text": [
      "The middle point of image:640\n",
      "Max value at x-330 left part.\n",
      "Max value at x-1005 right part.\n"
     ]
    },
    {
     "name": "stderr",
     "output_type": "stream",
     "text": [
      "\r",
      "  3%|█                                       | 35/1261 [00:07<03:53,  5.25it/s]"
     ]
    },
    {
     "name": "stdout",
     "output_type": "stream",
     "text": [
      "The middle point of image:640\n",
      "Max value at x-332 left part.\n",
      "Max value at x-1015 right part.\n"
     ]
    },
    {
     "name": "stderr",
     "output_type": "stream",
     "text": [
      "\r",
      "  3%|█▏                                      | 36/1261 [00:07<03:52,  5.27it/s]"
     ]
    },
    {
     "name": "stdout",
     "output_type": "stream",
     "text": [
      "The middle point of image:640\n",
      "Max value at x-333 left part.\n",
      "Max value at x-1011 right part.\n"
     ]
    },
    {
     "name": "stderr",
     "output_type": "stream",
     "text": [
      "\r",
      "  3%|█▏                                      | 37/1261 [00:07<03:59,  5.11it/s]"
     ]
    },
    {
     "name": "stdout",
     "output_type": "stream",
     "text": [
      "The middle point of image:640\n",
      "Max value at x-335 left part.\n",
      "Max value at x-1017 right part.\n"
     ]
    },
    {
     "name": "stderr",
     "output_type": "stream",
     "text": [
      "\r",
      "  3%|█▏                                      | 38/1261 [00:07<03:58,  5.13it/s]"
     ]
    },
    {
     "name": "stdout",
     "output_type": "stream",
     "text": [
      "The middle point of image:640\n",
      "Max value at x-336 left part.\n",
      "Max value at x-1019 right part.\n"
     ]
    },
    {
     "name": "stderr",
     "output_type": "stream",
     "text": [
      "\r",
      "  3%|█▏                                      | 39/1261 [00:07<03:58,  5.11it/s]"
     ]
    },
    {
     "name": "stdout",
     "output_type": "stream",
     "text": [
      "The middle point of image:640\n",
      "Max value at x-336 left part.\n",
      "Max value at x-1023 right part.\n"
     ]
    },
    {
     "name": "stderr",
     "output_type": "stream",
     "text": [
      "\r",
      "  3%|█▎                                      | 40/1261 [00:08<04:00,  5.07it/s]"
     ]
    },
    {
     "name": "stdout",
     "output_type": "stream",
     "text": [
      "The middle point of image:640\n",
      "Max value at x-337 left part.\n",
      "Max value at x-1029 right part.\n"
     ]
    },
    {
     "name": "stderr",
     "output_type": "stream",
     "text": [
      "\r",
      "  3%|█▎                                      | 41/1261 [00:08<03:59,  5.09it/s]"
     ]
    },
    {
     "name": "stdout",
     "output_type": "stream",
     "text": [
      "The middle point of image:640\n",
      "Max value at x-334 left part.\n",
      "Max value at x-1033 right part.\n"
     ]
    },
    {
     "name": "stderr",
     "output_type": "stream",
     "text": [
      "\r",
      "  3%|█▎                                      | 42/1261 [00:08<03:59,  5.10it/s]"
     ]
    },
    {
     "name": "stdout",
     "output_type": "stream",
     "text": [
      "The middle point of image:640\n",
      "Max value at x-334 left part.\n",
      "Max value at x-1035 right part.\n"
     ]
    },
    {
     "name": "stderr",
     "output_type": "stream",
     "text": [
      "\r",
      "  3%|█▎                                      | 43/1261 [00:09<06:41,  3.03it/s]"
     ]
    },
    {
     "name": "stdout",
     "output_type": "stream",
     "text": [
      "The middle point of image:640\n",
      "Max value at x-338 left part.\n",
      "Max value at x-994 right part.\n"
     ]
    },
    {
     "name": "stderr",
     "output_type": "stream",
     "text": [
      "\r",
      "  3%|█▍                                      | 44/1261 [00:09<05:45,  3.52it/s]"
     ]
    },
    {
     "name": "stdout",
     "output_type": "stream",
     "text": [
      "The middle point of image:640\n",
      "Max value at x-338 left part.\n",
      "Max value at x-986 right part.\n"
     ]
    },
    {
     "name": "stderr",
     "output_type": "stream",
     "text": [
      "\r",
      "  4%|█▍                                      | 45/1261 [00:09<05:06,  3.97it/s]"
     ]
    },
    {
     "name": "stdout",
     "output_type": "stream",
     "text": [
      "The middle point of image:640\n",
      "Max value at x-338 left part.\n",
      "Max value at x-1000 right part.\n"
     ]
    },
    {
     "name": "stderr",
     "output_type": "stream",
     "text": [
      "\r",
      "  4%|█▍                                      | 46/1261 [00:09<04:45,  4.26it/s]"
     ]
    },
    {
     "name": "stdout",
     "output_type": "stream",
     "text": [
      "The middle point of image:640\n",
      "Max value at x-337 left part.\n",
      "Max value at x-1008 right part.\n"
     ]
    },
    {
     "name": "stderr",
     "output_type": "stream",
     "text": [
      "\r",
      "  4%|█▍                                      | 47/1261 [00:09<04:33,  4.44it/s]"
     ]
    },
    {
     "name": "stdout",
     "output_type": "stream",
     "text": [
      "The middle point of image:640\n",
      "Max value at x-338 left part.\n",
      "Max value at x-1012 right part.\n"
     ]
    },
    {
     "name": "stderr",
     "output_type": "stream",
     "text": [
      "\r",
      "  4%|█▌                                      | 48/1261 [00:10<04:32,  4.45it/s]"
     ]
    },
    {
     "name": "stdout",
     "output_type": "stream",
     "text": [
      "The middle point of image:640\n",
      "Max value at x-337 left part.\n",
      "Max value at x-1016 right part.\n"
     ]
    },
    {
     "name": "stderr",
     "output_type": "stream",
     "text": [
      "\r",
      "  4%|█▌                                      | 49/1261 [00:10<04:20,  4.66it/s]"
     ]
    },
    {
     "name": "stdout",
     "output_type": "stream",
     "text": [
      "The middle point of image:640\n",
      "Max value at x-338 left part.\n",
      "Max value at x-1019 right part.\n"
     ]
    },
    {
     "name": "stderr",
     "output_type": "stream",
     "text": [
      "\r",
      "  4%|█▌                                      | 50/1261 [00:10<04:11,  4.82it/s]"
     ]
    },
    {
     "name": "stdout",
     "output_type": "stream",
     "text": [
      "The middle point of image:640\n",
      "Max value at x-338 left part.\n",
      "Max value at x-1023 right part.\n"
     ]
    },
    {
     "name": "stderr",
     "output_type": "stream",
     "text": [
      "\r",
      "  4%|█▌                                      | 51/1261 [00:10<04:01,  5.00it/s]"
     ]
    },
    {
     "name": "stdout",
     "output_type": "stream",
     "text": [
      "The middle point of image:640\n",
      "Max value at x-339 left part.\n",
      "Max value at x-1026 right part.\n"
     ]
    },
    {
     "name": "stderr",
     "output_type": "stream",
     "text": [
      "\r",
      "  4%|█▋                                      | 52/1261 [00:10<04:02,  4.99it/s]"
     ]
    },
    {
     "name": "stdout",
     "output_type": "stream",
     "text": [
      "The middle point of image:640\n",
      "Max value at x-339 left part.\n",
      "Max value at x-1029 right part.\n"
     ]
    },
    {
     "name": "stderr",
     "output_type": "stream",
     "text": [
      "\r",
      "  4%|█▋                                      | 53/1261 [00:11<04:02,  4.99it/s]"
     ]
    },
    {
     "name": "stdout",
     "output_type": "stream",
     "text": [
      "The middle point of image:640\n",
      "Max value at x-339 left part.\n",
      "Max value at x-1032 right part.\n"
     ]
    },
    {
     "name": "stderr",
     "output_type": "stream",
     "text": [
      "\r",
      "  4%|█▋                                      | 54/1261 [00:11<04:08,  4.86it/s]"
     ]
    },
    {
     "name": "stdout",
     "output_type": "stream",
     "text": [
      "The middle point of image:640\n",
      "Max value at x-339 left part.\n",
      "Max value at x-1035 right part.\n"
     ]
    },
    {
     "name": "stderr",
     "output_type": "stream",
     "text": [
      "\r",
      "  4%|█▋                                      | 55/1261 [00:11<04:02,  4.97it/s]"
     ]
    },
    {
     "name": "stdout",
     "output_type": "stream",
     "text": [
      "The middle point of image:640\n",
      "Max value at x-338 left part.\n",
      "Max value at x-1034 right part.\n"
     ]
    },
    {
     "name": "stderr",
     "output_type": "stream",
     "text": [
      "\r",
      "  4%|█▊                                      | 56/1261 [00:11<04:08,  4.84it/s]"
     ]
    },
    {
     "name": "stdout",
     "output_type": "stream",
     "text": [
      "The middle point of image:640\n",
      "Max value at x-338 left part.\n",
      "Max value at x-973 right part.\n"
     ]
    },
    {
     "name": "stderr",
     "output_type": "stream",
     "text": [
      "\r",
      "  5%|█▊                                      | 57/1261 [00:11<04:13,  4.74it/s]"
     ]
    },
    {
     "name": "stdout",
     "output_type": "stream",
     "text": [
      "The middle point of image:640\n",
      "Max value at x-337 left part.\n",
      "Max value at x-980 right part.\n"
     ]
    },
    {
     "name": "stderr",
     "output_type": "stream",
     "text": [
      "\r",
      "  5%|█▊                                      | 58/1261 [00:12<04:07,  4.86it/s]"
     ]
    },
    {
     "name": "stdout",
     "output_type": "stream",
     "text": [
      "The middle point of image:640\n",
      "Max value at x-338 left part.\n",
      "Max value at x-987 right part.\n"
     ]
    },
    {
     "name": "stderr",
     "output_type": "stream",
     "text": [
      "\r",
      "  5%|█▊                                      | 59/1261 [00:12<04:07,  4.86it/s]"
     ]
    },
    {
     "name": "stdout",
     "output_type": "stream",
     "text": [
      "The middle point of image:640\n",
      "Max value at x-338 left part.\n",
      "Max value at x-989 right part.\n"
     ]
    },
    {
     "name": "stderr",
     "output_type": "stream",
     "text": [
      "\r",
      "  5%|█▉                                      | 60/1261 [00:12<04:03,  4.93it/s]"
     ]
    },
    {
     "name": "stdout",
     "output_type": "stream",
     "text": [
      "The middle point of image:640\n",
      "Max value at x-337 left part.\n",
      "Max value at x-994 right part.\n"
     ]
    },
    {
     "name": "stderr",
     "output_type": "stream",
     "text": [
      "\r",
      "  5%|█▉                                      | 61/1261 [00:12<04:01,  4.97it/s]"
     ]
    },
    {
     "name": "stdout",
     "output_type": "stream",
     "text": [
      "The middle point of image:640\n",
      "Max value at x-320 left part.\n",
      "Max value at x-999 right part.\n"
     ]
    },
    {
     "name": "stderr",
     "output_type": "stream",
     "text": [
      "\r",
      "  5%|█▉                                      | 62/1261 [00:12<03:55,  5.08it/s]"
     ]
    },
    {
     "name": "stdout",
     "output_type": "stream",
     "text": [
      "The middle point of image:640\n",
      "Max value at x-322 left part.\n",
      "Max value at x-1007 right part.\n"
     ]
    },
    {
     "name": "stderr",
     "output_type": "stream",
     "text": [
      "\r",
      "  5%|█▉                                      | 63/1261 [00:13<04:03,  4.91it/s]"
     ]
    },
    {
     "name": "stdout",
     "output_type": "stream",
     "text": [
      "The middle point of image:640\n",
      "Max value at x-324 left part.\n",
      "Max value at x-1011 right part.\n"
     ]
    },
    {
     "name": "stderr",
     "output_type": "stream",
     "text": [
      "\r",
      "  5%|██                                      | 64/1261 [00:13<03:58,  5.03it/s]"
     ]
    },
    {
     "name": "stdout",
     "output_type": "stream",
     "text": [
      "The middle point of image:640\n",
      "Max value at x-332 left part.\n",
      "Max value at x-1012 right part.\n"
     ]
    },
    {
     "name": "stderr",
     "output_type": "stream",
     "text": [
      "\r",
      "  5%|██                                      | 65/1261 [00:13<03:57,  5.03it/s]"
     ]
    },
    {
     "name": "stdout",
     "output_type": "stream",
     "text": [
      "The middle point of image:640\n",
      "Max value at x-330 left part.\n",
      "Max value at x-1016 right part.\n"
     ]
    },
    {
     "name": "stderr",
     "output_type": "stream",
     "text": [
      "\r",
      "  5%|██                                      | 66/1261 [00:13<03:55,  5.07it/s]"
     ]
    },
    {
     "name": "stdout",
     "output_type": "stream",
     "text": [
      "The middle point of image:640\n",
      "Max value at x-329 left part.\n",
      "Max value at x-1020 right part.\n"
     ]
    },
    {
     "name": "stderr",
     "output_type": "stream",
     "text": [
      "\r",
      "  5%|██▏                                     | 67/1261 [00:13<03:54,  5.08it/s]"
     ]
    },
    {
     "name": "stdout",
     "output_type": "stream",
     "text": [
      "The middle point of image:640\n",
      "Max value at x-327 left part.\n",
      "Max value at x-1021 right part.\n"
     ]
    },
    {
     "name": "stderr",
     "output_type": "stream",
     "text": [
      "\r",
      "  5%|██▏                                     | 68/1261 [00:14<03:59,  4.97it/s]"
     ]
    },
    {
     "name": "stdout",
     "output_type": "stream",
     "text": [
      "The middle point of image:640\n",
      "Max value at x-326 left part.\n",
      "Max value at x-951 right part.\n"
     ]
    },
    {
     "name": "stderr",
     "output_type": "stream",
     "text": [
      "\r",
      "  5%|██▏                                     | 69/1261 [00:14<03:57,  5.01it/s]"
     ]
    },
    {
     "name": "stdout",
     "output_type": "stream",
     "text": [
      "The middle point of image:640\n",
      "Max value at x-324 left part.\n",
      "Max value at x-968 right part.\n"
     ]
    },
    {
     "name": "stderr",
     "output_type": "stream",
     "text": [
      "\r",
      "  6%|██▏                                     | 70/1261 [00:14<04:02,  4.91it/s]"
     ]
    },
    {
     "name": "stdout",
     "output_type": "stream",
     "text": [
      "The middle point of image:640\n",
      "Max value at x-323 left part.\n",
      "Max value at x-972 right part.\n"
     ]
    },
    {
     "name": "stderr",
     "output_type": "stream",
     "text": [
      "\r",
      "  6%|██▎                                     | 71/1261 [00:14<04:02,  4.92it/s]"
     ]
    },
    {
     "name": "stdout",
     "output_type": "stream",
     "text": [
      "The middle point of image:640\n",
      "Max value at x-321 left part.\n",
      "Max value at x-966 right part.\n"
     ]
    },
    {
     "name": "stderr",
     "output_type": "stream",
     "text": [
      "\r",
      "  6%|██▎                                     | 72/1261 [00:14<03:59,  4.96it/s]"
     ]
    },
    {
     "name": "stdout",
     "output_type": "stream",
     "text": [
      "The middle point of image:640\n",
      "Max value at x-320 left part.\n",
      "Max value at x-987 right part.\n"
     ]
    },
    {
     "name": "stderr",
     "output_type": "stream",
     "text": [
      "\r",
      "  6%|██▎                                     | 73/1261 [00:15<03:54,  5.07it/s]"
     ]
    },
    {
     "name": "stdout",
     "output_type": "stream",
     "text": [
      "The middle point of image:640\n",
      "Max value at x-320 left part.\n",
      "Max value at x-991 right part.\n"
     ]
    },
    {
     "name": "stderr",
     "output_type": "stream",
     "text": [
      "\r",
      "  6%|██▎                                     | 74/1261 [00:15<03:56,  5.03it/s]"
     ]
    },
    {
     "name": "stdout",
     "output_type": "stream",
     "text": [
      "The middle point of image:640\n",
      "Max value at x-319 left part.\n",
      "Max value at x-991 right part.\n"
     ]
    },
    {
     "name": "stderr",
     "output_type": "stream",
     "text": [
      "\r",
      "  6%|██▍                                     | 75/1261 [00:15<03:58,  4.97it/s]"
     ]
    },
    {
     "name": "stdout",
     "output_type": "stream",
     "text": [
      "The middle point of image:640\n",
      "Max value at x-320 left part.\n",
      "Max value at x-995 right part.\n"
     ]
    },
    {
     "name": "stderr",
     "output_type": "stream",
     "text": [
      "\r",
      "  6%|██▍                                     | 76/1261 [00:15<04:02,  4.88it/s]"
     ]
    },
    {
     "name": "stdout",
     "output_type": "stream",
     "text": [
      "The middle point of image:640\n",
      "Max value at x-318 left part.\n",
      "Max value at x-1003 right part.\n"
     ]
    },
    {
     "name": "stderr",
     "output_type": "stream",
     "text": [
      "\r",
      "  6%|██▍                                     | 77/1261 [00:15<04:07,  4.79it/s]"
     ]
    },
    {
     "name": "stdout",
     "output_type": "stream",
     "text": [
      "The middle point of image:640\n",
      "Max value at x-317 left part.\n",
      "Max value at x-1006 right part.\n"
     ]
    },
    {
     "name": "stderr",
     "output_type": "stream",
     "text": [
      "\r",
      "  6%|██▍                                     | 78/1261 [00:16<04:01,  4.91it/s]"
     ]
    },
    {
     "name": "stdout",
     "output_type": "stream",
     "text": [
      "The middle point of image:640\n",
      "Max value at x-316 left part.\n",
      "Max value at x-1009 right part.\n"
     ]
    },
    {
     "name": "stderr",
     "output_type": "stream",
     "text": [
      "\r",
      "  6%|██▌                                     | 79/1261 [00:16<04:04,  4.83it/s]"
     ]
    },
    {
     "name": "stdout",
     "output_type": "stream",
     "text": [
      "The middle point of image:640\n",
      "Max value at x-316 left part.\n",
      "Max value at x-1015 right part.\n"
     ]
    },
    {
     "name": "stderr",
     "output_type": "stream",
     "text": [
      "\r",
      "  6%|██▌                                     | 80/1261 [00:16<04:09,  4.73it/s]"
     ]
    },
    {
     "name": "stdout",
     "output_type": "stream",
     "text": [
      "The middle point of image:640\n",
      "Max value at x-300 left part.\n",
      "Max value at x-1016 right part.\n"
     ]
    },
    {
     "name": "stderr",
     "output_type": "stream",
     "text": [
      "\r",
      "  6%|██▌                                     | 81/1261 [00:16<04:02,  4.86it/s]"
     ]
    },
    {
     "name": "stdout",
     "output_type": "stream",
     "text": [
      "The middle point of image:640\n",
      "Max value at x-300 left part.\n",
      "Max value at x-982 right part.\n"
     ]
    },
    {
     "name": "stderr",
     "output_type": "stream",
     "text": [
      "\r",
      "  7%|██▌                                     | 82/1261 [00:16<03:56,  4.98it/s]"
     ]
    },
    {
     "name": "stdout",
     "output_type": "stream",
     "text": [
      "The middle point of image:640\n",
      "Max value at x-296 left part.\n",
      "Max value at x-985 right part.\n"
     ]
    },
    {
     "name": "stderr",
     "output_type": "stream",
     "text": [
      "\r",
      "  7%|██▋                                     | 83/1261 [00:17<04:00,  4.90it/s]"
     ]
    },
    {
     "name": "stdout",
     "output_type": "stream",
     "text": [
      "The middle point of image:640\n",
      "Max value at x-293 left part.\n",
      "Max value at x-998 right part.\n"
     ]
    },
    {
     "name": "stderr",
     "output_type": "stream",
     "text": [
      "\r",
      "  7%|██▋                                     | 84/1261 [00:17<04:00,  4.90it/s]"
     ]
    },
    {
     "name": "stdout",
     "output_type": "stream",
     "text": [
      "The middle point of image:640\n",
      "Max value at x-301 left part.\n",
      "Max value at x-1002 right part.\n"
     ]
    },
    {
     "name": "stderr",
     "output_type": "stream",
     "text": [
      "\r",
      "  7%|██▋                                     | 85/1261 [00:17<04:00,  4.89it/s]"
     ]
    },
    {
     "name": "stdout",
     "output_type": "stream",
     "text": [
      "The middle point of image:640\n",
      "Max value at x-302 left part.\n",
      "Max value at x-997 right part.\n"
     ]
    },
    {
     "name": "stderr",
     "output_type": "stream",
     "text": [
      "\r",
      "  7%|██▋                                     | 86/1261 [00:17<04:05,  4.79it/s]"
     ]
    },
    {
     "name": "stdout",
     "output_type": "stream",
     "text": [
      "The middle point of image:640\n",
      "Max value at x-305 left part.\n",
      "Max value at x-992 right part.\n"
     ]
    },
    {
     "name": "stderr",
     "output_type": "stream",
     "text": [
      "\r",
      "  7%|██▊                                     | 87/1261 [00:17<04:06,  4.77it/s]"
     ]
    },
    {
     "name": "stdout",
     "output_type": "stream",
     "text": [
      "The middle point of image:640\n",
      "Max value at x-307 left part.\n",
      "Max value at x-996 right part.\n"
     ]
    },
    {
     "name": "stderr",
     "output_type": "stream",
     "text": [
      "\r",
      "  7%|██▊                                     | 88/1261 [00:18<04:00,  4.88it/s]"
     ]
    },
    {
     "name": "stdout",
     "output_type": "stream",
     "text": [
      "The middle point of image:640\n",
      "Max value at x-306 left part.\n",
      "Max value at x-999 right part.\n"
     ]
    },
    {
     "name": "stderr",
     "output_type": "stream",
     "text": [
      "\r",
      "  7%|██▊                                     | 89/1261 [00:18<03:57,  4.93it/s]"
     ]
    },
    {
     "name": "stdout",
     "output_type": "stream",
     "text": [
      "The middle point of image:640\n",
      "Max value at x-308 left part.\n",
      "Max value at x-1001 right part.\n"
     ]
    },
    {
     "name": "stderr",
     "output_type": "stream",
     "text": [
      "\r",
      "  7%|██▊                                     | 90/1261 [00:18<04:01,  4.84it/s]"
     ]
    },
    {
     "name": "stdout",
     "output_type": "stream",
     "text": [
      "The middle point of image:640\n",
      "Max value at x-306 left part.\n",
      "Max value at x-1006 right part.\n"
     ]
    },
    {
     "name": "stderr",
     "output_type": "stream",
     "text": [
      "\r",
      "  7%|██▉                                     | 91/1261 [00:18<04:13,  4.62it/s]"
     ]
    },
    {
     "name": "stdout",
     "output_type": "stream",
     "text": [
      "The middle point of image:640\n",
      "Max value at x-307 left part.\n",
      "Max value at x-1009 right part.\n"
     ]
    },
    {
     "name": "stderr",
     "output_type": "stream",
     "text": [
      "\r",
      "  7%|██▉                                     | 92/1261 [00:19<04:12,  4.63it/s]"
     ]
    },
    {
     "name": "stdout",
     "output_type": "stream",
     "text": [
      "The middle point of image:640\n",
      "Max value at x-309 left part.\n",
      "Max value at x-1006 right part.\n"
     ]
    },
    {
     "name": "stderr",
     "output_type": "stream",
     "text": [
      "\r",
      "  7%|██▉                                     | 93/1261 [00:19<04:05,  4.75it/s]"
     ]
    },
    {
     "name": "stdout",
     "output_type": "stream",
     "text": [
      "The middle point of image:640\n",
      "Max value at x-311 left part.\n",
      "Max value at x-945 right part.\n"
     ]
    },
    {
     "name": "stderr",
     "output_type": "stream",
     "text": [
      "\r",
      "  7%|██▉                                     | 94/1261 [00:19<04:00,  4.85it/s]"
     ]
    },
    {
     "name": "stdout",
     "output_type": "stream",
     "text": [
      "The middle point of image:640\n",
      "Max value at x-309 left part.\n",
      "Max value at x-953 right part.\n"
     ]
    },
    {
     "name": "stderr",
     "output_type": "stream",
     "text": [
      "\r",
      "  8%|███                                     | 95/1261 [00:19<04:06,  4.73it/s]"
     ]
    },
    {
     "name": "stdout",
     "output_type": "stream",
     "text": [
      "The middle point of image:640\n",
      "Max value at x-310 left part.\n",
      "Max value at x-971 right part.\n"
     ]
    },
    {
     "name": "stderr",
     "output_type": "stream",
     "text": [
      "\r",
      "  8%|███                                     | 96/1261 [00:19<04:05,  4.74it/s]"
     ]
    },
    {
     "name": "stdout",
     "output_type": "stream",
     "text": [
      "The middle point of image:640\n",
      "Max value at x-317 left part.\n",
      "Max value at x-971 right part.\n"
     ]
    },
    {
     "name": "stderr",
     "output_type": "stream",
     "text": [
      "\r",
      "  8%|███                                     | 97/1261 [00:20<04:08,  4.68it/s]"
     ]
    },
    {
     "name": "stdout",
     "output_type": "stream",
     "text": [
      "The middle point of image:640\n",
      "Max value at x-311 left part.\n",
      "Max value at x-976 right part.\n"
     ]
    },
    {
     "name": "stderr",
     "output_type": "stream",
     "text": [
      "\r",
      "  8%|███                                     | 98/1261 [00:20<03:56,  4.91it/s]"
     ]
    },
    {
     "name": "stdout",
     "output_type": "stream",
     "text": [
      "The middle point of image:640\n",
      "Max value at x-313 left part.\n",
      "Max value at x-980 right part.\n"
     ]
    },
    {
     "name": "stderr",
     "output_type": "stream",
     "text": [
      "\r",
      "  8%|███▏                                    | 99/1261 [00:20<03:37,  5.35it/s]"
     ]
    },
    {
     "name": "stdout",
     "output_type": "stream",
     "text": [
      "The middle point of image:640\n",
      "Max value at x-313 left part.\n",
      "Max value at x-986 right part.\n"
     ]
    },
    {
     "name": "stderr",
     "output_type": "stream",
     "text": [
      "\r",
      "  8%|███                                    | 100/1261 [00:20<03:26,  5.63it/s]"
     ]
    },
    {
     "name": "stdout",
     "output_type": "stream",
     "text": [
      "The middle point of image:640\n",
      "Max value at x-315 left part.\n",
      "Max value at x-990 right part.\n"
     ]
    },
    {
     "name": "stderr",
     "output_type": "stream",
     "text": [
      "\r",
      "  8%|███                                    | 101/1261 [00:20<03:20,  5.77it/s]"
     ]
    },
    {
     "name": "stdout",
     "output_type": "stream",
     "text": [
      "The middle point of image:640\n",
      "Max value at x-317 left part.\n",
      "Max value at x-997 right part.\n"
     ]
    },
    {
     "name": "stderr",
     "output_type": "stream",
     "text": [
      "\r",
      "  8%|███▏                                   | 102/1261 [00:20<03:15,  5.94it/s]"
     ]
    },
    {
     "name": "stdout",
     "output_type": "stream",
     "text": [
      "The middle point of image:640\n",
      "Max value at x-317 left part.\n",
      "Max value at x-997 right part.\n"
     ]
    },
    {
     "name": "stderr",
     "output_type": "stream",
     "text": [
      "\r",
      "  8%|███▏                                   | 103/1261 [00:21<03:17,  5.87it/s]"
     ]
    },
    {
     "name": "stdout",
     "output_type": "stream",
     "text": [
      "The middle point of image:640\n",
      "Max value at x-318 left part.\n",
      "Max value at x-1001 right part.\n"
     ]
    },
    {
     "name": "stderr",
     "output_type": "stream",
     "text": [
      "\r",
      "  8%|███▏                                   | 104/1261 [00:21<03:13,  5.99it/s]"
     ]
    },
    {
     "name": "stdout",
     "output_type": "stream",
     "text": [
      "The middle point of image:640\n",
      "Max value at x-318 left part.\n",
      "Max value at x-1006 right part.\n"
     ]
    },
    {
     "name": "stderr",
     "output_type": "stream",
     "text": [
      "\r",
      "  8%|███▏                                   | 105/1261 [00:21<03:13,  5.97it/s]"
     ]
    },
    {
     "name": "stdout",
     "output_type": "stream",
     "text": [
      "The middle point of image:640\n",
      "Max value at x-318 left part.\n",
      "Max value at x-984 right part.\n"
     ]
    },
    {
     "name": "stderr",
     "output_type": "stream",
     "text": [
      "\r",
      "  8%|███▎                                   | 106/1261 [00:21<03:11,  6.03it/s]"
     ]
    },
    {
     "name": "stdout",
     "output_type": "stream",
     "text": [
      "The middle point of image:640\n",
      "Max value at x-319 left part.\n",
      "Max value at x-994 right part.\n"
     ]
    },
    {
     "name": "stderr",
     "output_type": "stream",
     "text": [
      "\r",
      "  8%|███▎                                   | 107/1261 [00:21<03:11,  6.02it/s]"
     ]
    },
    {
     "name": "stdout",
     "output_type": "stream",
     "text": [
      "The middle point of image:640\n",
      "Max value at x-321 left part.\n",
      "Max value at x-975 right part.\n"
     ]
    },
    {
     "name": "stderr",
     "output_type": "stream",
     "text": [
      "\r",
      "  9%|███▎                                   | 108/1261 [00:21<03:34,  5.38it/s]"
     ]
    },
    {
     "name": "stdout",
     "output_type": "stream",
     "text": [
      "The middle point of image:640\n",
      "Max value at x-321 left part.\n",
      "Max value at x-997 right part.\n"
     ]
    },
    {
     "name": "stderr",
     "output_type": "stream",
     "text": [
      "\r",
      "  9%|███▎                                   | 109/1261 [00:22<03:31,  5.44it/s]"
     ]
    },
    {
     "name": "stdout",
     "output_type": "stream",
     "text": [
      "The middle point of image:640\n",
      "Max value at x-321 left part.\n",
      "Max value at x-1001 right part.\n"
     ]
    },
    {
     "name": "stderr",
     "output_type": "stream",
     "text": [
      "\r",
      "  9%|███▍                                   | 110/1261 [00:22<03:39,  5.25it/s]"
     ]
    },
    {
     "name": "stdout",
     "output_type": "stream",
     "text": [
      "The middle point of image:640\n",
      "Max value at x-322 left part.\n",
      "Max value at x-999 right part.\n"
     ]
    },
    {
     "name": "stderr",
     "output_type": "stream",
     "text": [
      "\r",
      "  9%|███▍                                   | 111/1261 [00:22<03:30,  5.47it/s]"
     ]
    },
    {
     "name": "stdout",
     "output_type": "stream",
     "text": [
      "The middle point of image:640\n",
      "Max value at x-321 left part.\n",
      "Max value at x-1014 right part.\n"
     ]
    },
    {
     "name": "stderr",
     "output_type": "stream",
     "text": [
      "\r",
      "  9%|███▍                                   | 112/1261 [00:22<03:25,  5.59it/s]"
     ]
    },
    {
     "name": "stdout",
     "output_type": "stream",
     "text": [
      "The middle point of image:640\n",
      "Max value at x-323 left part.\n",
      "Max value at x-1017 right part.\n"
     ]
    },
    {
     "name": "stderr",
     "output_type": "stream",
     "text": [
      "\r",
      "  9%|███▍                                   | 113/1261 [00:22<03:20,  5.73it/s]"
     ]
    },
    {
     "name": "stdout",
     "output_type": "stream",
     "text": [
      "The middle point of image:640\n",
      "Max value at x-324 left part.\n",
      "Max value at x-1015 right part.\n"
     ]
    },
    {
     "name": "stderr",
     "output_type": "stream",
     "text": [
      "\r",
      "  9%|███▌                                   | 114/1261 [00:22<03:16,  5.84it/s]"
     ]
    },
    {
     "name": "stdout",
     "output_type": "stream",
     "text": [
      "The middle point of image:640\n",
      "Max value at x-326 left part.\n",
      "Max value at x-1016 right part.\n"
     ]
    },
    {
     "name": "stderr",
     "output_type": "stream",
     "text": [
      "\r",
      "  9%|███▌                                   | 115/1261 [00:23<03:12,  5.95it/s]"
     ]
    },
    {
     "name": "stdout",
     "output_type": "stream",
     "text": [
      "The middle point of image:640\n",
      "Max value at x-326 left part.\n",
      "Max value at x-1014 right part.\n"
     ]
    },
    {
     "name": "stderr",
     "output_type": "stream",
     "text": [
      "\r",
      "  9%|███▌                                   | 116/1261 [00:23<03:11,  5.97it/s]"
     ]
    },
    {
     "name": "stdout",
     "output_type": "stream",
     "text": [
      "The middle point of image:640\n",
      "Max value at x-322 left part.\n",
      "Max value at x-1020 right part.\n"
     ]
    },
    {
     "name": "stderr",
     "output_type": "stream",
     "text": [
      "\r",
      "  9%|███▌                                   | 117/1261 [00:23<03:29,  5.46it/s]"
     ]
    },
    {
     "name": "stdout",
     "output_type": "stream",
     "text": [
      "The middle point of image:640\n",
      "Max value at x-328 left part.\n",
      "Max value at x-1023 right part.\n"
     ]
    },
    {
     "name": "stderr",
     "output_type": "stream",
     "text": [
      "\r",
      "  9%|███▋                                   | 118/1261 [00:23<03:58,  4.79it/s]"
     ]
    },
    {
     "name": "stdout",
     "output_type": "stream",
     "text": [
      "The middle point of image:640\n",
      "Max value at x-329 left part.\n",
      "Max value at x-989 right part.\n"
     ]
    },
    {
     "name": "stderr",
     "output_type": "stream",
     "text": [
      "\r",
      "  9%|███▋                                   | 119/1261 [00:24<03:58,  4.79it/s]"
     ]
    },
    {
     "name": "stdout",
     "output_type": "stream",
     "text": [
      "The middle point of image:640\n",
      "Max value at x-331 left part.\n",
      "Max value at x-985 right part.\n"
     ]
    },
    {
     "name": "stderr",
     "output_type": "stream",
     "text": [
      "\r",
      " 10%|███▋                                   | 120/1261 [00:24<04:01,  4.73it/s]"
     ]
    },
    {
     "name": "stdout",
     "output_type": "stream",
     "text": [
      "The middle point of image:640\n",
      "Max value at x-331 left part.\n",
      "Max value at x-988 right part.\n"
     ]
    },
    {
     "name": "stderr",
     "output_type": "stream",
     "text": [
      "\r",
      " 10%|███▋                                   | 121/1261 [00:24<04:03,  4.67it/s]"
     ]
    },
    {
     "name": "stdout",
     "output_type": "stream",
     "text": [
      "The middle point of image:640\n",
      "Max value at x-334 left part.\n",
      "Max value at x-991 right part.\n"
     ]
    },
    {
     "name": "stderr",
     "output_type": "stream",
     "text": [
      "\r",
      " 10%|███▊                                   | 122/1261 [00:24<04:11,  4.53it/s]"
     ]
    },
    {
     "name": "stdout",
     "output_type": "stream",
     "text": [
      "The middle point of image:640\n",
      "Max value at x-335 left part.\n",
      "Max value at x-993 right part.\n"
     ]
    },
    {
     "name": "stderr",
     "output_type": "stream",
     "text": [
      "\r",
      " 10%|███▊                                   | 123/1261 [00:24<04:12,  4.51it/s]"
     ]
    },
    {
     "name": "stdout",
     "output_type": "stream",
     "text": [
      "The middle point of image:640\n",
      "Max value at x-337 left part.\n",
      "Max value at x-998 right part.\n"
     ]
    },
    {
     "name": "stderr",
     "output_type": "stream",
     "text": [
      "\r",
      " 10%|███▊                                   | 124/1261 [00:25<04:12,  4.50it/s]"
     ]
    },
    {
     "name": "stdout",
     "output_type": "stream",
     "text": [
      "The middle point of image:640\n",
      "Max value at x-337 left part.\n",
      "Max value at x-1003 right part.\n"
     ]
    },
    {
     "name": "stderr",
     "output_type": "stream",
     "text": [
      "\r",
      " 10%|███▊                                   | 125/1261 [00:25<04:19,  4.37it/s]"
     ]
    },
    {
     "name": "stdout",
     "output_type": "stream",
     "text": [
      "The middle point of image:640\n",
      "Max value at x-337 left part.\n",
      "Max value at x-1015 right part.\n"
     ]
    },
    {
     "name": "stderr",
     "output_type": "stream",
     "text": [
      "\r",
      " 10%|███▉                                   | 126/1261 [00:25<04:15,  4.44it/s]"
     ]
    },
    {
     "name": "stdout",
     "output_type": "stream",
     "text": [
      "The middle point of image:640\n",
      "Max value at x-338 left part.\n",
      "Max value at x-1019 right part.\n"
     ]
    },
    {
     "name": "stderr",
     "output_type": "stream",
     "text": [
      "\r",
      " 10%|███▉                                   | 127/1261 [00:25<04:14,  4.46it/s]"
     ]
    },
    {
     "name": "stdout",
     "output_type": "stream",
     "text": [
      "The middle point of image:640\n",
      "Max value at x-338 left part.\n",
      "Max value at x-1023 right part.\n"
     ]
    },
    {
     "name": "stderr",
     "output_type": "stream",
     "text": [
      "\r",
      " 10%|███▉                                   | 128/1261 [00:26<04:21,  4.33it/s]"
     ]
    },
    {
     "name": "stdout",
     "output_type": "stream",
     "text": [
      "The middle point of image:640\n",
      "Max value at x-341 left part.\n",
      "Max value at x-1022 right part.\n"
     ]
    },
    {
     "name": "stderr",
     "output_type": "stream",
     "text": [
      "\r",
      " 10%|███▉                                   | 129/1261 [00:26<04:24,  4.28it/s]"
     ]
    },
    {
     "name": "stdout",
     "output_type": "stream",
     "text": [
      "The middle point of image:640\n",
      "Max value at x-340 left part.\n",
      "Max value at x-1028 right part.\n"
     ]
    },
    {
     "name": "stderr",
     "output_type": "stream",
     "text": [
      "\r",
      " 10%|████                                   | 130/1261 [00:26<04:39,  4.04it/s]"
     ]
    },
    {
     "name": "stdout",
     "output_type": "stream",
     "text": [
      "The middle point of image:640\n",
      "Max value at x-341 left part.\n",
      "Max value at x-1028 right part.\n"
     ]
    },
    {
     "name": "stderr",
     "output_type": "stream",
     "text": [
      "\r",
      " 10%|████                                   | 131/1261 [00:26<04:51,  3.87it/s]"
     ]
    },
    {
     "name": "stdout",
     "output_type": "stream",
     "text": [
      "The middle point of image:640\n",
      "Max value at x-338 left part.\n",
      "Max value at x-970 right part.\n"
     ]
    },
    {
     "name": "stderr",
     "output_type": "stream",
     "text": [
      "\r",
      " 10%|████                                   | 132/1261 [00:27<05:57,  3.16it/s]"
     ]
    },
    {
     "name": "stdout",
     "output_type": "stream",
     "text": [
      "The middle point of image:640\n",
      "Max value at x-339 left part.\n",
      "Max value at x-978 right part.\n"
     ]
    },
    {
     "name": "stderr",
     "output_type": "stream",
     "text": [
      "\r",
      " 11%|████                                   | 133/1261 [00:27<05:33,  3.38it/s]"
     ]
    },
    {
     "name": "stdout",
     "output_type": "stream",
     "text": [
      "The middle point of image:640\n",
      "Max value at x-346 left part.\n",
      "Max value at x-989 right part.\n"
     ]
    },
    {
     "name": "stderr",
     "output_type": "stream",
     "text": [
      "\r",
      " 11%|████▏                                  | 134/1261 [00:27<05:43,  3.28it/s]"
     ]
    },
    {
     "name": "stdout",
     "output_type": "stream",
     "text": [
      "The middle point of image:640\n",
      "Max value at x-347 left part.\n",
      "Max value at x-999 right part.\n"
     ]
    },
    {
     "name": "stderr",
     "output_type": "stream",
     "text": [
      "\r",
      " 11%|████▏                                  | 135/1261 [00:28<05:17,  3.55it/s]"
     ]
    },
    {
     "name": "stdout",
     "output_type": "stream",
     "text": [
      "The middle point of image:640\n",
      "Max value at x-348 left part.\n",
      "Max value at x-1009 right part.\n"
     ]
    },
    {
     "name": "stderr",
     "output_type": "stream",
     "text": [
      "\r",
      " 11%|████▏                                  | 136/1261 [00:28<05:16,  3.55it/s]"
     ]
    },
    {
     "name": "stdout",
     "output_type": "stream",
     "text": [
      "The middle point of image:640\n",
      "Max value at x-347 left part.\n",
      "Max value at x-1017 right part.\n"
     ]
    },
    {
     "name": "stderr",
     "output_type": "stream",
     "text": [
      "\r",
      " 11%|████▏                                  | 137/1261 [00:28<05:04,  3.69it/s]"
     ]
    },
    {
     "name": "stdout",
     "output_type": "stream",
     "text": [
      "The middle point of image:640\n",
      "Max value at x-346 left part.\n",
      "Max value at x-1019 right part.\n"
     ]
    },
    {
     "name": "stderr",
     "output_type": "stream",
     "text": [
      "\r",
      " 11%|████▎                                  | 138/1261 [00:28<04:53,  3.82it/s]"
     ]
    },
    {
     "name": "stdout",
     "output_type": "stream",
     "text": [
      "The middle point of image:640\n",
      "Max value at x-345 left part.\n",
      "Max value at x-1023 right part.\n"
     ]
    },
    {
     "name": "stderr",
     "output_type": "stream",
     "text": [
      "\r",
      " 11%|████▎                                  | 139/1261 [00:29<04:40,  4.00it/s]"
     ]
    },
    {
     "name": "stdout",
     "output_type": "stream",
     "text": [
      "The middle point of image:640\n",
      "Max value at x-343 left part.\n",
      "Max value at x-1031 right part.\n"
     ]
    },
    {
     "name": "stderr",
     "output_type": "stream",
     "text": [
      "\r",
      " 11%|████▎                                  | 140/1261 [00:29<04:43,  3.95it/s]"
     ]
    },
    {
     "name": "stdout",
     "output_type": "stream",
     "text": [
      "The middle point of image:640\n",
      "Max value at x-343 left part.\n",
      "Max value at x-1035 right part.\n"
     ]
    },
    {
     "name": "stderr",
     "output_type": "stream",
     "text": [
      "\r",
      " 11%|████▎                                  | 141/1261 [00:29<04:42,  3.96it/s]"
     ]
    },
    {
     "name": "stdout",
     "output_type": "stream",
     "text": [
      "The middle point of image:640\n",
      "Max value at x-342 left part.\n",
      "Max value at x-1040 right part.\n"
     ]
    },
    {
     "name": "stderr",
     "output_type": "stream",
     "text": [
      "\r",
      " 11%|████▍                                  | 142/1261 [00:29<04:43,  3.94it/s]"
     ]
    },
    {
     "name": "stdout",
     "output_type": "stream",
     "text": [
      "The middle point of image:640\n",
      "Max value at x-343 left part.\n",
      "Max value at x-1041 right part.\n"
     ]
    },
    {
     "name": "stderr",
     "output_type": "stream",
     "text": [
      "\r",
      " 11%|████▍                                  | 143/1261 [00:30<04:46,  3.91it/s]"
     ]
    },
    {
     "name": "stdout",
     "output_type": "stream",
     "text": [
      "The middle point of image:640\n",
      "Max value at x-342 left part.\n",
      "Max value at x-991 right part.\n"
     ]
    },
    {
     "name": "stderr",
     "output_type": "stream",
     "text": [
      "\r",
      " 11%|████▍                                  | 144/1261 [00:30<04:09,  4.47it/s]"
     ]
    },
    {
     "name": "stdout",
     "output_type": "stream",
     "text": [
      "The middle point of image:640\n",
      "Max value at x-337 left part.\n",
      "Max value at x-982 right part.\n"
     ]
    },
    {
     "name": "stderr",
     "output_type": "stream",
     "text": [
      "\r",
      " 11%|████▍                                  | 145/1261 [00:30<03:43,  4.99it/s]"
     ]
    },
    {
     "name": "stdout",
     "output_type": "stream",
     "text": [
      "The middle point of image:640\n",
      "Max value at x-341 left part.\n",
      "Max value at x-989 right part.\n"
     ]
    },
    {
     "name": "stderr",
     "output_type": "stream",
     "text": [
      "\r",
      " 12%|████▌                                  | 146/1261 [00:30<03:31,  5.28it/s]"
     ]
    },
    {
     "name": "stdout",
     "output_type": "stream",
     "text": [
      "The middle point of image:640\n",
      "Max value at x-340 left part.\n",
      "Max value at x-996 right part.\n"
     ]
    },
    {
     "name": "stderr",
     "output_type": "stream",
     "text": [
      "\r",
      " 12%|████▌                                  | 147/1261 [00:30<04:01,  4.61it/s]"
     ]
    },
    {
     "name": "stdout",
     "output_type": "stream",
     "text": [
      "The middle point of image:640\n",
      "Max value at x-342 left part.\n",
      "Max value at x-1002 right part.\n"
     ]
    },
    {
     "name": "stderr",
     "output_type": "stream",
     "text": [
      "\r",
      " 12%|████▌                                  | 148/1261 [00:31<03:55,  4.73it/s]"
     ]
    },
    {
     "name": "stdout",
     "output_type": "stream",
     "text": [
      "The middle point of image:640\n",
      "Max value at x-342 left part.\n",
      "Max value at x-1004 right part.\n"
     ]
    },
    {
     "name": "stderr",
     "output_type": "stream",
     "text": [
      "\r",
      " 12%|████▌                                  | 149/1261 [00:31<03:52,  4.79it/s]"
     ]
    },
    {
     "name": "stdout",
     "output_type": "stream",
     "text": [
      "The middle point of image:640\n",
      "Max value at x-342 left part.\n",
      "Max value at x-1010 right part.\n"
     ]
    },
    {
     "name": "stderr",
     "output_type": "stream",
     "text": [
      "\r",
      " 12%|████▋                                  | 150/1261 [00:31<04:17,  4.31it/s]"
     ]
    },
    {
     "name": "stdout",
     "output_type": "stream",
     "text": [
      "The middle point of image:640\n",
      "Max value at x-342 left part.\n",
      "Max value at x-1015 right part.\n"
     ]
    },
    {
     "name": "stderr",
     "output_type": "stream",
     "text": [
      "\r",
      " 12%|████▋                                  | 151/1261 [00:31<04:14,  4.36it/s]"
     ]
    },
    {
     "name": "stdout",
     "output_type": "stream",
     "text": [
      "The middle point of image:640\n",
      "Max value at x-340 left part.\n",
      "Max value at x-1021 right part.\n"
     ]
    },
    {
     "name": "stderr",
     "output_type": "stream",
     "text": [
      "\r",
      " 12%|████▋                                  | 152/1261 [00:32<04:13,  4.38it/s]"
     ]
    },
    {
     "name": "stdout",
     "output_type": "stream",
     "text": [
      "The middle point of image:640\n",
      "Max value at x-339 left part.\n",
      "Max value at x-1023 right part.\n"
     ]
    },
    {
     "name": "stderr",
     "output_type": "stream",
     "text": [
      "\r",
      " 12%|████▋                                  | 153/1261 [00:32<04:21,  4.24it/s]"
     ]
    },
    {
     "name": "stdout",
     "output_type": "stream",
     "text": [
      "The middle point of image:640\n",
      "Max value at x-338 left part.\n",
      "Max value at x-1029 right part.\n"
     ]
    },
    {
     "name": "stderr",
     "output_type": "stream",
     "text": [
      "\r",
      " 12%|████▊                                  | 154/1261 [00:32<04:28,  4.12it/s]"
     ]
    },
    {
     "name": "stdout",
     "output_type": "stream",
     "text": [
      "The middle point of image:640\n",
      "Max value at x-333 left part.\n",
      "Max value at x-1035 right part.\n"
     ]
    },
    {
     "name": "stderr",
     "output_type": "stream",
     "text": [
      "\r",
      " 12%|████▊                                  | 155/1261 [00:32<04:35,  4.02it/s]"
     ]
    },
    {
     "name": "stdout",
     "output_type": "stream",
     "text": [
      "The middle point of image:640\n",
      "Max value at x-337 left part.\n",
      "Max value at x-1035 right part.\n"
     ]
    },
    {
     "name": "stderr",
     "output_type": "stream",
     "text": [
      "\r",
      " 12%|████▊                                  | 156/1261 [00:33<04:34,  4.02it/s]"
     ]
    },
    {
     "name": "stdout",
     "output_type": "stream",
     "text": [
      "The middle point of image:640\n",
      "Max value at x-330 left part.\n",
      "Max value at x-1001 right part.\n"
     ]
    },
    {
     "name": "stderr",
     "output_type": "stream",
     "text": [
      "\r",
      " 12%|████▊                                  | 157/1261 [00:33<04:31,  4.07it/s]"
     ]
    },
    {
     "name": "stdout",
     "output_type": "stream",
     "text": [
      "The middle point of image:640\n",
      "Max value at x-336 left part.\n",
      "Max value at x-982 right part.\n"
     ]
    },
    {
     "name": "stderr",
     "output_type": "stream",
     "text": [
      "\r",
      " 13%|████▉                                  | 158/1261 [00:33<04:27,  4.13it/s]"
     ]
    },
    {
     "name": "stdout",
     "output_type": "stream",
     "text": [
      "The middle point of image:640\n",
      "Max value at x-334 left part.\n",
      "Max value at x-994 right part.\n"
     ]
    },
    {
     "name": "stderr",
     "output_type": "stream",
     "text": [
      "\r",
      " 13%|████▉                                  | 159/1261 [00:33<04:29,  4.09it/s]"
     ]
    },
    {
     "name": "stdout",
     "output_type": "stream",
     "text": [
      "The middle point of image:640\n",
      "Max value at x-332 left part.\n",
      "Max value at x-993 right part.\n"
     ]
    },
    {
     "name": "stderr",
     "output_type": "stream",
     "text": [
      "\r",
      " 13%|████▉                                  | 160/1261 [00:34<04:28,  4.10it/s]"
     ]
    },
    {
     "name": "stdout",
     "output_type": "stream",
     "text": [
      "The middle point of image:640\n",
      "Max value at x-329 left part.\n",
      "Max value at x-1005 right part.\n"
     ]
    },
    {
     "name": "stderr",
     "output_type": "stream",
     "text": [
      "\r",
      " 13%|████▉                                  | 161/1261 [00:34<04:31,  4.05it/s]"
     ]
    },
    {
     "name": "stdout",
     "output_type": "stream",
     "text": [
      "The middle point of image:640\n",
      "Max value at x-328 left part.\n",
      "Max value at x-1008 right part.\n"
     ]
    },
    {
     "name": "stderr",
     "output_type": "stream",
     "text": [
      "\r",
      " 13%|█████                                  | 162/1261 [00:34<04:30,  4.06it/s]"
     ]
    },
    {
     "name": "stdout",
     "output_type": "stream",
     "text": [
      "The middle point of image:640\n",
      "Max value at x-326 left part.\n",
      "Max value at x-1013 right part.\n"
     ]
    },
    {
     "name": "stderr",
     "output_type": "stream",
     "text": [
      "\r",
      " 13%|█████                                  | 163/1261 [00:34<04:30,  4.05it/s]"
     ]
    },
    {
     "name": "stdout",
     "output_type": "stream",
     "text": [
      "The middle point of image:640\n",
      "Max value at x-325 left part.\n",
      "Max value at x-1017 right part.\n"
     ]
    },
    {
     "name": "stderr",
     "output_type": "stream",
     "text": [
      "\r",
      " 13%|█████                                  | 164/1261 [00:35<04:33,  4.02it/s]"
     ]
    },
    {
     "name": "stdout",
     "output_type": "stream",
     "text": [
      "The middle point of image:640\n",
      "Max value at x-326 left part.\n",
      "Max value at x-1017 right part.\n"
     ]
    },
    {
     "name": "stderr",
     "output_type": "stream",
     "text": [
      "\r",
      " 13%|█████                                  | 165/1261 [00:35<04:37,  3.95it/s]"
     ]
    },
    {
     "name": "stdout",
     "output_type": "stream",
     "text": [
      "The middle point of image:640\n",
      "Max value at x-325 left part.\n",
      "Max value at x-1022 right part.\n"
     ]
    },
    {
     "name": "stderr",
     "output_type": "stream",
     "text": [
      "\r",
      " 13%|█████▏                                 | 166/1261 [00:35<04:37,  3.94it/s]"
     ]
    },
    {
     "name": "stdout",
     "output_type": "stream",
     "text": [
      "The middle point of image:640\n",
      "Max value at x-327 left part.\n",
      "Max value at x-1025 right part.\n"
     ]
    },
    {
     "name": "stderr",
     "output_type": "stream",
     "text": [
      "\r",
      " 13%|█████▏                                 | 167/1261 [00:35<04:33,  4.01it/s]"
     ]
    },
    {
     "name": "stdout",
     "output_type": "stream",
     "text": [
      "The middle point of image:640\n",
      "Max value at x-326 left part.\n",
      "Max value at x-1030 right part.\n"
     ]
    },
    {
     "name": "stderr",
     "output_type": "stream",
     "text": [
      "\r",
      " 13%|█████▏                                 | 168/1261 [00:36<04:32,  4.01it/s]"
     ]
    },
    {
     "name": "stdout",
     "output_type": "stream",
     "text": [
      "The middle point of image:640\n",
      "Max value at x-325 left part.\n",
      "Max value at x-981 right part.\n"
     ]
    },
    {
     "name": "stderr",
     "output_type": "stream",
     "text": [
      "\r",
      " 13%|█████▏                                 | 169/1261 [00:36<04:37,  3.93it/s]"
     ]
    },
    {
     "name": "stdout",
     "output_type": "stream",
     "text": [
      "The middle point of image:640\n",
      "Max value at x-322 left part.\n",
      "Max value at x-976 right part.\n"
     ]
    },
    {
     "name": "stderr",
     "output_type": "stream",
     "text": [
      "\r",
      " 13%|█████▎                                 | 170/1261 [00:36<04:35,  3.96it/s]"
     ]
    },
    {
     "name": "stdout",
     "output_type": "stream",
     "text": [
      "The middle point of image:640\n",
      "Max value at x-322 left part.\n",
      "Max value at x-979 right part.\n"
     ]
    },
    {
     "name": "stderr",
     "output_type": "stream",
     "text": [
      "\r",
      " 14%|█████▎                                 | 171/1261 [00:36<04:32,  4.00it/s]"
     ]
    },
    {
     "name": "stdout",
     "output_type": "stream",
     "text": [
      "The middle point of image:640\n",
      "Max value at x-320 left part.\n",
      "Max value at x-987 right part.\n"
     ]
    },
    {
     "name": "stderr",
     "output_type": "stream",
     "text": [
      "\r",
      " 14%|█████▎                                 | 172/1261 [00:37<04:36,  3.95it/s]"
     ]
    },
    {
     "name": "stdout",
     "output_type": "stream",
     "text": [
      "The middle point of image:640\n",
      "Max value at x-320 left part.\n",
      "Max value at x-997 right part.\n"
     ]
    },
    {
     "name": "stderr",
     "output_type": "stream",
     "text": [
      "\r",
      " 14%|█████▎                                 | 173/1261 [00:37<04:45,  3.81it/s]"
     ]
    },
    {
     "name": "stdout",
     "output_type": "stream",
     "text": [
      "The middle point of image:640\n",
      "Max value at x-320 left part.\n",
      "Max value at x-992 right part.\n"
     ]
    },
    {
     "name": "stderr",
     "output_type": "stream",
     "text": [
      "\r",
      " 14%|█████▍                                 | 174/1261 [00:37<04:43,  3.84it/s]"
     ]
    },
    {
     "name": "stdout",
     "output_type": "stream",
     "text": [
      "The middle point of image:640\n",
      "Max value at x-320 left part.\n",
      "Max value at x-994 right part.\n"
     ]
    },
    {
     "name": "stderr",
     "output_type": "stream",
     "text": [
      "\r",
      " 14%|█████▍                                 | 175/1261 [00:37<04:38,  3.90it/s]"
     ]
    },
    {
     "name": "stdout",
     "output_type": "stream",
     "text": [
      "The middle point of image:640\n",
      "Max value at x-320 left part.\n",
      "Max value at x-999 right part.\n"
     ]
    },
    {
     "name": "stderr",
     "output_type": "stream",
     "text": [
      "\r",
      " 14%|█████▍                                 | 176/1261 [00:38<04:32,  3.99it/s]"
     ]
    },
    {
     "name": "stdout",
     "output_type": "stream",
     "text": [
      "The middle point of image:640\n",
      "Max value at x-318 left part.\n",
      "Max value at x-1010 right part.\n"
     ]
    },
    {
     "name": "stderr",
     "output_type": "stream",
     "text": [
      "\r",
      " 14%|█████▍                                 | 177/1261 [00:38<04:34,  3.95it/s]"
     ]
    },
    {
     "name": "stdout",
     "output_type": "stream",
     "text": [
      "The middle point of image:640\n",
      "Max value at x-317 left part.\n",
      "Max value at x-1014 right part.\n"
     ]
    },
    {
     "name": "stderr",
     "output_type": "stream",
     "text": [
      "\r",
      " 14%|█████▌                                 | 178/1261 [00:38<04:34,  3.94it/s]"
     ]
    },
    {
     "name": "stdout",
     "output_type": "stream",
     "text": [
      "The middle point of image:640\n",
      "Max value at x-317 left part.\n",
      "Max value at x-1017 right part.\n"
     ]
    },
    {
     "name": "stderr",
     "output_type": "stream",
     "text": [
      "\r",
      " 14%|█████▌                                 | 179/1261 [00:38<04:32,  3.97it/s]"
     ]
    },
    {
     "name": "stdout",
     "output_type": "stream",
     "text": [
      "The middle point of image:640\n",
      "Max value at x-307 left part.\n",
      "Max value at x-1023 right part.\n"
     ]
    },
    {
     "name": "stderr",
     "output_type": "stream",
     "text": [
      "\r",
      " 14%|█████▌                                 | 180/1261 [00:39<04:31,  3.99it/s]"
     ]
    },
    {
     "name": "stdout",
     "output_type": "stream",
     "text": [
      "The middle point of image:640\n",
      "Max value at x-309 left part.\n",
      "Max value at x-1023 right part.\n"
     ]
    },
    {
     "name": "stderr",
     "output_type": "stream",
     "text": [
      "\r",
      " 14%|█████▌                                 | 181/1261 [00:39<04:43,  3.81it/s]"
     ]
    },
    {
     "name": "stdout",
     "output_type": "stream",
     "text": [
      "The middle point of image:640\n",
      "Max value at x-310 left part.\n",
      "Max value at x-981 right part.\n"
     ]
    },
    {
     "name": "stderr",
     "output_type": "stream",
     "text": [
      "\r",
      " 14%|█████▋                                 | 182/1261 [00:39<04:49,  3.72it/s]"
     ]
    },
    {
     "name": "stdout",
     "output_type": "stream",
     "text": [
      "The middle point of image:640\n",
      "Max value at x-314 left part.\n",
      "Max value at x-986 right part.\n"
     ]
    },
    {
     "name": "stderr",
     "output_type": "stream",
     "text": [
      "\r",
      " 15%|█████▋                                 | 183/1261 [00:39<04:46,  3.76it/s]"
     ]
    },
    {
     "name": "stdout",
     "output_type": "stream",
     "text": [
      "The middle point of image:640\n",
      "Max value at x-315 left part.\n",
      "Max value at x-995 right part.\n"
     ]
    },
    {
     "name": "stderr",
     "output_type": "stream",
     "text": [
      "\r",
      " 15%|█████▋                                 | 184/1261 [00:40<04:45,  3.78it/s]"
     ]
    },
    {
     "name": "stdout",
     "output_type": "stream",
     "text": [
      "The middle point of image:640\n",
      "Max value at x-316 left part.\n",
      "Max value at x-994 right part.\n"
     ]
    },
    {
     "name": "stderr",
     "output_type": "stream",
     "text": [
      "\r",
      " 15%|█████▋                                 | 185/1261 [00:40<04:07,  4.35it/s]"
     ]
    },
    {
     "name": "stdout",
     "output_type": "stream",
     "text": [
      "The middle point of image:640\n",
      "Max value at x-318 left part.\n",
      "Max value at x-997 right part.\n"
     ]
    },
    {
     "name": "stderr",
     "output_type": "stream",
     "text": [
      "\r",
      " 15%|█████▊                                 | 186/1261 [00:40<03:41,  4.86it/s]"
     ]
    },
    {
     "name": "stdout",
     "output_type": "stream",
     "text": [
      "The middle point of image:640\n",
      "Max value at x-317 left part.\n",
      "Max value at x-1003 right part.\n"
     ]
    },
    {
     "name": "stderr",
     "output_type": "stream",
     "text": [
      "\r",
      " 15%|█████▊                                 | 187/1261 [00:40<03:55,  4.55it/s]"
     ]
    },
    {
     "name": "stdout",
     "output_type": "stream",
     "text": [
      "The middle point of image:640\n",
      "Max value at x-320 left part.\n",
      "Max value at x-1004 right part.\n"
     ]
    },
    {
     "name": "stderr",
     "output_type": "stream",
     "text": [
      "\r",
      " 15%|█████▊                                 | 188/1261 [00:40<04:16,  4.19it/s]"
     ]
    },
    {
     "name": "stdout",
     "output_type": "stream",
     "text": [
      "The middle point of image:640\n",
      "Max value at x-323 left part.\n",
      "Max value at x-1009 right part.\n"
     ]
    },
    {
     "name": "stderr",
     "output_type": "stream",
     "text": [
      "\r",
      " 15%|█████▊                                 | 189/1261 [00:41<04:24,  4.06it/s]"
     ]
    },
    {
     "name": "stdout",
     "output_type": "stream",
     "text": [
      "The middle point of image:640\n",
      "Max value at x-325 left part.\n",
      "Max value at x-1015 right part.\n"
     ]
    },
    {
     "name": "stderr",
     "output_type": "stream",
     "text": [
      "\r",
      " 15%|█████▉                                 | 190/1261 [00:41<04:23,  4.07it/s]"
     ]
    },
    {
     "name": "stdout",
     "output_type": "stream",
     "text": [
      "The middle point of image:640\n",
      "Max value at x-328 left part.\n",
      "Max value at x-1021 right part.\n"
     ]
    },
    {
     "name": "stderr",
     "output_type": "stream",
     "text": [
      "\r",
      " 15%|█████▉                                 | 191/1261 [00:41<04:22,  4.08it/s]"
     ]
    },
    {
     "name": "stdout",
     "output_type": "stream",
     "text": [
      "The middle point of image:640\n",
      "Max value at x-328 left part.\n",
      "Max value at x-1028 right part.\n"
     ]
    },
    {
     "name": "stderr",
     "output_type": "stream",
     "text": [
      "\r",
      " 15%|█████▉                                 | 192/1261 [00:41<04:24,  4.05it/s]"
     ]
    },
    {
     "name": "stdout",
     "output_type": "stream",
     "text": [
      "The middle point of image:640\n",
      "Max value at x-333 left part.\n",
      "Max value at x-949 right part.\n"
     ]
    },
    {
     "name": "stderr",
     "output_type": "stream",
     "text": [
      "\r",
      " 15%|█████▉                                 | 193/1261 [00:42<04:34,  3.90it/s]"
     ]
    },
    {
     "name": "stdout",
     "output_type": "stream",
     "text": [
      "The middle point of image:640\n",
      "Max value at x-334 left part.\n",
      "Max value at x-957 right part.\n"
     ]
    },
    {
     "name": "stderr",
     "output_type": "stream",
     "text": [
      "\r",
      " 15%|██████                                 | 194/1261 [00:42<04:36,  3.85it/s]"
     ]
    },
    {
     "name": "stdout",
     "output_type": "stream",
     "text": [
      "The middle point of image:640\n",
      "Max value at x-330 left part.\n",
      "Max value at x-966 right part.\n"
     ]
    },
    {
     "name": "stderr",
     "output_type": "stream",
     "text": [
      "\r",
      " 15%|██████                                 | 195/1261 [00:42<04:34,  3.88it/s]"
     ]
    },
    {
     "name": "stdout",
     "output_type": "stream",
     "text": [
      "The middle point of image:640\n",
      "Max value at x-331 left part.\n",
      "Max value at x-979 right part.\n"
     ]
    },
    {
     "name": "stderr",
     "output_type": "stream",
     "text": [
      "\r",
      " 16%|██████                                 | 196/1261 [00:43<04:32,  3.91it/s]"
     ]
    },
    {
     "name": "stdout",
     "output_type": "stream",
     "text": [
      "The middle point of image:640\n",
      "Max value at x-329 left part.\n",
      "Max value at x-1000 right part.\n"
     ]
    },
    {
     "name": "stderr",
     "output_type": "stream",
     "text": [
      "\r",
      " 16%|██████                                 | 197/1261 [00:43<04:36,  3.85it/s]"
     ]
    },
    {
     "name": "stdout",
     "output_type": "stream",
     "text": [
      "The middle point of image:640\n",
      "Max value at x-325 left part.\n",
      "Max value at x-1013 right part.\n"
     ]
    },
    {
     "name": "stderr",
     "output_type": "stream",
     "text": [
      "\r",
      " 16%|██████                                 | 198/1261 [00:43<04:35,  3.86it/s]"
     ]
    },
    {
     "name": "stdout",
     "output_type": "stream",
     "text": [
      "The middle point of image:640\n",
      "Max value at x-321 left part.\n",
      "Max value at x-1026 right part.\n"
     ]
    },
    {
     "name": "stderr",
     "output_type": "stream",
     "text": [
      "\r",
      " 16%|██████▏                                | 199/1261 [00:43<04:35,  3.85it/s]"
     ]
    },
    {
     "name": "stdout",
     "output_type": "stream",
     "text": [
      "The middle point of image:640\n",
      "Max value at x-321 left part.\n",
      "Max value at x-1022 right part.\n"
     ]
    },
    {
     "name": "stderr",
     "output_type": "stream",
     "text": [
      "\r",
      " 16%|██████▏                                | 200/1261 [00:44<04:34,  3.87it/s]"
     ]
    },
    {
     "name": "stdout",
     "output_type": "stream",
     "text": [
      "The middle point of image:640\n",
      "Max value at x-318 left part.\n",
      "Max value at x-1028 right part.\n"
     ]
    },
    {
     "name": "stderr",
     "output_type": "stream",
     "text": [
      "\r",
      " 16%|██████▏                                | 201/1261 [00:44<04:34,  3.87it/s]"
     ]
    },
    {
     "name": "stdout",
     "output_type": "stream",
     "text": [
      "The middle point of image:640\n",
      "Max value at x-318 left part.\n",
      "Max value at x-1027 right part.\n"
     ]
    },
    {
     "name": "stderr",
     "output_type": "stream",
     "text": [
      "\r",
      " 16%|██████▏                                | 202/1261 [00:44<04:34,  3.85it/s]"
     ]
    },
    {
     "name": "stdout",
     "output_type": "stream",
     "text": [
      "The middle point of image:640\n",
      "Max value at x-317 left part.\n",
      "Max value at x-1028 right part.\n"
     ]
    },
    {
     "name": "stderr",
     "output_type": "stream",
     "text": [
      "\r",
      " 16%|██████▎                                | 203/1261 [00:44<04:33,  3.87it/s]"
     ]
    },
    {
     "name": "stdout",
     "output_type": "stream",
     "text": [
      "The middle point of image:640\n",
      "Max value at x-315 left part.\n",
      "Max value at x-1033 right part.\n"
     ]
    },
    {
     "name": "stderr",
     "output_type": "stream",
     "text": [
      "\r",
      " 16%|██████▎                                | 204/1261 [00:45<04:35,  3.84it/s]"
     ]
    },
    {
     "name": "stdout",
     "output_type": "stream",
     "text": [
      "The middle point of image:640\n",
      "Max value at x-316 left part.\n",
      "Max value at x-1030 right part.\n"
     ]
    },
    {
     "name": "stderr",
     "output_type": "stream",
     "text": [
      "\r",
      " 16%|██████▎                                | 205/1261 [00:45<04:43,  3.73it/s]"
     ]
    },
    {
     "name": "stdout",
     "output_type": "stream",
     "text": [
      "The middle point of image:640\n",
      "Max value at x-317 left part.\n",
      "Max value at x-976 right part.\n"
     ]
    },
    {
     "name": "stderr",
     "output_type": "stream",
     "text": [
      "\r",
      " 16%|██████▎                                | 206/1261 [00:45<04:40,  3.76it/s]"
     ]
    },
    {
     "name": "stdout",
     "output_type": "stream",
     "text": [
      "The middle point of image:640\n",
      "Max value at x-315 left part.\n",
      "Max value at x-965 right part.\n"
     ]
    },
    {
     "name": "stderr",
     "output_type": "stream",
     "text": [
      "\r",
      " 16%|██████▍                                | 207/1261 [00:45<04:37,  3.80it/s]"
     ]
    },
    {
     "name": "stdout",
     "output_type": "stream",
     "text": [
      "The middle point of image:640\n",
      "Max value at x-321 left part.\n",
      "Max value at x-974 right part.\n"
     ]
    },
    {
     "name": "stderr",
     "output_type": "stream",
     "text": [
      "\r",
      " 16%|██████▍                                | 208/1261 [00:46<04:37,  3.80it/s]"
     ]
    },
    {
     "name": "stdout",
     "output_type": "stream",
     "text": [
      "The middle point of image:640\n",
      "Max value at x-321 left part.\n",
      "Max value at x-982 right part.\n"
     ]
    },
    {
     "name": "stderr",
     "output_type": "stream",
     "text": [
      "\r",
      " 17%|██████▍                                | 209/1261 [00:46<04:40,  3.75it/s]"
     ]
    },
    {
     "name": "stdout",
     "output_type": "stream",
     "text": [
      "The middle point of image:640\n",
      "Max value at x-320 left part.\n",
      "Max value at x-997 right part.\n"
     ]
    },
    {
     "name": "stderr",
     "output_type": "stream",
     "text": [
      "\r",
      " 17%|██████▍                                | 210/1261 [00:46<04:39,  3.76it/s]"
     ]
    },
    {
     "name": "stdout",
     "output_type": "stream",
     "text": [
      "The middle point of image:640\n",
      "Max value at x-319 left part.\n",
      "Max value at x-1003 right part.\n"
     ]
    },
    {
     "name": "stderr",
     "output_type": "stream",
     "text": [
      "\r",
      " 17%|██████▌                                | 211/1261 [00:46<04:31,  3.87it/s]"
     ]
    },
    {
     "name": "stdout",
     "output_type": "stream",
     "text": [
      "The middle point of image:640\n",
      "Max value at x-320 left part.\n",
      "Max value at x-1007 right part.\n"
     ]
    },
    {
     "name": "stderr",
     "output_type": "stream",
     "text": [
      "\r",
      " 17%|██████▌                                | 212/1261 [00:47<04:33,  3.84it/s]"
     ]
    },
    {
     "name": "stdout",
     "output_type": "stream",
     "text": [
      "The middle point of image:640\n",
      "Max value at x-319 left part.\n",
      "Max value at x-1012 right part.\n"
     ]
    },
    {
     "name": "stderr",
     "output_type": "stream",
     "text": [
      "\r",
      " 17%|██████▌                                | 213/1261 [00:47<04:35,  3.80it/s]"
     ]
    },
    {
     "name": "stdout",
     "output_type": "stream",
     "text": [
      "The middle point of image:640\n",
      "Max value at x-318 left part.\n",
      "Max value at x-1014 right part.\n"
     ]
    },
    {
     "name": "stderr",
     "output_type": "stream",
     "text": [
      "\r",
      " 17%|██████▌                                | 214/1261 [00:47<04:36,  3.79it/s]"
     ]
    },
    {
     "name": "stdout",
     "output_type": "stream",
     "text": [
      "The middle point of image:640\n",
      "Max value at x-318 left part.\n",
      "Max value at x-1017 right part.\n"
     ]
    },
    {
     "name": "stderr",
     "output_type": "stream",
     "text": [
      "\r",
      " 17%|██████▋                                | 215/1261 [00:48<04:37,  3.77it/s]"
     ]
    },
    {
     "name": "stdout",
     "output_type": "stream",
     "text": [
      "The middle point of image:640\n",
      "Max value at x-316 left part.\n",
      "Max value at x-1019 right part.\n"
     ]
    },
    {
     "name": "stderr",
     "output_type": "stream",
     "text": [
      "\r",
      " 17%|██████▋                                | 216/1261 [00:48<04:33,  3.83it/s]"
     ]
    },
    {
     "name": "stdout",
     "output_type": "stream",
     "text": [
      "The middle point of image:640\n",
      "Max value at x-316 left part.\n",
      "Max value at x-1022 right part.\n"
     ]
    },
    {
     "name": "stderr",
     "output_type": "stream",
     "text": [
      "\r",
      " 17%|██████▋                                | 217/1261 [00:48<04:27,  3.90it/s]"
     ]
    },
    {
     "name": "stdout",
     "output_type": "stream",
     "text": [
      "The middle point of image:640\n",
      "Max value at x-313 left part.\n",
      "Max value at x-1021 right part.\n"
     ]
    },
    {
     "name": "stderr",
     "output_type": "stream",
     "text": [
      "\r",
      " 17%|██████▋                                | 218/1261 [00:48<04:34,  3.80it/s]"
     ]
    },
    {
     "name": "stdout",
     "output_type": "stream",
     "text": [
      "The middle point of image:640\n",
      "Max value at x-313 left part.\n",
      "Max value at x-957 right part.\n"
     ]
    },
    {
     "name": "stderr",
     "output_type": "stream",
     "text": [
      "\r",
      " 17%|██████▊                                | 219/1261 [00:49<04:33,  3.81it/s]"
     ]
    },
    {
     "name": "stdout",
     "output_type": "stream",
     "text": [
      "The middle point of image:640\n",
      "Max value at x-307 left part.\n",
      "Max value at x-965 right part.\n"
     ]
    },
    {
     "name": "stderr",
     "output_type": "stream",
     "text": [
      "\r",
      " 17%|██████▊                                | 220/1261 [00:49<04:32,  3.82it/s]"
     ]
    },
    {
     "name": "stdout",
     "output_type": "stream",
     "text": [
      "The middle point of image:640\n",
      "Max value at x-313 left part.\n",
      "Max value at x-976 right part.\n"
     ]
    },
    {
     "name": "stderr",
     "output_type": "stream",
     "text": [
      "\r",
      " 18%|██████▊                                | 221/1261 [00:49<04:36,  3.76it/s]"
     ]
    },
    {
     "name": "stdout",
     "output_type": "stream",
     "text": [
      "The middle point of image:640\n",
      "Max value at x-314 left part.\n",
      "Max value at x-983 right part.\n"
     ]
    },
    {
     "name": "stderr",
     "output_type": "stream",
     "text": [
      "\r",
      " 18%|██████▊                                | 222/1261 [00:49<04:29,  3.86it/s]"
     ]
    },
    {
     "name": "stdout",
     "output_type": "stream",
     "text": [
      "The middle point of image:640\n",
      "Max value at x-314 left part.\n",
      "Max value at x-988 right part.\n"
     ]
    },
    {
     "name": "stderr",
     "output_type": "stream",
     "text": [
      "\r",
      " 18%|██████▉                                | 223/1261 [00:50<04:28,  3.86it/s]"
     ]
    },
    {
     "name": "stdout",
     "output_type": "stream",
     "text": [
      "The middle point of image:640\n",
      "Max value at x-316 left part.\n",
      "Max value at x-989 right part.\n"
     ]
    },
    {
     "name": "stderr",
     "output_type": "stream",
     "text": [
      "\r",
      " 18%|██████▉                                | 224/1261 [00:50<04:30,  3.84it/s]"
     ]
    },
    {
     "name": "stdout",
     "output_type": "stream",
     "text": [
      "The middle point of image:640\n",
      "Max value at x-316 left part.\n",
      "Max value at x-990 right part.\n"
     ]
    },
    {
     "name": "stderr",
     "output_type": "stream",
     "text": [
      "\r",
      " 18%|██████▉                                | 225/1261 [00:50<04:38,  3.72it/s]"
     ]
    },
    {
     "name": "stdout",
     "output_type": "stream",
     "text": [
      "The middle point of image:640\n",
      "Max value at x-315 left part.\n",
      "Max value at x-994 right part.\n"
     ]
    },
    {
     "name": "stderr",
     "output_type": "stream",
     "text": [
      "\r",
      " 18%|██████▉                                | 226/1261 [00:50<04:35,  3.75it/s]"
     ]
    },
    {
     "name": "stdout",
     "output_type": "stream",
     "text": [
      "The middle point of image:640\n",
      "Max value at x-314 left part.\n",
      "Max value at x-997 right part.\n"
     ]
    },
    {
     "name": "stderr",
     "output_type": "stream",
     "text": [
      "\r",
      " 18%|███████                                | 227/1261 [00:51<04:35,  3.75it/s]"
     ]
    },
    {
     "name": "stdout",
     "output_type": "stream",
     "text": [
      "The middle point of image:640\n",
      "Max value at x-313 left part.\n",
      "Max value at x-1003 right part.\n"
     ]
    },
    {
     "name": "stderr",
     "output_type": "stream",
     "text": [
      "\r",
      " 18%|███████                                | 228/1261 [00:51<04:28,  3.84it/s]"
     ]
    },
    {
     "name": "stdout",
     "output_type": "stream",
     "text": [
      "The middle point of image:640\n",
      "Max value at x-306 left part.\n",
      "Max value at x-1007 right part.\n"
     ]
    },
    {
     "name": "stderr",
     "output_type": "stream",
     "text": [
      "\r",
      " 18%|███████                                | 229/1261 [00:51<04:35,  3.75it/s]"
     ]
    },
    {
     "name": "stdout",
     "output_type": "stream",
     "text": [
      "The middle point of image:640\n",
      "Max value at x-308 left part.\n",
      "Max value at x-1008 right part.\n"
     ]
    },
    {
     "name": "stderr",
     "output_type": "stream",
     "text": [
      "\r",
      " 18%|███████                                | 230/1261 [00:52<04:39,  3.69it/s]"
     ]
    },
    {
     "name": "stdout",
     "output_type": "stream",
     "text": [
      "The middle point of image:640\n",
      "Max value at x-308 left part.\n",
      "Max value at x-940 right part.\n"
     ]
    },
    {
     "name": "stderr",
     "output_type": "stream",
     "text": [
      "\r",
      " 18%|███████▏                               | 231/1261 [00:52<04:35,  3.73it/s]"
     ]
    },
    {
     "name": "stdout",
     "output_type": "stream",
     "text": [
      "The middle point of image:640\n",
      "Max value at x-305 left part.\n",
      "Max value at x-955 right part.\n"
     ]
    },
    {
     "name": "stderr",
     "output_type": "stream",
     "text": [
      "\r",
      " 18%|███████▏                               | 232/1261 [00:52<04:36,  3.72it/s]"
     ]
    },
    {
     "name": "stdout",
     "output_type": "stream",
     "text": [
      "The middle point of image:640\n",
      "Max value at x-304 left part.\n",
      "Max value at x-960 right part.\n"
     ]
    },
    {
     "name": "stderr",
     "output_type": "stream",
     "text": [
      "\r",
      " 18%|███████▏                               | 233/1261 [00:52<04:43,  3.62it/s]"
     ]
    },
    {
     "name": "stdout",
     "output_type": "stream",
     "text": [
      "The middle point of image:640\n",
      "Max value at x-302 left part.\n",
      "Max value at x-964 right part.\n"
     ]
    },
    {
     "name": "stderr",
     "output_type": "stream",
     "text": [
      "\r",
      " 19%|███████▏                               | 234/1261 [00:53<04:37,  3.69it/s]"
     ]
    },
    {
     "name": "stdout",
     "output_type": "stream",
     "text": [
      "The middle point of image:640\n",
      "Max value at x-301 left part.\n",
      "Max value at x-968 right part.\n"
     ]
    },
    {
     "name": "stderr",
     "output_type": "stream",
     "text": [
      "\r",
      " 19%|███████▎                               | 235/1261 [00:53<04:36,  3.71it/s]"
     ]
    },
    {
     "name": "stdout",
     "output_type": "stream",
     "text": [
      "The middle point of image:640\n",
      "Max value at x-301 left part.\n",
      "Max value at x-970 right part.\n"
     ]
    },
    {
     "name": "stderr",
     "output_type": "stream",
     "text": [
      "\r",
      " 19%|███████▎                               | 236/1261 [00:53<04:38,  3.68it/s]"
     ]
    },
    {
     "name": "stdout",
     "output_type": "stream",
     "text": [
      "The middle point of image:640\n",
      "Max value at x-299 left part.\n",
      "Max value at x-975 right part.\n"
     ]
    },
    {
     "name": "stderr",
     "output_type": "stream",
     "text": [
      "\r",
      " 19%|███████▎                               | 237/1261 [00:53<04:41,  3.63it/s]"
     ]
    },
    {
     "name": "stdout",
     "output_type": "stream",
     "text": [
      "The middle point of image:640\n",
      "Max value at x-299 left part.\n",
      "Max value at x-979 right part.\n"
     ]
    },
    {
     "name": "stderr",
     "output_type": "stream",
     "text": [
      "\r",
      " 19%|███████▎                               | 238/1261 [00:54<04:39,  3.66it/s]"
     ]
    },
    {
     "name": "stdout",
     "output_type": "stream",
     "text": [
      "The middle point of image:640\n",
      "Max value at x-297 left part.\n",
      "Max value at x-982 right part.\n"
     ]
    },
    {
     "name": "stderr",
     "output_type": "stream",
     "text": [
      "\r",
      " 19%|███████▍                               | 239/1261 [00:54<04:39,  3.66it/s]"
     ]
    },
    {
     "name": "stdout",
     "output_type": "stream",
     "text": [
      "The middle point of image:640\n",
      "Max value at x-292 left part.\n",
      "Max value at x-988 right part.\n"
     ]
    },
    {
     "name": "stderr",
     "output_type": "stream",
     "text": [
      "\r",
      " 19%|███████▍                               | 240/1261 [00:54<04:35,  3.70it/s]"
     ]
    },
    {
     "name": "stdout",
     "output_type": "stream",
     "text": [
      "The middle point of image:640\n",
      "Max value at x-292 left part.\n",
      "Max value at x-993 right part.\n"
     ]
    },
    {
     "name": "stderr",
     "output_type": "stream",
     "text": [
      "\r",
      " 19%|███████▍                               | 241/1261 [00:55<04:39,  3.64it/s]"
     ]
    },
    {
     "name": "stdout",
     "output_type": "stream",
     "text": [
      "The middle point of image:640\n",
      "Max value at x-287 left part.\n",
      "Max value at x-994 right part.\n"
     ]
    },
    {
     "name": "stderr",
     "output_type": "stream",
     "text": [
      "\r",
      " 19%|███████▍                               | 242/1261 [00:55<04:36,  3.68it/s]"
     ]
    },
    {
     "name": "stdout",
     "output_type": "stream",
     "text": [
      "The middle point of image:640\n",
      "Max value at x-286 left part.\n",
      "Max value at x-936 right part.\n"
     ]
    },
    {
     "name": "stderr",
     "output_type": "stream",
     "text": [
      "\r",
      " 19%|███████▌                               | 243/1261 [00:55<04:37,  3.67it/s]"
     ]
    },
    {
     "name": "stdout",
     "output_type": "stream",
     "text": [
      "The middle point of image:640\n",
      "Max value at x-286 left part.\n",
      "Max value at x-944 right part.\n"
     ]
    },
    {
     "name": "stderr",
     "output_type": "stream",
     "text": [
      "\r",
      " 19%|███████▌                               | 244/1261 [00:55<04:34,  3.70it/s]"
     ]
    },
    {
     "name": "stdout",
     "output_type": "stream",
     "text": [
      "The middle point of image:640\n",
      "Max value at x-291 left part.\n",
      "Max value at x-946 right part.\n"
     ]
    },
    {
     "name": "stderr",
     "output_type": "stream",
     "text": [
      "\r",
      " 19%|███████▌                               | 245/1261 [00:56<04:39,  3.63it/s]"
     ]
    },
    {
     "name": "stdout",
     "output_type": "stream",
     "text": [
      "The middle point of image:640\n",
      "Max value at x-291 left part.\n",
      "Max value at x-958 right part.\n"
     ]
    },
    {
     "name": "stderr",
     "output_type": "stream",
     "text": [
      "\r",
      " 20%|███████▌                               | 246/1261 [00:56<04:32,  3.72it/s]"
     ]
    },
    {
     "name": "stdout",
     "output_type": "stream",
     "text": [
      "The middle point of image:640\n",
      "Max value at x-289 left part.\n",
      "Max value at x-958 right part.\n"
     ]
    },
    {
     "name": "stderr",
     "output_type": "stream",
     "text": [
      "\r",
      " 20%|███████▋                               | 247/1261 [00:56<04:27,  3.79it/s]"
     ]
    },
    {
     "name": "stdout",
     "output_type": "stream",
     "text": [
      "The middle point of image:640\n",
      "Max value at x-291 left part.\n",
      "Max value at x-962 right part.\n"
     ]
    },
    {
     "name": "stderr",
     "output_type": "stream",
     "text": [
      "\r",
      " 20%|███████▋                               | 248/1261 [00:56<04:30,  3.74it/s]"
     ]
    },
    {
     "name": "stdout",
     "output_type": "stream",
     "text": [
      "The middle point of image:640\n",
      "Max value at x-290 left part.\n",
      "Max value at x-970 right part.\n"
     ]
    },
    {
     "name": "stderr",
     "output_type": "stream",
     "text": [
      "\r",
      " 20%|███████▋                               | 249/1261 [00:57<04:30,  3.74it/s]"
     ]
    },
    {
     "name": "stdout",
     "output_type": "stream",
     "text": [
      "The middle point of image:640\n",
      "Max value at x-289 left part.\n",
      "Max value at x-974 right part.\n"
     ]
    },
    {
     "name": "stderr",
     "output_type": "stream",
     "text": [
      "\r",
      " 20%|███████▋                               | 250/1261 [00:57<04:31,  3.72it/s]"
     ]
    },
    {
     "name": "stdout",
     "output_type": "stream",
     "text": [
      "The middle point of image:640\n",
      "Max value at x-287 left part.\n",
      "Max value at x-979 right part.\n"
     ]
    },
    {
     "name": "stderr",
     "output_type": "stream",
     "text": [
      "\r",
      " 20%|███████▊                               | 251/1261 [00:57<04:36,  3.66it/s]"
     ]
    },
    {
     "name": "stdout",
     "output_type": "stream",
     "text": [
      "The middle point of image:640\n",
      "Max value at x-282 left part.\n",
      "Max value at x-986 right part.\n"
     ]
    },
    {
     "name": "stderr",
     "output_type": "stream",
     "text": [
      "\r",
      " 20%|███████▊                               | 252/1261 [00:57<04:34,  3.68it/s]"
     ]
    },
    {
     "name": "stdout",
     "output_type": "stream",
     "text": [
      "The middle point of image:640\n",
      "Max value at x-283 left part.\n",
      "Max value at x-988 right part.\n"
     ]
    },
    {
     "name": "stderr",
     "output_type": "stream",
     "text": [
      "\r",
      " 20%|███████▊                               | 253/1261 [00:58<04:45,  3.53it/s]"
     ]
    },
    {
     "name": "stdout",
     "output_type": "stream",
     "text": [
      "The middle point of image:640\n",
      "Max value at x-283 left part.\n",
      "Max value at x-991 right part.\n"
     ]
    },
    {
     "name": "stderr",
     "output_type": "stream",
     "text": [
      "\r",
      " 20%|███████▊                               | 254/1261 [00:58<04:39,  3.60it/s]"
     ]
    },
    {
     "name": "stdout",
     "output_type": "stream",
     "text": [
      "The middle point of image:640\n",
      "Max value at x-285 left part.\n",
      "Max value at x-940 right part.\n"
     ]
    },
    {
     "name": "stderr",
     "output_type": "stream",
     "text": [
      "\r",
      " 20%|███████▉                               | 255/1261 [00:58<04:36,  3.64it/s]"
     ]
    },
    {
     "name": "stdout",
     "output_type": "stream",
     "text": [
      "The middle point of image:640\n",
      "Max value at x-284 left part.\n",
      "Max value at x-943 right part.\n"
     ]
    },
    {
     "name": "stderr",
     "output_type": "stream",
     "text": [
      "\r",
      " 20%|███████▉                               | 256/1261 [00:59<04:49,  3.48it/s]"
     ]
    },
    {
     "name": "stdout",
     "output_type": "stream",
     "text": [
      "The middle point of image:640\n",
      "Max value at x-289 left part.\n",
      "Max value at x-944 right part.\n"
     ]
    },
    {
     "name": "stderr",
     "output_type": "stream",
     "text": [
      "\r",
      " 20%|███████▉                               | 257/1261 [00:59<04:51,  3.44it/s]"
     ]
    },
    {
     "name": "stdout",
     "output_type": "stream",
     "text": [
      "The middle point of image:640\n",
      "Max value at x-290 left part.\n",
      "Max value at x-954 right part.\n"
     ]
    },
    {
     "name": "stderr",
     "output_type": "stream",
     "text": [
      "\r",
      " 20%|███████▉                               | 258/1261 [00:59<04:48,  3.47it/s]"
     ]
    },
    {
     "name": "stdout",
     "output_type": "stream",
     "text": [
      "The middle point of image:640\n",
      "Max value at x-289 left part.\n",
      "Max value at x-958 right part.\n"
     ]
    },
    {
     "name": "stderr",
     "output_type": "stream",
     "text": [
      "\r",
      " 21%|████████                               | 259/1261 [00:59<04:40,  3.57it/s]"
     ]
    },
    {
     "name": "stdout",
     "output_type": "stream",
     "text": [
      "The middle point of image:640\n",
      "Max value at x-291 left part.\n",
      "Max value at x-963 right part.\n"
     ]
    },
    {
     "name": "stderr",
     "output_type": "stream",
     "text": [
      "\r",
      " 21%|████████                               | 260/1261 [01:00<04:45,  3.50it/s]"
     ]
    },
    {
     "name": "stdout",
     "output_type": "stream",
     "text": [
      "The middle point of image:640\n",
      "Max value at x-291 left part.\n",
      "Max value at x-980 right part.\n"
     ]
    },
    {
     "name": "stderr",
     "output_type": "stream",
     "text": [
      "\r",
      " 21%|████████                               | 261/1261 [01:00<04:02,  4.12it/s]"
     ]
    },
    {
     "name": "stdout",
     "output_type": "stream",
     "text": [
      "The middle point of image:640\n",
      "Max value at x-294 left part.\n",
      "Max value at x-980 right part.\n"
     ]
    },
    {
     "name": "stderr",
     "output_type": "stream",
     "text": [
      "\r",
      " 21%|████████                               | 262/1261 [01:00<03:37,  4.59it/s]"
     ]
    },
    {
     "name": "stdout",
     "output_type": "stream",
     "text": [
      "The middle point of image:640\n",
      "Max value at x-294 left part.\n",
      "Max value at x-986 right part.\n"
     ]
    },
    {
     "name": "stderr",
     "output_type": "stream",
     "text": [
      "\r",
      " 21%|████████▏                              | 263/1261 [01:00<04:08,  4.02it/s]"
     ]
    },
    {
     "name": "stdout",
     "output_type": "stream",
     "text": [
      "The middle point of image:640\n",
      "Max value at x-294 left part.\n",
      "Max value at x-987 right part.\n"
     ]
    },
    {
     "name": "stderr",
     "output_type": "stream",
     "text": [
      "\r",
      " 21%|████████▏                              | 264/1261 [01:01<04:02,  4.11it/s]"
     ]
    },
    {
     "name": "stdout",
     "output_type": "stream",
     "text": [
      "The middle point of image:640\n",
      "Max value at x-294 left part.\n",
      "Max value at x-994 right part.\n"
     ]
    },
    {
     "name": "stderr",
     "output_type": "stream",
     "text": [
      "\r",
      " 21%|████████▏                              | 265/1261 [01:01<03:31,  4.70it/s]"
     ]
    },
    {
     "name": "stdout",
     "output_type": "stream",
     "text": [
      "The middle point of image:640\n",
      "Max value at x-292 left part.\n",
      "Max value at x-1003 right part.\n"
     ]
    },
    {
     "name": "stderr",
     "output_type": "stream",
     "text": [
      "\r",
      " 21%|████████▏                              | 266/1261 [01:01<03:46,  4.39it/s]"
     ]
    },
    {
     "name": "stdout",
     "output_type": "stream",
     "text": [
      "The middle point of image:640\n",
      "Max value at x-292 left part.\n",
      "Max value at x-1003 right part.\n"
     ]
    },
    {
     "name": "stderr",
     "output_type": "stream",
     "text": [
      "\r",
      " 21%|████████▎                              | 267/1261 [01:01<04:15,  3.90it/s]"
     ]
    },
    {
     "name": "stdout",
     "output_type": "stream",
     "text": [
      "The middle point of image:640\n",
      "Max value at x-291 left part.\n",
      "Max value at x-964 right part.\n"
     ]
    },
    {
     "name": "stderr",
     "output_type": "stream",
     "text": [
      "\r",
      " 21%|████████▎                              | 268/1261 [01:02<04:08,  3.99it/s]"
     ]
    },
    {
     "name": "stdout",
     "output_type": "stream",
     "text": [
      "The middle point of image:640\n",
      "Max value at x-289 left part.\n",
      "Max value at x-979 right part.\n"
     ]
    },
    {
     "name": "stderr",
     "output_type": "stream",
     "text": [
      "\r",
      " 21%|████████▎                              | 269/1261 [01:02<03:43,  4.44it/s]"
     ]
    },
    {
     "name": "stdout",
     "output_type": "stream",
     "text": [
      "The middle point of image:640\n",
      "Max value at x-289 left part.\n",
      "Max value at x-983 right part.\n"
     ]
    },
    {
     "name": "stderr",
     "output_type": "stream",
     "text": [
      "\r",
      " 21%|████████▎                              | 270/1261 [01:02<03:43,  4.42it/s]"
     ]
    },
    {
     "name": "stdout",
     "output_type": "stream",
     "text": [
      "The middle point of image:640\n",
      "Max value at x-291 left part.\n",
      "Max value at x-981 right part.\n"
     ]
    },
    {
     "name": "stderr",
     "output_type": "stream",
     "text": [
      "\r",
      " 21%|████████▍                              | 271/1261 [01:02<03:24,  4.84it/s]"
     ]
    },
    {
     "name": "stdout",
     "output_type": "stream",
     "text": [
      "The middle point of image:640\n",
      "Max value at x-298 left part.\n",
      "Max value at x-983 right part.\n"
     ]
    },
    {
     "name": "stderr",
     "output_type": "stream",
     "text": [
      "\r",
      " 22%|████████▍                              | 272/1261 [01:02<03:25,  4.81it/s]"
     ]
    },
    {
     "name": "stdout",
     "output_type": "stream",
     "text": [
      "The middle point of image:640\n",
      "Max value at x-294 left part.\n",
      "Max value at x-987 right part.\n"
     ]
    },
    {
     "name": "stderr",
     "output_type": "stream",
     "text": [
      "\r",
      " 22%|████████▍                              | 273/1261 [01:03<03:35,  4.58it/s]"
     ]
    },
    {
     "name": "stdout",
     "output_type": "stream",
     "text": [
      "The middle point of image:640\n",
      "Max value at x-312 left part.\n",
      "Max value at x-989 right part.\n"
     ]
    },
    {
     "name": "stderr",
     "output_type": "stream",
     "text": [
      "\r",
      " 22%|████████▍                              | 274/1261 [01:03<04:10,  3.94it/s]"
     ]
    },
    {
     "name": "stdout",
     "output_type": "stream",
     "text": [
      "The middle point of image:640\n",
      "Max value at x-298 left part.\n",
      "Max value at x-994 right part.\n"
     ]
    },
    {
     "name": "stderr",
     "output_type": "stream",
     "text": [
      "\r",
      " 22%|████████▌                              | 275/1261 [01:03<04:29,  3.67it/s]"
     ]
    },
    {
     "name": "stdout",
     "output_type": "stream",
     "text": [
      "The middle point of image:640\n",
      "Max value at x-297 left part.\n",
      "Max value at x-1004 right part.\n"
     ]
    },
    {
     "name": "stderr",
     "output_type": "stream",
     "text": [
      "\r",
      " 22%|████████▌                              | 276/1261 [01:04<04:22,  3.75it/s]"
     ]
    },
    {
     "name": "stdout",
     "output_type": "stream",
     "text": [
      "The middle point of image:640\n",
      "Max value at x-297 left part.\n",
      "Max value at x-1004 right part.\n"
     ]
    },
    {
     "name": "stderr",
     "output_type": "stream",
     "text": [
      "\r",
      " 22%|████████▌                              | 277/1261 [01:04<04:16,  3.84it/s]"
     ]
    },
    {
     "name": "stdout",
     "output_type": "stream",
     "text": [
      "The middle point of image:640\n",
      "Max value at x-297 left part.\n",
      "Max value at x-1008 right part.\n"
     ]
    },
    {
     "name": "stderr",
     "output_type": "stream",
     "text": [
      "\r",
      " 22%|████████▌                              | 278/1261 [01:04<04:55,  3.33it/s]"
     ]
    },
    {
     "name": "stdout",
     "output_type": "stream",
     "text": [
      "The middle point of image:640\n",
      "Max value at x-299 left part.\n",
      "Max value at x-977 right part.\n"
     ]
    },
    {
     "name": "stderr",
     "output_type": "stream",
     "text": [
      "\r",
      " 22%|████████▋                              | 279/1261 [01:05<05:34,  2.94it/s]"
     ]
    },
    {
     "name": "stdout",
     "output_type": "stream",
     "text": [
      "The middle point of image:640\n",
      "Max value at x-300 left part.\n",
      "Max value at x-976 right part.\n"
     ]
    },
    {
     "name": "stderr",
     "output_type": "stream",
     "text": [
      "\r",
      " 22%|████████▋                              | 280/1261 [01:05<05:31,  2.96it/s]"
     ]
    },
    {
     "name": "stdout",
     "output_type": "stream",
     "text": [
      "The middle point of image:640\n",
      "Max value at x-309 left part.\n",
      "Max value at x-975 right part.\n"
     ]
    },
    {
     "name": "stderr",
     "output_type": "stream",
     "text": [
      "\r",
      " 22%|████████▋                              | 281/1261 [01:06<06:53,  2.37it/s]"
     ]
    },
    {
     "name": "stdout",
     "output_type": "stream",
     "text": [
      "The middle point of image:640\n",
      "Max value at x-313 left part.\n",
      "Max value at x-982 right part.\n"
     ]
    },
    {
     "name": "stderr",
     "output_type": "stream",
     "text": [
      "\r",
      " 22%|████████▋                              | 282/1261 [01:06<06:00,  2.72it/s]"
     ]
    },
    {
     "name": "stdout",
     "output_type": "stream",
     "text": [
      "The middle point of image:640\n",
      "Max value at x-305 left part.\n",
      "Max value at x-996 right part.\n"
     ]
    },
    {
     "name": "stderr",
     "output_type": "stream",
     "text": [
      "\r",
      " 22%|████████▊                              | 283/1261 [01:06<04:54,  3.32it/s]"
     ]
    },
    {
     "name": "stdout",
     "output_type": "stream",
     "text": [
      "The middle point of image:640\n",
      "Max value at x-309 left part.\n",
      "Max value at x-996 right part.\n"
     ]
    },
    {
     "name": "stderr",
     "output_type": "stream",
     "text": [
      "\r",
      " 23%|████████▊                              | 284/1261 [01:06<05:07,  3.17it/s]"
     ]
    },
    {
     "name": "stdout",
     "output_type": "stream",
     "text": [
      "The middle point of image:640\n",
      "Max value at x-310 left part.\n",
      "Max value at x-1005 right part.\n"
     ]
    },
    {
     "name": "stderr",
     "output_type": "stream",
     "text": [
      "\r",
      " 23%|████████▊                              | 285/1261 [01:06<04:35,  3.55it/s]"
     ]
    },
    {
     "name": "stdout",
     "output_type": "stream",
     "text": [
      "The middle point of image:640\n",
      "Max value at x-308 left part.\n",
      "Max value at x-1011 right part.\n"
     ]
    },
    {
     "name": "stderr",
     "output_type": "stream",
     "text": [
      "\r",
      " 23%|████████▊                              | 286/1261 [01:07<03:57,  4.10it/s]"
     ]
    },
    {
     "name": "stdout",
     "output_type": "stream",
     "text": [
      "The middle point of image:640\n",
      "Max value at x-308 left part.\n",
      "Max value at x-1013 right part.\n"
     ]
    },
    {
     "name": "stderr",
     "output_type": "stream",
     "text": [
      "\r",
      " 23%|████████▉                              | 287/1261 [01:07<04:16,  3.79it/s]"
     ]
    },
    {
     "name": "stdout",
     "output_type": "stream",
     "text": [
      "The middle point of image:640\n",
      "Max value at x-309 left part.\n",
      "Max value at x-1017 right part.\n"
     ]
    },
    {
     "name": "stderr",
     "output_type": "stream",
     "text": [
      "\r",
      " 23%|████████▉                              | 288/1261 [01:07<05:04,  3.19it/s]"
     ]
    },
    {
     "name": "stdout",
     "output_type": "stream",
     "text": [
      "The middle point of image:640\n",
      "Max value at x-316 left part.\n",
      "Max value at x-1017 right part.\n"
     ]
    },
    {
     "name": "stderr",
     "output_type": "stream",
     "text": [
      "\r",
      " 23%|████████▉                              | 289/1261 [01:08<04:56,  3.28it/s]"
     ]
    },
    {
     "name": "stdout",
     "output_type": "stream",
     "text": [
      "The middle point of image:640\n",
      "Max value at x-310 left part.\n",
      "Max value at x-1023 right part.\n"
     ]
    },
    {
     "name": "stderr",
     "output_type": "stream",
     "text": [
      "\r",
      " 23%|████████▉                              | 290/1261 [01:08<05:26,  2.97it/s]"
     ]
    },
    {
     "name": "stdout",
     "output_type": "stream",
     "text": [
      "The middle point of image:640\n",
      "Max value at x-330 left part.\n",
      "Max value at x-996 right part.\n"
     ]
    },
    {
     "name": "stderr",
     "output_type": "stream",
     "text": [
      "\r",
      " 23%|█████████                              | 291/1261 [01:08<05:03,  3.19it/s]"
     ]
    },
    {
     "name": "stdout",
     "output_type": "stream",
     "text": [
      "The middle point of image:640\n",
      "Max value at x-331 left part.\n",
      "Max value at x-994 right part.\n"
     ]
    },
    {
     "name": "stderr",
     "output_type": "stream",
     "text": [
      "\r",
      " 23%|█████████                              | 292/1261 [01:09<04:44,  3.40it/s]"
     ]
    },
    {
     "name": "stdout",
     "output_type": "stream",
     "text": [
      "The middle point of image:640\n",
      "Max value at x-332 left part.\n",
      "Max value at x-998 right part.\n"
     ]
    },
    {
     "name": "stderr",
     "output_type": "stream",
     "text": [
      "\r",
      " 23%|█████████                              | 293/1261 [01:09<05:12,  3.10it/s]"
     ]
    },
    {
     "name": "stdout",
     "output_type": "stream",
     "text": [
      "The middle point of image:640\n",
      "Max value at x-318 left part.\n",
      "Max value at x-1000 right part.\n"
     ]
    },
    {
     "name": "stderr",
     "output_type": "stream",
     "text": [
      "\r",
      " 23%|█████████                              | 294/1261 [01:09<05:50,  2.76it/s]"
     ]
    },
    {
     "name": "stdout",
     "output_type": "stream",
     "text": [
      "The middle point of image:640\n",
      "Max value at x-318 left part.\n",
      "Max value at x-1005 right part.\n"
     ]
    },
    {
     "name": "stderr",
     "output_type": "stream",
     "text": [
      "\r",
      " 23%|█████████                              | 295/1261 [01:10<06:15,  2.57it/s]"
     ]
    },
    {
     "name": "stdout",
     "output_type": "stream",
     "text": [
      "The middle point of image:640\n",
      "Max value at x-334 left part.\n",
      "Max value at x-1007 right part.\n"
     ]
    },
    {
     "name": "stderr",
     "output_type": "stream",
     "text": [
      "\r",
      " 23%|█████████▏                             | 296/1261 [01:10<05:38,  2.85it/s]"
     ]
    },
    {
     "name": "stdout",
     "output_type": "stream",
     "text": [
      "The middle point of image:640\n",
      "Max value at x-319 left part.\n",
      "Max value at x-1006 right part.\n"
     ]
    },
    {
     "name": "stderr",
     "output_type": "stream",
     "text": [
      "\r",
      " 24%|█████████▏                             | 297/1261 [01:10<05:15,  3.05it/s]"
     ]
    },
    {
     "name": "stdout",
     "output_type": "stream",
     "text": [
      "The middle point of image:640\n",
      "Max value at x-318 left part.\n",
      "Max value at x-1009 right part.\n"
     ]
    },
    {
     "name": "stderr",
     "output_type": "stream",
     "text": [
      "\r",
      " 24%|█████████▏                             | 298/1261 [01:11<05:15,  3.05it/s]"
     ]
    },
    {
     "name": "stdout",
     "output_type": "stream",
     "text": [
      "The middle point of image:640\n",
      "Max value at x-318 left part.\n",
      "Max value at x-1016 right part.\n"
     ]
    },
    {
     "name": "stderr",
     "output_type": "stream",
     "text": [
      "\r",
      " 24%|█████████▏                             | 299/1261 [01:11<07:13,  2.22it/s]"
     ]
    },
    {
     "name": "stdout",
     "output_type": "stream",
     "text": [
      "The middle point of image:640\n",
      "Max value at x-317 left part.\n",
      "Max value at x-1022 right part.\n"
     ]
    },
    {
     "name": "stderr",
     "output_type": "stream",
     "text": [
      "\r",
      " 24%|█████████▎                             | 300/1261 [01:12<06:18,  2.54it/s]"
     ]
    },
    {
     "name": "stdout",
     "output_type": "stream",
     "text": [
      "The middle point of image:640\n",
      "Max value at x-316 left part.\n",
      "Max value at x-1022 right part.\n"
     ]
    },
    {
     "name": "stderr",
     "output_type": "stream",
     "text": [
      "\r",
      " 24%|█████████▎                             | 301/1261 [01:12<05:46,  2.77it/s]"
     ]
    },
    {
     "name": "stdout",
     "output_type": "stream",
     "text": [
      "The middle point of image:640\n",
      "Max value at x-315 left part.\n",
      "Max value at x-1030 right part.\n"
     ]
    },
    {
     "name": "stderr",
     "output_type": "stream",
     "text": [
      "\r",
      " 24%|█████████▎                             | 302/1261 [01:12<05:26,  2.94it/s]"
     ]
    },
    {
     "name": "stdout",
     "output_type": "stream",
     "text": [
      "The middle point of image:640\n",
      "Max value at x-314 left part.\n",
      "Max value at x-1004 right part.\n"
     ]
    },
    {
     "name": "stderr",
     "output_type": "stream",
     "text": [
      "\r",
      " 24%|█████████▎                             | 303/1261 [01:13<05:05,  3.13it/s]"
     ]
    },
    {
     "name": "stdout",
     "output_type": "stream",
     "text": [
      "The middle point of image:640\n",
      "Max value at x-314 left part.\n",
      "Max value at x-1004 right part.\n"
     ]
    },
    {
     "name": "stderr",
     "output_type": "stream",
     "text": [
      "\r",
      " 24%|█████████▍                             | 304/1261 [01:13<04:53,  3.26it/s]"
     ]
    },
    {
     "name": "stdout",
     "output_type": "stream",
     "text": [
      "The middle point of image:640\n",
      "Max value at x-313 left part.\n",
      "Max value at x-1000 right part.\n"
     ]
    },
    {
     "name": "stderr",
     "output_type": "stream",
     "text": [
      "\r",
      " 24%|█████████▍                             | 305/1261 [01:13<04:51,  3.28it/s]"
     ]
    },
    {
     "name": "stdout",
     "output_type": "stream",
     "text": [
      "The middle point of image:640\n",
      "Max value at x-315 left part.\n",
      "Max value at x-997 right part.\n"
     ]
    },
    {
     "name": "stderr",
     "output_type": "stream",
     "text": [
      "\r",
      " 24%|█████████▍                             | 306/1261 [01:13<04:54,  3.24it/s]"
     ]
    },
    {
     "name": "stdout",
     "output_type": "stream",
     "text": [
      "The middle point of image:640\n",
      "Max value at x-315 left part.\n",
      "Max value at x-1005 right part.\n"
     ]
    },
    {
     "name": "stderr",
     "output_type": "stream",
     "text": [
      "\r",
      " 24%|█████████▍                             | 307/1261 [01:14<04:47,  3.32it/s]"
     ]
    },
    {
     "name": "stdout",
     "output_type": "stream",
     "text": [
      "The middle point of image:640\n",
      "Max value at x-318 left part.\n",
      "Max value at x-1007 right part.\n"
     ]
    },
    {
     "name": "stderr",
     "output_type": "stream",
     "text": [
      "\r",
      " 24%|█████████▌                             | 308/1261 [01:14<05:29,  2.89it/s]"
     ]
    },
    {
     "name": "stdout",
     "output_type": "stream",
     "text": [
      "The middle point of image:640\n",
      "Max value at x-318 left part.\n",
      "Max value at x-1020 right part.\n"
     ]
    },
    {
     "name": "stderr",
     "output_type": "stream",
     "text": [
      "\r",
      " 25%|█████████▌                             | 309/1261 [01:15<06:07,  2.59it/s]"
     ]
    },
    {
     "name": "stdout",
     "output_type": "stream",
     "text": [
      "The middle point of image:640\n",
      "Max value at x-320 left part.\n",
      "Max value at x-1013 right part.\n"
     ]
    },
    {
     "name": "stderr",
     "output_type": "stream",
     "text": [
      "\r",
      " 25%|█████████▌                             | 310/1261 [01:15<05:38,  2.81it/s]"
     ]
    },
    {
     "name": "stdout",
     "output_type": "stream",
     "text": [
      "The middle point of image:640\n",
      "Max value at x-337 left part.\n",
      "Max value at x-1016 right part.\n"
     ]
    },
    {
     "name": "stderr",
     "output_type": "stream",
     "text": [
      "\r",
      " 25%|█████████▌                             | 311/1261 [01:15<05:17,  2.99it/s]"
     ]
    },
    {
     "name": "stdout",
     "output_type": "stream",
     "text": [
      "The middle point of image:640\n",
      "Max value at x-322 left part.\n",
      "Max value at x-1017 right part.\n"
     ]
    },
    {
     "name": "stderr",
     "output_type": "stream",
     "text": [
      "\r",
      " 25%|█████████▋                             | 312/1261 [01:16<06:11,  2.55it/s]"
     ]
    },
    {
     "name": "stdout",
     "output_type": "stream",
     "text": [
      "The middle point of image:640\n",
      "Max value at x-325 left part.\n",
      "Max value at x-1019 right part.\n"
     ]
    },
    {
     "name": "stderr",
     "output_type": "stream",
     "text": [
      "\r",
      " 25%|█████████▋                             | 313/1261 [01:16<05:09,  3.06it/s]"
     ]
    },
    {
     "name": "stdout",
     "output_type": "stream",
     "text": [
      "The middle point of image:640\n",
      "Max value at x-325 left part.\n",
      "Max value at x-989 right part.\n"
     ]
    },
    {
     "name": "stderr",
     "output_type": "stream",
     "text": [
      "\r",
      " 25%|█████████▋                             | 314/1261 [01:16<04:19,  3.65it/s]"
     ]
    },
    {
     "name": "stdout",
     "output_type": "stream",
     "text": [
      "The middle point of image:640\n",
      "Max value at x-325 left part.\n",
      "Max value at x-994 right part.\n"
     ]
    },
    {
     "name": "stderr",
     "output_type": "stream",
     "text": [
      "\r",
      " 25%|█████████▋                             | 315/1261 [01:16<04:45,  3.31it/s]"
     ]
    },
    {
     "name": "stdout",
     "output_type": "stream",
     "text": [
      "The middle point of image:640\n",
      "Max value at x-325 left part.\n",
      "Max value at x-1002 right part.\n"
     ]
    },
    {
     "name": "stderr",
     "output_type": "stream",
     "text": [
      "\r",
      " 25%|█████████▊                             | 316/1261 [01:17<05:37,  2.80it/s]"
     ]
    },
    {
     "name": "stdout",
     "output_type": "stream",
     "text": [
      "The middle point of image:640\n",
      "Max value at x-330 left part.\n",
      "Max value at x-993 right part.\n"
     ]
    },
    {
     "name": "stderr",
     "output_type": "stream",
     "text": [
      "\r",
      " 25%|█████████▊                             | 317/1261 [01:17<04:39,  3.37it/s]"
     ]
    },
    {
     "name": "stdout",
     "output_type": "stream",
     "text": [
      "The middle point of image:640\n",
      "Max value at x-330 left part.\n",
      "Max value at x-992 right part.\n"
     ]
    },
    {
     "name": "stderr",
     "output_type": "stream",
     "text": [
      "\r",
      " 25%|█████████▊                             | 318/1261 [01:17<03:58,  3.96it/s]"
     ]
    },
    {
     "name": "stdout",
     "output_type": "stream",
     "text": [
      "The middle point of image:640\n",
      "Max value at x-330 left part.\n",
      "Max value at x-998 right part.\n"
     ]
    },
    {
     "name": "stderr",
     "output_type": "stream",
     "text": [
      "\r",
      " 25%|█████████▊                             | 319/1261 [01:17<03:53,  4.03it/s]"
     ]
    },
    {
     "name": "stdout",
     "output_type": "stream",
     "text": [
      "The middle point of image:640\n",
      "Max value at x-332 left part.\n",
      "Max value at x-998 right part.\n"
     ]
    },
    {
     "name": "stderr",
     "output_type": "stream",
     "text": [
      "\r",
      " 25%|█████████▉                             | 320/1261 [01:18<04:19,  3.63it/s]"
     ]
    },
    {
     "name": "stdout",
     "output_type": "stream",
     "text": [
      "The middle point of image:640\n",
      "Max value at x-331 left part.\n",
      "Max value at x-1011 right part.\n"
     ]
    },
    {
     "name": "stderr",
     "output_type": "stream",
     "text": [
      "\r",
      " 25%|█████████▉                             | 321/1261 [01:18<03:58,  3.93it/s]"
     ]
    },
    {
     "name": "stdout",
     "output_type": "stream",
     "text": [
      "The middle point of image:640\n",
      "Max value at x-331 left part.\n",
      "Max value at x-1011 right part.\n"
     ]
    },
    {
     "name": "stderr",
     "output_type": "stream",
     "text": [
      "\r",
      " 26%|█████████▉                             | 322/1261 [01:18<04:12,  3.72it/s]"
     ]
    },
    {
     "name": "stdout",
     "output_type": "stream",
     "text": [
      "The middle point of image:640\n",
      "Max value at x-345 left part.\n",
      "Max value at x-1011 right part.\n"
     ]
    },
    {
     "name": "stderr",
     "output_type": "stream",
     "text": [
      "\r",
      " 26%|█████████▉                             | 323/1261 [01:18<03:36,  4.32it/s]"
     ]
    },
    {
     "name": "stdout",
     "output_type": "stream",
     "text": [
      "The middle point of image:640\n",
      "Max value at x-329 left part.\n",
      "Max value at x-1019 right part.\n"
     ]
    },
    {
     "name": "stderr",
     "output_type": "stream",
     "text": [
      "\r",
      " 26%|██████████                             | 324/1261 [01:19<03:39,  4.27it/s]"
     ]
    },
    {
     "name": "stdout",
     "output_type": "stream",
     "text": [
      "The middle point of image:640\n",
      "Max value at x-329 left part.\n",
      "Max value at x-1016 right part.\n"
     ]
    },
    {
     "name": "stderr",
     "output_type": "stream",
     "text": [
      "\r",
      " 26%|██████████                             | 325/1261 [01:19<05:17,  2.95it/s]"
     ]
    },
    {
     "name": "stdout",
     "output_type": "stream",
     "text": [
      "The middle point of image:640\n",
      "Max value at x-329 left part.\n",
      "Max value at x-1017 right part.\n"
     ]
    },
    {
     "name": "stderr",
     "output_type": "stream",
     "text": [
      "\r",
      " 26%|██████████                             | 326/1261 [01:20<04:58,  3.13it/s]"
     ]
    },
    {
     "name": "stdout",
     "output_type": "stream",
     "text": [
      "The middle point of image:640\n",
      "Max value at x-326 left part.\n",
      "Max value at x-1020 right part.\n"
     ]
    },
    {
     "name": "stderr",
     "output_type": "stream",
     "text": [
      "\r",
      " 26%|██████████                             | 327/1261 [01:20<05:58,  2.61it/s]"
     ]
    },
    {
     "name": "stdout",
     "output_type": "stream",
     "text": [
      "The middle point of image:640\n",
      "Max value at x-325 left part.\n",
      "Max value at x-1020 right part.\n"
     ]
    },
    {
     "name": "stderr",
     "output_type": "stream",
     "text": [
      "\r",
      " 26%|██████████▏                            | 328/1261 [01:20<05:24,  2.87it/s]"
     ]
    },
    {
     "name": "stdout",
     "output_type": "stream",
     "text": [
      "The middle point of image:640\n",
      "Max value at x-322 left part.\n",
      "Max value at x-1011 right part.\n"
     ]
    },
    {
     "name": "stderr",
     "output_type": "stream",
     "text": [
      "\r",
      " 26%|██████████▏                            | 329/1261 [01:21<05:07,  3.03it/s]"
     ]
    },
    {
     "name": "stdout",
     "output_type": "stream",
     "text": [
      "The middle point of image:640\n",
      "Max value at x-323 left part.\n",
      "Max value at x-1021 right part.\n"
     ]
    },
    {
     "name": "stderr",
     "output_type": "stream",
     "text": [
      "\r",
      " 26%|██████████▏                            | 330/1261 [01:21<05:08,  3.02it/s]"
     ]
    },
    {
     "name": "stdout",
     "output_type": "stream",
     "text": [
      "The middle point of image:640\n",
      "Max value at x-341 left part.\n",
      "Max value at x-1020 right part.\n"
     ]
    },
    {
     "name": "stderr",
     "output_type": "stream",
     "text": [
      "\r",
      " 26%|██████████▏                            | 331/1261 [01:21<05:07,  3.02it/s]"
     ]
    },
    {
     "name": "stdout",
     "output_type": "stream",
     "text": [
      "The middle point of image:640\n",
      "Max value at x-343 left part.\n",
      "Max value at x-1012 right part.\n"
     ]
    },
    {
     "name": "stderr",
     "output_type": "stream",
     "text": [
      "\r",
      " 26%|██████████▎                            | 332/1261 [01:22<05:00,  3.09it/s]"
     ]
    },
    {
     "name": "stdout",
     "output_type": "stream",
     "text": [
      "The middle point of image:640\n",
      "Max value at x-343 left part.\n",
      "Max value at x-1016 right part.\n"
     ]
    },
    {
     "name": "stderr",
     "output_type": "stream",
     "text": [
      "\r",
      " 26%|██████████▎                            | 333/1261 [01:22<05:27,  2.83it/s]"
     ]
    },
    {
     "name": "stdout",
     "output_type": "stream",
     "text": [
      "The middle point of image:640\n",
      "Max value at x-332 left part.\n",
      "Max value at x-1019 right part.\n"
     ]
    },
    {
     "name": "stderr",
     "output_type": "stream",
     "text": [
      "\r",
      " 26%|██████████▎                            | 334/1261 [01:22<04:31,  3.41it/s]"
     ]
    },
    {
     "name": "stdout",
     "output_type": "stream",
     "text": [
      "The middle point of image:640\n",
      "Max value at x-343 left part.\n",
      "Max value at x-1022 right part.\n"
     ]
    },
    {
     "name": "stderr",
     "output_type": "stream",
     "text": [
      "\r",
      " 27%|██████████▎                            | 335/1261 [01:23<05:23,  2.86it/s]"
     ]
    },
    {
     "name": "stdout",
     "output_type": "stream",
     "text": [
      "The middle point of image:640\n",
      "Max value at x-326 left part.\n",
      "Max value at x-1031 right part.\n"
     ]
    },
    {
     "name": "stderr",
     "output_type": "stream",
     "text": [
      "\r",
      " 27%|██████████▍                            | 336/1261 [01:23<05:03,  3.04it/s]"
     ]
    },
    {
     "name": "stdout",
     "output_type": "stream",
     "text": [
      "The middle point of image:640\n",
      "Max value at x-326 left part.\n",
      "Max value at x-1023 right part.\n"
     ]
    },
    {
     "name": "stderr",
     "output_type": "stream",
     "text": [
      "\r",
      " 27%|██████████▍                            | 337/1261 [01:23<04:38,  3.32it/s]"
     ]
    },
    {
     "name": "stdout",
     "output_type": "stream",
     "text": [
      "The middle point of image:640\n",
      "Max value at x-343 left part.\n",
      "Max value at x-1025 right part.\n"
     ]
    },
    {
     "name": "stderr",
     "output_type": "stream",
     "text": [
      "\r",
      " 27%|██████████▍                            | 338/1261 [01:24<04:36,  3.34it/s]"
     ]
    },
    {
     "name": "stdout",
     "output_type": "stream",
     "text": [
      "The middle point of image:640\n",
      "Max value at x-327 left part.\n",
      "Max value at x-1023 right part.\n"
     ]
    },
    {
     "name": "stderr",
     "output_type": "stream",
     "text": [
      "\r",
      " 27%|██████████▍                            | 339/1261 [01:24<03:54,  3.94it/s]"
     ]
    },
    {
     "name": "stdout",
     "output_type": "stream",
     "text": [
      "The middle point of image:640\n",
      "Max value at x-344 left part.\n",
      "Max value at x-1019 right part.\n"
     ]
    },
    {
     "name": "stderr",
     "output_type": "stream",
     "text": [
      "\r",
      " 27%|██████████▌                            | 340/1261 [01:24<03:21,  4.57it/s]"
     ]
    },
    {
     "name": "stdout",
     "output_type": "stream",
     "text": [
      "The middle point of image:640\n",
      "Max value at x-331 left part.\n",
      "Max value at x-1018 right part.\n"
     ]
    },
    {
     "name": "stderr",
     "output_type": "stream",
     "text": [
      "\r",
      " 27%|██████████▌                            | 341/1261 [01:24<04:21,  3.52it/s]"
     ]
    },
    {
     "name": "stdout",
     "output_type": "stream",
     "text": [
      "The middle point of image:640\n",
      "Max value at x-344 left part.\n",
      "Max value at x-1009 right part.\n"
     ]
    },
    {
     "name": "stderr",
     "output_type": "stream",
     "text": [
      "\r",
      " 27%|██████████▌                            | 342/1261 [01:25<04:42,  3.25it/s]"
     ]
    },
    {
     "name": "stdout",
     "output_type": "stream",
     "text": [
      "The middle point of image:640\n",
      "Max value at x-335 left part.\n",
      "Max value at x-1013 right part.\n"
     ]
    },
    {
     "name": "stderr",
     "output_type": "stream",
     "text": [
      "\r",
      " 27%|██████████▌                            | 343/1261 [01:25<04:39,  3.28it/s]"
     ]
    },
    {
     "name": "stdout",
     "output_type": "stream",
     "text": [
      "The middle point of image:640\n",
      "Max value at x-333 left part.\n",
      "Max value at x-1019 right part.\n"
     ]
    },
    {
     "name": "stderr",
     "output_type": "stream",
     "text": [
      "\r",
      " 27%|██████████▋                            | 344/1261 [01:25<04:33,  3.35it/s]"
     ]
    },
    {
     "name": "stdout",
     "output_type": "stream",
     "text": [
      "The middle point of image:640\n",
      "Max value at x-332 left part.\n",
      "Max value at x-1023 right part.\n"
     ]
    },
    {
     "name": "stderr",
     "output_type": "stream",
     "text": [
      "\r",
      " 27%|██████████▋                            | 345/1261 [01:25<04:20,  3.52it/s]"
     ]
    },
    {
     "name": "stdout",
     "output_type": "stream",
     "text": [
      "The middle point of image:640\n",
      "Max value at x-330 left part.\n",
      "Max value at x-1027 right part.\n"
     ]
    },
    {
     "name": "stderr",
     "output_type": "stream",
     "text": [
      "\r",
      " 27%|██████████▋                            | 346/1261 [01:26<05:07,  2.97it/s]"
     ]
    },
    {
     "name": "stdout",
     "output_type": "stream",
     "text": [
      "The middle point of image:640\n",
      "Max value at x-346 left part.\n",
      "Max value at x-1025 right part.\n"
     ]
    },
    {
     "name": "stderr",
     "output_type": "stream",
     "text": [
      "\r",
      " 28%|██████████▋                            | 347/1261 [01:26<04:26,  3.42it/s]"
     ]
    },
    {
     "name": "stdout",
     "output_type": "stream",
     "text": [
      "The middle point of image:640\n",
      "Max value at x-329 left part.\n",
      "Max value at x-1033 right part.\n"
     ]
    },
    {
     "name": "stderr",
     "output_type": "stream",
     "text": [
      "\r",
      " 28%|██████████▊                            | 348/1261 [01:26<04:49,  3.15it/s]"
     ]
    },
    {
     "name": "stdout",
     "output_type": "stream",
     "text": [
      "The middle point of image:640\n",
      "Max value at x-346 left part.\n",
      "Max value at x-1022 right part.\n"
     ]
    },
    {
     "name": "stderr",
     "output_type": "stream",
     "text": [
      "\r",
      " 28%|██████████▊                            | 349/1261 [01:27<05:19,  2.85it/s]"
     ]
    },
    {
     "name": "stdout",
     "output_type": "stream",
     "text": [
      "The middle point of image:640\n",
      "Max value at x-328 left part.\n",
      "Max value at x-1025 right part.\n"
     ]
    },
    {
     "name": "stderr",
     "output_type": "stream",
     "text": [
      "\r",
      " 28%|██████████▊                            | 350/1261 [01:27<05:01,  3.03it/s]"
     ]
    },
    {
     "name": "stdout",
     "output_type": "stream",
     "text": [
      "The middle point of image:640\n",
      "Max value at x-328 left part.\n",
      "Max value at x-1024 right part.\n"
     ]
    },
    {
     "name": "stderr",
     "output_type": "stream",
     "text": [
      "\r",
      " 28%|██████████▊                            | 351/1261 [01:27<04:45,  3.18it/s]"
     ]
    },
    {
     "name": "stdout",
     "output_type": "stream",
     "text": [
      "The middle point of image:640\n",
      "Max value at x-328 left part.\n",
      "Max value at x-1025 right part.\n"
     ]
    },
    {
     "name": "stderr",
     "output_type": "stream",
     "text": [
      "\r",
      " 28%|██████████▉                            | 352/1261 [01:28<04:35,  3.30it/s]"
     ]
    },
    {
     "name": "stdout",
     "output_type": "stream",
     "text": [
      "The middle point of image:640\n",
      "Max value at x-326 left part.\n",
      "Max value at x-1015 right part.\n"
     ]
    },
    {
     "name": "stderr",
     "output_type": "stream",
     "text": [
      "\r",
      " 28%|██████████▉                            | 353/1261 [01:28<04:30,  3.36it/s]"
     ]
    },
    {
     "name": "stdout",
     "output_type": "stream",
     "text": [
      "The middle point of image:640\n",
      "Max value at x-326 left part.\n",
      "Max value at x-1015 right part.\n"
     ]
    },
    {
     "name": "stderr",
     "output_type": "stream",
     "text": [
      "\r",
      " 28%|██████████▉                            | 354/1261 [01:28<04:56,  3.06it/s]"
     ]
    },
    {
     "name": "stdout",
     "output_type": "stream",
     "text": [
      "The middle point of image:640\n",
      "Max value at x-326 left part.\n",
      "Max value at x-1018 right part.\n"
     ]
    },
    {
     "name": "stderr",
     "output_type": "stream",
     "text": [
      "\r",
      " 28%|██████████▉                            | 355/1261 [01:29<04:43,  3.20it/s]"
     ]
    },
    {
     "name": "stdout",
     "output_type": "stream",
     "text": [
      "The middle point of image:640\n",
      "Max value at x-327 left part.\n",
      "Max value at x-1020 right part.\n"
     ]
    },
    {
     "name": "stderr",
     "output_type": "stream",
     "text": [
      "\r",
      " 28%|███████████                            | 356/1261 [01:29<04:38,  3.25it/s]"
     ]
    },
    {
     "name": "stdout",
     "output_type": "stream",
     "text": [
      "The middle point of image:640\n",
      "Max value at x-341 left part.\n",
      "Max value at x-1021 right part.\n"
     ]
    },
    {
     "name": "stderr",
     "output_type": "stream",
     "text": [
      "\r",
      " 28%|███████████                            | 357/1261 [01:29<04:32,  3.32it/s]"
     ]
    },
    {
     "name": "stdout",
     "output_type": "stream",
     "text": [
      "The middle point of image:640\n",
      "Max value at x-330 left part.\n",
      "Max value at x-1017 right part.\n"
     ]
    },
    {
     "name": "stderr",
     "output_type": "stream",
     "text": [
      "\r",
      " 28%|███████████                            | 358/1261 [01:30<04:33,  3.30it/s]"
     ]
    },
    {
     "name": "stdout",
     "output_type": "stream",
     "text": [
      "The middle point of image:640\n",
      "Max value at x-342 left part.\n",
      "Max value at x-1021 right part.\n"
     ]
    },
    {
     "name": "stderr",
     "output_type": "stream",
     "text": [
      "\r",
      " 28%|███████████                            | 359/1261 [01:30<04:29,  3.35it/s]"
     ]
    },
    {
     "name": "stdout",
     "output_type": "stream",
     "text": [
      "The middle point of image:640\n",
      "Max value at x-332 left part.\n",
      "Max value at x-1021 right part.\n"
     ]
    },
    {
     "name": "stderr",
     "output_type": "stream",
     "text": [
      "\r",
      " 29%|███████████▏                           | 360/1261 [01:30<04:34,  3.28it/s]"
     ]
    },
    {
     "name": "stdout",
     "output_type": "stream",
     "text": [
      "The middle point of image:640\n",
      "Max value at x-331 left part.\n",
      "Max value at x-1022 right part.\n"
     ]
    },
    {
     "name": "stderr",
     "output_type": "stream",
     "text": [
      "\r",
      " 29%|███████████▏                           | 361/1261 [01:32<10:01,  1.50it/s]"
     ]
    },
    {
     "name": "stdout",
     "output_type": "stream",
     "text": [
      "The middle point of image:640\n",
      "Max value at x-333 left part.\n",
      "Max value at x-1021 right part.\n"
     ]
    },
    {
     "name": "stderr",
     "output_type": "stream",
     "text": [
      "\r",
      " 29%|███████████▏                           | 362/1261 [01:32<09:47,  1.53it/s]"
     ]
    },
    {
     "name": "stdout",
     "output_type": "stream",
     "text": [
      "The middle point of image:640\n",
      "Max value at x-347 left part.\n",
      "Max value at x-1023 right part.\n"
     ]
    },
    {
     "name": "stderr",
     "output_type": "stream",
     "text": [
      "\r",
      " 29%|███████████▏                           | 363/1261 [01:33<09:13,  1.62it/s]"
     ]
    },
    {
     "name": "stdout",
     "output_type": "stream",
     "text": [
      "The middle point of image:640\n",
      "Max value at x-348 left part.\n",
      "Max value at x-1020 right part.\n"
     ]
    },
    {
     "name": "stderr",
     "output_type": "stream",
     "text": [
      "\r",
      " 29%|███████████▎                           | 364/1261 [01:33<07:06,  2.10it/s]"
     ]
    },
    {
     "name": "stdout",
     "output_type": "stream",
     "text": [
      "The middle point of image:640\n",
      "Max value at x-340 left part.\n",
      "Max value at x-1010 right part.\n"
     ]
    },
    {
     "name": "stderr",
     "output_type": "stream",
     "text": [
      "\r",
      " 29%|███████████▎                           | 365/1261 [01:33<05:39,  2.64it/s]"
     ]
    },
    {
     "name": "stdout",
     "output_type": "stream",
     "text": [
      "The middle point of image:640\n",
      "Max value at x-350 left part.\n",
      "Max value at x-1013 right part.\n"
     ]
    },
    {
     "name": "stderr",
     "output_type": "stream",
     "text": [
      "\r",
      " 29%|███████████▎                           | 366/1261 [01:33<04:58,  3.00it/s]"
     ]
    },
    {
     "name": "stdout",
     "output_type": "stream",
     "text": [
      "The middle point of image:640\n",
      "Max value at x-350 left part.\n",
      "Max value at x-1016 right part.\n"
     ]
    },
    {
     "name": "stderr",
     "output_type": "stream",
     "text": [
      "\r",
      " 29%|███████████▎                           | 367/1261 [01:34<04:17,  3.47it/s]"
     ]
    },
    {
     "name": "stdout",
     "output_type": "stream",
     "text": [
      "The middle point of image:640\n",
      "Max value at x-335 left part.\n",
      "Max value at x-1021 right part.\n"
     ]
    },
    {
     "name": "stderr",
     "output_type": "stream",
     "text": [
      "\r",
      " 29%|███████████▍                           | 368/1261 [01:34<04:59,  2.98it/s]"
     ]
    },
    {
     "name": "stdout",
     "output_type": "stream",
     "text": [
      "The middle point of image:640\n",
      "Max value at x-336 left part.\n",
      "Max value at x-1018 right part.\n"
     ]
    },
    {
     "name": "stderr",
     "output_type": "stream",
     "text": [
      "\r",
      " 29%|███████████▍                           | 369/1261 [01:34<05:08,  2.89it/s]"
     ]
    },
    {
     "name": "stdout",
     "output_type": "stream",
     "text": [
      "The middle point of image:640\n",
      "Max value at x-333 left part.\n",
      "Max value at x-1024 right part.\n"
     ]
    },
    {
     "name": "stderr",
     "output_type": "stream",
     "text": [
      "\r",
      " 29%|███████████▍                           | 370/1261 [01:35<04:12,  3.53it/s]"
     ]
    },
    {
     "name": "stdout",
     "output_type": "stream",
     "text": [
      "The middle point of image:640\n",
      "Max value at x-332 left part.\n",
      "Max value at x-1026 right part.\n"
     ]
    },
    {
     "name": "stderr",
     "output_type": "stream",
     "text": [
      "\r",
      " 29%|███████████▍                           | 371/1261 [01:35<04:32,  3.27it/s]"
     ]
    },
    {
     "name": "stdout",
     "output_type": "stream",
     "text": [
      "The middle point of image:640\n",
      "Max value at x-330 left part.\n",
      "Max value at x-1022 right part.\n"
     ]
    },
    {
     "name": "stderr",
     "output_type": "stream",
     "text": [
      "\r",
      " 30%|███████████▌                           | 372/1261 [01:35<03:51,  3.84it/s]"
     ]
    },
    {
     "name": "stdout",
     "output_type": "stream",
     "text": [
      "The middle point of image:640\n",
      "Max value at x-328 left part.\n",
      "Max value at x-1023 right part.\n"
     ]
    },
    {
     "name": "stderr",
     "output_type": "stream",
     "text": [
      "\r",
      " 30%|███████████▌                           | 373/1261 [01:35<03:17,  4.49it/s]"
     ]
    },
    {
     "name": "stdout",
     "output_type": "stream",
     "text": [
      "The middle point of image:640\n",
      "Max value at x-327 left part.\n",
      "Max value at x-1021 right part.\n"
     ]
    },
    {
     "name": "stderr",
     "output_type": "stream",
     "text": [
      "\r",
      " 30%|███████████▌                           | 374/1261 [01:35<02:57,  4.99it/s]"
     ]
    },
    {
     "name": "stdout",
     "output_type": "stream",
     "text": [
      "The middle point of image:640\n",
      "Max value at x-328 left part.\n",
      "Max value at x-1021 right part.\n"
     ]
    },
    {
     "name": "stderr",
     "output_type": "stream",
     "text": [
      "\r",
      " 30%|███████████▌                           | 375/1261 [01:36<03:04,  4.80it/s]"
     ]
    },
    {
     "name": "stdout",
     "output_type": "stream",
     "text": [
      "The middle point of image:640\n",
      "Max value at x-345 left part.\n",
      "Max value at x-1014 right part.\n"
     ]
    },
    {
     "name": "stderr",
     "output_type": "stream",
     "text": [
      "\r",
      " 30%|███████████▋                           | 376/1261 [01:36<03:17,  4.47it/s]"
     ]
    },
    {
     "name": "stdout",
     "output_type": "stream",
     "text": [
      "The middle point of image:640\n",
      "Max value at x-334 left part.\n",
      "Max value at x-1010 right part.\n"
     ]
    },
    {
     "name": "stderr",
     "output_type": "stream",
     "text": [
      "\r",
      " 30%|███████████▋                           | 377/1261 [01:36<05:15,  2.80it/s]"
     ]
    },
    {
     "name": "stdout",
     "output_type": "stream",
     "text": [
      "The middle point of image:640\n",
      "Max value at x-338 left part.\n",
      "Max value at x-1011 right part.\n"
     ]
    },
    {
     "name": "stderr",
     "output_type": "stream",
     "text": [
      "\r",
      " 30%|███████████▋                           | 378/1261 [01:37<04:23,  3.35it/s]"
     ]
    },
    {
     "name": "stdout",
     "output_type": "stream",
     "text": [
      "The middle point of image:640\n",
      "Max value at x-335 left part.\n",
      "Max value at x-1011 right part.\n"
     ]
    },
    {
     "name": "stderr",
     "output_type": "stream",
     "text": [
      "\r",
      " 30%|███████████▋                           | 379/1261 [01:37<03:54,  3.76it/s]"
     ]
    },
    {
     "name": "stdout",
     "output_type": "stream",
     "text": [
      "The middle point of image:640\n",
      "Max value at x-335 left part.\n",
      "Max value at x-1020 right part.\n"
     ]
    },
    {
     "name": "stderr",
     "output_type": "stream",
     "text": [
      "\r",
      " 30%|███████████▊                           | 380/1261 [01:37<04:25,  3.31it/s]"
     ]
    },
    {
     "name": "stdout",
     "output_type": "stream",
     "text": [
      "The middle point of image:640\n",
      "Max value at x-335 left part.\n",
      "Max value at x-1021 right part.\n"
     ]
    },
    {
     "name": "stderr",
     "output_type": "stream",
     "text": [
      "\r",
      " 30%|███████████▊                           | 381/1261 [01:38<04:42,  3.11it/s]"
     ]
    },
    {
     "name": "stdout",
     "output_type": "stream",
     "text": [
      "The middle point of image:640\n",
      "Max value at x-335 left part.\n",
      "Max value at x-1025 right part.\n"
     ]
    },
    {
     "name": "stderr",
     "output_type": "stream",
     "text": [
      "\r",
      " 30%|███████████▊                           | 382/1261 [01:38<06:37,  2.21it/s]"
     ]
    },
    {
     "name": "stdout",
     "output_type": "stream",
     "text": [
      "The middle point of image:640\n",
      "Max value at x-335 left part.\n",
      "Max value at x-1024 right part.\n"
     ]
    },
    {
     "name": "stderr",
     "output_type": "stream",
     "text": [
      "\r",
      " 30%|███████████▊                           | 383/1261 [01:38<05:18,  2.76it/s]"
     ]
    },
    {
     "name": "stdout",
     "output_type": "stream",
     "text": [
      "The middle point of image:640\n",
      "Max value at x-336 left part.\n",
      "Max value at x-1016 right part.\n"
     ]
    },
    {
     "name": "stderr",
     "output_type": "stream",
     "text": [
      "\r",
      " 30%|███████████▉                           | 384/1261 [01:39<04:30,  3.24it/s]"
     ]
    },
    {
     "name": "stdout",
     "output_type": "stream",
     "text": [
      "The middle point of image:640\n",
      "Max value at x-334 left part.\n",
      "Max value at x-1019 right part.\n"
     ]
    },
    {
     "name": "stderr",
     "output_type": "stream",
     "text": [
      "\r",
      " 31%|███████████▉                           | 385/1261 [01:39<04:05,  3.57it/s]"
     ]
    },
    {
     "name": "stdout",
     "output_type": "stream",
     "text": [
      "The middle point of image:640\n",
      "Max value at x-335 left part.\n",
      "Max value at x-1022 right part.\n"
     ]
    },
    {
     "name": "stderr",
     "output_type": "stream",
     "text": [
      "\r",
      " 31%|███████████▉                           | 386/1261 [01:39<04:51,  3.00it/s]"
     ]
    },
    {
     "name": "stdout",
     "output_type": "stream",
     "text": [
      "The middle point of image:640\n",
      "Max value at x-328 left part.\n",
      "Max value at x-1023 right part.\n"
     ]
    },
    {
     "name": "stderr",
     "output_type": "stream",
     "text": [
      "\r",
      " 31%|███████████▉                           | 387/1261 [01:40<04:21,  3.34it/s]"
     ]
    },
    {
     "name": "stdout",
     "output_type": "stream",
     "text": [
      "The middle point of image:640\n",
      "Max value at x-335 left part.\n",
      "Max value at x-1023 right part.\n"
     ]
    },
    {
     "name": "stderr",
     "output_type": "stream",
     "text": [
      "\r",
      " 31%|████████████                           | 388/1261 [01:40<04:10,  3.48it/s]"
     ]
    },
    {
     "name": "stdout",
     "output_type": "stream",
     "text": [
      "The middle point of image:640\n",
      "Max value at x-335 left part.\n",
      "Max value at x-1026 right part.\n"
     ]
    },
    {
     "name": "stderr",
     "output_type": "stream",
     "text": [
      "\r",
      " 31%|████████████                           | 389/1261 [01:40<04:09,  3.49it/s]"
     ]
    },
    {
     "name": "stdout",
     "output_type": "stream",
     "text": [
      "The middle point of image:640\n",
      "Max value at x-335 left part.\n",
      "Max value at x-1013 right part.\n"
     ]
    },
    {
     "name": "stderr",
     "output_type": "stream",
     "text": [
      "\r",
      " 31%|████████████                           | 390/1261 [01:40<03:50,  3.78it/s]"
     ]
    },
    {
     "name": "stdout",
     "output_type": "stream",
     "text": [
      "The middle point of image:640\n",
      "Max value at x-326 left part.\n",
      "Max value at x-1013 right part.\n"
     ]
    },
    {
     "name": "stderr",
     "output_type": "stream",
     "text": [
      "\r",
      " 31%|████████████                           | 391/1261 [01:41<04:27,  3.25it/s]"
     ]
    },
    {
     "name": "stdout",
     "output_type": "stream",
     "text": [
      "The middle point of image:640\n",
      "Max value at x-324 left part.\n",
      "Max value at x-1015 right part.\n"
     ]
    },
    {
     "name": "stderr",
     "output_type": "stream",
     "text": [
      "\r",
      " 31%|████████████                           | 392/1261 [01:41<03:58,  3.65it/s]"
     ]
    },
    {
     "name": "stdout",
     "output_type": "stream",
     "text": [
      "The middle point of image:640\n",
      "Max value at x-337 left part.\n",
      "Max value at x-1016 right part.\n"
     ]
    },
    {
     "name": "stderr",
     "output_type": "stream",
     "text": [
      "\r",
      " 31%|████████████▏                          | 393/1261 [01:41<03:22,  4.28it/s]"
     ]
    },
    {
     "name": "stdout",
     "output_type": "stream",
     "text": [
      "The middle point of image:640\n",
      "Max value at x-337 left part.\n",
      "Max value at x-1018 right part.\n"
     ]
    },
    {
     "name": "stderr",
     "output_type": "stream",
     "text": [
      "\r",
      " 31%|████████████▏                          | 394/1261 [01:41<03:15,  4.44it/s]"
     ]
    },
    {
     "name": "stdout",
     "output_type": "stream",
     "text": [
      "The middle point of image:640\n",
      "Max value at x-322 left part.\n",
      "Max value at x-1018 right part.\n"
     ]
    },
    {
     "name": "stderr",
     "output_type": "stream",
     "text": [
      "\r",
      " 31%|████████████▏                          | 395/1261 [01:42<04:19,  3.34it/s]"
     ]
    },
    {
     "name": "stdout",
     "output_type": "stream",
     "text": [
      "The middle point of image:640\n",
      "Max value at x-321 left part.\n",
      "Max value at x-1023 right part.\n"
     ]
    },
    {
     "name": "stderr",
     "output_type": "stream",
     "text": [
      "\r",
      " 31%|████████████▏                          | 396/1261 [01:42<03:48,  3.79it/s]"
     ]
    },
    {
     "name": "stdout",
     "output_type": "stream",
     "text": [
      "The middle point of image:640\n",
      "Max value at x-320 left part.\n",
      "Max value at x-1014 right part.\n"
     ]
    },
    {
     "name": "stderr",
     "output_type": "stream",
     "text": [
      "\r",
      " 31%|████████████▎                          | 397/1261 [01:42<03:15,  4.41it/s]"
     ]
    },
    {
     "name": "stdout",
     "output_type": "stream",
     "text": [
      "The middle point of image:640\n",
      "Max value at x-319 left part.\n",
      "Max value at x-1016 right part.\n"
     ]
    },
    {
     "name": "stderr",
     "output_type": "stream",
     "text": [
      "\r",
      " 32%|████████████▎                          | 398/1261 [01:42<03:18,  4.34it/s]"
     ]
    },
    {
     "name": "stdout",
     "output_type": "stream",
     "text": [
      "The middle point of image:640\n",
      "Max value at x-319 left part.\n",
      "Max value at x-1018 right part.\n"
     ]
    },
    {
     "name": "stderr",
     "output_type": "stream",
     "text": [
      "\r",
      " 32%|████████████▎                          | 399/1261 [01:42<03:04,  4.67it/s]"
     ]
    },
    {
     "name": "stdout",
     "output_type": "stream",
     "text": [
      "The middle point of image:640\n",
      "Max value at x-317 left part.\n",
      "Max value at x-1017 right part.\n"
     ]
    },
    {
     "name": "stderr",
     "output_type": "stream",
     "text": [
      "\r",
      " 32%|████████████▎                          | 400/1261 [01:43<03:48,  3.77it/s]"
     ]
    },
    {
     "name": "stdout",
     "output_type": "stream",
     "text": [
      "The middle point of image:640\n",
      "Max value at x-315 left part.\n",
      "Max value at x-1020 right part.\n"
     ]
    },
    {
     "name": "stderr",
     "output_type": "stream",
     "text": [
      "\r",
      " 32%|████████████▍                          | 401/1261 [01:43<03:30,  4.08it/s]"
     ]
    },
    {
     "name": "stdout",
     "output_type": "stream",
     "text": [
      "The middle point of image:640\n",
      "Max value at x-315 left part.\n",
      "Max value at x-1019 right part.\n"
     ]
    },
    {
     "name": "stderr",
     "output_type": "stream",
     "text": [
      "\r",
      " 32%|████████████▍                          | 402/1261 [01:43<03:07,  4.58it/s]"
     ]
    },
    {
     "name": "stdout",
     "output_type": "stream",
     "text": [
      "The middle point of image:640\n",
      "Max value at x-331 left part.\n",
      "Max value at x-1017 right part.\n"
     ]
    },
    {
     "name": "stderr",
     "output_type": "stream",
     "text": [
      "\r",
      " 32%|████████████▍                          | 403/1261 [01:44<03:34,  4.00it/s]"
     ]
    },
    {
     "name": "stdout",
     "output_type": "stream",
     "text": [
      "The middle point of image:640\n",
      "Max value at x-314 left part.\n",
      "Max value at x-1020 right part.\n"
     ]
    },
    {
     "name": "stderr",
     "output_type": "stream",
     "text": [
      "\r",
      " 32%|████████████▍                          | 404/1261 [01:44<03:29,  4.09it/s]"
     ]
    },
    {
     "name": "stdout",
     "output_type": "stream",
     "text": [
      "The middle point of image:640\n",
      "Max value at x-314 left part.\n",
      "Max value at x-1019 right part.\n"
     ]
    },
    {
     "name": "stderr",
     "output_type": "stream",
     "text": [
      "\r",
      " 32%|████████████▌                          | 405/1261 [01:44<03:16,  4.36it/s]"
     ]
    },
    {
     "name": "stdout",
     "output_type": "stream",
     "text": [
      "The middle point of image:640\n",
      "Max value at x-313 left part.\n",
      "Max value at x-1020 right part.\n"
     ]
    },
    {
     "name": "stderr",
     "output_type": "stream",
     "text": [
      "\r",
      " 32%|████████████▌                          | 406/1261 [01:44<03:59,  3.57it/s]"
     ]
    },
    {
     "name": "stdout",
     "output_type": "stream",
     "text": [
      "The middle point of image:640\n",
      "Max value at x-312 left part.\n",
      "Max value at x-1021 right part.\n"
     ]
    },
    {
     "name": "stderr",
     "output_type": "stream",
     "text": [
      "\r",
      " 32%|████████████▌                          | 407/1261 [01:45<03:43,  3.82it/s]"
     ]
    },
    {
     "name": "stdout",
     "output_type": "stream",
     "text": [
      "The middle point of image:640\n",
      "Max value at x-311 left part.\n",
      "Max value at x-1017 right part.\n"
     ]
    },
    {
     "name": "stderr",
     "output_type": "stream",
     "text": [
      "\r",
      " 32%|████████████▌                          | 408/1261 [01:45<03:10,  4.47it/s]"
     ]
    },
    {
     "name": "stdout",
     "output_type": "stream",
     "text": [
      "The middle point of image:640\n",
      "Max value at x-311 left part.\n",
      "Max value at x-1009 right part.\n"
     ]
    },
    {
     "name": "stderr",
     "output_type": "stream",
     "text": [
      "\r",
      " 32%|████████████▋                          | 409/1261 [01:45<04:21,  3.26it/s]"
     ]
    },
    {
     "name": "stdout",
     "output_type": "stream",
     "text": [
      "The middle point of image:640\n",
      "Max value at x-314 left part.\n",
      "Max value at x-1012 right part.\n"
     ]
    },
    {
     "name": "stderr",
     "output_type": "stream",
     "text": [
      "\r",
      " 33%|████████████▋                          | 410/1261 [01:45<03:54,  3.63it/s]"
     ]
    },
    {
     "name": "stdout",
     "output_type": "stream",
     "text": [
      "The middle point of image:640\n",
      "Max value at x-310 left part.\n",
      "Max value at x-1014 right part.\n"
     ]
    },
    {
     "name": "stderr",
     "output_type": "stream",
     "text": [
      "\r",
      " 33%|████████████▋                          | 411/1261 [01:46<03:24,  4.15it/s]"
     ]
    },
    {
     "name": "stdout",
     "output_type": "stream",
     "text": [
      "The middle point of image:640\n",
      "Max value at x-310 left part.\n",
      "Max value at x-1016 right part.\n"
     ]
    },
    {
     "name": "stderr",
     "output_type": "stream",
     "text": [
      "\r",
      " 33%|████████████▋                          | 412/1261 [01:46<04:10,  3.38it/s]"
     ]
    },
    {
     "name": "stdout",
     "output_type": "stream",
     "text": [
      "The middle point of image:640\n",
      "Max value at x-311 left part.\n",
      "Max value at x-990 right part.\n"
     ]
    },
    {
     "name": "stderr",
     "output_type": "stream",
     "text": [
      "\r",
      " 33%|████████████▊                          | 413/1261 [01:46<04:21,  3.25it/s]"
     ]
    },
    {
     "name": "stdout",
     "output_type": "stream",
     "text": [
      "The middle point of image:640\n",
      "Max value at x-310 left part.\n",
      "Max value at x-992 right part.\n"
     ]
    },
    {
     "name": "stderr",
     "output_type": "stream",
     "text": [
      "\r",
      " 33%|████████████▊                          | 414/1261 [01:46<03:45,  3.75it/s]"
     ]
    },
    {
     "name": "stdout",
     "output_type": "stream",
     "text": [
      "The middle point of image:640\n",
      "Max value at x-309 left part.\n",
      "Max value at x-997 right part.\n"
     ]
    },
    {
     "name": "stderr",
     "output_type": "stream",
     "text": [
      "\r",
      " 33%|████████████▊                          | 415/1261 [01:47<03:15,  4.33it/s]"
     ]
    },
    {
     "name": "stdout",
     "output_type": "stream",
     "text": [
      "The middle point of image:640\n",
      "Max value at x-305 left part.\n",
      "Max value at x-1003 right part.\n"
     ]
    },
    {
     "name": "stderr",
     "output_type": "stream",
     "text": [
      "\r",
      " 33%|████████████▊                          | 416/1261 [01:47<04:03,  3.47it/s]"
     ]
    },
    {
     "name": "stdout",
     "output_type": "stream",
     "text": [
      "The middle point of image:640\n",
      "Max value at x-304 left part.\n",
      "Max value at x-1004 right part.\n"
     ]
    },
    {
     "name": "stderr",
     "output_type": "stream",
     "text": [
      "\r",
      " 33%|████████████▉                          | 417/1261 [01:47<03:44,  3.77it/s]"
     ]
    },
    {
     "name": "stdout",
     "output_type": "stream",
     "text": [
      "The middle point of image:640\n",
      "Max value at x-303 left part.\n",
      "Max value at x-1008 right part.\n"
     ]
    },
    {
     "name": "stderr",
     "output_type": "stream",
     "text": [
      "\r",
      " 33%|████████████▉                          | 418/1261 [01:47<03:28,  4.05it/s]"
     ]
    },
    {
     "name": "stdout",
     "output_type": "stream",
     "text": [
      "The middle point of image:640\n",
      "Max value at x-302 left part.\n",
      "Max value at x-1011 right part.\n"
     ]
    },
    {
     "name": "stderr",
     "output_type": "stream",
     "text": [
      "\r",
      " 33%|████████████▉                          | 419/1261 [01:48<04:01,  3.48it/s]"
     ]
    },
    {
     "name": "stdout",
     "output_type": "stream",
     "text": [
      "The middle point of image:640\n",
      "Max value at x-318 left part.\n",
      "Max value at x-1009 right part.\n"
     ]
    },
    {
     "name": "stderr",
     "output_type": "stream",
     "text": [
      "\r",
      " 33%|████████████▉                          | 420/1261 [01:48<03:35,  3.91it/s]"
     ]
    },
    {
     "name": "stdout",
     "output_type": "stream",
     "text": [
      "The middle point of image:640\n",
      "Max value at x-304 left part.\n",
      "Max value at x-1004 right part.\n"
     ]
    },
    {
     "name": "stderr",
     "output_type": "stream",
     "text": [
      "\r",
      " 33%|█████████████                          | 421/1261 [01:48<03:04,  4.55it/s]"
     ]
    },
    {
     "name": "stdout",
     "output_type": "stream",
     "text": [
      "The middle point of image:640\n",
      "Max value at x-319 left part.\n",
      "Max value at x-1001 right part.\n"
     ]
    },
    {
     "name": "stderr",
     "output_type": "stream",
     "text": [
      "\r",
      " 33%|█████████████                          | 422/1261 [01:48<02:45,  5.06it/s]"
     ]
    },
    {
     "name": "stdout",
     "output_type": "stream",
     "text": [
      "The middle point of image:640\n",
      "Max value at x-317 left part.\n",
      "Max value at x-998 right part.\n"
     ]
    },
    {
     "name": "stderr",
     "output_type": "stream",
     "text": [
      "\r",
      " 34%|█████████████                          | 423/1261 [01:49<03:50,  3.63it/s]"
     ]
    },
    {
     "name": "stdout",
     "output_type": "stream",
     "text": [
      "The middle point of image:640\n",
      "Max value at x-300 left part.\n",
      "Max value at x-998 right part.\n"
     ]
    },
    {
     "name": "stderr",
     "output_type": "stream",
     "text": [
      "\r",
      " 34%|█████████████                          | 424/1261 [01:49<03:20,  4.17it/s]"
     ]
    },
    {
     "name": "stdout",
     "output_type": "stream",
     "text": [
      "The middle point of image:640\n",
      "Max value at x-302 left part.\n",
      "Max value at x-997 right part.\n"
     ]
    },
    {
     "name": "stderr",
     "output_type": "stream",
     "text": [
      "\r",
      " 34%|█████████████▏                         | 425/1261 [01:49<02:59,  4.65it/s]"
     ]
    },
    {
     "name": "stdout",
     "output_type": "stream",
     "text": [
      "The middle point of image:640\n",
      "Max value at x-293 left part.\n",
      "Max value at x-1002 right part.\n"
     ]
    },
    {
     "name": "stderr",
     "output_type": "stream",
     "text": [
      "\r",
      " 34%|█████████████▏                         | 426/1261 [01:49<03:07,  4.46it/s]"
     ]
    },
    {
     "name": "stdout",
     "output_type": "stream",
     "text": [
      "The middle point of image:640\n",
      "Max value at x-299 left part.\n",
      "Max value at x-993 right part.\n"
     ]
    },
    {
     "name": "stderr",
     "output_type": "stream",
     "text": [
      "\r",
      " 34%|█████████████▏                         | 427/1261 [01:50<04:10,  3.33it/s]"
     ]
    },
    {
     "name": "stdout",
     "output_type": "stream",
     "text": [
      "The middle point of image:640\n",
      "Max value at x-299 left part.\n",
      "Max value at x-992 right part.\n"
     ]
    },
    {
     "name": "stderr",
     "output_type": "stream",
     "text": [
      "\r",
      " 34%|█████████████▏                         | 428/1261 [01:50<03:43,  3.73it/s]"
     ]
    },
    {
     "name": "stdout",
     "output_type": "stream",
     "text": [
      "The middle point of image:640\n",
      "Max value at x-300 left part.\n",
      "Max value at x-996 right part.\n"
     ]
    },
    {
     "name": "stderr",
     "output_type": "stream",
     "text": [
      "\r",
      " 34%|█████████████▎                         | 429/1261 [01:50<03:09,  4.40it/s]"
     ]
    },
    {
     "name": "stdout",
     "output_type": "stream",
     "text": [
      "The middle point of image:640\n",
      "Max value at x-297 left part.\n",
      "Max value at x-993 right part.\n"
     ]
    },
    {
     "name": "stderr",
     "output_type": "stream",
     "text": [
      "\r",
      " 34%|█████████████▎                         | 430/1261 [01:50<02:53,  4.80it/s]"
     ]
    },
    {
     "name": "stdout",
     "output_type": "stream",
     "text": [
      "The middle point of image:640\n",
      "Max value at x-295 left part.\n",
      "Max value at x-997 right part.\n"
     ]
    },
    {
     "name": "stderr",
     "output_type": "stream",
     "text": [
      "\r",
      " 34%|█████████████▎                         | 431/1261 [01:51<04:20,  3.19it/s]"
     ]
    },
    {
     "name": "stdout",
     "output_type": "stream",
     "text": [
      "The middle point of image:640\n",
      "Max value at x-294 left part.\n",
      "Max value at x-998 right part.\n"
     ]
    },
    {
     "name": "stderr",
     "output_type": "stream",
     "text": [
      "\r",
      " 34%|█████████████▎                         | 432/1261 [01:51<03:40,  3.76it/s]"
     ]
    },
    {
     "name": "stdout",
     "output_type": "stream",
     "text": [
      "The middle point of image:640\n",
      "Max value at x-292 left part.\n",
      "Max value at x-996 right part.\n"
     ]
    },
    {
     "name": "stderr",
     "output_type": "stream",
     "text": [
      "\r",
      " 34%|█████████████▍                         | 433/1261 [01:51<03:09,  4.36it/s]"
     ]
    },
    {
     "name": "stdout",
     "output_type": "stream",
     "text": [
      "The middle point of image:640\n",
      "Max value at x-291 left part.\n",
      "Max value at x-997 right part.\n"
     ]
    },
    {
     "name": "stderr",
     "output_type": "stream",
     "text": [
      "\r",
      " 34%|█████████████▍                         | 434/1261 [01:51<02:50,  4.84it/s]"
     ]
    },
    {
     "name": "stdout",
     "output_type": "stream",
     "text": [
      "The middle point of image:640\n",
      "Max value at x-291 left part.\n",
      "Max value at x-997 right part.\n"
     ]
    },
    {
     "name": "stderr",
     "output_type": "stream",
     "text": [
      "\r",
      " 34%|█████████████▍                         | 435/1261 [01:52<04:30,  3.05it/s]"
     ]
    },
    {
     "name": "stdout",
     "output_type": "stream",
     "text": [
      "The middle point of image:640\n",
      "Max value at x-290 left part.\n",
      "Max value at x-996 right part.\n"
     ]
    },
    {
     "name": "stderr",
     "output_type": "stream",
     "text": [
      "\r",
      " 35%|█████████████▍                         | 436/1261 [01:52<03:47,  3.62it/s]"
     ]
    },
    {
     "name": "stdout",
     "output_type": "stream",
     "text": [
      "The middle point of image:640\n",
      "Max value at x-293 left part.\n",
      "Max value at x-990 right part.\n"
     ]
    },
    {
     "name": "stderr",
     "output_type": "stream",
     "text": [
      "\r",
      " 35%|█████████████▌                         | 437/1261 [01:52<03:13,  4.25it/s]"
     ]
    },
    {
     "name": "stdout",
     "output_type": "stream",
     "text": [
      "The middle point of image:640\n",
      "Max value at x-291 left part.\n",
      "Max value at x-995 right part.\n"
     ]
    },
    {
     "name": "stderr",
     "output_type": "stream",
     "text": [
      "\r",
      " 35%|█████████████▌                         | 438/1261 [01:52<02:50,  4.82it/s]"
     ]
    },
    {
     "name": "stdout",
     "output_type": "stream",
     "text": [
      "The middle point of image:640\n",
      "Max value at x-292 left part.\n",
      "Max value at x-992 right part.\n"
     ]
    },
    {
     "name": "stderr",
     "output_type": "stream",
     "text": [
      "\r",
      " 35%|█████████████▌                         | 439/1261 [01:53<04:04,  3.36it/s]"
     ]
    },
    {
     "name": "stdout",
     "output_type": "stream",
     "text": [
      "The middle point of image:640\n",
      "Max value at x-296 left part.\n",
      "Max value at x-984 right part.\n"
     ]
    },
    {
     "name": "stderr",
     "output_type": "stream",
     "text": [
      "\r",
      " 35%|█████████████▌                         | 440/1261 [01:53<03:53,  3.52it/s]"
     ]
    },
    {
     "name": "stdout",
     "output_type": "stream",
     "text": [
      "The middle point of image:640\n",
      "Max value at x-292 left part.\n",
      "Max value at x-986 right part.\n"
     ]
    },
    {
     "name": "stderr",
     "output_type": "stream",
     "text": [
      "\r",
      " 35%|█████████████▋                         | 441/1261 [01:53<03:17,  4.15it/s]"
     ]
    },
    {
     "name": "stdout",
     "output_type": "stream",
     "text": [
      "The middle point of image:640\n",
      "Max value at x-307 left part.\n",
      "Max value at x-989 right part.\n"
     ]
    },
    {
     "name": "stderr",
     "output_type": "stream",
     "text": [
      "\r",
      " 35%|█████████████▋                         | 442/1261 [01:53<02:52,  4.76it/s]"
     ]
    },
    {
     "name": "stdout",
     "output_type": "stream",
     "text": [
      "The middle point of image:640\n",
      "Max value at x-287 left part.\n",
      "Max value at x-997 right part.\n"
     ]
    },
    {
     "name": "stderr",
     "output_type": "stream",
     "text": [
      "\r",
      " 35%|█████████████▋                         | 443/1261 [01:54<02:58,  4.57it/s]"
     ]
    },
    {
     "name": "stdout",
     "output_type": "stream",
     "text": [
      "The middle point of image:640\n",
      "Max value at x-286 left part.\n",
      "Max value at x-1001 right part.\n"
     ]
    },
    {
     "name": "stderr",
     "output_type": "stream",
     "text": [
      "\r",
      " 35%|█████████████▋                         | 444/1261 [01:54<03:05,  4.41it/s]"
     ]
    },
    {
     "name": "stdout",
     "output_type": "stream",
     "text": [
      "The middle point of image:640\n",
      "Max value at x-284 left part.\n",
      "Max value at x-992 right part.\n"
     ]
    },
    {
     "name": "stderr",
     "output_type": "stream",
     "text": [
      "\r",
      " 35%|█████████████▊                         | 445/1261 [01:54<03:07,  4.34it/s]"
     ]
    },
    {
     "name": "stdout",
     "output_type": "stream",
     "text": [
      "The middle point of image:640\n",
      "Max value at x-283 left part.\n",
      "Max value at x-992 right part.\n"
     ]
    },
    {
     "name": "stderr",
     "output_type": "stream",
     "text": [
      "\r",
      " 35%|█████████████▊                         | 446/1261 [01:55<03:49,  3.55it/s]"
     ]
    },
    {
     "name": "stdout",
     "output_type": "stream",
     "text": [
      "The middle point of image:640\n",
      "Max value at x-285 left part.\n",
      "Max value at x-987 right part.\n"
     ]
    },
    {
     "name": "stderr",
     "output_type": "stream",
     "text": [
      "\r",
      " 35%|█████████████▊                         | 447/1261 [01:55<03:18,  4.10it/s]"
     ]
    },
    {
     "name": "stdout",
     "output_type": "stream",
     "text": [
      "The middle point of image:640\n",
      "Max value at x-282 left part.\n",
      "Max value at x-990 right part.\n"
     ]
    },
    {
     "name": "stderr",
     "output_type": "stream",
     "text": [
      "\r",
      " 36%|█████████████▊                         | 448/1261 [01:55<02:58,  4.55it/s]"
     ]
    },
    {
     "name": "stdout",
     "output_type": "stream",
     "text": [
      "The middle point of image:640\n",
      "Max value at x-283 left part.\n",
      "Max value at x-972 right part.\n"
     ]
    },
    {
     "name": "stderr",
     "output_type": "stream",
     "text": [
      "\r",
      " 36%|█████████████▉                         | 449/1261 [01:55<03:15,  4.16it/s]"
     ]
    },
    {
     "name": "stdout",
     "output_type": "stream",
     "text": [
      "The middle point of image:640\n",
      "Max value at x-282 left part.\n",
      "Max value at x-973 right part.\n"
     ]
    },
    {
     "name": "stderr",
     "output_type": "stream",
     "text": [
      "\r",
      " 36%|█████████████▉                         | 450/1261 [01:55<02:54,  4.64it/s]"
     ]
    },
    {
     "name": "stdout",
     "output_type": "stream",
     "text": [
      "The middle point of image:640\n",
      "Max value at x-284 left part.\n",
      "Max value at x-979 right part.\n"
     ]
    },
    {
     "name": "stderr",
     "output_type": "stream",
     "text": [
      "\r",
      " 36%|█████████████▉                         | 451/1261 [01:56<03:46,  3.58it/s]"
     ]
    },
    {
     "name": "stdout",
     "output_type": "stream",
     "text": [
      "The middle point of image:640\n",
      "Max value at x-297 left part.\n",
      "Max value at x-985 right part.\n"
     ]
    },
    {
     "name": "stderr",
     "output_type": "stream",
     "text": [
      "\r",
      " 36%|█████████████▉                         | 452/1261 [01:56<03:23,  3.98it/s]"
     ]
    },
    {
     "name": "stdout",
     "output_type": "stream",
     "text": [
      "The middle point of image:640\n",
      "Max value at x-299 left part.\n",
      "Max value at x-993 right part.\n"
     ]
    },
    {
     "name": "stderr",
     "output_type": "stream",
     "text": [
      "\r",
      " 36%|██████████████                         | 453/1261 [01:56<02:54,  4.63it/s]"
     ]
    },
    {
     "name": "stdout",
     "output_type": "stream",
     "text": [
      "The middle point of image:640\n",
      "Max value at x-297 left part.\n",
      "Max value at x-991 right part.\n"
     ]
    },
    {
     "name": "stderr",
     "output_type": "stream",
     "text": [
      "\r",
      " 36%|██████████████                         | 454/1261 [01:56<02:34,  5.21it/s]"
     ]
    },
    {
     "name": "stdout",
     "output_type": "stream",
     "text": [
      "The middle point of image:640\n",
      "Max value at x-297 left part.\n",
      "Max value at x-998 right part.\n"
     ]
    },
    {
     "name": "stderr",
     "output_type": "stream",
     "text": [
      "\r",
      " 36%|██████████████                         | 455/1261 [01:56<02:45,  4.87it/s]"
     ]
    },
    {
     "name": "stdout",
     "output_type": "stream",
     "text": [
      "The middle point of image:640\n",
      "Max value at x-296 left part.\n",
      "Max value at x-999 right part.\n"
     ]
    },
    {
     "name": "stderr",
     "output_type": "stream",
     "text": [
      "\r",
      " 36%|██████████████                         | 456/1261 [01:57<03:02,  4.42it/s]"
     ]
    },
    {
     "name": "stdout",
     "output_type": "stream",
     "text": [
      "The middle point of image:640\n",
      "Max value at x-298 left part.\n",
      "Max value at x-988 right part.\n"
     ]
    },
    {
     "name": "stderr",
     "output_type": "stream",
     "text": [
      "\r",
      " 36%|██████████████▏                        | 457/1261 [01:57<02:56,  4.56it/s]"
     ]
    },
    {
     "name": "stdout",
     "output_type": "stream",
     "text": [
      "The middle point of image:640\n",
      "Max value at x-296 left part.\n",
      "Max value at x-990 right part.\n"
     ]
    },
    {
     "name": "stderr",
     "output_type": "stream",
     "text": [
      "\r",
      " 36%|██████████████▏                        | 458/1261 [01:57<03:41,  3.63it/s]"
     ]
    },
    {
     "name": "stdout",
     "output_type": "stream",
     "text": [
      "The middle point of image:640\n",
      "Max value at x-302 left part.\n",
      "Max value at x-989 right part.\n"
     ]
    },
    {
     "name": "stderr",
     "output_type": "stream",
     "text": [
      "\r",
      " 36%|██████████████▏                        | 459/1261 [01:57<03:10,  4.22it/s]"
     ]
    },
    {
     "name": "stdout",
     "output_type": "stream",
     "text": [
      "The middle point of image:640\n",
      "Max value at x-302 left part.\n",
      "Max value at x-990 right part.\n"
     ]
    },
    {
     "name": "stderr",
     "output_type": "stream",
     "text": [
      "\r",
      " 36%|██████████████▏                        | 460/1261 [01:58<02:53,  4.63it/s]"
     ]
    },
    {
     "name": "stdout",
     "output_type": "stream",
     "text": [
      "The middle point of image:640\n",
      "Max value at x-301 left part.\n",
      "Max value at x-1000 right part.\n"
     ]
    },
    {
     "name": "stderr",
     "output_type": "stream",
     "text": [
      "\r",
      " 37%|██████████████▎                        | 461/1261 [01:58<03:10,  4.19it/s]"
     ]
    },
    {
     "name": "stdout",
     "output_type": "stream",
     "text": [
      "The middle point of image:640\n",
      "Max value at x-299 left part.\n",
      "Max value at x-982 right part.\n"
     ]
    },
    {
     "name": "stderr",
     "output_type": "stream",
     "text": [
      "\r",
      " 37%|██████████████▎                        | 462/1261 [01:58<03:03,  4.37it/s]"
     ]
    },
    {
     "name": "stdout",
     "output_type": "stream",
     "text": [
      "The middle point of image:640\n",
      "Max value at x-299 left part.\n",
      "Max value at x-986 right part.\n"
     ]
    },
    {
     "name": "stderr",
     "output_type": "stream",
     "text": [
      "\r",
      " 37%|██████████████▎                        | 463/1261 [01:58<02:48,  4.74it/s]"
     ]
    },
    {
     "name": "stdout",
     "output_type": "stream",
     "text": [
      "The middle point of image:640\n",
      "Max value at x-302 left part.\n",
      "Max value at x-992 right part.\n"
     ]
    },
    {
     "name": "stderr",
     "output_type": "stream",
     "text": [
      "\r",
      " 37%|██████████████▎                        | 464/1261 [01:59<03:21,  3.95it/s]"
     ]
    },
    {
     "name": "stdout",
     "output_type": "stream",
     "text": [
      "The middle point of image:640\n",
      "Max value at x-299 left part.\n",
      "Max value at x-998 right part.\n"
     ]
    },
    {
     "name": "stderr",
     "output_type": "stream",
     "text": [
      "\r",
      " 37%|██████████████▍                        | 465/1261 [01:59<03:10,  4.18it/s]"
     ]
    },
    {
     "name": "stdout",
     "output_type": "stream",
     "text": [
      "The middle point of image:640\n",
      "Max value at x-303 left part.\n",
      "Max value at x-993 right part.\n"
     ]
    },
    {
     "name": "stderr",
     "output_type": "stream",
     "text": [
      "\r",
      " 37%|██████████████▍                        | 466/1261 [01:59<02:49,  4.69it/s]"
     ]
    },
    {
     "name": "stdout",
     "output_type": "stream",
     "text": [
      "The middle point of image:640\n",
      "Max value at x-303 left part.\n",
      "Max value at x-996 right part.\n"
     ]
    },
    {
     "name": "stderr",
     "output_type": "stream",
     "text": [
      "\r",
      " 37%|██████████████▍                        | 467/1261 [01:59<03:04,  4.30it/s]"
     ]
    },
    {
     "name": "stdout",
     "output_type": "stream",
     "text": [
      "The middle point of image:640\n",
      "Max value at x-304 left part.\n",
      "Max value at x-988 right part.\n"
     ]
    },
    {
     "name": "stderr",
     "output_type": "stream",
     "text": [
      "\r",
      " 37%|██████████████▍                        | 468/1261 [02:00<03:09,  4.18it/s]"
     ]
    },
    {
     "name": "stdout",
     "output_type": "stream",
     "text": [
      "The middle point of image:640\n",
      "Max value at x-305 left part.\n",
      "Max value at x-989 right part.\n"
     ]
    },
    {
     "name": "stderr",
     "output_type": "stream",
     "text": [
      "\r",
      " 37%|██████████████▌                        | 469/1261 [02:00<03:00,  4.38it/s]"
     ]
    },
    {
     "name": "stdout",
     "output_type": "stream",
     "text": [
      "The middle point of image:640\n",
      "Max value at x-306 left part.\n",
      "Max value at x-998 right part.\n"
     ]
    },
    {
     "name": "stderr",
     "output_type": "stream",
     "text": [
      "\r",
      " 37%|██████████████▌                        | 470/1261 [02:00<03:42,  3.56it/s]"
     ]
    },
    {
     "name": "stdout",
     "output_type": "stream",
     "text": [
      "The middle point of image:640\n",
      "Max value at x-305 left part.\n",
      "Max value at x-992 right part.\n"
     ]
    },
    {
     "name": "stderr",
     "output_type": "stream",
     "text": [
      "\r",
      " 37%|██████████████▌                        | 471/1261 [02:00<03:41,  3.56it/s]"
     ]
    },
    {
     "name": "stdout",
     "output_type": "stream",
     "text": [
      "The middle point of image:640\n",
      "Max value at x-305 left part.\n",
      "Max value at x-999 right part.\n"
     ]
    },
    {
     "name": "stderr",
     "output_type": "stream",
     "text": [
      "\r",
      " 37%|██████████████▌                        | 472/1261 [02:01<03:08,  4.19it/s]"
     ]
    },
    {
     "name": "stdout",
     "output_type": "stream",
     "text": [
      "The middle point of image:640\n",
      "Max value at x-306 left part.\n",
      "Max value at x-978 right part.\n"
     ]
    },
    {
     "name": "stderr",
     "output_type": "stream",
     "text": [
      "\r",
      " 38%|██████████████▋                        | 473/1261 [02:01<02:44,  4.78it/s]"
     ]
    },
    {
     "name": "stdout",
     "output_type": "stream",
     "text": [
      "The middle point of image:640\n",
      "Max value at x-309 left part.\n",
      "Max value at x-991 right part.\n"
     ]
    },
    {
     "name": "stderr",
     "output_type": "stream",
     "text": [
      "\r",
      " 38%|██████████████▋                        | 474/1261 [02:01<02:52,  4.56it/s]"
     ]
    },
    {
     "name": "stdout",
     "output_type": "stream",
     "text": [
      "The middle point of image:640\n",
      "Max value at x-307 left part.\n",
      "Max value at x-986 right part.\n"
     ]
    },
    {
     "name": "stderr",
     "output_type": "stream",
     "text": [
      "\r",
      " 38%|██████████████▋                        | 475/1261 [02:01<02:42,  4.84it/s]"
     ]
    },
    {
     "name": "stdout",
     "output_type": "stream",
     "text": [
      "The middle point of image:640\n",
      "Max value at x-309 left part.\n",
      "Max value at x-988 right part.\n"
     ]
    },
    {
     "name": "stderr",
     "output_type": "stream",
     "text": [
      "\r",
      " 38%|██████████████▋                        | 476/1261 [02:02<04:05,  3.20it/s]"
     ]
    },
    {
     "name": "stdout",
     "output_type": "stream",
     "text": [
      "The middle point of image:640\n",
      "Max value at x-308 left part.\n",
      "Max value at x-991 right part.\n"
     ]
    },
    {
     "name": "stderr",
     "output_type": "stream",
     "text": [
      "\r",
      " 38%|██████████████▊                        | 477/1261 [02:02<03:42,  3.53it/s]"
     ]
    },
    {
     "name": "stdout",
     "output_type": "stream",
     "text": [
      "The middle point of image:640\n",
      "Max value at x-296 left part.\n",
      "Max value at x-991 right part.\n"
     ]
    },
    {
     "name": "stderr",
     "output_type": "stream",
     "text": [
      "\r",
      " 38%|██████████████▊                        | 478/1261 [02:02<03:11,  4.09it/s]"
     ]
    },
    {
     "name": "stdout",
     "output_type": "stream",
     "text": [
      "The middle point of image:640\n",
      "Max value at x-295 left part.\n",
      "Max value at x-991 right part.\n"
     ]
    },
    {
     "name": "stderr",
     "output_type": "stream",
     "text": [
      "\r",
      " 38%|██████████████▊                        | 479/1261 [02:02<03:29,  3.73it/s]"
     ]
    },
    {
     "name": "stdout",
     "output_type": "stream",
     "text": [
      "The middle point of image:640\n",
      "Max value at x-308 left part.\n",
      "Max value at x-994 right part.\n"
     ]
    },
    {
     "name": "stderr",
     "output_type": "stream",
     "text": [
      "\r",
      " 38%|██████████████▊                        | 480/1261 [02:03<03:01,  4.29it/s]"
     ]
    },
    {
     "name": "stdout",
     "output_type": "stream",
     "text": [
      "The middle point of image:640\n",
      "Max value at x-311 left part.\n",
      "Max value at x-993 right part.\n"
     ]
    },
    {
     "name": "stderr",
     "output_type": "stream",
     "text": [
      "\r",
      " 38%|██████████████▉                        | 481/1261 [02:03<03:03,  4.26it/s]"
     ]
    },
    {
     "name": "stdout",
     "output_type": "stream",
     "text": [
      "The middle point of image:640\n",
      "Max value at x-290 left part.\n",
      "Max value at x-995 right part.\n"
     ]
    },
    {
     "name": "stderr",
     "output_type": "stream",
     "text": [
      "\r",
      " 38%|██████████████▉                        | 482/1261 [02:03<04:26,  2.93it/s]"
     ]
    },
    {
     "name": "stdout",
     "output_type": "stream",
     "text": [
      "The middle point of image:640\n",
      "Max value at x-290 left part.\n",
      "Max value at x-995 right part.\n"
     ]
    },
    {
     "name": "stderr",
     "output_type": "stream",
     "text": [
      "\r",
      " 38%|██████████████▉                        | 483/1261 [02:04<04:14,  3.05it/s]"
     ]
    },
    {
     "name": "stdout",
     "output_type": "stream",
     "text": [
      "The middle point of image:640\n",
      "Max value at x-290 left part.\n",
      "Max value at x-994 right part.\n"
     ]
    },
    {
     "name": "stderr",
     "output_type": "stream",
     "text": [
      "\r",
      " 38%|██████████████▉                        | 484/1261 [02:04<05:08,  2.52it/s]"
     ]
    },
    {
     "name": "stdout",
     "output_type": "stream",
     "text": [
      "The middle point of image:640\n",
      "Max value at x-290 left part.\n",
      "Max value at x-1001 right part.\n"
     ]
    },
    {
     "name": "stderr",
     "output_type": "stream",
     "text": [
      "\r",
      " 38%|███████████████                        | 485/1261 [02:05<05:22,  2.41it/s]"
     ]
    },
    {
     "name": "stdout",
     "output_type": "stream",
     "text": [
      "The middle point of image:640\n",
      "Max value at x-291 left part.\n",
      "Max value at x-1012 right part.\n"
     ]
    },
    {
     "name": "stderr",
     "output_type": "stream",
     "text": [
      "\r",
      " 39%|███████████████                        | 486/1261 [02:05<05:25,  2.38it/s]"
     ]
    },
    {
     "name": "stdout",
     "output_type": "stream",
     "text": [
      "The middle point of image:640\n",
      "Max value at x-291 left part.\n",
      "Max value at x-996 right part.\n"
     ]
    },
    {
     "name": "stderr",
     "output_type": "stream",
     "text": [
      "\r",
      " 39%|███████████████                        | 487/1261 [02:05<05:14,  2.46it/s]"
     ]
    },
    {
     "name": "stdout",
     "output_type": "stream",
     "text": [
      "The middle point of image:640\n",
      "Max value at x-302 left part.\n",
      "Max value at x-1009 right part.\n"
     ]
    },
    {
     "name": "stderr",
     "output_type": "stream",
     "text": [
      "\r",
      " 39%|███████████████                        | 488/1261 [02:06<05:01,  2.56it/s]"
     ]
    },
    {
     "name": "stdout",
     "output_type": "stream",
     "text": [
      "The middle point of image:640\n",
      "Max value at x-296 left part.\n",
      "Max value at x-995 right part.\n"
     ]
    },
    {
     "name": "stderr",
     "output_type": "stream",
     "text": [
      "\r",
      " 39%|███████████████                        | 489/1261 [02:06<04:53,  2.63it/s]"
     ]
    },
    {
     "name": "stdout",
     "output_type": "stream",
     "text": [
      "The middle point of image:640\n",
      "Max value at x-309 left part.\n",
      "Max value at x-1016 right part.\n"
     ]
    },
    {
     "name": "stderr",
     "output_type": "stream",
     "text": [
      "\r",
      " 39%|███████████████▏                       | 490/1261 [02:07<04:53,  2.63it/s]"
     ]
    },
    {
     "name": "stdout",
     "output_type": "stream",
     "text": [
      "The middle point of image:640\n",
      "Max value at x-310 left part.\n",
      "Max value at x-1008 right part.\n"
     ]
    },
    {
     "name": "stderr",
     "output_type": "stream",
     "text": [
      "\r",
      " 39%|███████████████▏                       | 491/1261 [02:07<04:47,  2.68it/s]"
     ]
    },
    {
     "name": "stdout",
     "output_type": "stream",
     "text": [
      "The middle point of image:640\n",
      "Max value at x-301 left part.\n",
      "Max value at x-1009 right part.\n"
     ]
    },
    {
     "name": "stderr",
     "output_type": "stream",
     "text": [
      "\r",
      " 39%|███████████████▏                       | 492/1261 [02:07<04:41,  2.73it/s]"
     ]
    },
    {
     "name": "stdout",
     "output_type": "stream",
     "text": [
      "The middle point of image:640\n",
      "Max value at x-296 left part.\n",
      "Max value at x-1012 right part.\n"
     ]
    },
    {
     "name": "stderr",
     "output_type": "stream",
     "text": [
      "\r",
      " 39%|███████████████▏                       | 493/1261 [02:08<04:38,  2.75it/s]"
     ]
    },
    {
     "name": "stdout",
     "output_type": "stream",
     "text": [
      "The middle point of image:640\n",
      "Max value at x-308 left part.\n",
      "Max value at x-1014 right part.\n"
     ]
    },
    {
     "name": "stderr",
     "output_type": "stream",
     "text": [
      "\r",
      " 39%|███████████████▎                       | 494/1261 [02:08<04:40,  2.74it/s]"
     ]
    },
    {
     "name": "stdout",
     "output_type": "stream",
     "text": [
      "The middle point of image:640\n",
      "Max value at x-290 left part.\n",
      "Max value at x-1014 right part.\n"
     ]
    },
    {
     "name": "stderr",
     "output_type": "stream",
     "text": [
      "\r",
      " 39%|███████████████▎                       | 495/1261 [02:08<04:37,  2.76it/s]"
     ]
    },
    {
     "name": "stdout",
     "output_type": "stream",
     "text": [
      "The middle point of image:640\n",
      "Max value at x-293 left part.\n",
      "Max value at x-1014 right part.\n"
     ]
    },
    {
     "name": "stderr",
     "output_type": "stream",
     "text": [
      "\r",
      " 39%|███████████████▎                       | 496/1261 [02:09<04:34,  2.79it/s]"
     ]
    },
    {
     "name": "stdout",
     "output_type": "stream",
     "text": [
      "The middle point of image:640\n",
      "Max value at x-293 left part.\n",
      "Max value at x-997 right part.\n"
     ]
    },
    {
     "name": "stderr",
     "output_type": "stream",
     "text": [
      "\r",
      " 39%|███████████████▎                       | 497/1261 [02:09<04:35,  2.77it/s]"
     ]
    },
    {
     "name": "stdout",
     "output_type": "stream",
     "text": [
      "The middle point of image:640\n",
      "Max value at x-310 left part.\n",
      "Max value at x-994 right part.\n"
     ]
    },
    {
     "name": "stderr",
     "output_type": "stream",
     "text": [
      "\r",
      " 39%|███████████████▍                       | 498/1261 [02:09<04:36,  2.76it/s]"
     ]
    },
    {
     "name": "stdout",
     "output_type": "stream",
     "text": [
      "The middle point of image:640\n",
      "Max value at x-294 left part.\n",
      "Max value at x-1012 right part.\n"
     ]
    },
    {
     "name": "stderr",
     "output_type": "stream",
     "text": [
      "\r",
      " 40%|███████████████▍                       | 499/1261 [02:10<04:33,  2.78it/s]"
     ]
    },
    {
     "name": "stdout",
     "output_type": "stream",
     "text": [
      "The middle point of image:640\n",
      "Max value at x-289 left part.\n",
      "Max value at x-1000 right part.\n"
     ]
    },
    {
     "name": "stderr",
     "output_type": "stream",
     "text": [
      "\r",
      " 40%|███████████████▍                       | 500/1261 [02:10<04:34,  2.77it/s]"
     ]
    },
    {
     "name": "stdout",
     "output_type": "stream",
     "text": [
      "The middle point of image:640\n",
      "Max value at x-288 left part.\n",
      "Max value at x-1007 right part.\n"
     ]
    },
    {
     "name": "stderr",
     "output_type": "stream",
     "text": [
      "\r",
      " 40%|███████████████▍                       | 501/1261 [02:10<04:33,  2.78it/s]"
     ]
    },
    {
     "name": "stdout",
     "output_type": "stream",
     "text": [
      "The middle point of image:640\n",
      "Max value at x-287 left part.\n",
      "Max value at x-1012 right part.\n"
     ]
    },
    {
     "name": "stderr",
     "output_type": "stream",
     "text": [
      "\r",
      " 40%|███████████████▌                       | 502/1261 [02:11<04:36,  2.74it/s]"
     ]
    },
    {
     "name": "stdout",
     "output_type": "stream",
     "text": [
      "The middle point of image:640\n",
      "Max value at x-289 left part.\n",
      "Max value at x-1010 right part.\n"
     ]
    },
    {
     "name": "stderr",
     "output_type": "stream",
     "text": [
      "\r",
      " 40%|███████████████▌                       | 503/1261 [02:11<04:35,  2.75it/s]"
     ]
    },
    {
     "name": "stdout",
     "output_type": "stream",
     "text": [
      "The middle point of image:640\n",
      "Max value at x-289 left part.\n",
      "Max value at x-1009 right part.\n"
     ]
    },
    {
     "name": "stderr",
     "output_type": "stream",
     "text": [
      "\r",
      " 40%|███████████████▌                       | 504/1261 [02:12<04:35,  2.75it/s]"
     ]
    },
    {
     "name": "stdout",
     "output_type": "stream",
     "text": [
      "The middle point of image:640\n",
      "Max value at x-289 left part.\n",
      "Max value at x-1009 right part.\n"
     ]
    },
    {
     "name": "stderr",
     "output_type": "stream",
     "text": [
      "\r",
      " 40%|███████████████▌                       | 505/1261 [02:12<04:33,  2.77it/s]"
     ]
    },
    {
     "name": "stdout",
     "output_type": "stream",
     "text": [
      "The middle point of image:640\n",
      "Max value at x-290 left part.\n",
      "Max value at x-1009 right part.\n"
     ]
    },
    {
     "name": "stderr",
     "output_type": "stream",
     "text": [
      "\r",
      " 40%|███████████████▋                       | 506/1261 [02:12<04:34,  2.75it/s]"
     ]
    },
    {
     "name": "stdout",
     "output_type": "stream",
     "text": [
      "The middle point of image:640\n",
      "Max value at x-289 left part.\n",
      "Max value at x-1011 right part.\n"
     ]
    },
    {
     "name": "stderr",
     "output_type": "stream",
     "text": [
      "\r",
      " 40%|███████████████▋                       | 507/1261 [02:13<04:35,  2.74it/s]"
     ]
    },
    {
     "name": "stdout",
     "output_type": "stream",
     "text": [
      "The middle point of image:640\n",
      "Max value at x-289 left part.\n",
      "Max value at x-1008 right part.\n"
     ]
    },
    {
     "name": "stderr",
     "output_type": "stream",
     "text": [
      "\r",
      " 40%|███████████████▋                       | 508/1261 [02:13<04:33,  2.76it/s]"
     ]
    },
    {
     "name": "stdout",
     "output_type": "stream",
     "text": [
      "The middle point of image:640\n",
      "Max value at x-287 left part.\n",
      "Max value at x-1003 right part.\n"
     ]
    },
    {
     "name": "stderr",
     "output_type": "stream",
     "text": [
      "\r",
      " 40%|███████████████▋                       | 509/1261 [02:13<04:31,  2.77it/s]"
     ]
    },
    {
     "name": "stdout",
     "output_type": "stream",
     "text": [
      "The middle point of image:640\n",
      "Max value at x-287 left part.\n",
      "Max value at x-1002 right part.\n"
     ]
    },
    {
     "name": "stderr",
     "output_type": "stream",
     "text": [
      "\r",
      " 40%|███████████████▊                       | 510/1261 [02:14<04:37,  2.71it/s]"
     ]
    },
    {
     "name": "stdout",
     "output_type": "stream",
     "text": [
      "The middle point of image:640\n",
      "Max value at x-287 left part.\n",
      "Max value at x-1000 right part.\n"
     ]
    },
    {
     "name": "stderr",
     "output_type": "stream",
     "text": [
      "\r",
      " 41%|███████████████▊                       | 511/1261 [02:14<04:34,  2.73it/s]"
     ]
    },
    {
     "name": "stdout",
     "output_type": "stream",
     "text": [
      "The middle point of image:640\n",
      "Max value at x-288 left part.\n",
      "Max value at x-998 right part.\n"
     ]
    },
    {
     "name": "stderr",
     "output_type": "stream",
     "text": [
      "\r",
      " 41%|███████████████▊                       | 512/1261 [02:15<04:33,  2.74it/s]"
     ]
    },
    {
     "name": "stdout",
     "output_type": "stream",
     "text": [
      "The middle point of image:640\n",
      "Max value at x-291 left part.\n",
      "Max value at x-996 right part.\n"
     ]
    },
    {
     "name": "stderr",
     "output_type": "stream",
     "text": [
      "\r",
      " 41%|███████████████▊                       | 513/1261 [02:15<04:33,  2.73it/s]"
     ]
    },
    {
     "name": "stdout",
     "output_type": "stream",
     "text": [
      "The middle point of image:640\n",
      "Max value at x-293 left part.\n",
      "Max value at x-997 right part.\n"
     ]
    },
    {
     "name": "stderr",
     "output_type": "stream",
     "text": [
      "\r",
      " 41%|███████████████▉                       | 514/1261 [02:15<04:35,  2.71it/s]"
     ]
    },
    {
     "name": "stdout",
     "output_type": "stream",
     "text": [
      "The middle point of image:640\n",
      "Max value at x-290 left part.\n",
      "Max value at x-997 right part.\n"
     ]
    },
    {
     "name": "stderr",
     "output_type": "stream",
     "text": [
      "\r",
      " 41%|███████████████▉                       | 515/1261 [02:16<04:33,  2.73it/s]"
     ]
    },
    {
     "name": "stdout",
     "output_type": "stream",
     "text": [
      "The middle point of image:640\n",
      "Max value at x-289 left part.\n",
      "Max value at x-998 right part.\n"
     ]
    },
    {
     "name": "stderr",
     "output_type": "stream",
     "text": [
      "\r",
      " 41%|███████████████▉                       | 516/1261 [02:16<04:31,  2.75it/s]"
     ]
    },
    {
     "name": "stdout",
     "output_type": "stream",
     "text": [
      "The middle point of image:640\n",
      "Max value at x-290 left part.\n",
      "Max value at x-1009 right part.\n"
     ]
    },
    {
     "name": "stderr",
     "output_type": "stream",
     "text": [
      "\r",
      " 41%|███████████████▉                       | 517/1261 [02:16<04:32,  2.73it/s]"
     ]
    },
    {
     "name": "stdout",
     "output_type": "stream",
     "text": [
      "The middle point of image:640\n",
      "Max value at x-289 left part.\n",
      "Max value at x-1009 right part.\n"
     ]
    },
    {
     "name": "stderr",
     "output_type": "stream",
     "text": [
      "\r",
      " 41%|████████████████                       | 518/1261 [02:17<04:39,  2.66it/s]"
     ]
    },
    {
     "name": "stdout",
     "output_type": "stream",
     "text": [
      "The middle point of image:640\n",
      "Max value at x-289 left part.\n",
      "Max value at x-1000 right part.\n"
     ]
    },
    {
     "name": "stderr",
     "output_type": "stream",
     "text": [
      "\r",
      " 41%|████████████████                       | 519/1261 [02:17<04:35,  2.70it/s]"
     ]
    },
    {
     "name": "stdout",
     "output_type": "stream",
     "text": [
      "The middle point of image:640\n",
      "Max value at x-289 left part.\n",
      "Max value at x-1003 right part.\n"
     ]
    },
    {
     "name": "stderr",
     "output_type": "stream",
     "text": [
      "\r",
      " 41%|████████████████                       | 520/1261 [02:17<04:33,  2.71it/s]"
     ]
    },
    {
     "name": "stdout",
     "output_type": "stream",
     "text": [
      "The middle point of image:640\n",
      "Max value at x-296 left part.\n",
      "Max value at x-998 right part.\n"
     ]
    },
    {
     "name": "stderr",
     "output_type": "stream",
     "text": [
      "\r",
      " 41%|████████████████                       | 521/1261 [02:18<04:33,  2.71it/s]"
     ]
    },
    {
     "name": "stdout",
     "output_type": "stream",
     "text": [
      "The middle point of image:640\n",
      "Max value at x-292 left part.\n",
      "Max value at x-1000 right part.\n"
     ]
    },
    {
     "name": "stderr",
     "output_type": "stream",
     "text": [
      "\r",
      " 41%|████████████████▏                      | 522/1261 [02:18<04:31,  2.72it/s]"
     ]
    },
    {
     "name": "stdout",
     "output_type": "stream",
     "text": [
      "The middle point of image:640\n",
      "Max value at x-293 left part.\n",
      "Max value at x-1000 right part.\n"
     ]
    },
    {
     "name": "stderr",
     "output_type": "stream",
     "text": [
      "\r",
      " 41%|████████████████▏                      | 523/1261 [02:19<04:31,  2.72it/s]"
     ]
    },
    {
     "name": "stdout",
     "output_type": "stream",
     "text": [
      "The middle point of image:640\n",
      "Max value at x-293 left part.\n",
      "Max value at x-998 right part.\n"
     ]
    },
    {
     "name": "stderr",
     "output_type": "stream",
     "text": [
      "\r",
      " 42%|████████████████▏                      | 524/1261 [02:19<04:33,  2.69it/s]"
     ]
    },
    {
     "name": "stdout",
     "output_type": "stream",
     "text": [
      "The middle point of image:640\n",
      "Max value at x-295 left part.\n",
      "Max value at x-1000 right part.\n"
     ]
    },
    {
     "name": "stderr",
     "output_type": "stream",
     "text": [
      "\r",
      " 42%|████████████████▏                      | 525/1261 [02:19<04:34,  2.68it/s]"
     ]
    },
    {
     "name": "stdout",
     "output_type": "stream",
     "text": [
      "The middle point of image:640\n",
      "Max value at x-293 left part.\n",
      "Max value at x-1003 right part.\n"
     ]
    },
    {
     "name": "stderr",
     "output_type": "stream",
     "text": [
      "\r",
      " 42%|████████████████▎                      | 526/1261 [02:20<04:33,  2.68it/s]"
     ]
    },
    {
     "name": "stdout",
     "output_type": "stream",
     "text": [
      "The middle point of image:640\n",
      "Max value at x-293 left part.\n",
      "Max value at x-1002 right part.\n"
     ]
    },
    {
     "name": "stderr",
     "output_type": "stream",
     "text": [
      "\r",
      " 42%|████████████████▎                      | 527/1261 [02:20<04:39,  2.62it/s]"
     ]
    },
    {
     "name": "stdout",
     "output_type": "stream",
     "text": [
      "The middle point of image:640\n",
      "Max value at x-286 left part.\n",
      "Max value at x-1006 right part.\n"
     ]
    },
    {
     "name": "stderr",
     "output_type": "stream",
     "text": [
      "\r",
      " 42%|████████████████▎                      | 528/1261 [02:20<03:47,  3.22it/s]"
     ]
    },
    {
     "name": "stdout",
     "output_type": "stream",
     "text": [
      "The middle point of image:640\n",
      "Max value at x-288 left part.\n",
      "Max value at x-1004 right part.\n"
     ]
    },
    {
     "name": "stderr",
     "output_type": "stream",
     "text": [
      "\r",
      " 42%|████████████████▎                      | 529/1261 [02:20<03:11,  3.82it/s]"
     ]
    },
    {
     "name": "stdout",
     "output_type": "stream",
     "text": [
      "The middle point of image:640\n",
      "Max value at x-294 left part.\n",
      "Max value at x-1013 right part.\n"
     ]
    },
    {
     "name": "stderr",
     "output_type": "stream",
     "text": [
      "\r",
      " 42%|████████████████▍                      | 530/1261 [02:21<02:46,  4.39it/s]"
     ]
    },
    {
     "name": "stdout",
     "output_type": "stream",
     "text": [
      "The middle point of image:640\n",
      "Max value at x-299 left part.\n",
      "Max value at x-1014 right part.\n"
     ]
    },
    {
     "name": "stderr",
     "output_type": "stream",
     "text": [
      "\r",
      " 42%|████████████████▍                      | 531/1261 [02:21<03:52,  3.13it/s]"
     ]
    },
    {
     "name": "stdout",
     "output_type": "stream",
     "text": [
      "The middle point of image:640\n",
      "Max value at x-305 left part.\n",
      "Max value at x-1003 right part.\n"
     ]
    },
    {
     "name": "stderr",
     "output_type": "stream",
     "text": [
      "\r",
      " 42%|████████████████▍                      | 532/1261 [02:21<03:16,  3.72it/s]"
     ]
    },
    {
     "name": "stdout",
     "output_type": "stream",
     "text": [
      "The middle point of image:640\n",
      "Max value at x-303 left part.\n",
      "Max value at x-993 right part.\n"
     ]
    },
    {
     "name": "stderr",
     "output_type": "stream",
     "text": [
      "\r",
      " 42%|████████████████▍                      | 533/1261 [02:21<02:51,  4.25it/s]"
     ]
    },
    {
     "name": "stdout",
     "output_type": "stream",
     "text": [
      "The middle point of image:640\n",
      "Max value at x-303 left part.\n",
      "Max value at x-999 right part.\n"
     ]
    },
    {
     "name": "stderr",
     "output_type": "stream",
     "text": [
      "\r",
      " 42%|████████████████▌                      | 534/1261 [02:22<02:53,  4.20it/s]"
     ]
    },
    {
     "name": "stdout",
     "output_type": "stream",
     "text": [
      "The middle point of image:640\n",
      "Max value at x-300 left part.\n",
      "Max value at x-1000 right part.\n"
     ]
    },
    {
     "name": "stderr",
     "output_type": "stream",
     "text": [
      "\r",
      " 42%|████████████████▌                      | 535/1261 [02:22<02:44,  4.42it/s]"
     ]
    },
    {
     "name": "stdout",
     "output_type": "stream",
     "text": [
      "The middle point of image:640\n",
      "Max value at x-318 left part.\n",
      "Max value at x-1007 right part.\n"
     ]
    },
    {
     "name": "stderr",
     "output_type": "stream",
     "text": [
      "\r",
      " 43%|████████████████▌                      | 536/1261 [02:22<03:06,  3.89it/s]"
     ]
    },
    {
     "name": "stdout",
     "output_type": "stream",
     "text": [
      "The middle point of image:640\n",
      "Max value at x-318 left part.\n",
      "Max value at x-1009 right part.\n"
     ]
    },
    {
     "name": "stderr",
     "output_type": "stream",
     "text": [
      "\r",
      " 43%|████████████████▌                      | 537/1261 [02:22<02:53,  4.17it/s]"
     ]
    },
    {
     "name": "stdout",
     "output_type": "stream",
     "text": [
      "The middle point of image:640\n",
      "Max value at x-299 left part.\n",
      "Max value at x-1019 right part.\n"
     ]
    },
    {
     "name": "stderr",
     "output_type": "stream",
     "text": [
      "\r",
      " 43%|████████████████▋                      | 538/1261 [02:23<02:46,  4.34it/s]"
     ]
    },
    {
     "name": "stdout",
     "output_type": "stream",
     "text": [
      "The middle point of image:640\n",
      "Max value at x-301 left part.\n",
      "Max value at x-1013 right part.\n"
     ]
    },
    {
     "name": "stderr",
     "output_type": "stream",
     "text": [
      "\r",
      " 43%|████████████████▋                      | 539/1261 [02:23<02:52,  4.20it/s]"
     ]
    },
    {
     "name": "stdout",
     "output_type": "stream",
     "text": [
      "The middle point of image:640\n",
      "Max value at x-299 left part.\n",
      "Max value at x-1014 right part.\n"
     ]
    },
    {
     "name": "stderr",
     "output_type": "stream",
     "text": [
      "\r",
      " 43%|████████████████▋                      | 540/1261 [02:23<02:57,  4.06it/s]"
     ]
    },
    {
     "name": "stdout",
     "output_type": "stream",
     "text": [
      "The middle point of image:640\n",
      "Max value at x-300 left part.\n",
      "Max value at x-1014 right part.\n"
     ]
    },
    {
     "name": "stderr",
     "output_type": "stream",
     "text": [
      "\r",
      " 43%|████████████████▋                      | 541/1261 [02:23<02:41,  4.46it/s]"
     ]
    },
    {
     "name": "stdout",
     "output_type": "stream",
     "text": [
      "The middle point of image:640\n",
      "Max value at x-300 left part.\n",
      "Max value at x-1012 right part.\n"
     ]
    },
    {
     "name": "stderr",
     "output_type": "stream",
     "text": [
      "\r",
      " 43%|████████████████▊                      | 542/1261 [02:24<03:30,  3.41it/s]"
     ]
    },
    {
     "name": "stdout",
     "output_type": "stream",
     "text": [
      "The middle point of image:640\n",
      "Max value at x-300 left part.\n",
      "Max value at x-1013 right part.\n"
     ]
    },
    {
     "name": "stderr",
     "output_type": "stream",
     "text": [
      "\r",
      " 43%|████████████████▊                      | 543/1261 [02:24<02:58,  4.02it/s]"
     ]
    },
    {
     "name": "stdout",
     "output_type": "stream",
     "text": [
      "The middle point of image:640\n",
      "Max value at x-302 left part.\n",
      "Max value at x-1012 right part.\n"
     ]
    },
    {
     "name": "stderr",
     "output_type": "stream",
     "text": [
      "\r",
      " 43%|████████████████▊                      | 544/1261 [02:24<02:37,  4.56it/s]"
     ]
    },
    {
     "name": "stdout",
     "output_type": "stream",
     "text": [
      "The middle point of image:640\n",
      "Max value at x-319 left part.\n",
      "Max value at x-1010 right part.\n"
     ]
    },
    {
     "name": "stderr",
     "output_type": "stream",
     "text": [
      "\r",
      " 43%|████████████████▊                      | 545/1261 [02:24<02:55,  4.09it/s]"
     ]
    },
    {
     "name": "stdout",
     "output_type": "stream",
     "text": [
      "The middle point of image:640\n",
      "Max value at x-320 left part.\n",
      "Max value at x-1012 right part.\n"
     ]
    },
    {
     "name": "stderr",
     "output_type": "stream",
     "text": [
      "\r",
      " 43%|████████████████▉                      | 546/1261 [02:25<02:42,  4.39it/s]"
     ]
    },
    {
     "name": "stdout",
     "output_type": "stream",
     "text": [
      "The middle point of image:640\n",
      "Max value at x-319 left part.\n",
      "Max value at x-1012 right part.\n"
     ]
    },
    {
     "name": "stderr",
     "output_type": "stream",
     "text": [
      "\r",
      " 43%|████████████████▉                      | 547/1261 [02:25<03:15,  3.65it/s]"
     ]
    },
    {
     "name": "stdout",
     "output_type": "stream",
     "text": [
      "The middle point of image:640\n",
      "Max value at x-317 left part.\n",
      "Max value at x-1012 right part.\n"
     ]
    },
    {
     "name": "stderr",
     "output_type": "stream",
     "text": [
      "\r",
      " 43%|████████████████▉                      | 548/1261 [02:25<03:25,  3.47it/s]"
     ]
    },
    {
     "name": "stdout",
     "output_type": "stream",
     "text": [
      "The middle point of image:640\n",
      "Max value at x-317 left part.\n",
      "Max value at x-999 right part.\n"
     ]
    },
    {
     "name": "stderr",
     "output_type": "stream",
     "text": [
      "\r",
      " 44%|████████████████▉                      | 549/1261 [02:26<04:14,  2.80it/s]"
     ]
    },
    {
     "name": "stdout",
     "output_type": "stream",
     "text": [
      "The middle point of image:640\n",
      "Max value at x-298 left part.\n",
      "Max value at x-1009 right part.\n"
     ]
    },
    {
     "name": "stderr",
     "output_type": "stream",
     "text": [
      "\r",
      " 44%|█████████████████                      | 550/1261 [02:26<04:48,  2.46it/s]"
     ]
    },
    {
     "name": "stdout",
     "output_type": "stream",
     "text": [
      "The middle point of image:640\n",
      "Max value at x-297 left part.\n",
      "Max value at x-1011 right part.\n"
     ]
    },
    {
     "name": "stderr",
     "output_type": "stream",
     "text": [
      "\r",
      " 44%|█████████████████                      | 551/1261 [02:27<05:00,  2.36it/s]"
     ]
    },
    {
     "name": "stdout",
     "output_type": "stream",
     "text": [
      "The middle point of image:640\n",
      "Max value at x-302 left part.\n",
      "Max value at x-1016 right part.\n"
     ]
    },
    {
     "name": "stderr",
     "output_type": "stream",
     "text": [
      "\r",
      " 44%|█████████████████                      | 552/1261 [02:27<05:52,  2.01it/s]"
     ]
    },
    {
     "name": "stdout",
     "output_type": "stream",
     "text": [
      "The middle point of image:640\n",
      "Max value at x-303 left part.\n",
      "Max value at x-1021 right part.\n"
     ]
    },
    {
     "name": "stderr",
     "output_type": "stream",
     "text": [
      "\r",
      " 44%|█████████████████                      | 553/1261 [02:28<05:11,  2.27it/s]"
     ]
    },
    {
     "name": "stdout",
     "output_type": "stream",
     "text": [
      "The middle point of image:640\n",
      "Max value at x-298 left part.\n",
      "Max value at x-1023 right part.\n"
     ]
    },
    {
     "name": "stderr",
     "output_type": "stream",
     "text": [
      "\r",
      " 44%|█████████████████▏                     | 554/1261 [02:28<04:08,  2.85it/s]"
     ]
    },
    {
     "name": "stdout",
     "output_type": "stream",
     "text": [
      "The middle point of image:640\n",
      "Max value at x-303 left part.\n",
      "Max value at x-1022 right part.\n"
     ]
    },
    {
     "name": "stderr",
     "output_type": "stream",
     "text": [
      "\r",
      " 44%|█████████████████▏                     | 555/1261 [02:28<03:21,  3.50it/s]"
     ]
    },
    {
     "name": "stdout",
     "output_type": "stream",
     "text": [
      "The middle point of image:640\n",
      "Max value at x-308 left part.\n",
      "Max value at x-1008 right part.\n"
     ]
    },
    {
     "name": "stderr",
     "output_type": "stream",
     "text": [
      "\r",
      " 44%|█████████████████▏                     | 556/1261 [02:28<03:12,  3.66it/s]"
     ]
    },
    {
     "name": "stdout",
     "output_type": "stream",
     "text": [
      "The middle point of image:640\n",
      "Max value at x-308 left part.\n",
      "Max value at x-1011 right part.\n"
     ]
    },
    {
     "name": "stderr",
     "output_type": "stream",
     "text": [
      "\r",
      " 44%|█████████████████▏                     | 557/1261 [02:28<02:51,  4.11it/s]"
     ]
    },
    {
     "name": "stdout",
     "output_type": "stream",
     "text": [
      "The middle point of image:640\n",
      "Max value at x-305 left part.\n",
      "Max value at x-1013 right part.\n"
     ]
    },
    {
     "name": "stderr",
     "output_type": "stream",
     "text": [
      "\r",
      " 44%|█████████████████▎                     | 558/1261 [02:29<04:20,  2.70it/s]"
     ]
    },
    {
     "name": "stdout",
     "output_type": "stream",
     "text": [
      "The middle point of image:640\n",
      "Max value at x-290 left part.\n",
      "Max value at x-1028 right part.\n"
     ]
    },
    {
     "name": "stderr",
     "output_type": "stream",
     "text": [
      "\r",
      " 44%|█████████████████▎                     | 559/1261 [02:30<04:47,  2.45it/s]"
     ]
    },
    {
     "name": "stdout",
     "output_type": "stream",
     "text": [
      "The middle point of image:640\n",
      "Max value at x-276 left part.\n",
      "Max value at x-1049 right part.\n"
     ]
    },
    {
     "name": "stderr",
     "output_type": "stream",
     "text": [
      "\r",
      " 44%|█████████████████▎                     | 560/1261 [02:30<03:51,  3.03it/s]"
     ]
    },
    {
     "name": "stdout",
     "output_type": "stream",
     "text": [
      "The middle point of image:640\n",
      "Max value at x-271 left part.\n",
      "Max value at x-1043 right part.\n"
     ]
    },
    {
     "name": "stderr",
     "output_type": "stream",
     "text": [
      "\r",
      " 44%|█████████████████▎                     | 561/1261 [02:30<04:16,  2.73it/s]"
     ]
    },
    {
     "name": "stdout",
     "output_type": "stream",
     "text": [
      "The middle point of image:640\n",
      "Max value at x-265 left part.\n",
      "Max value at x-1057 right part.\n"
     ]
    },
    {
     "name": "stderr",
     "output_type": "stream",
     "text": [
      "\r",
      " 45%|█████████████████▍                     | 562/1261 [02:31<04:22,  2.67it/s]"
     ]
    },
    {
     "name": "stdout",
     "output_type": "stream",
     "text": [
      "The middle point of image:640\n",
      "Max value at x-274 left part.\n",
      "Max value at x-1050 right part.\n"
     ]
    },
    {
     "name": "stderr",
     "output_type": "stream",
     "text": [
      "\r",
      " 45%|█████████████████▍                     | 563/1261 [02:31<04:23,  2.64it/s]"
     ]
    },
    {
     "name": "stdout",
     "output_type": "stream",
     "text": [
      "The middle point of image:640\n",
      "Max value at x-286 left part.\n",
      "Max value at x-1039 right part.\n"
     ]
    },
    {
     "name": "stderr",
     "output_type": "stream",
     "text": [
      "\r",
      " 45%|█████████████████▍                     | 564/1261 [02:31<04:21,  2.66it/s]"
     ]
    },
    {
     "name": "stdout",
     "output_type": "stream",
     "text": [
      "The middle point of image:640\n",
      "Max value at x-296 left part.\n",
      "Max value at x-1031 right part.\n"
     ]
    },
    {
     "name": "stderr",
     "output_type": "stream",
     "text": [
      "\r",
      " 45%|█████████████████▍                     | 565/1261 [02:32<04:23,  2.64it/s]"
     ]
    },
    {
     "name": "stdout",
     "output_type": "stream",
     "text": [
      "The middle point of image:640\n",
      "Max value at x-303 left part.\n",
      "Max value at x-1023 right part.\n"
     ]
    },
    {
     "name": "stderr",
     "output_type": "stream",
     "text": [
      "\r",
      " 45%|█████████████████▌                     | 566/1261 [02:32<04:25,  2.61it/s]"
     ]
    },
    {
     "name": "stdout",
     "output_type": "stream",
     "text": [
      "The middle point of image:640\n",
      "Max value at x-305 left part.\n",
      "Max value at x-1016 right part.\n"
     ]
    },
    {
     "name": "stderr",
     "output_type": "stream",
     "text": [
      "\r",
      " 45%|█████████████████▌                     | 567/1261 [02:32<04:30,  2.56it/s]"
     ]
    },
    {
     "name": "stdout",
     "output_type": "stream",
     "text": [
      "The middle point of image:640\n",
      "Max value at x-310 left part.\n",
      "Max value at x-1017 right part.\n"
     ]
    },
    {
     "name": "stderr",
     "output_type": "stream",
     "text": [
      "\r",
      " 45%|█████████████████▌                     | 568/1261 [02:33<04:31,  2.56it/s]"
     ]
    },
    {
     "name": "stdout",
     "output_type": "stream",
     "text": [
      "The middle point of image:640\n",
      "Max value at x-306 left part.\n",
      "Max value at x-1028 right part.\n"
     ]
    },
    {
     "name": "stderr",
     "output_type": "stream",
     "text": [
      "\r",
      " 45%|█████████████████▌                     | 569/1261 [02:33<04:31,  2.55it/s]"
     ]
    },
    {
     "name": "stdout",
     "output_type": "stream",
     "text": [
      "The middle point of image:640\n",
      "Max value at x-305 left part.\n",
      "Max value at x-1030 right part.\n"
     ]
    },
    {
     "name": "stderr",
     "output_type": "stream",
     "text": [
      "\r",
      " 45%|█████████████████▋                     | 570/1261 [02:34<04:32,  2.54it/s]"
     ]
    },
    {
     "name": "stdout",
     "output_type": "stream",
     "text": [
      "The middle point of image:640\n",
      "Max value at x-300 left part.\n",
      "Max value at x-1035 right part.\n"
     ]
    },
    {
     "name": "stderr",
     "output_type": "stream",
     "text": [
      "\r",
      " 45%|█████████████████▋                     | 571/1261 [02:34<04:29,  2.56it/s]"
     ]
    },
    {
     "name": "stdout",
     "output_type": "stream",
     "text": [
      "The middle point of image:640\n",
      "Max value at x-303 left part.\n",
      "Max value at x-1034 right part.\n"
     ]
    },
    {
     "name": "stderr",
     "output_type": "stream",
     "text": [
      "\r",
      " 45%|█████████████████▋                     | 572/1261 [02:34<04:31,  2.53it/s]"
     ]
    },
    {
     "name": "stdout",
     "output_type": "stream",
     "text": [
      "The middle point of image:640\n",
      "Max value at x-297 left part.\n",
      "Max value at x-1035 right part.\n"
     ]
    },
    {
     "name": "stderr",
     "output_type": "stream",
     "text": [
      "\r",
      " 45%|█████████████████▋                     | 573/1261 [02:35<04:28,  2.56it/s]"
     ]
    },
    {
     "name": "stdout",
     "output_type": "stream",
     "text": [
      "The middle point of image:640\n",
      "Max value at x-299 left part.\n",
      "Max value at x-1037 right part.\n"
     ]
    },
    {
     "name": "stderr",
     "output_type": "stream",
     "text": [
      "\r",
      " 46%|█████████████████▊                     | 574/1261 [02:35<04:27,  2.56it/s]"
     ]
    },
    {
     "name": "stdout",
     "output_type": "stream",
     "text": [
      "The middle point of image:640\n",
      "Max value at x-300 left part.\n",
      "Max value at x-1036 right part.\n"
     ]
    },
    {
     "name": "stderr",
     "output_type": "stream",
     "text": [
      "\r",
      " 46%|█████████████████▊                     | 575/1261 [02:36<04:32,  2.52it/s]"
     ]
    },
    {
     "name": "stdout",
     "output_type": "stream",
     "text": [
      "The middle point of image:640\n",
      "Max value at x-302 left part.\n",
      "Max value at x-1046 right part.\n"
     ]
    },
    {
     "name": "stderr",
     "output_type": "stream",
     "text": [
      "\r",
      " 46%|█████████████████▊                     | 576/1261 [02:36<04:32,  2.52it/s]"
     ]
    },
    {
     "name": "stdout",
     "output_type": "stream",
     "text": [
      "The middle point of image:640\n",
      "Max value at x-304 left part.\n",
      "Max value at x-1016 right part.\n"
     ]
    },
    {
     "name": "stderr",
     "output_type": "stream",
     "text": [
      "\r",
      " 46%|█████████████████▊                     | 577/1261 [02:36<04:28,  2.55it/s]"
     ]
    },
    {
     "name": "stdout",
     "output_type": "stream",
     "text": [
      "The middle point of image:640\n",
      "Max value at x-309 left part.\n",
      "Max value at x-1013 right part.\n"
     ]
    },
    {
     "name": "stderr",
     "output_type": "stream",
     "text": [
      "\r",
      " 46%|█████████████████▉                     | 578/1261 [02:37<04:36,  2.47it/s]"
     ]
    },
    {
     "name": "stdout",
     "output_type": "stream",
     "text": [
      "The middle point of image:640\n",
      "Max value at x-310 left part.\n",
      "Max value at x-1011 right part.\n"
     ]
    },
    {
     "name": "stderr",
     "output_type": "stream",
     "text": [
      "\r",
      " 46%|█████████████████▉                     | 579/1261 [02:37<04:40,  2.43it/s]"
     ]
    },
    {
     "name": "stdout",
     "output_type": "stream",
     "text": [
      "The middle point of image:640\n",
      "Max value at x-309 left part.\n",
      "Max value at x-1012 right part.\n"
     ]
    },
    {
     "name": "stderr",
     "output_type": "stream",
     "text": [
      "\r",
      " 46%|█████████████████▉                     | 580/1261 [02:38<04:35,  2.47it/s]"
     ]
    },
    {
     "name": "stdout",
     "output_type": "stream",
     "text": [
      "The middle point of image:640\n",
      "Max value at x-310 left part.\n",
      "Max value at x-1014 right part.\n"
     ]
    },
    {
     "name": "stderr",
     "output_type": "stream",
     "text": [
      "\r",
      " 46%|█████████████████▉                     | 581/1261 [02:38<04:38,  2.45it/s]"
     ]
    },
    {
     "name": "stdout",
     "output_type": "stream",
     "text": [
      "The middle point of image:640\n",
      "Max value at x-308 left part.\n",
      "Max value at x-1014 right part.\n"
     ]
    },
    {
     "name": "stderr",
     "output_type": "stream",
     "text": [
      "\r",
      " 46%|██████████████████                     | 582/1261 [02:38<04:35,  2.47it/s]"
     ]
    },
    {
     "name": "stdout",
     "output_type": "stream",
     "text": [
      "The middle point of image:640\n",
      "Max value at x-308 left part.\n",
      "Max value at x-1012 right part.\n"
     ]
    },
    {
     "name": "stderr",
     "output_type": "stream",
     "text": [
      "\r",
      " 46%|██████████████████                     | 583/1261 [02:39<04:35,  2.46it/s]"
     ]
    },
    {
     "name": "stdout",
     "output_type": "stream",
     "text": [
      "The middle point of image:640\n",
      "Max value at x-310 left part.\n",
      "Max value at x-1009 right part.\n"
     ]
    },
    {
     "name": "stderr",
     "output_type": "stream",
     "text": [
      "\r",
      " 46%|██████████████████                     | 584/1261 [02:39<04:40,  2.41it/s]"
     ]
    },
    {
     "name": "stdout",
     "output_type": "stream",
     "text": [
      "The middle point of image:640\n",
      "Max value at x-305 left part.\n",
      "Max value at x-1016 right part.\n"
     ]
    },
    {
     "name": "stderr",
     "output_type": "stream",
     "text": [
      "\r",
      " 46%|██████████████████                     | 585/1261 [02:40<04:38,  2.43it/s]"
     ]
    },
    {
     "name": "stdout",
     "output_type": "stream",
     "text": [
      "The middle point of image:640\n",
      "Max value at x-307 left part.\n",
      "Max value at x-1012 right part.\n"
     ]
    },
    {
     "name": "stderr",
     "output_type": "stream",
     "text": [
      "\r",
      " 46%|██████████████████                     | 586/1261 [02:40<04:40,  2.40it/s]"
     ]
    },
    {
     "name": "stdout",
     "output_type": "stream",
     "text": [
      "The middle point of image:640\n",
      "Max value at x-306 left part.\n",
      "Max value at x-1012 right part.\n"
     ]
    },
    {
     "name": "stderr",
     "output_type": "stream",
     "text": [
      "\r",
      " 47%|██████████████████▏                    | 587/1261 [02:40<03:47,  2.96it/s]"
     ]
    },
    {
     "name": "stdout",
     "output_type": "stream",
     "text": [
      "The middle point of image:640\n",
      "Max value at x-2 left part.\n",
      "Max value at x-1013 right part.\n"
     ]
    },
    {
     "name": "stderr",
     "output_type": "stream",
     "text": [
      "\r",
      " 47%|██████████████████▏                    | 588/1261 [02:40<03:08,  3.58it/s]"
     ]
    },
    {
     "name": "stdout",
     "output_type": "stream",
     "text": [
      "The middle point of image:640\n",
      "Max value at x-1 left part.\n",
      "Max value at x-1018 right part.\n"
     ]
    },
    {
     "name": "stderr",
     "output_type": "stream",
     "text": [
      "\r",
      " 47%|██████████████████▏                    | 589/1261 [02:41<03:47,  2.95it/s]"
     ]
    },
    {
     "name": "stdout",
     "output_type": "stream",
     "text": [
      "The middle point of image:640\n",
      "Max value at x-303 left part.\n",
      "Max value at x-1025 right part.\n"
     ]
    },
    {
     "name": "stderr",
     "output_type": "stream",
     "text": [
      "\r",
      " 47%|██████████████████▏                    | 590/1261 [02:41<04:05,  2.73it/s]"
     ]
    },
    {
     "name": "stdout",
     "output_type": "stream",
     "text": [
      "The middle point of image:640\n",
      "Max value at x-298 left part.\n",
      "Max value at x-1025 right part.\n"
     ]
    },
    {
     "name": "stderr",
     "output_type": "stream",
     "text": [
      "\r",
      " 47%|██████████████████▎                    | 591/1261 [02:42<04:13,  2.64it/s]"
     ]
    },
    {
     "name": "stdout",
     "output_type": "stream",
     "text": [
      "The middle point of image:640\n",
      "Max value at x-298 left part.\n",
      "Max value at x-1025 right part.\n"
     ]
    },
    {
     "name": "stderr",
     "output_type": "stream",
     "text": [
      "\r",
      " 47%|██████████████████▎                    | 592/1261 [02:42<04:00,  2.78it/s]"
     ]
    },
    {
     "name": "stdout",
     "output_type": "stream",
     "text": [
      "The middle point of image:640\n",
      "Max value at x-294 left part.\n",
      "Max value at x-1001 right part.\n"
     ]
    },
    {
     "name": "stderr",
     "output_type": "stream",
     "text": [
      "\r",
      " 47%|██████████████████▎                    | 593/1261 [02:43<04:15,  2.62it/s]"
     ]
    },
    {
     "name": "stdout",
     "output_type": "stream",
     "text": [
      "The middle point of image:640\n",
      "Max value at x-291 left part.\n",
      "Max value at x-1002 right part.\n"
     ]
    },
    {
     "name": "stderr",
     "output_type": "stream",
     "text": [
      "\r",
      " 47%|██████████████████▎                    | 594/1261 [02:43<04:20,  2.56it/s]"
     ]
    },
    {
     "name": "stdout",
     "output_type": "stream",
     "text": [
      "The middle point of image:640\n",
      "Max value at x-291 left part.\n",
      "Max value at x-1022 right part.\n"
     ]
    },
    {
     "name": "stderr",
     "output_type": "stream",
     "text": [
      "\r",
      " 47%|██████████████████▍                    | 595/1261 [02:44<05:30,  2.02it/s]"
     ]
    },
    {
     "name": "stdout",
     "output_type": "stream",
     "text": [
      "The middle point of image:640\n",
      "Max value at x-288 left part.\n",
      "Max value at x-1025 right part.\n"
     ]
    },
    {
     "name": "stderr",
     "output_type": "stream",
     "text": [
      "\r",
      " 47%|██████████████████▍                    | 596/1261 [02:44<04:26,  2.49it/s]"
     ]
    },
    {
     "name": "stdout",
     "output_type": "stream",
     "text": [
      "The middle point of image:640\n",
      "Max value at x-285 left part.\n",
      "Max value at x-1031 right part.\n"
     ]
    },
    {
     "name": "stderr",
     "output_type": "stream",
     "text": [
      "\r",
      " 47%|██████████████████▍                    | 597/1261 [02:44<03:35,  3.07it/s]"
     ]
    },
    {
     "name": "stdout",
     "output_type": "stream",
     "text": [
      "The middle point of image:640\n",
      "Max value at x-283 left part.\n",
      "Max value at x-1031 right part.\n"
     ]
    },
    {
     "name": "stderr",
     "output_type": "stream",
     "text": [
      "\r",
      " 47%|██████████████████▍                    | 598/1261 [02:45<04:46,  2.31it/s]"
     ]
    },
    {
     "name": "stdout",
     "output_type": "stream",
     "text": [
      "The middle point of image:640\n",
      "Max value at x-281 left part.\n",
      "Max value at x-1031 right part.\n"
     ]
    },
    {
     "name": "stderr",
     "output_type": "stream",
     "text": [
      "\r",
      " 48%|██████████████████▌                    | 599/1261 [02:45<04:05,  2.69it/s]"
     ]
    },
    {
     "name": "stdout",
     "output_type": "stream",
     "text": [
      "The middle point of image:640\n",
      "Max value at x-281 left part.\n",
      "Max value at x-1029 right part.\n"
     ]
    },
    {
     "name": "stderr",
     "output_type": "stream",
     "text": [
      "\r",
      " 48%|██████████████████▌                    | 600/1261 [02:45<03:18,  3.34it/s]"
     ]
    },
    {
     "name": "stdout",
     "output_type": "stream",
     "text": [
      "The middle point of image:640\n",
      "Max value at x-273 left part.\n",
      "Max value at x-1038 right part.\n"
     ]
    },
    {
     "name": "stderr",
     "output_type": "stream",
     "text": [
      "\r",
      " 48%|██████████████████▌                    | 601/1261 [02:46<03:57,  2.78it/s]"
     ]
    },
    {
     "name": "stdout",
     "output_type": "stream",
     "text": [
      "The middle point of image:640\n",
      "Max value at x-272 left part.\n",
      "Max value at x-1021 right part.\n"
     ]
    },
    {
     "name": "stderr",
     "output_type": "stream",
     "text": [
      "\r",
      " 48%|██████████████████▌                    | 602/1261 [02:46<04:19,  2.54it/s]"
     ]
    },
    {
     "name": "stdout",
     "output_type": "stream",
     "text": [
      "The middle point of image:640\n",
      "Max value at x-272 left part.\n",
      "Max value at x-1021 right part.\n"
     ]
    },
    {
     "name": "stderr",
     "output_type": "stream",
     "text": [
      "\r",
      " 48%|██████████████████▋                    | 603/1261 [02:46<03:56,  2.78it/s]"
     ]
    },
    {
     "name": "stdout",
     "output_type": "stream",
     "text": [
      "The middle point of image:640\n",
      "Max value at x-271 left part.\n",
      "Max value at x-1019 right part.\n"
     ]
    },
    {
     "name": "stderr",
     "output_type": "stream",
     "text": [
      "\r",
      " 48%|██████████████████▋                    | 604/1261 [02:47<03:40,  2.99it/s]"
     ]
    },
    {
     "name": "stdout",
     "output_type": "stream",
     "text": [
      "The middle point of image:640\n",
      "Max value at x-275 left part.\n",
      "Max value at x-1029 right part.\n"
     ]
    },
    {
     "name": "stderr",
     "output_type": "stream",
     "text": [
      "\r",
      " 48%|██████████████████▋                    | 605/1261 [02:47<03:04,  3.56it/s]"
     ]
    },
    {
     "name": "stdout",
     "output_type": "stream",
     "text": [
      "The middle point of image:640\n",
      "Max value at x-278 left part.\n",
      "Max value at x-1022 right part.\n"
     ]
    },
    {
     "name": "stderr",
     "output_type": "stream",
     "text": [
      "\r",
      " 48%|██████████████████▋                    | 606/1261 [02:47<02:40,  4.08it/s]"
     ]
    },
    {
     "name": "stdout",
     "output_type": "stream",
     "text": [
      "The middle point of image:640\n",
      "Max value at x-279 left part.\n",
      "Max value at x-1017 right part.\n"
     ]
    },
    {
     "name": "stderr",
     "output_type": "stream",
     "text": [
      "\r",
      " 48%|██████████████████▊                    | 607/1261 [02:47<03:39,  2.98it/s]"
     ]
    },
    {
     "name": "stdout",
     "output_type": "stream",
     "text": [
      "The middle point of image:640\n",
      "Max value at x-275 left part.\n",
      "Max value at x-1016 right part.\n"
     ]
    },
    {
     "name": "stderr",
     "output_type": "stream",
     "text": [
      "\r",
      " 48%|██████████████████▊                    | 608/1261 [02:48<04:33,  2.39it/s]"
     ]
    },
    {
     "name": "stdout",
     "output_type": "stream",
     "text": [
      "The middle point of image:640\n",
      "Max value at x-273 left part.\n",
      "Max value at x-1018 right part.\n"
     ]
    },
    {
     "name": "stderr",
     "output_type": "stream",
     "text": [
      "\r",
      " 48%|██████████████████▊                    | 609/1261 [02:49<04:54,  2.21it/s]"
     ]
    },
    {
     "name": "stdout",
     "output_type": "stream",
     "text": [
      "The middle point of image:640\n",
      "Max value at x-272 left part.\n",
      "Max value at x-1014 right part.\n"
     ]
    },
    {
     "name": "stderr",
     "output_type": "stream",
     "text": [
      "\r",
      " 48%|██████████████████▊                    | 610/1261 [02:49<04:57,  2.18it/s]"
     ]
    },
    {
     "name": "stdout",
     "output_type": "stream",
     "text": [
      "The middle point of image:640\n",
      "Max value at x-270 left part.\n",
      "Max value at x-1014 right part.\n"
     ]
    },
    {
     "name": "stderr",
     "output_type": "stream",
     "text": [
      "\r",
      " 48%|██████████████████▉                    | 611/1261 [02:49<03:58,  2.73it/s]"
     ]
    },
    {
     "name": "stdout",
     "output_type": "stream",
     "text": [
      "The middle point of image:640\n",
      "Max value at x-274 left part.\n",
      "Max value at x-666 right part.\n"
     ]
    },
    {
     "name": "stderr",
     "output_type": "stream",
     "text": [
      "\r",
      " 49%|██████████████████▉                    | 612/1261 [02:49<03:15,  3.31it/s]"
     ]
    },
    {
     "name": "stdout",
     "output_type": "stream",
     "text": [
      "The middle point of image:640\n",
      "Max value at x-264 left part.\n",
      "Max value at x-980 right part.\n"
     ]
    },
    {
     "name": "stderr",
     "output_type": "stream",
     "text": [
      "\r",
      " 49%|██████████████████▉                    | 613/1261 [02:50<03:30,  3.08it/s]"
     ]
    },
    {
     "name": "stdout",
     "output_type": "stream",
     "text": [
      "The middle point of image:640\n",
      "Max value at x-264 left part.\n",
      "Max value at x-977 right part.\n"
     ]
    },
    {
     "name": "stderr",
     "output_type": "stream",
     "text": [
      "\r",
      " 49%|██████████████████▉                    | 614/1261 [02:50<03:54,  2.76it/s]"
     ]
    },
    {
     "name": "stdout",
     "output_type": "stream",
     "text": [
      "The middle point of image:640\n",
      "Max value at x-269 left part.\n",
      "Max value at x-1006 right part.\n"
     ]
    },
    {
     "name": "stderr",
     "output_type": "stream",
     "text": [
      "\r",
      " 49%|███████████████████                    | 615/1261 [02:50<03:11,  3.38it/s]"
     ]
    },
    {
     "name": "stdout",
     "output_type": "stream",
     "text": [
      "The middle point of image:640\n",
      "Max value at x-270 left part.\n",
      "Max value at x-1004 right part.\n"
     ]
    },
    {
     "name": "stderr",
     "output_type": "stream",
     "text": [
      "\r",
      " 49%|███████████████████                    | 616/1261 [02:50<02:39,  4.05it/s]"
     ]
    },
    {
     "name": "stdout",
     "output_type": "stream",
     "text": [
      "The middle point of image:640\n",
      "Max value at x-271 left part.\n",
      "Max value at x-997 right part.\n"
     ]
    },
    {
     "name": "stderr",
     "output_type": "stream",
     "text": [
      "\r",
      " 49%|███████████████████                    | 617/1261 [02:51<02:49,  3.80it/s]"
     ]
    },
    {
     "name": "stdout",
     "output_type": "stream",
     "text": [
      "The middle point of image:640\n",
      "Max value at x-278 left part.\n",
      "Max value at x-997 right part.\n"
     ]
    },
    {
     "name": "stderr",
     "output_type": "stream",
     "text": [
      "\r",
      " 49%|███████████████████                    | 618/1261 [02:51<02:27,  4.36it/s]"
     ]
    },
    {
     "name": "stdout",
     "output_type": "stream",
     "text": [
      "The middle point of image:640\n",
      "Max value at x-281 left part.\n",
      "Max value at x-995 right part.\n"
     ]
    },
    {
     "name": "stderr",
     "output_type": "stream",
     "text": [
      "\r",
      " 49%|███████████████████▏                   | 619/1261 [02:51<03:24,  3.14it/s]"
     ]
    },
    {
     "name": "stdout",
     "output_type": "stream",
     "text": [
      "The middle point of image:640\n",
      "Max value at x-279 left part.\n",
      "Max value at x-997 right part.\n"
     ]
    },
    {
     "name": "stderr",
     "output_type": "stream",
     "text": [
      "\r",
      " 49%|███████████████████▏                   | 620/1261 [02:52<05:05,  2.10it/s]"
     ]
    },
    {
     "name": "stdout",
     "output_type": "stream",
     "text": [
      "The middle point of image:640\n",
      "Max value at x-277 left part.\n",
      "Max value at x-990 right part.\n"
     ]
    },
    {
     "name": "stderr",
     "output_type": "stream",
     "text": [
      "\r",
      " 49%|███████████████████▏                   | 621/1261 [02:52<04:06,  2.59it/s]"
     ]
    },
    {
     "name": "stdout",
     "output_type": "stream",
     "text": [
      "The middle point of image:640\n",
      "Max value at x-276 left part.\n",
      "Max value at x-995 right part.\n"
     ]
    },
    {
     "name": "stderr",
     "output_type": "stream",
     "text": [
      "\r",
      " 49%|███████████████████▏                   | 622/1261 [02:53<04:31,  2.36it/s]"
     ]
    },
    {
     "name": "stdout",
     "output_type": "stream",
     "text": [
      "The middle point of image:640\n",
      "Max value at x-275 left part.\n",
      "Max value at x-997 right part.\n"
     ]
    },
    {
     "name": "stderr",
     "output_type": "stream",
     "text": [
      "\r",
      " 49%|███████████████████▎                   | 623/1261 [02:53<04:38,  2.29it/s]"
     ]
    },
    {
     "name": "stdout",
     "output_type": "stream",
     "text": [
      "The middle point of image:640\n",
      "Max value at x-276 left part.\n",
      "Max value at x-997 right part.\n"
     ]
    },
    {
     "name": "stderr",
     "output_type": "stream",
     "text": [
      "\r",
      " 49%|███████████████████▎                   | 624/1261 [02:54<03:45,  2.83it/s]"
     ]
    },
    {
     "name": "stdout",
     "output_type": "stream",
     "text": [
      "The middle point of image:640\n",
      "Max value at x-297 left part.\n",
      "Max value at x-995 right part.\n"
     ]
    },
    {
     "name": "stderr",
     "output_type": "stream",
     "text": [
      "\r",
      " 50%|███████████████████▎                   | 625/1261 [02:54<03:03,  3.47it/s]"
     ]
    },
    {
     "name": "stdout",
     "output_type": "stream",
     "text": [
      "The middle point of image:640\n",
      "Max value at x-298 left part.\n",
      "Max value at x-1002 right part.\n"
     ]
    },
    {
     "name": "stderr",
     "output_type": "stream",
     "text": [
      "\r",
      " 50%|███████████████████▎                   | 626/1261 [02:54<03:02,  3.48it/s]"
     ]
    },
    {
     "name": "stdout",
     "output_type": "stream",
     "text": [
      "The middle point of image:640\n",
      "Max value at x-300 left part.\n",
      "Max value at x-1028 right part.\n"
     ]
    },
    {
     "name": "stderr",
     "output_type": "stream",
     "text": [
      "\r",
      " 50%|███████████████████▍                   | 627/1261 [02:54<03:02,  3.46it/s]"
     ]
    },
    {
     "name": "stdout",
     "output_type": "stream",
     "text": [
      "The middle point of image:640\n",
      "Max value at x-299 left part.\n",
      "Max value at x-994 right part.\n"
     ]
    },
    {
     "name": "stderr",
     "output_type": "stream",
     "text": [
      "\r",
      " 50%|███████████████████▍                   | 628/1261 [02:54<02:42,  3.90it/s]"
     ]
    },
    {
     "name": "stdout",
     "output_type": "stream",
     "text": [
      "The middle point of image:640\n",
      "Max value at x-299 left part.\n",
      "Max value at x-1026 right part.\n"
     ]
    },
    {
     "name": "stderr",
     "output_type": "stream",
     "text": [
      "\r",
      " 50%|███████████████████▍                   | 629/1261 [02:55<03:25,  3.07it/s]"
     ]
    },
    {
     "name": "stdout",
     "output_type": "stream",
     "text": [
      "The middle point of image:640\n",
      "Max value at x-292 left part.\n",
      "Max value at x-1040 right part.\n"
     ]
    },
    {
     "name": "stderr",
     "output_type": "stream",
     "text": [
      "\r",
      " 50%|███████████████████▍                   | 630/1261 [02:55<02:52,  3.65it/s]"
     ]
    },
    {
     "name": "stdout",
     "output_type": "stream",
     "text": [
      "The middle point of image:640\n",
      "Max value at x-289 left part.\n",
      "Max value at x-1046 right part.\n"
     ]
    },
    {
     "name": "stderr",
     "output_type": "stream",
     "text": [
      "\r",
      " 50%|███████████████████▌                   | 631/1261 [02:55<02:32,  4.14it/s]"
     ]
    },
    {
     "name": "stdout",
     "output_type": "stream",
     "text": [
      "The middle point of image:640\n",
      "Max value at x-286 left part.\n",
      "Max value at x-1053 right part.\n"
     ]
    },
    {
     "name": "stderr",
     "output_type": "stream",
     "text": [
      "\r",
      " 50%|███████████████████▌                   | 632/1261 [02:56<02:46,  3.77it/s]"
     ]
    },
    {
     "name": "stdout",
     "output_type": "stream",
     "text": [
      "The middle point of image:640\n",
      "Max value at x-283 left part.\n",
      "Max value at x-1045 right part.\n"
     ]
    },
    {
     "name": "stderr",
     "output_type": "stream",
     "text": [
      "\r",
      " 50%|███████████████████▌                   | 633/1261 [02:56<02:25,  4.30it/s]"
     ]
    },
    {
     "name": "stdout",
     "output_type": "stream",
     "text": [
      "The middle point of image:640\n",
      "Max value at x-284 left part.\n",
      "Max value at x-1032 right part.\n"
     ]
    },
    {
     "name": "stderr",
     "output_type": "stream",
     "text": [
      "\r",
      " 50%|███████████████████▌                   | 634/1261 [02:56<02:58,  3.51it/s]"
     ]
    },
    {
     "name": "stdout",
     "output_type": "stream",
     "text": [
      "The middle point of image:640\n",
      "Max value at x-296 left part.\n",
      "Max value at x-1019 right part.\n"
     ]
    },
    {
     "name": "stderr",
     "output_type": "stream",
     "text": [
      "\r",
      " 50%|███████████████████▋                   | 635/1261 [02:56<02:41,  3.87it/s]"
     ]
    },
    {
     "name": "stdout",
     "output_type": "stream",
     "text": [
      "The middle point of image:640\n",
      "Max value at x-305 left part.\n",
      "Max value at x-1010 right part.\n"
     ]
    },
    {
     "name": "stderr",
     "output_type": "stream",
     "text": [
      "\r",
      " 50%|███████████████████▋                   | 636/1261 [02:57<02:18,  4.52it/s]"
     ]
    },
    {
     "name": "stdout",
     "output_type": "stream",
     "text": [
      "The middle point of image:640\n",
      "Max value at x-312 left part.\n",
      "Max value at x-1001 right part.\n"
     ]
    },
    {
     "name": "stderr",
     "output_type": "stream",
     "text": [
      "\r",
      " 51%|███████████████████▋                   | 637/1261 [02:57<02:01,  5.13it/s]"
     ]
    },
    {
     "name": "stdout",
     "output_type": "stream",
     "text": [
      "The middle point of image:640\n",
      "Max value at x-307 left part.\n",
      "Max value at x-1002 right part.\n"
     ]
    },
    {
     "name": "stderr",
     "output_type": "stream",
     "text": [
      "\r",
      " 51%|███████████████████▋                   | 638/1261 [02:57<02:24,  4.30it/s]"
     ]
    },
    {
     "name": "stdout",
     "output_type": "stream",
     "text": [
      "The middle point of image:640\n",
      "Max value at x-310 left part.\n",
      "Max value at x-1007 right part.\n"
     ]
    },
    {
     "name": "stderr",
     "output_type": "stream",
     "text": [
      "\r",
      " 51%|███████████████████▊                   | 639/1261 [02:57<02:17,  4.53it/s]"
     ]
    },
    {
     "name": "stdout",
     "output_type": "stream",
     "text": [
      "The middle point of image:640\n",
      "Max value at x-331 left part.\n",
      "Max value at x-1019 right part.\n"
     ]
    },
    {
     "name": "stderr",
     "output_type": "stream",
     "text": [
      "\r",
      " 51%|███████████████████▊                   | 640/1261 [02:57<02:21,  4.38it/s]"
     ]
    },
    {
     "name": "stdout",
     "output_type": "stream",
     "text": [
      "The middle point of image:640\n",
      "Max value at x-317 left part.\n",
      "Max value at x-1033 right part.\n"
     ]
    },
    {
     "name": "stderr",
     "output_type": "stream",
     "text": [
      "\r",
      " 51%|███████████████████▊                   | 641/1261 [02:58<03:21,  3.07it/s]"
     ]
    },
    {
     "name": "stdout",
     "output_type": "stream",
     "text": [
      "The middle point of image:640\n",
      "Max value at x-320 left part.\n",
      "Max value at x-1044 right part.\n"
     ]
    },
    {
     "name": "stderr",
     "output_type": "stream",
     "text": [
      "\r",
      " 51%|███████████████████▊                   | 642/1261 [02:58<02:52,  3.59it/s]"
     ]
    },
    {
     "name": "stdout",
     "output_type": "stream",
     "text": [
      "The middle point of image:640\n",
      "Max value at x-328 left part.\n",
      "Max value at x-1039 right part.\n"
     ]
    },
    {
     "name": "stderr",
     "output_type": "stream",
     "text": [
      "\r",
      " 51%|███████████████████▉                   | 643/1261 [02:58<02:26,  4.23it/s]"
     ]
    },
    {
     "name": "stdout",
     "output_type": "stream",
     "text": [
      "The middle point of image:640\n",
      "Max value at x-333 left part.\n",
      "Max value at x-1041 right part.\n"
     ]
    },
    {
     "name": "stderr",
     "output_type": "stream",
     "text": [
      "\r",
      " 51%|███████████████████▉                   | 644/1261 [02:58<02:08,  4.81it/s]"
     ]
    },
    {
     "name": "stdout",
     "output_type": "stream",
     "text": [
      "The middle point of image:640\n",
      "Max value at x-339 left part.\n",
      "Max value at x-1015 right part.\n"
     ]
    },
    {
     "name": "stderr",
     "output_type": "stream",
     "text": [
      "\r",
      " 51%|███████████████████▉                   | 645/1261 [02:59<03:15,  3.16it/s]"
     ]
    },
    {
     "name": "stdout",
     "output_type": "stream",
     "text": [
      "The middle point of image:640\n",
      "Max value at x-331 left part.\n",
      "Max value at x-1029 right part.\n"
     ]
    },
    {
     "name": "stderr",
     "output_type": "stream",
     "text": [
      "\r",
      " 51%|███████████████████▉                   | 646/1261 [02:59<03:44,  2.74it/s]"
     ]
    },
    {
     "name": "stdout",
     "output_type": "stream",
     "text": [
      "The middle point of image:640\n",
      "Max value at x-375 left part.\n",
      "Max value at x-1022 right part.\n"
     ]
    },
    {
     "name": "stderr",
     "output_type": "stream",
     "text": [
      "\r",
      " 51%|████████████████████                   | 647/1261 [03:00<03:02,  3.37it/s]"
     ]
    },
    {
     "name": "stdout",
     "output_type": "stream",
     "text": [
      "The middle point of image:640\n",
      "Max value at x-373 left part.\n",
      "Max value at x-1012 right part.\n"
     ]
    },
    {
     "name": "stderr",
     "output_type": "stream",
     "text": [
      "\r",
      " 51%|████████████████████                   | 648/1261 [03:00<02:35,  3.93it/s]"
     ]
    },
    {
     "name": "stdout",
     "output_type": "stream",
     "text": [
      "The middle point of image:640\n",
      "Max value at x-366 left part.\n",
      "Max value at x-1019 right part.\n"
     ]
    },
    {
     "name": "stderr",
     "output_type": "stream",
     "text": [
      "\r",
      " 51%|████████████████████                   | 649/1261 [03:00<03:07,  3.26it/s]"
     ]
    },
    {
     "name": "stdout",
     "output_type": "stream",
     "text": [
      "The middle point of image:640\n",
      "Max value at x-356 left part.\n",
      "Max value at x-1020 right part.\n"
     ]
    },
    {
     "name": "stderr",
     "output_type": "stream",
     "text": [
      "\r",
      " 52%|████████████████████                   | 650/1261 [03:00<02:39,  3.84it/s]"
     ]
    },
    {
     "name": "stdout",
     "output_type": "stream",
     "text": [
      "The middle point of image:640\n",
      "Max value at x-352 left part.\n",
      "Max value at x-1020 right part.\n"
     ]
    },
    {
     "name": "stderr",
     "output_type": "stream",
     "text": [
      "\r",
      " 52%|████████████████████▏                  | 651/1261 [03:00<02:19,  4.38it/s]"
     ]
    },
    {
     "name": "stdout",
     "output_type": "stream",
     "text": [
      "The middle point of image:640\n",
      "Max value at x-350 left part.\n",
      "Max value at x-1021 right part.\n"
     ]
    },
    {
     "name": "stderr",
     "output_type": "stream",
     "text": [
      "\r",
      " 52%|████████████████████▏                  | 652/1261 [03:01<02:35,  3.93it/s]"
     ]
    },
    {
     "name": "stdout",
     "output_type": "stream",
     "text": [
      "The middle point of image:640\n",
      "Max value at x-346 left part.\n",
      "Max value at x-1021 right part.\n"
     ]
    },
    {
     "name": "stderr",
     "output_type": "stream",
     "text": [
      "\r",
      " 52%|████████████████████▏                  | 653/1261 [03:01<02:40,  3.79it/s]"
     ]
    },
    {
     "name": "stdout",
     "output_type": "stream",
     "text": [
      "The middle point of image:640\n",
      "Max value at x-364 left part.\n",
      "Max value at x-1040 right part.\n"
     ]
    },
    {
     "name": "stderr",
     "output_type": "stream",
     "text": [
      "\r",
      " 52%|████████████████████▏                  | 654/1261 [03:01<02:26,  4.15it/s]"
     ]
    },
    {
     "name": "stdout",
     "output_type": "stream",
     "text": [
      "The middle point of image:640\n",
      "Max value at x-365 left part.\n",
      "Max value at x-1040 right part.\n"
     ]
    },
    {
     "name": "stderr",
     "output_type": "stream",
     "text": [
      "\r",
      " 52%|████████████████████▎                  | 655/1261 [03:02<03:12,  3.14it/s]"
     ]
    },
    {
     "name": "stdout",
     "output_type": "stream",
     "text": [
      "The middle point of image:640\n",
      "Max value at x-351 left part.\n",
      "Max value at x-1035 right part.\n"
     ]
    },
    {
     "name": "stderr",
     "output_type": "stream",
     "text": [
      "\r",
      " 52%|████████████████████▎                  | 656/1261 [03:02<03:40,  2.74it/s]"
     ]
    },
    {
     "name": "stdout",
     "output_type": "stream",
     "text": [
      "The middle point of image:640\n",
      "Max value at x-361 left part.\n",
      "Max value at x-1039 right part.\n"
     ]
    },
    {
     "name": "stderr",
     "output_type": "stream",
     "text": [
      "\r",
      " 52%|████████████████████▎                  | 657/1261 [03:03<03:36,  2.79it/s]"
     ]
    },
    {
     "name": "stdout",
     "output_type": "stream",
     "text": [
      "The middle point of image:640\n",
      "Max value at x-355 left part.\n",
      "Max value at x-1033 right part.\n"
     ]
    },
    {
     "name": "stderr",
     "output_type": "stream",
     "text": [
      "\r",
      " 52%|████████████████████▎                  | 658/1261 [03:03<04:13,  2.37it/s]"
     ]
    },
    {
     "name": "stdout",
     "output_type": "stream",
     "text": [
      "The middle point of image:640\n",
      "Max value at x-350 left part.\n",
      "Max value at x-1033 right part.\n"
     ]
    },
    {
     "name": "stderr",
     "output_type": "stream",
     "text": [
      "\r",
      " 52%|████████████████████▍                  | 659/1261 [03:04<04:32,  2.21it/s]"
     ]
    },
    {
     "name": "stdout",
     "output_type": "stream",
     "text": [
      "The middle point of image:640\n",
      "Max value at x-347 left part.\n",
      "Max value at x-1022 right part.\n"
     ]
    },
    {
     "name": "stderr",
     "output_type": "stream",
     "text": [
      "\r",
      " 52%|████████████████████▍                  | 660/1261 [03:04<04:49,  2.08it/s]"
     ]
    },
    {
     "name": "stdout",
     "output_type": "stream",
     "text": [
      "The middle point of image:640\n",
      "Max value at x-340 left part.\n",
      "Max value at x-1020 right part.\n"
     ]
    },
    {
     "name": "stderr",
     "output_type": "stream",
     "text": [
      "\r",
      " 52%|████████████████████▍                  | 661/1261 [03:05<04:41,  2.13it/s]"
     ]
    },
    {
     "name": "stdout",
     "output_type": "stream",
     "text": [
      "The middle point of image:640\n",
      "Max value at x-343 left part.\n",
      "Max value at x-1021 right part.\n"
     ]
    },
    {
     "name": "stderr",
     "output_type": "stream",
     "text": [
      "\r",
      " 52%|████████████████████▍                  | 662/1261 [03:05<04:46,  2.09it/s]"
     ]
    },
    {
     "name": "stdout",
     "output_type": "stream",
     "text": [
      "The middle point of image:640\n",
      "Max value at x-340 left part.\n",
      "Max value at x-1021 right part.\n"
     ]
    },
    {
     "name": "stderr",
     "output_type": "stream",
     "text": [
      "\r",
      " 53%|████████████████████▌                  | 663/1261 [03:06<04:45,  2.09it/s]"
     ]
    },
    {
     "name": "stdout",
     "output_type": "stream",
     "text": [
      "The middle point of image:640\n",
      "Max value at x-339 left part.\n",
      "Max value at x-1029 right part.\n"
     ]
    },
    {
     "name": "stderr",
     "output_type": "stream",
     "text": [
      "\r",
      " 53%|████████████████████▌                  | 664/1261 [03:07<06:37,  1.50it/s]"
     ]
    },
    {
     "name": "stdout",
     "output_type": "stream",
     "text": [
      "The middle point of image:640\n",
      "Max value at x-340 left part.\n",
      "Max value at x-1028 right part.\n"
     ]
    },
    {
     "name": "stderr",
     "output_type": "stream",
     "text": [
      "\r",
      " 53%|████████████████████▌                  | 665/1261 [03:07<05:16,  1.88it/s]"
     ]
    },
    {
     "name": "stdout",
     "output_type": "stream",
     "text": [
      "The middle point of image:640\n",
      "Max value at x-340 left part.\n",
      "Max value at x-1023 right part.\n"
     ]
    },
    {
     "name": "stderr",
     "output_type": "stream",
     "text": [
      "\r",
      " 53%|████████████████████▌                  | 666/1261 [03:07<04:08,  2.39it/s]"
     ]
    },
    {
     "name": "stdout",
     "output_type": "stream",
     "text": [
      "The middle point of image:640\n",
      "Max value at x-338 left part.\n",
      "Max value at x-1042 right part.\n"
     ]
    },
    {
     "name": "stderr",
     "output_type": "stream",
     "text": [
      "\r",
      " 53%|████████████████████▋                  | 667/1261 [03:07<03:55,  2.52it/s]"
     ]
    },
    {
     "name": "stdout",
     "output_type": "stream",
     "text": [
      "The middle point of image:640\n",
      "Max value at x-339 left part.\n",
      "Max value at x-1043 right part.\n"
     ]
    },
    {
     "name": "stderr",
     "output_type": "stream",
     "text": [
      "\r",
      " 53%|████████████████████▋                  | 668/1261 [03:08<03:22,  2.94it/s]"
     ]
    },
    {
     "name": "stdout",
     "output_type": "stream",
     "text": [
      "The middle point of image:640\n",
      "Max value at x-338 left part.\n",
      "Max value at x-1043 right part.\n"
     ]
    },
    {
     "name": "stderr",
     "output_type": "stream",
     "text": [
      "\r",
      " 53%|████████████████████▋                  | 669/1261 [03:08<02:52,  3.43it/s]"
     ]
    },
    {
     "name": "stdout",
     "output_type": "stream",
     "text": [
      "The middle point of image:640\n",
      "Max value at x-344 left part.\n",
      "Max value at x-1035 right part.\n"
     ]
    },
    {
     "name": "stderr",
     "output_type": "stream",
     "text": [
      "\r",
      " 53%|████████████████████▋                  | 670/1261 [03:08<03:16,  3.01it/s]"
     ]
    },
    {
     "name": "stdout",
     "output_type": "stream",
     "text": [
      "The middle point of image:640\n",
      "Max value at x-333 left part.\n",
      "Max value at x-1036 right part.\n"
     ]
    },
    {
     "name": "stderr",
     "output_type": "stream",
     "text": [
      "\r",
      " 53%|████████████████████▊                  | 671/1261 [03:08<02:55,  3.36it/s]"
     ]
    },
    {
     "name": "stdout",
     "output_type": "stream",
     "text": [
      "The middle point of image:640\n",
      "Max value at x-334 left part.\n",
      "Max value at x-1021 right part.\n"
     ]
    },
    {
     "name": "stderr",
     "output_type": "stream",
     "text": [
      "\r",
      " 53%|████████████████████▊                  | 672/1261 [03:09<02:38,  3.72it/s]"
     ]
    },
    {
     "name": "stdout",
     "output_type": "stream",
     "text": [
      "The middle point of image:640\n",
      "Max value at x-370 left part.\n",
      "Max value at x-1030 right part.\n"
     ]
    },
    {
     "name": "stderr",
     "output_type": "stream",
     "text": [
      "\r",
      " 53%|████████████████████▊                  | 673/1261 [03:09<03:15,  3.00it/s]"
     ]
    },
    {
     "name": "stdout",
     "output_type": "stream",
     "text": [
      "The middle point of image:640\n",
      "Max value at x-340 left part.\n",
      "Max value at x-1030 right part.\n"
     ]
    },
    {
     "name": "stderr",
     "output_type": "stream",
     "text": [
      "\r",
      " 53%|████████████████████▊                  | 674/1261 [03:09<02:48,  3.49it/s]"
     ]
    },
    {
     "name": "stdout",
     "output_type": "stream",
     "text": [
      "The middle point of image:640\n",
      "Max value at x-342 left part.\n",
      "Max value at x-1029 right part.\n"
     ]
    },
    {
     "name": "stderr",
     "output_type": "stream",
     "text": [
      "\r",
      " 54%|████████████████████▉                  | 675/1261 [03:10<02:24,  4.07it/s]"
     ]
    },
    {
     "name": "stdout",
     "output_type": "stream",
     "text": [
      "The middle point of image:640\n",
      "Max value at x-341 left part.\n",
      "Max value at x-1030 right part.\n"
     ]
    },
    {
     "name": "stderr",
     "output_type": "stream",
     "text": [
      "\r",
      " 54%|████████████████████▉                  | 676/1261 [03:10<02:54,  3.35it/s]"
     ]
    },
    {
     "name": "stdout",
     "output_type": "stream",
     "text": [
      "The middle point of image:640\n",
      "Max value at x-340 left part.\n",
      "Max value at x-1031 right part.\n"
     ]
    },
    {
     "name": "stderr",
     "output_type": "stream",
     "text": [
      "\r",
      " 54%|████████████████████▉                  | 677/1261 [03:10<02:32,  3.82it/s]"
     ]
    },
    {
     "name": "stdout",
     "output_type": "stream",
     "text": [
      "The middle point of image:640\n",
      "Max value at x-340 left part.\n",
      "Max value at x-1025 right part.\n"
     ]
    },
    {
     "name": "stderr",
     "output_type": "stream",
     "text": [
      "\r",
      " 54%|████████████████████▉                  | 678/1261 [03:11<03:11,  3.04it/s]"
     ]
    },
    {
     "name": "stdout",
     "output_type": "stream",
     "text": [
      "The middle point of image:640\n",
      "Max value at x-355 left part.\n",
      "Max value at x-1049 right part.\n"
     ]
    },
    {
     "name": "stderr",
     "output_type": "stream",
     "text": [
      "\r",
      " 54%|█████████████████████                  | 679/1261 [03:11<02:43,  3.57it/s]"
     ]
    },
    {
     "name": "stdout",
     "output_type": "stream",
     "text": [
      "The middle point of image:640\n",
      "Max value at x-355 left part.\n",
      "Max value at x-1049 right part.\n"
     ]
    },
    {
     "name": "stderr",
     "output_type": "stream",
     "text": [
      "\r",
      " 54%|█████████████████████                  | 680/1261 [03:11<02:20,  4.14it/s]"
     ]
    },
    {
     "name": "stdout",
     "output_type": "stream",
     "text": [
      "The middle point of image:640\n",
      "Max value at x-359 left part.\n",
      "Max value at x-1045 right part.\n"
     ]
    },
    {
     "name": "stderr",
     "output_type": "stream",
     "text": [
      "\r",
      " 54%|█████████████████████                  | 681/1261 [03:11<02:36,  3.71it/s]"
     ]
    },
    {
     "name": "stdout",
     "output_type": "stream",
     "text": [
      "The middle point of image:640\n",
      "Max value at x-366 left part.\n",
      "Max value at x-1036 right part.\n"
     ]
    },
    {
     "name": "stderr",
     "output_type": "stream",
     "text": [
      "\r",
      " 54%|█████████████████████                  | 682/1261 [03:11<02:16,  4.25it/s]"
     ]
    },
    {
     "name": "stdout",
     "output_type": "stream",
     "text": [
      "The middle point of image:640\n",
      "Max value at x-359 left part.\n",
      "Max value at x-1035 right part.\n"
     ]
    },
    {
     "name": "stderr",
     "output_type": "stream",
     "text": [
      "\r",
      " 54%|█████████████████████                  | 683/1261 [03:12<02:50,  3.39it/s]"
     ]
    },
    {
     "name": "stdout",
     "output_type": "stream",
     "text": [
      "The middle point of image:640\n",
      "Max value at x-365 left part.\n",
      "Max value at x-1033 right part.\n"
     ]
    },
    {
     "name": "stderr",
     "output_type": "stream",
     "text": [
      "\r",
      " 54%|█████████████████████▏                 | 684/1261 [03:12<02:27,  3.91it/s]"
     ]
    },
    {
     "name": "stdout",
     "output_type": "stream",
     "text": [
      "The middle point of image:640\n",
      "Max value at x-358 left part.\n",
      "Max value at x-1032 right part.\n"
     ]
    },
    {
     "name": "stderr",
     "output_type": "stream",
     "text": [
      "\r",
      " 54%|█████████████████████▏                 | 685/1261 [03:12<02:12,  4.36it/s]"
     ]
    },
    {
     "name": "stdout",
     "output_type": "stream",
     "text": [
      "The middle point of image:640\n",
      "Max value at x-358 left part.\n",
      "Max value at x-1030 right part.\n"
     ]
    },
    {
     "name": "stderr",
     "output_type": "stream",
     "text": [
      "\r",
      " 54%|█████████████████████▏                 | 686/1261 [03:12<02:25,  3.94it/s]"
     ]
    },
    {
     "name": "stdout",
     "output_type": "stream",
     "text": [
      "The middle point of image:640\n",
      "Max value at x-358 left part.\n",
      "Max value at x-1029 right part.\n"
     ]
    },
    {
     "name": "stderr",
     "output_type": "stream",
     "text": [
      "\r",
      " 54%|█████████████████████▏                 | 687/1261 [03:13<02:06,  4.52it/s]"
     ]
    },
    {
     "name": "stdout",
     "output_type": "stream",
     "text": [
      "The middle point of image:640\n",
      "Max value at x-346 left part.\n",
      "Max value at x-1031 right part.\n"
     ]
    },
    {
     "name": "stderr",
     "output_type": "stream",
     "text": [
      "\r",
      " 55%|█████████████████████▎                 | 688/1261 [03:13<02:17,  4.16it/s]"
     ]
    },
    {
     "name": "stdout",
     "output_type": "stream",
     "text": [
      "The middle point of image:640\n",
      "Max value at x-345 left part.\n",
      "Max value at x-1032 right part.\n"
     ]
    },
    {
     "name": "stderr",
     "output_type": "stream",
     "text": [
      "\r",
      " 55%|█████████████████████▎                 | 689/1261 [03:13<02:09,  4.42it/s]"
     ]
    },
    {
     "name": "stdout",
     "output_type": "stream",
     "text": [
      "The middle point of image:640\n",
      "Max value at x-346 left part.\n",
      "Max value at x-1032 right part.\n"
     ]
    },
    {
     "name": "stderr",
     "output_type": "stream",
     "text": [
      "\r",
      " 55%|█████████████████████▎                 | 690/1261 [03:14<02:44,  3.48it/s]"
     ]
    },
    {
     "name": "stdout",
     "output_type": "stream",
     "text": [
      "The middle point of image:640\n",
      "Max value at x-347 left part.\n",
      "Max value at x-1022 right part.\n"
     ]
    },
    {
     "name": "stderr",
     "output_type": "stream",
     "text": [
      "\r",
      " 55%|█████████████████████▎                 | 691/1261 [03:14<02:20,  4.07it/s]"
     ]
    },
    {
     "name": "stdout",
     "output_type": "stream",
     "text": [
      "The middle point of image:640\n",
      "Max value at x-366 left part.\n",
      "Max value at x-1036 right part.\n"
     ]
    },
    {
     "name": "stderr",
     "output_type": "stream",
     "text": [
      "\r",
      " 55%|█████████████████████▍                 | 692/1261 [03:14<02:55,  3.24it/s]"
     ]
    },
    {
     "name": "stdout",
     "output_type": "stream",
     "text": [
      "The middle point of image:640\n",
      "Max value at x-365 left part.\n",
      "Max value at x-1034 right part.\n"
     ]
    },
    {
     "name": "stderr",
     "output_type": "stream",
     "text": [
      "\r",
      " 55%|█████████████████████▍                 | 693/1261 [03:14<03:00,  3.15it/s]"
     ]
    },
    {
     "name": "stdout",
     "output_type": "stream",
     "text": [
      "The middle point of image:640\n",
      "Max value at x-361 left part.\n",
      "Max value at x-1021 right part.\n"
     ]
    },
    {
     "name": "stderr",
     "output_type": "stream",
     "text": [
      "\r",
      " 55%|█████████████████████▍                 | 694/1261 [03:15<02:33,  3.70it/s]"
     ]
    },
    {
     "name": "stdout",
     "output_type": "stream",
     "text": [
      "The middle point of image:640\n",
      "Max value at x-353 left part.\n",
      "Max value at x-1031 right part.\n"
     ]
    },
    {
     "name": "stderr",
     "output_type": "stream",
     "text": [
      "\r",
      " 55%|█████████████████████▍                 | 695/1261 [03:15<02:23,  3.95it/s]"
     ]
    },
    {
     "name": "stdout",
     "output_type": "stream",
     "text": [
      "The middle point of image:640\n",
      "Max value at x-357 left part.\n",
      "Max value at x-1018 right part.\n"
     ]
    },
    {
     "name": "stderr",
     "output_type": "stream",
     "text": [
      "\r",
      " 55%|█████████████████████▌                 | 696/1261 [03:15<02:16,  4.15it/s]"
     ]
    },
    {
     "name": "stdout",
     "output_type": "stream",
     "text": [
      "The middle point of image:640\n",
      "Max value at x-358 left part.\n",
      "Max value at x-1015 right part.\n"
     ]
    },
    {
     "name": "stderr",
     "output_type": "stream",
     "text": [
      "\r",
      " 55%|█████████████████████▌                 | 697/1261 [03:16<03:16,  2.86it/s]"
     ]
    },
    {
     "name": "stdout",
     "output_type": "stream",
     "text": [
      "The middle point of image:640\n",
      "Max value at x-353 left part.\n",
      "Max value at x-1012 right part.\n"
     ]
    },
    {
     "name": "stderr",
     "output_type": "stream",
     "text": [
      "\r",
      " 55%|█████████████████████▌                 | 698/1261 [03:16<02:46,  3.38it/s]"
     ]
    },
    {
     "name": "stdout",
     "output_type": "stream",
     "text": [
      "The middle point of image:640\n",
      "Max value at x-349 left part.\n",
      "Max value at x-1026 right part.\n"
     ]
    },
    {
     "name": "stderr",
     "output_type": "stream",
     "text": [
      "\r",
      " 55%|█████████████████████▌                 | 699/1261 [03:16<02:26,  3.85it/s]"
     ]
    },
    {
     "name": "stdout",
     "output_type": "stream",
     "text": [
      "The middle point of image:640\n",
      "Max value at x-349 left part.\n",
      "Max value at x-1015 right part.\n"
     ]
    },
    {
     "name": "stderr",
     "output_type": "stream",
     "text": [
      "\r",
      " 56%|█████████████████████▋                 | 700/1261 [03:16<02:39,  3.51it/s]"
     ]
    },
    {
     "name": "stdout",
     "output_type": "stream",
     "text": [
      "The middle point of image:640\n",
      "Max value at x-348 left part.\n",
      "Max value at x-1011 right part.\n"
     ]
    },
    {
     "name": "stderr",
     "output_type": "stream",
     "text": [
      "\r",
      " 56%|█████████████████████▋                 | 701/1261 [03:17<02:23,  3.92it/s]"
     ]
    },
    {
     "name": "stdout",
     "output_type": "stream",
     "text": [
      "The middle point of image:640\n",
      "Max value at x-348 left part.\n",
      "Max value at x-1015 right part.\n"
     ]
    },
    {
     "name": "stderr",
     "output_type": "stream",
     "text": [
      "\r",
      " 56%|█████████████████████▋                 | 702/1261 [03:17<02:04,  4.48it/s]"
     ]
    },
    {
     "name": "stdout",
     "output_type": "stream",
     "text": [
      "The middle point of image:640\n",
      "Max value at x-347 left part.\n",
      "Max value at x-1040 right part.\n"
     ]
    },
    {
     "name": "stderr",
     "output_type": "stream",
     "text": [
      "\r",
      " 56%|█████████████████████▋                 | 703/1261 [03:17<02:15,  4.13it/s]"
     ]
    },
    {
     "name": "stdout",
     "output_type": "stream",
     "text": [
      "The middle point of image:640\n",
      "Max value at x-341 left part.\n",
      "Max value at x-1041 right part.\n"
     ]
    },
    {
     "name": "stderr",
     "output_type": "stream",
     "text": [
      "\r",
      " 56%|█████████████████████▊                 | 704/1261 [03:17<02:14,  4.14it/s]"
     ]
    },
    {
     "name": "stdout",
     "output_type": "stream",
     "text": [
      "The middle point of image:640\n",
      "Max value at x-341 left part.\n",
      "Max value at x-1037 right part.\n"
     ]
    },
    {
     "name": "stderr",
     "output_type": "stream",
     "text": [
      "\r",
      " 56%|█████████████████████▊                 | 705/1261 [03:17<02:03,  4.49it/s]"
     ]
    },
    {
     "name": "stdout",
     "output_type": "stream",
     "text": [
      "The middle point of image:640\n",
      "Max value at x-339 left part.\n",
      "Max value at x-1037 right part.\n"
     ]
    },
    {
     "name": "stderr",
     "output_type": "stream",
     "text": [
      "\r",
      " 56%|█████████████████████▊                 | 706/1261 [03:18<02:27,  3.77it/s]"
     ]
    },
    {
     "name": "stdout",
     "output_type": "stream",
     "text": [
      "The middle point of image:640\n",
      "Max value at x-338 left part.\n",
      "Max value at x-1022 right part.\n"
     ]
    },
    {
     "name": "stderr",
     "output_type": "stream",
     "text": [
      "\r",
      " 56%|█████████████████████▊                 | 707/1261 [03:18<02:08,  4.30it/s]"
     ]
    },
    {
     "name": "stdout",
     "output_type": "stream",
     "text": [
      "The middle point of image:640\n",
      "Max value at x-340 left part.\n",
      "Max value at x-1026 right part.\n"
     ]
    },
    {
     "name": "stderr",
     "output_type": "stream",
     "text": [
      "\r",
      " 56%|█████████████████████▉                 | 708/1261 [03:18<01:54,  4.81it/s]"
     ]
    },
    {
     "name": "stdout",
     "output_type": "stream",
     "text": [
      "The middle point of image:640\n",
      "Max value at x-345 left part.\n",
      "Max value at x-1017 right part.\n"
     ]
    },
    {
     "name": "stderr",
     "output_type": "stream",
     "text": [
      "\r",
      " 56%|█████████████████████▉                 | 709/1261 [03:18<02:12,  4.17it/s]"
     ]
    },
    {
     "name": "stdout",
     "output_type": "stream",
     "text": [
      "The middle point of image:640\n",
      "Max value at x-371 left part.\n",
      "Max value at x-1013 right part.\n"
     ]
    },
    {
     "name": "stderr",
     "output_type": "stream",
     "text": [
      "\r",
      " 56%|█████████████████████▉                 | 710/1261 [03:19<02:00,  4.56it/s]"
     ]
    },
    {
     "name": "stdout",
     "output_type": "stream",
     "text": [
      "The middle point of image:640\n",
      "Max value at x-363 left part.\n",
      "Max value at x-1014 right part.\n"
     ]
    },
    {
     "name": "stderr",
     "output_type": "stream",
     "text": [
      "\r",
      " 56%|█████████████████████▉                 | 711/1261 [03:19<02:29,  3.67it/s]"
     ]
    },
    {
     "name": "stdout",
     "output_type": "stream",
     "text": [
      "The middle point of image:640\n",
      "Max value at x-339 left part.\n",
      "Max value at x-1015 right part.\n"
     ]
    },
    {
     "name": "stderr",
     "output_type": "stream",
     "text": [
      "\r",
      " 56%|██████████████████████                 | 712/1261 [03:19<02:09,  4.24it/s]"
     ]
    },
    {
     "name": "stdout",
     "output_type": "stream",
     "text": [
      "The middle point of image:640\n",
      "Max value at x-340 left part.\n",
      "Max value at x-1016 right part.\n"
     ]
    },
    {
     "name": "stderr",
     "output_type": "stream",
     "text": [
      "\r",
      " 57%|██████████████████████                 | 713/1261 [03:19<01:54,  4.77it/s]"
     ]
    },
    {
     "name": "stdout",
     "output_type": "stream",
     "text": [
      "The middle point of image:640\n",
      "Max value at x-340 left part.\n",
      "Max value at x-1014 right part.\n"
     ]
    },
    {
     "name": "stderr",
     "output_type": "stream",
     "text": [
      "\r",
      " 57%|██████████████████████                 | 714/1261 [03:20<02:04,  4.39it/s]"
     ]
    },
    {
     "name": "stdout",
     "output_type": "stream",
     "text": [
      "The middle point of image:640\n",
      "Max value at x-342 left part.\n",
      "Max value at x-1012 right part.\n"
     ]
    },
    {
     "name": "stderr",
     "output_type": "stream",
     "text": [
      "\r",
      " 57%|██████████████████████                 | 715/1261 [03:20<01:53,  4.82it/s]"
     ]
    },
    {
     "name": "stdout",
     "output_type": "stream",
     "text": [
      "The middle point of image:640\n",
      "Max value at x-342 left part.\n",
      "Max value at x-1025 right part.\n"
     ]
    },
    {
     "name": "stderr",
     "output_type": "stream",
     "text": [
      "\r",
      " 57%|██████████████████████▏                | 716/1261 [03:20<02:15,  4.03it/s]"
     ]
    },
    {
     "name": "stdout",
     "output_type": "stream",
     "text": [
      "The middle point of image:640\n",
      "Max value at x-343 left part.\n",
      "Max value at x-1025 right part.\n"
     ]
    },
    {
     "name": "stderr",
     "output_type": "stream",
     "text": [
      "\r",
      " 57%|██████████████████████▏                | 717/1261 [03:20<01:58,  4.58it/s]"
     ]
    },
    {
     "name": "stdout",
     "output_type": "stream",
     "text": [
      "The middle point of image:640\n",
      "Max value at x-343 left part.\n",
      "Max value at x-1029 right part.\n"
     ]
    },
    {
     "name": "stderr",
     "output_type": "stream",
     "text": [
      "\r",
      " 57%|██████████████████████▏                | 718/1261 [03:20<01:47,  5.07it/s]"
     ]
    },
    {
     "name": "stdout",
     "output_type": "stream",
     "text": [
      "The middle point of image:640\n",
      "Max value at x-343 left part.\n",
      "Max value at x-1028 right part.\n"
     ]
    },
    {
     "name": "stderr",
     "output_type": "stream",
     "text": [
      "\r",
      " 57%|██████████████████████▏                | 719/1261 [03:21<01:54,  4.75it/s]"
     ]
    },
    {
     "name": "stdout",
     "output_type": "stream",
     "text": [
      "The middle point of image:640\n",
      "Max value at x-342 left part.\n",
      "Max value at x-1028 right part.\n"
     ]
    },
    {
     "name": "stderr",
     "output_type": "stream",
     "text": [
      "\r",
      " 57%|██████████████████████▎                | 720/1261 [03:21<02:03,  4.39it/s]"
     ]
    },
    {
     "name": "stdout",
     "output_type": "stream",
     "text": [
      "The middle point of image:640\n",
      "Max value at x-371 left part.\n",
      "Max value at x-1028 right part.\n"
     ]
    },
    {
     "name": "stderr",
     "output_type": "stream",
     "text": [
      "\r",
      " 57%|██████████████████████▎                | 721/1261 [03:21<01:52,  4.80it/s]"
     ]
    },
    {
     "name": "stdout",
     "output_type": "stream",
     "text": [
      "The middle point of image:640\n",
      "Max value at x-372 left part.\n",
      "Max value at x-1027 right part.\n"
     ]
    },
    {
     "name": "stderr",
     "output_type": "stream",
     "text": [
      "\r",
      " 57%|██████████████████████▎                | 722/1261 [03:21<02:22,  3.79it/s]"
     ]
    },
    {
     "name": "stdout",
     "output_type": "stream",
     "text": [
      "The middle point of image:640\n",
      "Max value at x-369 left part.\n",
      "Max value at x-1028 right part.\n"
     ]
    },
    {
     "name": "stderr",
     "output_type": "stream",
     "text": [
      "\r",
      " 57%|██████████████████████▎                | 723/1261 [03:22<02:03,  4.34it/s]"
     ]
    },
    {
     "name": "stdout",
     "output_type": "stream",
     "text": [
      "The middle point of image:640\n",
      "Max value at x-343 left part.\n",
      "Max value at x-1028 right part.\n"
     ]
    },
    {
     "name": "stderr",
     "output_type": "stream",
     "text": [
      "\r",
      " 57%|██████████████████████▍                | 724/1261 [03:22<01:53,  4.74it/s]"
     ]
    },
    {
     "name": "stdout",
     "output_type": "stream",
     "text": [
      "The middle point of image:640\n",
      "Max value at x-358 left part.\n",
      "Max value at x-1021 right part.\n"
     ]
    },
    {
     "name": "stderr",
     "output_type": "stream",
     "text": [
      "\r",
      " 57%|██████████████████████▍                | 725/1261 [03:22<02:02,  4.38it/s]"
     ]
    },
    {
     "name": "stdout",
     "output_type": "stream",
     "text": [
      "The middle point of image:640\n",
      "Max value at x-350 left part.\n",
      "Max value at x-1037 right part.\n"
     ]
    },
    {
     "name": "stderr",
     "output_type": "stream",
     "text": [
      "\r",
      " 58%|██████████████████████▍                | 726/1261 [03:22<01:49,  4.88it/s]"
     ]
    },
    {
     "name": "stdout",
     "output_type": "stream",
     "text": [
      "The middle point of image:640\n",
      "Max value at x-347 left part.\n",
      "Max value at x-1037 right part.\n"
     ]
    },
    {
     "name": "stderr",
     "output_type": "stream",
     "text": [
      "\r",
      " 58%|██████████████████████▍                | 727/1261 [03:23<02:33,  3.48it/s]"
     ]
    },
    {
     "name": "stdout",
     "output_type": "stream",
     "text": [
      "The middle point of image:640\n",
      "Max value at x-367 left part.\n",
      "Max value at x-1048 right part.\n"
     ]
    },
    {
     "name": "stderr",
     "output_type": "stream",
     "text": [
      "\r",
      " 58%|██████████████████████▌                | 728/1261 [03:23<02:11,  4.05it/s]"
     ]
    },
    {
     "name": "stdout",
     "output_type": "stream",
     "text": [
      "The middle point of image:640\n",
      "Max value at x-369 left part.\n",
      "Max value at x-1047 right part.\n"
     ]
    },
    {
     "name": "stderr",
     "output_type": "stream",
     "text": [
      "\r",
      " 58%|██████████████████████▌                | 729/1261 [03:23<01:55,  4.61it/s]"
     ]
    },
    {
     "name": "stdout",
     "output_type": "stream",
     "text": [
      "The middle point of image:640\n",
      "Max value at x-362 left part.\n",
      "Max value at x-1048 right part.\n"
     ]
    },
    {
     "name": "stderr",
     "output_type": "stream",
     "text": [
      "\r",
      " 58%|██████████████████████▌                | 730/1261 [03:23<02:01,  4.37it/s]"
     ]
    },
    {
     "name": "stdout",
     "output_type": "stream",
     "text": [
      "The middle point of image:640\n",
      "Max value at x-362 left part.\n",
      "Max value at x-1036 right part.\n"
     ]
    },
    {
     "name": "stderr",
     "output_type": "stream",
     "text": [
      "\r",
      " 58%|██████████████████████▌                | 731/1261 [03:23<01:53,  4.67it/s]"
     ]
    },
    {
     "name": "stdout",
     "output_type": "stream",
     "text": [
      "The middle point of image:640\n",
      "Max value at x-363 left part.\n",
      "Max value at x-1039 right part.\n"
     ]
    },
    {
     "name": "stderr",
     "output_type": "stream",
     "text": [
      "\r",
      " 58%|██████████████████████▋                | 732/1261 [03:24<01:59,  4.44it/s]"
     ]
    },
    {
     "name": "stdout",
     "output_type": "stream",
     "text": [
      "The middle point of image:640\n",
      "Max value at x-369 left part.\n",
      "Max value at x-1037 right part.\n"
     ]
    },
    {
     "name": "stderr",
     "output_type": "stream",
     "text": [
      "\r",
      " 58%|██████████████████████▋                | 733/1261 [03:24<02:02,  4.31it/s]"
     ]
    },
    {
     "name": "stdout",
     "output_type": "stream",
     "text": [
      "The middle point of image:640\n",
      "Max value at x-367 left part.\n",
      "Max value at x-1034 right part.\n"
     ]
    },
    {
     "name": "stderr",
     "output_type": "stream",
     "text": [
      "\r",
      " 58%|██████████████████████▋                | 734/1261 [03:24<01:48,  4.86it/s]"
     ]
    },
    {
     "name": "stdout",
     "output_type": "stream",
     "text": [
      "The middle point of image:640\n",
      "Max value at x-363 left part.\n",
      "Max value at x-1035 right part.\n"
     ]
    },
    {
     "name": "stderr",
     "output_type": "stream",
     "text": [
      "\r",
      " 58%|██████████████████████▋                | 735/1261 [03:24<01:50,  4.75it/s]"
     ]
    },
    {
     "name": "stdout",
     "output_type": "stream",
     "text": [
      "The middle point of image:640\n",
      "Max value at x-360 left part.\n",
      "Max value at x-1043 right part.\n"
     ]
    },
    {
     "name": "stderr",
     "output_type": "stream",
     "text": [
      "\r",
      " 58%|██████████████████████▊                | 736/1261 [03:24<02:02,  4.28it/s]"
     ]
    },
    {
     "name": "stdout",
     "output_type": "stream",
     "text": [
      "The middle point of image:640\n",
      "Max value at x-358 left part.\n",
      "Max value at x-1043 right part.\n"
     ]
    },
    {
     "name": "stderr",
     "output_type": "stream",
     "text": [
      "\r",
      " 58%|██████████████████████▊                | 737/1261 [03:25<01:49,  4.79it/s]"
     ]
    },
    {
     "name": "stdout",
     "output_type": "stream",
     "text": [
      "The middle point of image:640\n",
      "Max value at x-396 left part.\n",
      "Max value at x-1043 right part.\n"
     ]
    },
    {
     "name": "stderr",
     "output_type": "stream",
     "text": [
      "\r",
      " 59%|██████████████████████▊                | 738/1261 [03:25<02:40,  3.26it/s]"
     ]
    },
    {
     "name": "stdout",
     "output_type": "stream",
     "text": [
      "The middle point of image:640\n",
      "Max value at x-393 left part.\n",
      "Max value at x-1044 right part.\n"
     ]
    },
    {
     "name": "stderr",
     "output_type": "stream",
     "text": [
      "\r",
      " 59%|██████████████████████▊                | 739/1261 [03:25<02:15,  3.85it/s]"
     ]
    },
    {
     "name": "stdout",
     "output_type": "stream",
     "text": [
      "The middle point of image:640\n",
      "Max value at x-391 left part.\n",
      "Max value at x-1047 right part.\n"
     ]
    },
    {
     "name": "stderr",
     "output_type": "stream",
     "text": [
      "\r",
      " 59%|██████████████████████▉                | 740/1261 [03:25<01:58,  4.39it/s]"
     ]
    },
    {
     "name": "stdout",
     "output_type": "stream",
     "text": [
      "The middle point of image:640\n",
      "Max value at x-389 left part.\n",
      "Max value at x-1045 right part.\n"
     ]
    },
    {
     "name": "stderr",
     "output_type": "stream",
     "text": [
      "\r",
      " 59%|██████████████████████▉                | 741/1261 [03:26<02:08,  4.05it/s]"
     ]
    },
    {
     "name": "stdout",
     "output_type": "stream",
     "text": [
      "The middle point of image:640\n",
      "Max value at x-400 left part.\n",
      "Max value at x-1043 right part.\n"
     ]
    },
    {
     "name": "stderr",
     "output_type": "stream",
     "text": [
      "\r",
      " 59%|██████████████████████▉                | 742/1261 [03:26<01:54,  4.53it/s]"
     ]
    },
    {
     "name": "stdout",
     "output_type": "stream",
     "text": [
      "The middle point of image:640\n",
      "Max value at x-394 left part.\n",
      "Max value at x-1044 right part.\n"
     ]
    },
    {
     "name": "stderr",
     "output_type": "stream",
     "text": [
      "\r",
      " 59%|██████████████████████▉                | 743/1261 [03:26<02:31,  3.43it/s]"
     ]
    },
    {
     "name": "stdout",
     "output_type": "stream",
     "text": [
      "The middle point of image:640\n",
      "Max value at x-401 left part.\n",
      "Max value at x-1043 right part.\n"
     ]
    },
    {
     "name": "stderr",
     "output_type": "stream",
     "text": [
      "\r",
      " 59%|███████████████████████                | 744/1261 [03:27<02:43,  3.17it/s]"
     ]
    },
    {
     "name": "stdout",
     "output_type": "stream",
     "text": [
      "The middle point of image:640\n",
      "Max value at x-397 left part.\n",
      "Max value at x-1038 right part.\n"
     ]
    },
    {
     "name": "stderr",
     "output_type": "stream",
     "text": [
      "\r",
      " 59%|███████████████████████                | 745/1261 [03:27<02:17,  3.74it/s]"
     ]
    },
    {
     "name": "stdout",
     "output_type": "stream",
     "text": [
      "The middle point of image:640\n",
      "Max value at x-393 left part.\n",
      "Max value at x-1042 right part.\n"
     ]
    },
    {
     "name": "stderr",
     "output_type": "stream",
     "text": [
      "\r",
      " 59%|███████████████████████                | 746/1261 [03:27<01:59,  4.31it/s]"
     ]
    },
    {
     "name": "stdout",
     "output_type": "stream",
     "text": [
      "The middle point of image:640\n",
      "Max value at x-394 left part.\n",
      "Max value at x-1045 right part.\n"
     ]
    },
    {
     "name": "stderr",
     "output_type": "stream",
     "text": [
      "\r",
      " 59%|███████████████████████                | 747/1261 [03:27<01:46,  4.81it/s]"
     ]
    },
    {
     "name": "stdout",
     "output_type": "stream",
     "text": [
      "The middle point of image:640\n",
      "Max value at x-386 left part.\n",
      "Max value at x-1036 right part.\n"
     ]
    },
    {
     "name": "stderr",
     "output_type": "stream",
     "text": [
      "\r",
      " 59%|███████████████████████▏               | 748/1261 [03:28<02:20,  3.66it/s]"
     ]
    },
    {
     "name": "stdout",
     "output_type": "stream",
     "text": [
      "The middle point of image:640\n",
      "Max value at x-388 left part.\n",
      "Max value at x-1035 right part.\n"
     ]
    },
    {
     "name": "stderr",
     "output_type": "stream",
     "text": [
      "\r",
      " 59%|███████████████████████▏               | 749/1261 [03:28<03:19,  2.56it/s]"
     ]
    },
    {
     "name": "stdout",
     "output_type": "stream",
     "text": [
      "The middle point of image:640\n",
      "Max value at x-384 left part.\n",
      "Max value at x-1070 right part.\n"
     ]
    },
    {
     "name": "stderr",
     "output_type": "stream",
     "text": [
      "\r",
      " 59%|███████████████████████▏               | 750/1261 [03:28<02:45,  3.08it/s]"
     ]
    },
    {
     "name": "stdout",
     "output_type": "stream",
     "text": [
      "The middle point of image:640\n",
      "Max value at x-384 left part.\n",
      "Max value at x-1068 right part.\n"
     ]
    },
    {
     "name": "stderr",
     "output_type": "stream",
     "text": [
      "\r",
      " 60%|███████████████████████▏               | 751/1261 [03:29<03:14,  2.62it/s]"
     ]
    },
    {
     "name": "stdout",
     "output_type": "stream",
     "text": [
      "The middle point of image:640\n",
      "Max value at x-395 left part.\n",
      "Max value at x-1068 right part.\n"
     ]
    },
    {
     "name": "stderr",
     "output_type": "stream",
     "text": [
      "\r",
      " 60%|███████████████████████▎               | 752/1261 [03:29<02:41,  3.15it/s]"
     ]
    },
    {
     "name": "stdout",
     "output_type": "stream",
     "text": [
      "The middle point of image:640\n",
      "Max value at x-379 left part.\n",
      "Max value at x-1067 right part.\n"
     ]
    },
    {
     "name": "stderr",
     "output_type": "stream",
     "text": [
      "\r",
      " 60%|███████████████████████▎               | 753/1261 [03:29<02:18,  3.68it/s]"
     ]
    },
    {
     "name": "stdout",
     "output_type": "stream",
     "text": [
      "The middle point of image:640\n",
      "Max value at x-394 left part.\n",
      "Max value at x-1064 right part.\n"
     ]
    },
    {
     "name": "stderr",
     "output_type": "stream",
     "text": [
      "\r",
      " 60%|███████████████████████▎               | 754/1261 [03:30<02:13,  3.81it/s]"
     ]
    },
    {
     "name": "stdout",
     "output_type": "stream",
     "text": [
      "The middle point of image:640\n",
      "Max value at x-421 left part.\n",
      "Max value at x-1062 right part.\n"
     ]
    },
    {
     "name": "stderr",
     "output_type": "stream",
     "text": [
      "\r",
      " 60%|███████████████████████▎               | 755/1261 [03:30<01:59,  4.24it/s]"
     ]
    },
    {
     "name": "stdout",
     "output_type": "stream",
     "text": [
      "The middle point of image:640\n",
      "Max value at x-398 left part.\n",
      "Max value at x-1062 right part.\n"
     ]
    },
    {
     "name": "stderr",
     "output_type": "stream",
     "text": [
      "\r",
      " 60%|███████████████████████▍               | 756/1261 [03:30<02:13,  3.78it/s]"
     ]
    },
    {
     "name": "stdout",
     "output_type": "stream",
     "text": [
      "The middle point of image:640\n",
      "Max value at x-400 left part.\n",
      "Max value at x-1060 right part.\n"
     ]
    },
    {
     "name": "stderr",
     "output_type": "stream",
     "text": [
      "\r",
      " 60%|███████████████████████▍               | 757/1261 [03:30<02:02,  4.13it/s]"
     ]
    },
    {
     "name": "stdout",
     "output_type": "stream",
     "text": [
      "The middle point of image:640\n",
      "Max value at x-400 left part.\n",
      "Max value at x-1057 right part.\n"
     ]
    },
    {
     "name": "stderr",
     "output_type": "stream",
     "text": [
      "\r",
      " 60%|███████████████████████▍               | 758/1261 [03:30<01:53,  4.42it/s]"
     ]
    },
    {
     "name": "stdout",
     "output_type": "stream",
     "text": [
      "The middle point of image:640\n",
      "Max value at x-399 left part.\n",
      "Max value at x-1056 right part.\n"
     ]
    },
    {
     "name": "stderr",
     "output_type": "stream",
     "text": [
      "\r",
      " 60%|███████████████████████▍               | 759/1261 [03:31<01:52,  4.46it/s]"
     ]
    },
    {
     "name": "stdout",
     "output_type": "stream",
     "text": [
      "The middle point of image:640\n",
      "Max value at x-399 left part.\n",
      "Max value at x-1053 right part.\n"
     ]
    },
    {
     "name": "stderr",
     "output_type": "stream",
     "text": [
      "\r",
      " 60%|███████████████████████▌               | 760/1261 [03:31<01:55,  4.33it/s]"
     ]
    },
    {
     "name": "stdout",
     "output_type": "stream",
     "text": [
      "The middle point of image:640\n",
      "Max value at x-387 left part.\n",
      "Max value at x-1050 right part.\n"
     ]
    },
    {
     "name": "stderr",
     "output_type": "stream",
     "text": [
      "\r",
      " 60%|███████████████████████▌               | 761/1261 [03:31<01:47,  4.65it/s]"
     ]
    },
    {
     "name": "stdout",
     "output_type": "stream",
     "text": [
      "The middle point of image:640\n",
      "Max value at x-388 left part.\n",
      "Max value at x-1091 right part.\n"
     ]
    },
    {
     "name": "stderr",
     "output_type": "stream",
     "text": [
      "\r",
      " 60%|███████████████████████▌               | 762/1261 [03:32<02:30,  3.32it/s]"
     ]
    },
    {
     "name": "stdout",
     "output_type": "stream",
     "text": [
      "The middle point of image:640\n",
      "Max value at x-400 left part.\n",
      "Max value at x-1102 right part.\n"
     ]
    },
    {
     "name": "stderr",
     "output_type": "stream",
     "text": [
      "\r",
      " 61%|███████████████████████▌               | 763/1261 [03:32<02:07,  3.91it/s]"
     ]
    },
    {
     "name": "stdout",
     "output_type": "stream",
     "text": [
      "The middle point of image:640\n",
      "Max value at x-413 left part.\n",
      "Max value at x-1090 right part.\n"
     ]
    },
    {
     "name": "stderr",
     "output_type": "stream",
     "text": [
      "\r",
      " 61%|███████████████████████▋               | 764/1261 [03:32<01:53,  4.37it/s]"
     ]
    },
    {
     "name": "stdout",
     "output_type": "stream",
     "text": [
      "The middle point of image:640\n",
      "Max value at x-408 left part.\n",
      "Max value at x-1086 right part.\n"
     ]
    },
    {
     "name": "stderr",
     "output_type": "stream",
     "text": [
      "\r",
      " 61%|███████████████████████▋               | 765/1261 [03:32<01:59,  4.17it/s]"
     ]
    },
    {
     "name": "stdout",
     "output_type": "stream",
     "text": [
      "The middle point of image:640\n",
      "Max value at x-414 left part.\n",
      "Max value at x-1080 right part.\n"
     ]
    },
    {
     "name": "stderr",
     "output_type": "stream",
     "text": [
      "\r",
      " 61%|███████████████████████▋               | 766/1261 [03:32<01:51,  4.43it/s]"
     ]
    },
    {
     "name": "stdout",
     "output_type": "stream",
     "text": [
      "The middle point of image:640\n",
      "Max value at x-413 left part.\n",
      "Max value at x-1078 right part.\n"
     ]
    },
    {
     "name": "stderr",
     "output_type": "stream",
     "text": [
      "\r",
      " 61%|███████████████████████▋               | 767/1261 [03:33<02:18,  3.56it/s]"
     ]
    },
    {
     "name": "stdout",
     "output_type": "stream",
     "text": [
      "The middle point of image:640\n",
      "Max value at x-411 left part.\n",
      "Max value at x-1075 right part.\n"
     ]
    },
    {
     "name": "stderr",
     "output_type": "stream",
     "text": [
      "\r",
      " 61%|███████████████████████▊               | 768/1261 [03:33<02:44,  3.00it/s]"
     ]
    },
    {
     "name": "stdout",
     "output_type": "stream",
     "text": [
      "The middle point of image:640\n",
      "Max value at x-391 left part.\n",
      "Max value at x-1069 right part.\n"
     ]
    },
    {
     "name": "stderr",
     "output_type": "stream",
     "text": [
      "\r",
      " 61%|███████████████████████▊               | 769/1261 [03:33<02:16,  3.62it/s]"
     ]
    },
    {
     "name": "stdout",
     "output_type": "stream",
     "text": [
      "The middle point of image:640\n",
      "Max value at x-393 left part.\n",
      "Max value at x-1070 right part.\n"
     ]
    },
    {
     "name": "stderr",
     "output_type": "stream",
     "text": [
      "\r",
      " 61%|███████████████████████▊               | 770/1261 [03:34<01:55,  4.27it/s]"
     ]
    },
    {
     "name": "stdout",
     "output_type": "stream",
     "text": [
      "The middle point of image:640\n",
      "Max value at x-394 left part.\n",
      "Max value at x-1070 right part.\n"
     ]
    },
    {
     "name": "stderr",
     "output_type": "stream",
     "text": [
      "\r",
      " 61%|███████████████████████▊               | 771/1261 [03:34<01:40,  4.88it/s]"
     ]
    },
    {
     "name": "stdout",
     "output_type": "stream",
     "text": [
      "The middle point of image:640\n",
      "Max value at x-394 left part.\n",
      "Max value at x-1073 right part.\n"
     ]
    },
    {
     "name": "stderr",
     "output_type": "stream",
     "text": [
      "\r",
      " 61%|███████████████████████▉               | 772/1261 [03:34<02:01,  4.03it/s]"
     ]
    },
    {
     "name": "stdout",
     "output_type": "stream",
     "text": [
      "The middle point of image:640\n",
      "Max value at x-391 left part.\n",
      "Max value at x-1071 right part.\n"
     ]
    },
    {
     "name": "stderr",
     "output_type": "stream",
     "text": [
      "\r",
      " 61%|███████████████████████▉               | 773/1261 [03:34<01:53,  4.28it/s]"
     ]
    },
    {
     "name": "stdout",
     "output_type": "stream",
     "text": [
      "The middle point of image:640\n",
      "Max value at x-391 left part.\n",
      "Max value at x-1086 right part.\n"
     ]
    },
    {
     "name": "stderr",
     "output_type": "stream",
     "text": [
      "\r",
      " 61%|███████████████████████▉               | 774/1261 [03:35<02:17,  3.55it/s]"
     ]
    },
    {
     "name": "stdout",
     "output_type": "stream",
     "text": [
      "The middle point of image:640\n",
      "Max value at x-392 left part.\n",
      "Max value at x-1100 right part.\n"
     ]
    },
    {
     "name": "stderr",
     "output_type": "stream",
     "text": [
      "\r",
      " 61%|███████████████████████▉               | 775/1261 [03:35<02:49,  2.87it/s]"
     ]
    },
    {
     "name": "stdout",
     "output_type": "stream",
     "text": [
      "The middle point of image:640\n",
      "Max value at x-389 left part.\n",
      "Max value at x-1091 right part.\n"
     ]
    },
    {
     "name": "stderr",
     "output_type": "stream",
     "text": [
      "\r",
      " 62%|████████████████████████               | 776/1261 [03:35<02:53,  2.79it/s]"
     ]
    },
    {
     "name": "stdout",
     "output_type": "stream",
     "text": [
      "The middle point of image:640\n",
      "Max value at x-391 left part.\n",
      "Max value at x-1084 right part.\n"
     ]
    },
    {
     "name": "stderr",
     "output_type": "stream",
     "text": [
      "\r",
      " 62%|████████████████████████               | 777/1261 [03:36<02:21,  3.41it/s]"
     ]
    },
    {
     "name": "stdout",
     "output_type": "stream",
     "text": [
      "The middle point of image:640\n",
      "Max value at x-391 left part.\n",
      "Max value at x-1085 right part.\n"
     ]
    },
    {
     "name": "stderr",
     "output_type": "stream",
     "text": [
      "\r",
      " 62%|████████████████████████               | 778/1261 [03:36<02:32,  3.16it/s]"
     ]
    },
    {
     "name": "stdout",
     "output_type": "stream",
     "text": [
      "The middle point of image:640\n",
      "Max value at x-391 left part.\n",
      "Max value at x-1078 right part.\n"
     ]
    },
    {
     "name": "stderr",
     "output_type": "stream",
     "text": [
      "\r",
      " 62%|████████████████████████               | 779/1261 [03:36<02:46,  2.90it/s]"
     ]
    },
    {
     "name": "stdout",
     "output_type": "stream",
     "text": [
      "The middle point of image:640\n",
      "Max value at x-392 left part.\n",
      "Max value at x-1077 right part.\n"
     ]
    },
    {
     "name": "stderr",
     "output_type": "stream",
     "text": [
      "\r",
      " 62%|████████████████████████               | 780/1261 [03:37<02:16,  3.53it/s]"
     ]
    },
    {
     "name": "stdout",
     "output_type": "stream",
     "text": [
      "The middle point of image:640\n",
      "Max value at x-391 left part.\n",
      "Max value at x-1075 right part.\n"
     ]
    },
    {
     "name": "stderr",
     "output_type": "stream",
     "text": [
      "\r",
      " 62%|████████████████████████▏              | 781/1261 [03:37<01:54,  4.19it/s]"
     ]
    },
    {
     "name": "stdout",
     "output_type": "stream",
     "text": [
      "The middle point of image:640\n",
      "Max value at x-389 left part.\n",
      "Max value at x-1079 right part.\n"
     ]
    },
    {
     "name": "stderr",
     "output_type": "stream",
     "text": [
      "\r",
      " 62%|████████████████████████▏              | 782/1261 [03:37<02:30,  3.19it/s]"
     ]
    },
    {
     "name": "stdout",
     "output_type": "stream",
     "text": [
      "The middle point of image:640\n",
      "Max value at x-387 left part.\n",
      "Max value at x-1077 right part.\n"
     ]
    },
    {
     "name": "stderr",
     "output_type": "stream",
     "text": [
      "\r",
      " 62%|████████████████████████▏              | 783/1261 [03:37<02:14,  3.56it/s]"
     ]
    },
    {
     "name": "stdout",
     "output_type": "stream",
     "text": [
      "The middle point of image:640\n",
      "Max value at x-387 left part.\n",
      "Max value at x-1079 right part.\n"
     ]
    },
    {
     "name": "stderr",
     "output_type": "stream",
     "text": [
      "\r",
      " 62%|████████████████████████▏              | 784/1261 [03:38<01:55,  4.13it/s]"
     ]
    },
    {
     "name": "stdout",
     "output_type": "stream",
     "text": [
      "The middle point of image:640\n",
      "Max value at x-392 left part.\n",
      "Max value at x-1079 right part.\n"
     ]
    },
    {
     "name": "stderr",
     "output_type": "stream",
     "text": [
      "\r",
      " 62%|████████████████████████▎              | 785/1261 [03:38<01:40,  4.73it/s]"
     ]
    },
    {
     "name": "stdout",
     "output_type": "stream",
     "text": [
      "The middle point of image:640\n",
      "Max value at x-406 left part.\n",
      "Max value at x-1075 right part.\n"
     ]
    },
    {
     "name": "stderr",
     "output_type": "stream",
     "text": [
      "\r",
      " 62%|████████████████████████▎              | 786/1261 [03:38<02:25,  3.27it/s]"
     ]
    },
    {
     "name": "stdout",
     "output_type": "stream",
     "text": [
      "The middle point of image:640\n",
      "Max value at x-401 left part.\n",
      "Max value at x-1076 right part.\n"
     ]
    },
    {
     "name": "stderr",
     "output_type": "stream",
     "text": [
      "\r",
      " 62%|████████████████████████▎              | 787/1261 [03:39<02:38,  3.00it/s]"
     ]
    },
    {
     "name": "stdout",
     "output_type": "stream",
     "text": [
      "The middle point of image:640\n",
      "Max value at x-392 left part.\n",
      "Max value at x-1083 right part.\n"
     ]
    },
    {
     "name": "stderr",
     "output_type": "stream",
     "text": [
      "\r",
      " 62%|████████████████████████▎              | 788/1261 [03:39<02:12,  3.58it/s]"
     ]
    },
    {
     "name": "stdout",
     "output_type": "stream",
     "text": [
      "The middle point of image:640\n",
      "Max value at x-395 left part.\n",
      "Max value at x-1076 right part.\n"
     ]
    },
    {
     "name": "stderr",
     "output_type": "stream",
     "text": [
      "\r",
      " 63%|████████████████████████▍              | 789/1261 [03:39<01:51,  4.22it/s]"
     ]
    },
    {
     "name": "stdout",
     "output_type": "stream",
     "text": [
      "The middle point of image:640\n",
      "Max value at x-391 left part.\n",
      "Max value at x-1068 right part.\n"
     ]
    },
    {
     "name": "stderr",
     "output_type": "stream",
     "text": [
      "\r",
      " 63%|████████████████████████▍              | 790/1261 [03:39<02:30,  3.13it/s]"
     ]
    },
    {
     "name": "stdout",
     "output_type": "stream",
     "text": [
      "The middle point of image:640\n",
      "Max value at x-391 left part.\n",
      "Max value at x-1071 right part.\n"
     ]
    },
    {
     "name": "stderr",
     "output_type": "stream",
     "text": [
      "\r",
      " 63%|████████████████████████▍              | 791/1261 [03:40<02:45,  2.85it/s]"
     ]
    },
    {
     "name": "stdout",
     "output_type": "stream",
     "text": [
      "The middle point of image:640\n",
      "Max value at x-393 left part.\n",
      "Max value at x-1069 right part.\n"
     ]
    },
    {
     "name": "stderr",
     "output_type": "stream",
     "text": [
      "\r",
      " 63%|████████████████████████▍              | 792/1261 [03:40<02:14,  3.49it/s]"
     ]
    },
    {
     "name": "stdout",
     "output_type": "stream",
     "text": [
      "The middle point of image:640\n",
      "Max value at x-393 left part.\n",
      "Max value at x-1071 right part.\n"
     ]
    },
    {
     "name": "stderr",
     "output_type": "stream",
     "text": [
      "\r",
      " 63%|████████████████████████▌              | 793/1261 [03:40<01:53,  4.14it/s]"
     ]
    },
    {
     "name": "stdout",
     "output_type": "stream",
     "text": [
      "The middle point of image:640\n",
      "Max value at x-393 left part.\n",
      "Max value at x-1062 right part.\n"
     ]
    },
    {
     "name": "stderr",
     "output_type": "stream",
     "text": [
      "\r",
      " 63%|████████████████████████▌              | 794/1261 [03:40<01:53,  4.10it/s]"
     ]
    },
    {
     "name": "stdout",
     "output_type": "stream",
     "text": [
      "The middle point of image:640\n",
      "Max value at x-393 left part.\n",
      "Max value at x-1058 right part.\n"
     ]
    },
    {
     "name": "stderr",
     "output_type": "stream",
     "text": [
      "\r",
      " 63%|████████████████████████▌              | 795/1261 [03:40<01:43,  4.52it/s]"
     ]
    },
    {
     "name": "stdout",
     "output_type": "stream",
     "text": [
      "The middle point of image:640\n",
      "Max value at x-393 left part.\n",
      "Max value at x-1056 right part.\n"
     ]
    },
    {
     "name": "stderr",
     "output_type": "stream",
     "text": [
      "\r",
      " 63%|████████████████████████▌              | 796/1261 [03:41<02:23,  3.25it/s]"
     ]
    },
    {
     "name": "stdout",
     "output_type": "stream",
     "text": [
      "The middle point of image:640\n",
      "Max value at x-393 left part.\n",
      "Max value at x-1056 right part.\n"
     ]
    },
    {
     "name": "stderr",
     "output_type": "stream",
     "text": [
      "\r",
      " 63%|████████████████████████▋              | 797/1261 [03:41<02:18,  3.35it/s]"
     ]
    },
    {
     "name": "stdout",
     "output_type": "stream",
     "text": [
      "The middle point of image:640\n",
      "Max value at x-393 left part.\n",
      "Max value at x-1056 right part.\n"
     ]
    },
    {
     "name": "stderr",
     "output_type": "stream",
     "text": [
      "\r",
      " 63%|████████████████████████▋              | 798/1261 [03:41<01:58,  3.91it/s]"
     ]
    },
    {
     "name": "stdout",
     "output_type": "stream",
     "text": [
      "The middle point of image:640\n",
      "Max value at x-392 left part.\n",
      "Max value at x-1060 right part.\n"
     ]
    },
    {
     "name": "stderr",
     "output_type": "stream",
     "text": [
      "\r",
      " 63%|████████████████████████▋              | 799/1261 [03:42<01:44,  4.43it/s]"
     ]
    },
    {
     "name": "stdout",
     "output_type": "stream",
     "text": [
      "The middle point of image:640\n",
      "Max value at x-393 left part.\n",
      "Max value at x-1073 right part.\n"
     ]
    },
    {
     "name": "stderr",
     "output_type": "stream",
     "text": [
      "\r",
      " 63%|████████████████████████▋              | 800/1261 [03:42<01:40,  4.58it/s]"
     ]
    },
    {
     "name": "stdout",
     "output_type": "stream",
     "text": [
      "The middle point of image:640\n",
      "Max value at x-396 left part.\n",
      "Max value at x-1073 right part.\n"
     ]
    },
    {
     "name": "stderr",
     "output_type": "stream",
     "text": [
      "\r",
      " 64%|████████████████████████▊              | 801/1261 [03:42<02:13,  3.45it/s]"
     ]
    },
    {
     "name": "stdout",
     "output_type": "stream",
     "text": [
      "The middle point of image:640\n",
      "Max value at x-392 left part.\n",
      "Max value at x-1071 right part.\n"
     ]
    },
    {
     "name": "stderr",
     "output_type": "stream",
     "text": [
      "\r",
      " 64%|████████████████████████▊              | 802/1261 [03:42<01:59,  3.85it/s]"
     ]
    },
    {
     "name": "stdout",
     "output_type": "stream",
     "text": [
      "The middle point of image:640\n",
      "Max value at x-396 left part.\n",
      "Max value at x-1066 right part.\n"
     ]
    },
    {
     "name": "stderr",
     "output_type": "stream",
     "text": [
      "\r",
      " 64%|████████████████████████▊              | 803/1261 [03:43<01:44,  4.39it/s]"
     ]
    },
    {
     "name": "stdout",
     "output_type": "stream",
     "text": [
      "The middle point of image:640\n",
      "Max value at x-398 left part.\n",
      "Max value at x-1063 right part.\n"
     ]
    },
    {
     "name": "stderr",
     "output_type": "stream",
     "text": [
      "\r",
      " 64%|████████████████████████▊              | 804/1261 [03:43<02:00,  3.78it/s]"
     ]
    },
    {
     "name": "stdout",
     "output_type": "stream",
     "text": [
      "The middle point of image:640\n",
      "Max value at x-399 left part.\n",
      "Max value at x-1058 right part.\n"
     ]
    },
    {
     "name": "stderr",
     "output_type": "stream",
     "text": [
      "\r",
      " 64%|████████████████████████▉              | 805/1261 [03:43<01:53,  4.01it/s]"
     ]
    },
    {
     "name": "stdout",
     "output_type": "stream",
     "text": [
      "The middle point of image:640\n",
      "Max value at x-399 left part.\n",
      "Max value at x-1048 right part.\n"
     ]
    },
    {
     "name": "stderr",
     "output_type": "stream",
     "text": [
      "\r",
      " 64%|████████████████████████▉              | 806/1261 [03:43<01:39,  4.58it/s]"
     ]
    },
    {
     "name": "stdout",
     "output_type": "stream",
     "text": [
      "The middle point of image:640\n",
      "Max value at x-396 left part.\n",
      "Max value at x-1049 right part.\n"
     ]
    },
    {
     "name": "stderr",
     "output_type": "stream",
     "text": [
      "\r",
      " 64%|████████████████████████▉              | 807/1261 [03:44<01:49,  4.16it/s]"
     ]
    },
    {
     "name": "stdout",
     "output_type": "stream",
     "text": [
      "The middle point of image:640\n",
      "Max value at x-394 left part.\n",
      "Max value at x-1049 right part.\n"
     ]
    },
    {
     "name": "stderr",
     "output_type": "stream",
     "text": [
      "\r",
      " 64%|████████████████████████▉              | 808/1261 [03:44<01:47,  4.22it/s]"
     ]
    },
    {
     "name": "stdout",
     "output_type": "stream",
     "text": [
      "The middle point of image:640\n",
      "Max value at x-391 left part.\n",
      "Max value at x-1050 right part.\n"
     ]
    },
    {
     "name": "stderr",
     "output_type": "stream",
     "text": [
      "\r",
      " 64%|█████████████████████████              | 809/1261 [03:44<01:36,  4.71it/s]"
     ]
    },
    {
     "name": "stdout",
     "output_type": "stream",
     "text": [
      "The middle point of image:640\n",
      "Max value at x-386 left part.\n",
      "Max value at x-1051 right part.\n"
     ]
    },
    {
     "name": "stderr",
     "output_type": "stream",
     "text": [
      "\r",
      " 64%|█████████████████████████              | 810/1261 [03:44<01:59,  3.78it/s]"
     ]
    },
    {
     "name": "stdout",
     "output_type": "stream",
     "text": [
      "The middle point of image:640\n",
      "Max value at x-385 left part.\n",
      "Max value at x-1066 right part.\n"
     ]
    },
    {
     "name": "stderr",
     "output_type": "stream",
     "text": [
      "\r",
      " 64%|█████████████████████████              | 811/1261 [03:45<01:44,  4.32it/s]"
     ]
    },
    {
     "name": "stdout",
     "output_type": "stream",
     "text": [
      "The middle point of image:640\n",
      "Max value at x-382 left part.\n",
      "Max value at x-1069 right part.\n"
     ]
    },
    {
     "name": "stderr",
     "output_type": "stream",
     "text": [
      "\r",
      " 64%|█████████████████████████              | 812/1261 [03:45<01:33,  4.81it/s]"
     ]
    },
    {
     "name": "stdout",
     "output_type": "stream",
     "text": [
      "The middle point of image:640\n",
      "Max value at x-381 left part.\n",
      "Max value at x-1069 right part.\n"
     ]
    },
    {
     "name": "stderr",
     "output_type": "stream",
     "text": [
      "\r",
      " 64%|█████████████████████████▏             | 813/1261 [03:45<01:46,  4.20it/s]"
     ]
    },
    {
     "name": "stdout",
     "output_type": "stream",
     "text": [
      "The middle point of image:640\n",
      "Max value at x-367 left part.\n",
      "Max value at x-1066 right part.\n"
     ]
    },
    {
     "name": "stderr",
     "output_type": "stream",
     "text": [
      "\r",
      " 65%|█████████████████████████▏             | 814/1261 [03:45<01:34,  4.71it/s]"
     ]
    },
    {
     "name": "stdout",
     "output_type": "stream",
     "text": [
      "The middle point of image:640\n",
      "Max value at x-375 left part.\n",
      "Max value at x-1058 right part.\n"
     ]
    },
    {
     "name": "stderr",
     "output_type": "stream",
     "text": [
      "\r",
      " 65%|█████████████████████████▏             | 815/1261 [03:46<02:01,  3.66it/s]"
     ]
    },
    {
     "name": "stdout",
     "output_type": "stream",
     "text": [
      "The middle point of image:640\n",
      "Max value at x-369 left part.\n",
      "Max value at x-1047 right part.\n"
     ]
    },
    {
     "name": "stderr",
     "output_type": "stream",
     "text": [
      "\r",
      " 65%|█████████████████████████▏             | 816/1261 [03:46<01:45,  4.23it/s]"
     ]
    },
    {
     "name": "stdout",
     "output_type": "stream",
     "text": [
      "The middle point of image:640\n",
      "Max value at x-374 left part.\n",
      "Max value at x-1048 right part.\n"
     ]
    },
    {
     "name": "stderr",
     "output_type": "stream",
     "text": [
      "\r",
      " 65%|█████████████████████████▎             | 817/1261 [03:46<01:33,  4.75it/s]"
     ]
    },
    {
     "name": "stdout",
     "output_type": "stream",
     "text": [
      "The middle point of image:640\n",
      "Max value at x-373 left part.\n",
      "Max value at x-1047 right part.\n"
     ]
    },
    {
     "name": "stderr",
     "output_type": "stream",
     "text": [
      "\r",
      " 65%|█████████████████████████▎             | 818/1261 [03:46<01:38,  4.51it/s]"
     ]
    },
    {
     "name": "stdout",
     "output_type": "stream",
     "text": [
      "The middle point of image:640\n",
      "Max value at x-372 left part.\n",
      "Max value at x-1051 right part.\n"
     ]
    },
    {
     "name": "stderr",
     "output_type": "stream",
     "text": [
      "\r",
      " 65%|█████████████████████████▎             | 819/1261 [03:46<01:30,  4.88it/s]"
     ]
    },
    {
     "name": "stdout",
     "output_type": "stream",
     "text": [
      "The middle point of image:640\n",
      "Max value at x-370 left part.\n",
      "Max value at x-1051 right part.\n"
     ]
    },
    {
     "name": "stderr",
     "output_type": "stream",
     "text": [
      "\r",
      " 65%|█████████████████████████▎             | 820/1261 [03:47<01:49,  4.01it/s]"
     ]
    },
    {
     "name": "stdout",
     "output_type": "stream",
     "text": [
      "The middle point of image:640\n",
      "Max value at x-368 left part.\n",
      "Max value at x-1053 right part.\n"
     ]
    },
    {
     "name": "stderr",
     "output_type": "stream",
     "text": [
      "\r",
      " 65%|█████████████████████████▍             | 821/1261 [03:47<01:44,  4.20it/s]"
     ]
    },
    {
     "name": "stdout",
     "output_type": "stream",
     "text": [
      "The middle point of image:640\n",
      "Max value at x-368 left part.\n",
      "Max value at x-1048 right part.\n"
     ]
    },
    {
     "name": "stderr",
     "output_type": "stream",
     "text": [
      "\r",
      " 65%|█████████████████████████▍             | 822/1261 [03:47<01:34,  4.64it/s]"
     ]
    },
    {
     "name": "stdout",
     "output_type": "stream",
     "text": [
      "The middle point of image:640\n",
      "Max value at x-366 left part.\n",
      "Max value at x-1050 right part.\n"
     ]
    },
    {
     "name": "stderr",
     "output_type": "stream",
     "text": [
      "\r",
      " 65%|█████████████████████████▍             | 823/1261 [03:47<01:50,  3.96it/s]"
     ]
    },
    {
     "name": "stdout",
     "output_type": "stream",
     "text": [
      "The middle point of image:640\n",
      "Max value at x-359 left part.\n",
      "Max value at x-1041 right part.\n"
     ]
    },
    {
     "name": "stderr",
     "output_type": "stream",
     "text": [
      "\r",
      " 65%|█████████████████████████▍             | 824/1261 [03:47<01:39,  4.40it/s]"
     ]
    },
    {
     "name": "stdout",
     "output_type": "stream",
     "text": [
      "The middle point of image:640\n",
      "Max value at x-361 left part.\n",
      "Max value at x-1045 right part.\n"
     ]
    },
    {
     "name": "stderr",
     "output_type": "stream",
     "text": [
      "\r",
      " 65%|█████████████████████████▌             | 825/1261 [03:48<01:41,  4.30it/s]"
     ]
    },
    {
     "name": "stdout",
     "output_type": "stream",
     "text": [
      "The middle point of image:640\n",
      "Max value at x-360 left part.\n",
      "Max value at x-1035 right part.\n"
     ]
    },
    {
     "name": "stderr",
     "output_type": "stream",
     "text": [
      "\r",
      " 66%|█████████████████████████▌             | 826/1261 [03:48<01:33,  4.64it/s]"
     ]
    },
    {
     "name": "stdout",
     "output_type": "stream",
     "text": [
      "The middle point of image:640\n",
      "Max value at x-355 left part.\n",
      "Max value at x-1033 right part.\n"
     ]
    },
    {
     "name": "stderr",
     "output_type": "stream",
     "text": [
      "\r",
      " 66%|█████████████████████████▌             | 827/1261 [03:48<02:04,  3.48it/s]"
     ]
    },
    {
     "name": "stdout",
     "output_type": "stream",
     "text": [
      "The middle point of image:640\n",
      "Max value at x-353 left part.\n",
      "Max value at x-1031 right part.\n"
     ]
    },
    {
     "name": "stderr",
     "output_type": "stream",
     "text": [
      "\r",
      " 66%|█████████████████████████▌             | 828/1261 [03:49<01:51,  3.89it/s]"
     ]
    },
    {
     "name": "stdout",
     "output_type": "stream",
     "text": [
      "The middle point of image:640\n",
      "Max value at x-359 left part.\n",
      "Max value at x-1028 right part.\n"
     ]
    },
    {
     "name": "stderr",
     "output_type": "stream",
     "text": [
      "\r",
      " 66%|█████████████████████████▋             | 829/1261 [03:49<01:37,  4.44it/s]"
     ]
    },
    {
     "name": "stdout",
     "output_type": "stream",
     "text": [
      "The middle point of image:640\n",
      "Max value at x-355 left part.\n",
      "Max value at x-1028 right part.\n"
     ]
    },
    {
     "name": "stderr",
     "output_type": "stream",
     "text": [
      "\r",
      " 66%|█████████████████████████▋             | 830/1261 [03:49<01:26,  4.96it/s]"
     ]
    },
    {
     "name": "stdout",
     "output_type": "stream",
     "text": [
      "The middle point of image:640\n",
      "Max value at x-353 left part.\n",
      "Max value at x-1022 right part.\n"
     ]
    },
    {
     "name": "stderr",
     "output_type": "stream",
     "text": [
      "\r",
      " 66%|█████████████████████████▋             | 831/1261 [03:49<02:08,  3.34it/s]"
     ]
    },
    {
     "name": "stdout",
     "output_type": "stream",
     "text": [
      "The middle point of image:640\n",
      "Max value at x-354 left part.\n",
      "Max value at x-1020 right part.\n"
     ]
    },
    {
     "name": "stderr",
     "output_type": "stream",
     "text": [
      "\r",
      " 66%|█████████████████████████▋             | 832/1261 [03:50<01:52,  3.80it/s]"
     ]
    },
    {
     "name": "stdout",
     "output_type": "stream",
     "text": [
      "The middle point of image:640\n",
      "Max value at x-353 left part.\n",
      "Max value at x-1020 right part.\n"
     ]
    },
    {
     "name": "stderr",
     "output_type": "stream",
     "text": [
      "\r",
      " 66%|█████████████████████████▊             | 833/1261 [03:50<01:38,  4.36it/s]"
     ]
    },
    {
     "name": "stdout",
     "output_type": "stream",
     "text": [
      "The middle point of image:640\n",
      "Max value at x-347 left part.\n",
      "Max value at x-1032 right part.\n"
     ]
    },
    {
     "name": "stderr",
     "output_type": "stream",
     "text": [
      "\r",
      " 66%|█████████████████████████▊             | 834/1261 [03:50<01:43,  4.13it/s]"
     ]
    },
    {
     "name": "stdout",
     "output_type": "stream",
     "text": [
      "The middle point of image:640\n",
      "Max value at x-344 left part.\n",
      "Max value at x-1032 right part.\n"
     ]
    },
    {
     "name": "stderr",
     "output_type": "stream",
     "text": [
      "\r",
      " 66%|█████████████████████████▊             | 835/1261 [03:50<01:33,  4.57it/s]"
     ]
    },
    {
     "name": "stdout",
     "output_type": "stream",
     "text": [
      "The middle point of image:640\n",
      "Max value at x-335 left part.\n",
      "Max value at x-1027 right part.\n"
     ]
    },
    {
     "name": "stderr",
     "output_type": "stream",
     "text": [
      "\r",
      " 66%|█████████████████████████▊             | 836/1261 [03:51<01:49,  3.87it/s]"
     ]
    },
    {
     "name": "stdout",
     "output_type": "stream",
     "text": [
      "The middle point of image:640\n",
      "Max value at x-330 left part.\n",
      "Max value at x-1037 right part.\n"
     ]
    },
    {
     "name": "stderr",
     "output_type": "stream",
     "text": [
      "\r",
      " 66%|█████████████████████████▉             | 837/1261 [03:51<01:41,  4.17it/s]"
     ]
    },
    {
     "name": "stdout",
     "output_type": "stream",
     "text": [
      "The middle point of image:640\n",
      "Max value at x-331 left part.\n",
      "Max value at x-1026 right part.\n"
     ]
    },
    {
     "name": "stderr",
     "output_type": "stream",
     "text": [
      "\r",
      " 66%|█████████████████████████▉             | 838/1261 [03:51<01:31,  4.64it/s]"
     ]
    },
    {
     "name": "stdout",
     "output_type": "stream",
     "text": [
      "The middle point of image:640\n",
      "Max value at x-331 left part.\n",
      "Max value at x-1020 right part.\n"
     ]
    },
    {
     "name": "stderr",
     "output_type": "stream",
     "text": [
      "\r",
      " 67%|█████████████████████████▉             | 839/1261 [03:51<01:45,  4.00it/s]"
     ]
    },
    {
     "name": "stdout",
     "output_type": "stream",
     "text": [
      "The middle point of image:640\n",
      "Max value at x-330 left part.\n",
      "Max value at x-1017 right part.\n"
     ]
    },
    {
     "name": "stderr",
     "output_type": "stream",
     "text": [
      "\r",
      " 67%|█████████████████████████▉             | 840/1261 [03:52<02:07,  3.29it/s]"
     ]
    },
    {
     "name": "stdout",
     "output_type": "stream",
     "text": [
      "The middle point of image:640\n",
      "Max value at x-333 left part.\n",
      "Max value at x-1016 right part.\n"
     ]
    },
    {
     "name": "stderr",
     "output_type": "stream",
     "text": [
      "\r",
      " 67%|██████████████████████████             | 841/1261 [03:52<02:08,  3.27it/s]"
     ]
    },
    {
     "name": "stdout",
     "output_type": "stream",
     "text": [
      "The middle point of image:640\n",
      "Max value at x-318 left part.\n",
      "Max value at x-1020 right part.\n"
     ]
    },
    {
     "name": "stderr",
     "output_type": "stream",
     "text": [
      "\r",
      " 67%|██████████████████████████             | 842/1261 [03:52<02:26,  2.86it/s]"
     ]
    },
    {
     "name": "stdout",
     "output_type": "stream",
     "text": [
      "The middle point of image:640\n",
      "Max value at x-327 left part.\n",
      "Max value at x-1025 right part.\n"
     ]
    },
    {
     "name": "stderr",
     "output_type": "stream",
     "text": [
      "\r",
      " 67%|██████████████████████████             | 843/1261 [03:53<02:02,  3.41it/s]"
     ]
    },
    {
     "name": "stdout",
     "output_type": "stream",
     "text": [
      "The middle point of image:640\n",
      "Max value at x-311 left part.\n",
      "Max value at x-1025 right part.\n"
     ]
    },
    {
     "name": "stderr",
     "output_type": "stream",
     "text": [
      "\r",
      " 67%|██████████████████████████             | 844/1261 [03:53<01:42,  4.08it/s]"
     ]
    },
    {
     "name": "stdout",
     "output_type": "stream",
     "text": [
      "The middle point of image:640\n",
      "Max value at x-325 left part.\n",
      "Max value at x-1028 right part.\n"
     ]
    },
    {
     "name": "stderr",
     "output_type": "stream",
     "text": [
      "\r",
      " 67%|██████████████████████████▏            | 845/1261 [03:53<01:43,  4.03it/s]"
     ]
    },
    {
     "name": "stdout",
     "output_type": "stream",
     "text": [
      "The middle point of image:640\n",
      "Max value at x-316 left part.\n",
      "Max value at x-1026 right part.\n"
     ]
    },
    {
     "name": "stderr",
     "output_type": "stream",
     "text": [
      "\r",
      " 67%|██████████████████████████▏            | 846/1261 [03:53<02:17,  3.02it/s]"
     ]
    },
    {
     "name": "stdout",
     "output_type": "stream",
     "text": [
      "The middle point of image:640\n",
      "Max value at x-314 left part.\n",
      "Max value at x-1032 right part.\n"
     ]
    },
    {
     "name": "stderr",
     "output_type": "stream",
     "text": [
      "\r",
      " 67%|██████████████████████████▏            | 847/1261 [03:54<01:57,  3.53it/s]"
     ]
    },
    {
     "name": "stdout",
     "output_type": "stream",
     "text": [
      "The middle point of image:640\n",
      "Max value at x-311 left part.\n",
      "Max value at x-1036 right part.\n"
     ]
    },
    {
     "name": "stderr",
     "output_type": "stream",
     "text": [
      "\r",
      " 67%|██████████████████████████▏            | 848/1261 [03:54<01:40,  4.10it/s]"
     ]
    },
    {
     "name": "stdout",
     "output_type": "stream",
     "text": [
      "The middle point of image:640\n",
      "Max value at x-310 left part.\n",
      "Max value at x-1030 right part.\n"
     ]
    },
    {
     "name": "stderr",
     "output_type": "stream",
     "text": [
      "\r",
      " 67%|██████████████████████████▎            | 849/1261 [03:54<02:04,  3.30it/s]"
     ]
    },
    {
     "name": "stdout",
     "output_type": "stream",
     "text": [
      "The middle point of image:640\n",
      "Max value at x-311 left part.\n",
      "Max value at x-1027 right part.\n"
     ]
    },
    {
     "name": "stderr",
     "output_type": "stream",
     "text": [
      "\r",
      " 67%|██████████████████████████▎            | 850/1261 [03:55<02:45,  2.48it/s]"
     ]
    },
    {
     "name": "stdout",
     "output_type": "stream",
     "text": [
      "The middle point of image:640\n",
      "Max value at x-317 left part.\n",
      "Max value at x-1025 right part.\n"
     ]
    },
    {
     "name": "stderr",
     "output_type": "stream",
     "text": [
      "\r",
      " 67%|██████████████████████████▎            | 851/1261 [03:55<02:15,  3.03it/s]"
     ]
    },
    {
     "name": "stdout",
     "output_type": "stream",
     "text": [
      "The middle point of image:640\n",
      "Max value at x-314 left part.\n",
      "Max value at x-1025 right part.\n"
     ]
    },
    {
     "name": "stderr",
     "output_type": "stream",
     "text": [
      "\r",
      " 68%|██████████████████████████▎            | 852/1261 [03:55<01:51,  3.68it/s]"
     ]
    },
    {
     "name": "stdout",
     "output_type": "stream",
     "text": [
      "The middle point of image:640\n",
      "Max value at x-313 left part.\n",
      "Max value at x-1015 right part.\n"
     ]
    },
    {
     "name": "stderr",
     "output_type": "stream",
     "text": [
      "\r",
      " 68%|██████████████████████████▍            | 853/1261 [03:56<02:16,  3.00it/s]"
     ]
    },
    {
     "name": "stdout",
     "output_type": "stream",
     "text": [
      "The middle point of image:640\n",
      "Max value at x-312 left part.\n",
      "Max value at x-1025 right part.\n"
     ]
    },
    {
     "name": "stderr",
     "output_type": "stream",
     "text": [
      "\r",
      " 68%|██████████████████████████▍            | 854/1261 [03:56<03:15,  2.09it/s]"
     ]
    },
    {
     "name": "stdout",
     "output_type": "stream",
     "text": [
      "The middle point of image:640\n",
      "Max value at x-311 left part.\n",
      "Max value at x-1023 right part.\n"
     ]
    },
    {
     "name": "stderr",
     "output_type": "stream",
     "text": [
      "\r",
      " 68%|██████████████████████████▍            | 855/1261 [03:57<02:32,  2.66it/s]"
     ]
    },
    {
     "name": "stdout",
     "output_type": "stream",
     "text": [
      "The middle point of image:640\n",
      "Max value at x-312 left part.\n",
      "Max value at x-1024 right part.\n"
     ]
    },
    {
     "name": "stderr",
     "output_type": "stream",
     "text": [
      "\r",
      " 68%|██████████████████████████▍            | 856/1261 [03:57<02:02,  3.30it/s]"
     ]
    },
    {
     "name": "stdout",
     "output_type": "stream",
     "text": [
      "The middle point of image:640\n",
      "Max value at x-311 left part.\n",
      "Max value at x-1043 right part.\n"
     ]
    },
    {
     "name": "stderr",
     "output_type": "stream",
     "text": [
      "\r",
      " 68%|██████████████████████████▌            | 857/1261 [03:57<01:58,  3.42it/s]"
     ]
    },
    {
     "name": "stdout",
     "output_type": "stream",
     "text": [
      "The middle point of image:640\n",
      "Max value at x-312 left part.\n",
      "Max value at x-1046 right part.\n"
     ]
    },
    {
     "name": "stderr",
     "output_type": "stream",
     "text": [
      "\r",
      " 68%|██████████████████████████▌            | 858/1261 [03:57<01:45,  3.82it/s]"
     ]
    },
    {
     "name": "stdout",
     "output_type": "stream",
     "text": [
      "The middle point of image:640\n",
      "Max value at x-328 left part.\n",
      "Max value at x-1042 right part.\n"
     ]
    },
    {
     "name": "stderr",
     "output_type": "stream",
     "text": [
      "\r",
      " 68%|██████████████████████████▌            | 859/1261 [03:58<02:04,  3.23it/s]"
     ]
    },
    {
     "name": "stdout",
     "output_type": "stream",
     "text": [
      "The middle point of image:640\n",
      "Max value at x-329 left part.\n",
      "Max value at x-1037 right part.\n"
     ]
    },
    {
     "name": "stderr",
     "output_type": "stream",
     "text": [
      "\r",
      " 68%|██████████████████████████▌            | 860/1261 [03:58<02:14,  2.98it/s]"
     ]
    },
    {
     "name": "stdout",
     "output_type": "stream",
     "text": [
      "The middle point of image:640\n",
      "Max value at x-328 left part.\n",
      "Max value at x-1029 right part.\n"
     ]
    },
    {
     "name": "stderr",
     "output_type": "stream",
     "text": [
      "\r",
      " 68%|██████████████████████████▋            | 861/1261 [03:58<01:50,  3.63it/s]"
     ]
    },
    {
     "name": "stdout",
     "output_type": "stream",
     "text": [
      "The middle point of image:640\n",
      "Max value at x-325 left part.\n",
      "Max value at x-1028 right part.\n"
     ]
    },
    {
     "name": "stderr",
     "output_type": "stream",
     "text": [
      "\r",
      " 68%|██████████████████████████▋            | 862/1261 [03:58<01:33,  4.28it/s]"
     ]
    },
    {
     "name": "stdout",
     "output_type": "stream",
     "text": [
      "The middle point of image:640\n",
      "Max value at x-322 left part.\n",
      "Max value at x-1028 right part.\n"
     ]
    },
    {
     "name": "stderr",
     "output_type": "stream",
     "text": [
      "\r",
      " 68%|██████████████████████████▋            | 863/1261 [03:59<02:09,  3.08it/s]"
     ]
    },
    {
     "name": "stdout",
     "output_type": "stream",
     "text": [
      "The middle point of image:640\n",
      "Max value at x-317 left part.\n",
      "Max value at x-1027 right part.\n"
     ]
    },
    {
     "name": "stderr",
     "output_type": "stream",
     "text": [
      "\r",
      " 69%|██████████████████████████▋            | 864/1261 [03:59<01:51,  3.56it/s]"
     ]
    },
    {
     "name": "stdout",
     "output_type": "stream",
     "text": [
      "The middle point of image:640\n",
      "Max value at x-313 left part.\n",
      "Max value at x-1027 right part.\n"
     ]
    },
    {
     "name": "stderr",
     "output_type": "stream",
     "text": [
      "\r",
      " 69%|██████████████████████████▊            | 865/1261 [03:59<01:33,  4.24it/s]"
     ]
    },
    {
     "name": "stdout",
     "output_type": "stream",
     "text": [
      "The middle point of image:640\n",
      "Max value at x-317 left part.\n",
      "Max value at x-1024 right part.\n"
     ]
    },
    {
     "name": "stderr",
     "output_type": "stream",
     "text": [
      "\r",
      " 69%|██████████████████████████▊            | 866/1261 [03:59<01:21,  4.83it/s]"
     ]
    },
    {
     "name": "stdout",
     "output_type": "stream",
     "text": [
      "The middle point of image:640\n",
      "Max value at x-312 left part.\n",
      "Max value at x-1021 right part.\n"
     ]
    },
    {
     "name": "stderr",
     "output_type": "stream",
     "text": [
      "\r",
      " 69%|██████████████████████████▊            | 867/1261 [04:00<02:01,  3.24it/s]"
     ]
    },
    {
     "name": "stdout",
     "output_type": "stream",
     "text": [
      "The middle point of image:640\n",
      "Max value at x-314 left part.\n",
      "Max value at x-1017 right part.\n"
     ]
    },
    {
     "name": "stderr",
     "output_type": "stream",
     "text": [
      "\r",
      " 69%|██████████████████████████▊            | 868/1261 [04:00<01:44,  3.76it/s]"
     ]
    },
    {
     "name": "stdout",
     "output_type": "stream",
     "text": [
      "The middle point of image:640\n",
      "Max value at x-315 left part.\n",
      "Max value at x-1046 right part.\n"
     ]
    },
    {
     "name": "stderr",
     "output_type": "stream",
     "text": [
      "\r",
      " 69%|██████████████████████████▉            | 869/1261 [04:00<01:29,  4.40it/s]"
     ]
    },
    {
     "name": "stdout",
     "output_type": "stream",
     "text": [
      "The middle point of image:640\n",
      "Max value at x-315 left part.\n",
      "Max value at x-1052 right part.\n"
     ]
    },
    {
     "name": "stderr",
     "output_type": "stream",
     "text": [
      "\r",
      " 69%|██████████████████████████▉            | 870/1261 [04:00<01:19,  4.89it/s]"
     ]
    },
    {
     "name": "stdout",
     "output_type": "stream",
     "text": [
      "The middle point of image:640\n",
      "Max value at x-318 left part.\n",
      "Max value at x-1041 right part.\n"
     ]
    },
    {
     "name": "stderr",
     "output_type": "stream",
     "text": [
      "\r",
      " 69%|██████████████████████████▉            | 871/1261 [04:01<01:59,  3.27it/s]"
     ]
    },
    {
     "name": "stdout",
     "output_type": "stream",
     "text": [
      "The middle point of image:640\n",
      "Max value at x-314 left part.\n",
      "Max value at x-1045 right part.\n"
     ]
    },
    {
     "name": "stderr",
     "output_type": "stream",
     "text": [
      "\r",
      " 69%|██████████████████████████▉            | 872/1261 [04:01<01:43,  3.75it/s]"
     ]
    },
    {
     "name": "stdout",
     "output_type": "stream",
     "text": [
      "The middle point of image:640\n",
      "Max value at x-314 left part.\n",
      "Max value at x-1038 right part.\n"
     ]
    },
    {
     "name": "stderr",
     "output_type": "stream",
     "text": [
      "\r",
      " 69%|███████████████████████████            | 873/1261 [04:01<01:28,  4.40it/s]"
     ]
    },
    {
     "name": "stdout",
     "output_type": "stream",
     "text": [
      "The middle point of image:640\n",
      "Max value at x-308 left part.\n",
      "Max value at x-1036 right part.\n"
     ]
    },
    {
     "name": "stderr",
     "output_type": "stream",
     "text": [
      "\r",
      " 69%|███████████████████████████            | 874/1261 [04:01<01:17,  4.98it/s]"
     ]
    },
    {
     "name": "stdout",
     "output_type": "stream",
     "text": [
      "The middle point of image:640\n",
      "Max value at x-308 left part.\n",
      "Max value at x-1034 right part.\n"
     ]
    },
    {
     "name": "stderr",
     "output_type": "stream",
     "text": [
      "\r",
      " 69%|███████████████████████████            | 875/1261 [04:01<01:21,  4.75it/s]"
     ]
    },
    {
     "name": "stdout",
     "output_type": "stream",
     "text": [
      "The middle point of image:640\n",
      "Max value at x-313 left part.\n",
      "Max value at x-1029 right part.\n"
     ]
    },
    {
     "name": "stderr",
     "output_type": "stream",
     "text": [
      "\r",
      " 69%|███████████████████████████            | 876/1261 [04:02<01:30,  4.25it/s]"
     ]
    },
    {
     "name": "stdout",
     "output_type": "stream",
     "text": [
      "The middle point of image:640\n",
      "Max value at x-309 left part.\n",
      "Max value at x-1025 right part.\n"
     ]
    },
    {
     "name": "stderr",
     "output_type": "stream",
     "text": [
      "\r",
      " 70%|███████████████████████████            | 877/1261 [04:02<01:23,  4.57it/s]"
     ]
    },
    {
     "name": "stdout",
     "output_type": "stream",
     "text": [
      "The middle point of image:640\n",
      "Max value at x-313 left part.\n",
      "Max value at x-1026 right part.\n"
     ]
    },
    {
     "name": "stderr",
     "output_type": "stream",
     "text": [
      "\r",
      " 70%|███████████████████████████▏           | 878/1261 [04:02<01:49,  3.50it/s]"
     ]
    },
    {
     "name": "stdout",
     "output_type": "stream",
     "text": [
      "The middle point of image:640\n",
      "Max value at x-314 left part.\n",
      "Max value at x-1025 right part.\n"
     ]
    },
    {
     "name": "stderr",
     "output_type": "stream",
     "text": [
      "\r",
      " 70%|███████████████████████████▏           | 879/1261 [04:03<01:33,  4.07it/s]"
     ]
    },
    {
     "name": "stdout",
     "output_type": "stream",
     "text": [
      "The middle point of image:640\n",
      "Max value at x-314 left part.\n",
      "Max value at x-1023 right part.\n"
     ]
    },
    {
     "name": "stderr",
     "output_type": "stream",
     "text": [
      "\r",
      " 70%|███████████████████████████▏           | 880/1261 [04:03<01:22,  4.64it/s]"
     ]
    },
    {
     "name": "stdout",
     "output_type": "stream",
     "text": [
      "The middle point of image:640\n",
      "Max value at x-315 left part.\n",
      "Max value at x-1055 right part.\n"
     ]
    },
    {
     "name": "stderr",
     "output_type": "stream",
     "text": [
      "\r",
      " 70%|███████████████████████████▏           | 881/1261 [04:03<01:33,  4.08it/s]"
     ]
    },
    {
     "name": "stdout",
     "output_type": "stream",
     "text": [
      "The middle point of image:640\n",
      "Max value at x-310 left part.\n",
      "Max value at x-1066 right part.\n"
     ]
    },
    {
     "name": "stderr",
     "output_type": "stream",
     "text": [
      "\r",
      " 70%|███████████████████████████▎           | 882/1261 [04:03<01:26,  4.39it/s]"
     ]
    },
    {
     "name": "stdout",
     "output_type": "stream",
     "text": [
      "The middle point of image:640\n",
      "Max value at x-310 left part.\n",
      "Max value at x-1058 right part.\n"
     ]
    },
    {
     "name": "stderr",
     "output_type": "stream",
     "text": [
      "\r",
      " 70%|███████████████████████████▎           | 883/1261 [04:04<01:44,  3.62it/s]"
     ]
    },
    {
     "name": "stdout",
     "output_type": "stream",
     "text": [
      "The middle point of image:640\n",
      "Max value at x-314 left part.\n",
      "Max value at x-1051 right part.\n"
     ]
    },
    {
     "name": "stderr",
     "output_type": "stream",
     "text": [
      "\r",
      " 70%|███████████████████████████▎           | 884/1261 [04:04<01:30,  4.16it/s]"
     ]
    },
    {
     "name": "stdout",
     "output_type": "stream",
     "text": [
      "The middle point of image:640\n",
      "Max value at x-314 left part.\n",
      "Max value at x-1040 right part.\n"
     ]
    },
    {
     "name": "stderr",
     "output_type": "stream",
     "text": [
      "\r",
      " 70%|███████████████████████████▎           | 885/1261 [04:04<01:19,  4.70it/s]"
     ]
    },
    {
     "name": "stdout",
     "output_type": "stream",
     "text": [
      "The middle point of image:640\n",
      "Max value at x-315 left part.\n",
      "Max value at x-1032 right part.\n"
     ]
    },
    {
     "name": "stderr",
     "output_type": "stream",
     "text": [
      "\r",
      " 70%|███████████████████████████▍           | 886/1261 [04:04<01:29,  4.20it/s]"
     ]
    },
    {
     "name": "stdout",
     "output_type": "stream",
     "text": [
      "The middle point of image:640\n",
      "Max value at x-313 left part.\n",
      "Max value at x-1031 right part.\n"
     ]
    },
    {
     "name": "stderr",
     "output_type": "stream",
     "text": [
      "\r",
      " 70%|███████████████████████████▍           | 887/1261 [04:04<01:21,  4.59it/s]"
     ]
    },
    {
     "name": "stdout",
     "output_type": "stream",
     "text": [
      "The middle point of image:640\n",
      "Max value at x-316 left part.\n",
      "Max value at x-1028 right part.\n"
     ]
    },
    {
     "name": "stderr",
     "output_type": "stream",
     "text": [
      "\r",
      " 70%|███████████████████████████▍           | 888/1261 [04:05<01:34,  3.97it/s]"
     ]
    },
    {
     "name": "stdout",
     "output_type": "stream",
     "text": [
      "The middle point of image:640\n",
      "Max value at x-317 left part.\n",
      "Max value at x-1027 right part.\n"
     ]
    },
    {
     "name": "stderr",
     "output_type": "stream",
     "text": [
      "\r",
      " 70%|███████████████████████████▍           | 889/1261 [04:05<01:22,  4.51it/s]"
     ]
    },
    {
     "name": "stdout",
     "output_type": "stream",
     "text": [
      "The middle point of image:640\n",
      "Max value at x-316 left part.\n",
      "Max value at x-1025 right part.\n"
     ]
    },
    {
     "name": "stderr",
     "output_type": "stream",
     "text": [
      "\r",
      " 71%|███████████████████████████▌           | 890/1261 [04:05<01:21,  4.55it/s]"
     ]
    },
    {
     "name": "stdout",
     "output_type": "stream",
     "text": [
      "The middle point of image:640\n",
      "Max value at x-316 left part.\n",
      "Max value at x-1028 right part.\n"
     ]
    },
    {
     "name": "stderr",
     "output_type": "stream",
     "text": [
      "\r",
      " 71%|███████████████████████████▌           | 891/1261 [04:05<01:18,  4.69it/s]"
     ]
    },
    {
     "name": "stdout",
     "output_type": "stream",
     "text": [
      "The middle point of image:640\n",
      "Max value at x-316 left part.\n",
      "Max value at x-1026 right part.\n"
     ]
    },
    {
     "name": "stderr",
     "output_type": "stream",
     "text": [
      "\r",
      " 71%|███████████████████████████▌           | 892/1261 [04:06<01:25,  4.34it/s]"
     ]
    },
    {
     "name": "stdout",
     "output_type": "stream",
     "text": [
      "The middle point of image:640\n",
      "Max value at x-320 left part.\n",
      "Max value at x-1047 right part.\n"
     ]
    },
    {
     "name": "stderr",
     "output_type": "stream",
     "text": [
      "\r",
      " 71%|███████████████████████████▌           | 893/1261 [04:06<01:22,  4.45it/s]"
     ]
    },
    {
     "name": "stdout",
     "output_type": "stream",
     "text": [
      "The middle point of image:640\n",
      "Max value at x-343 left part.\n",
      "Max value at x-1050 right part.\n"
     ]
    },
    {
     "name": "stderr",
     "output_type": "stream",
     "text": [
      "\r",
      " 71%|███████████████████████████▋           | 894/1261 [04:06<01:14,  4.94it/s]"
     ]
    },
    {
     "name": "stdout",
     "output_type": "stream",
     "text": [
      "The middle point of image:640\n",
      "Max value at x-341 left part.\n",
      "Max value at x-1044 right part.\n"
     ]
    },
    {
     "name": "stderr",
     "output_type": "stream",
     "text": [
      "\r",
      " 71%|███████████████████████████▋           | 895/1261 [04:06<01:25,  4.28it/s]"
     ]
    },
    {
     "name": "stdout",
     "output_type": "stream",
     "text": [
      "The middle point of image:640\n",
      "Max value at x-340 left part.\n",
      "Max value at x-1039 right part.\n"
     ]
    },
    {
     "name": "stderr",
     "output_type": "stream",
     "text": [
      "\r",
      " 71%|███████████████████████████▋           | 896/1261 [04:06<01:25,  4.28it/s]"
     ]
    },
    {
     "name": "stdout",
     "output_type": "stream",
     "text": [
      "The middle point of image:640\n",
      "Max value at x-338 left part.\n",
      "Max value at x-1039 right part.\n"
     ]
    },
    {
     "name": "stderr",
     "output_type": "stream",
     "text": [
      "\r",
      " 71%|███████████████████████████▋           | 897/1261 [04:07<01:16,  4.73it/s]"
     ]
    },
    {
     "name": "stdout",
     "output_type": "stream",
     "text": [
      "The middle point of image:640\n",
      "Max value at x-336 left part.\n",
      "Max value at x-1036 right part.\n"
     ]
    },
    {
     "name": "stderr",
     "output_type": "stream",
     "text": [
      "\r",
      " 71%|███████████████████████████▊           | 898/1261 [04:07<01:38,  3.70it/s]"
     ]
    },
    {
     "name": "stdout",
     "output_type": "stream",
     "text": [
      "The middle point of image:640\n",
      "Max value at x-335 left part.\n",
      "Max value at x-1035 right part.\n"
     ]
    },
    {
     "name": "stderr",
     "output_type": "stream",
     "text": [
      "\r",
      " 71%|███████████████████████████▊           | 899/1261 [04:07<01:25,  4.24it/s]"
     ]
    },
    {
     "name": "stdout",
     "output_type": "stream",
     "text": [
      "The middle point of image:640\n",
      "Max value at x-334 left part.\n",
      "Max value at x-1030 right part.\n"
     ]
    },
    {
     "name": "stderr",
     "output_type": "stream",
     "text": [
      "\r",
      " 71%|███████████████████████████▊           | 900/1261 [04:07<01:15,  4.78it/s]"
     ]
    },
    {
     "name": "stdout",
     "output_type": "stream",
     "text": [
      "The middle point of image:640\n",
      "Max value at x-332 left part.\n",
      "Max value at x-1028 right part.\n"
     ]
    },
    {
     "name": "stderr",
     "output_type": "stream",
     "text": [
      "\r",
      " 71%|███████████████████████████▊           | 901/1261 [04:08<01:22,  4.35it/s]"
     ]
    },
    {
     "name": "stdout",
     "output_type": "stream",
     "text": [
      "The middle point of image:640\n",
      "Max value at x-333 left part.\n",
      "Max value at x-1028 right part.\n"
     ]
    },
    {
     "name": "stderr",
     "output_type": "stream",
     "text": [
      "\r",
      " 72%|███████████████████████████▉           | 902/1261 [04:08<01:18,  4.59it/s]"
     ]
    },
    {
     "name": "stdout",
     "output_type": "stream",
     "text": [
      "The middle point of image:640\n",
      "Max value at x-330 left part.\n",
      "Max value at x-1026 right part.\n"
     ]
    },
    {
     "name": "stderr",
     "output_type": "stream",
     "text": [
      "\r",
      " 72%|███████████████████████████▉           | 903/1261 [04:08<01:13,  4.88it/s]"
     ]
    },
    {
     "name": "stdout",
     "output_type": "stream",
     "text": [
      "The middle point of image:640\n",
      "Max value at x-328 left part.\n",
      "Max value at x-1041 right part.\n"
     ]
    },
    {
     "name": "stderr",
     "output_type": "stream",
     "text": [
      "\r",
      " 72%|███████████████████████████▉           | 904/1261 [04:08<01:29,  4.00it/s]"
     ]
    },
    {
     "name": "stdout",
     "output_type": "stream",
     "text": [
      "The middle point of image:640\n",
      "Max value at x-329 left part.\n",
      "Max value at x-1051 right part.\n"
     ]
    },
    {
     "name": "stderr",
     "output_type": "stream",
     "text": [
      "\r",
      " 72%|███████████████████████████▉           | 905/1261 [04:08<01:22,  4.33it/s]"
     ]
    },
    {
     "name": "stdout",
     "output_type": "stream",
     "text": [
      "The middle point of image:640\n",
      "Max value at x-330 left part.\n",
      "Max value at x-1054 right part.\n"
     ]
    },
    {
     "name": "stderr",
     "output_type": "stream",
     "text": [
      "\r",
      " 72%|████████████████████████████           | 906/1261 [04:09<01:16,  4.65it/s]"
     ]
    },
    {
     "name": "stdout",
     "output_type": "stream",
     "text": [
      "The middle point of image:640\n",
      "Max value at x-327 left part.\n",
      "Max value at x-1051 right part.\n"
     ]
    },
    {
     "name": "stderr",
     "output_type": "stream",
     "text": [
      "\r",
      " 72%|████████████████████████████           | 907/1261 [04:09<01:23,  4.24it/s]"
     ]
    },
    {
     "name": "stdout",
     "output_type": "stream",
     "text": [
      "The middle point of image:640\n",
      "Max value at x-328 left part.\n",
      "Max value at x-1041 right part.\n"
     ]
    },
    {
     "name": "stderr",
     "output_type": "stream",
     "text": [
      "\r",
      " 72%|████████████████████████████           | 908/1261 [04:09<01:17,  4.54it/s]"
     ]
    },
    {
     "name": "stdout",
     "output_type": "stream",
     "text": [
      "The middle point of image:640\n",
      "Max value at x-328 left part.\n",
      "Max value at x-1038 right part.\n"
     ]
    },
    {
     "name": "stderr",
     "output_type": "stream",
     "text": [
      "\r",
      " 72%|████████████████████████████           | 909/1261 [04:09<01:32,  3.80it/s]"
     ]
    },
    {
     "name": "stdout",
     "output_type": "stream",
     "text": [
      "The middle point of image:640\n",
      "Max value at x-328 left part.\n",
      "Max value at x-1033 right part.\n"
     ]
    },
    {
     "name": "stderr",
     "output_type": "stream",
     "text": [
      "\r",
      " 72%|████████████████████████████▏          | 910/1261 [04:10<01:58,  2.95it/s]"
     ]
    },
    {
     "name": "stdout",
     "output_type": "stream",
     "text": [
      "The middle point of image:640\n",
      "Max value at x-328 left part.\n",
      "Max value at x-1027 right part.\n"
     ]
    },
    {
     "name": "stderr",
     "output_type": "stream",
     "text": [
      "\r",
      " 72%|████████████████████████████▏          | 911/1261 [04:10<01:39,  3.52it/s]"
     ]
    },
    {
     "name": "stdout",
     "output_type": "stream",
     "text": [
      "The middle point of image:640\n",
      "Max value at x-324 left part.\n",
      "Max value at x-1031 right part.\n"
     ]
    },
    {
     "name": "stderr",
     "output_type": "stream",
     "text": [
      "\r",
      " 72%|████████████████████████████▏          | 912/1261 [04:10<01:26,  4.06it/s]"
     ]
    },
    {
     "name": "stdout",
     "output_type": "stream",
     "text": [
      "The middle point of image:640\n",
      "Max value at x-326 left part.\n",
      "Max value at x-1027 right part.\n"
     ]
    },
    {
     "name": "stderr",
     "output_type": "stream",
     "text": [
      "\r",
      " 72%|████████████████████████████▏          | 913/1261 [04:11<01:32,  3.78it/s]"
     ]
    },
    {
     "name": "stdout",
     "output_type": "stream",
     "text": [
      "The middle point of image:640\n",
      "Max value at x-329 left part.\n",
      "Max value at x-1016 right part.\n"
     ]
    },
    {
     "name": "stderr",
     "output_type": "stream",
     "text": [
      "\r",
      " 72%|████████████████████████████▎          | 914/1261 [04:11<01:22,  4.20it/s]"
     ]
    },
    {
     "name": "stdout",
     "output_type": "stream",
     "text": [
      "The middle point of image:640\n",
      "Max value at x-322 left part.\n",
      "Max value at x-1018 right part.\n"
     ]
    },
    {
     "name": "stderr",
     "output_type": "stream",
     "text": [
      "\r",
      " 73%|████████████████████████████▎          | 915/1261 [04:11<01:39,  3.47it/s]"
     ]
    },
    {
     "name": "stdout",
     "output_type": "stream",
     "text": [
      "The middle point of image:640\n",
      "Max value at x-322 left part.\n",
      "Max value at x-1032 right part.\n"
     ]
    },
    {
     "name": "stderr",
     "output_type": "stream",
     "text": [
      "\r",
      " 73%|████████████████████████████▎          | 916/1261 [04:11<01:25,  4.02it/s]"
     ]
    },
    {
     "name": "stdout",
     "output_type": "stream",
     "text": [
      "The middle point of image:640\n",
      "Max value at x-322 left part.\n",
      "Max value at x-1044 right part.\n"
     ]
    },
    {
     "name": "stderr",
     "output_type": "stream",
     "text": [
      "\r",
      " 73%|████████████████████████████▎          | 917/1261 [04:11<01:14,  4.63it/s]"
     ]
    },
    {
     "name": "stdout",
     "output_type": "stream",
     "text": [
      "The middle point of image:640\n",
      "Max value at x-323 left part.\n",
      "Max value at x-1042 right part.\n"
     ]
    },
    {
     "name": "stderr",
     "output_type": "stream",
     "text": [
      "\r",
      " 73%|████████████████████████████▍          | 918/1261 [04:12<01:06,  5.15it/s]"
     ]
    },
    {
     "name": "stdout",
     "output_type": "stream",
     "text": [
      "The middle point of image:640\n",
      "Max value at x-321 left part.\n",
      "Max value at x-1042 right part.\n"
     ]
    },
    {
     "name": "stderr",
     "output_type": "stream",
     "text": [
      "\r",
      " 73%|████████████████████████████▍          | 919/1261 [04:12<01:11,  4.81it/s]"
     ]
    },
    {
     "name": "stdout",
     "output_type": "stream",
     "text": [
      "The middle point of image:640\n",
      "Max value at x-321 left part.\n",
      "Max value at x-1033 right part.\n"
     ]
    },
    {
     "name": "stderr",
     "output_type": "stream",
     "text": [
      "\r",
      " 73%|████████████████████████████▍          | 920/1261 [04:12<01:20,  4.24it/s]"
     ]
    },
    {
     "name": "stdout",
     "output_type": "stream",
     "text": [
      "The middle point of image:640\n",
      "Max value at x-325 left part.\n",
      "Max value at x-1028 right part.\n"
     ]
    },
    {
     "name": "stderr",
     "output_type": "stream",
     "text": [
      "\r",
      " 73%|████████████████████████████▍          | 921/1261 [04:12<01:18,  4.34it/s]"
     ]
    },
    {
     "name": "stdout",
     "output_type": "stream",
     "text": [
      "The middle point of image:640\n",
      "Max value at x-319 left part.\n",
      "Max value at x-1028 right part.\n"
     ]
    },
    {
     "name": "stderr",
     "output_type": "stream",
     "text": [
      "\r",
      " 73%|████████████████████████████▌          | 922/1261 [04:13<01:38,  3.45it/s]"
     ]
    },
    {
     "name": "stdout",
     "output_type": "stream",
     "text": [
      "The middle point of image:640\n",
      "Max value at x-322 left part.\n",
      "Max value at x-1023 right part.\n"
     ]
    },
    {
     "name": "stderr",
     "output_type": "stream",
     "text": [
      "\r",
      " 73%|████████████████████████████▌          | 923/1261 [04:13<01:49,  3.09it/s]"
     ]
    },
    {
     "name": "stdout",
     "output_type": "stream",
     "text": [
      "The middle point of image:640\n",
      "Max value at x-321 left part.\n",
      "Max value at x-1024 right part.\n"
     ]
    },
    {
     "name": "stderr",
     "output_type": "stream",
     "text": [
      "\r",
      " 73%|████████████████████████████▌          | 924/1261 [04:13<01:29,  3.75it/s]"
     ]
    },
    {
     "name": "stdout",
     "output_type": "stream",
     "text": [
      "The middle point of image:640\n",
      "Max value at x-319 left part.\n",
      "Max value at x-1013 right part.\n"
     ]
    },
    {
     "name": "stderr",
     "output_type": "stream",
     "text": [
      "\r",
      " 73%|████████████████████████████▌          | 925/1261 [04:14<01:19,  4.25it/s]"
     ]
    },
    {
     "name": "stdout",
     "output_type": "stream",
     "text": [
      "The middle point of image:640\n",
      "Max value at x-318 left part.\n",
      "Max value at x-1010 right part.\n"
     ]
    },
    {
     "name": "stderr",
     "output_type": "stream",
     "text": [
      "\r",
      " 73%|████████████████████████████▋          | 926/1261 [04:14<01:45,  3.18it/s]"
     ]
    },
    {
     "name": "stdout",
     "output_type": "stream",
     "text": [
      "The middle point of image:640\n",
      "Max value at x-316 left part.\n",
      "Max value at x-1016 right part.\n"
     ]
    },
    {
     "name": "stderr",
     "output_type": "stream",
     "text": [
      "\r",
      " 74%|████████████████████████████▋          | 927/1261 [04:14<01:56,  2.86it/s]"
     ]
    },
    {
     "name": "stdout",
     "output_type": "stream",
     "text": [
      "The middle point of image:640\n",
      "Max value at x-315 left part.\n",
      "Max value at x-1046 right part.\n"
     ]
    },
    {
     "name": "stderr",
     "output_type": "stream",
     "text": [
      "\r",
      " 74%|████████████████████████████▋          | 928/1261 [04:15<01:36,  3.46it/s]"
     ]
    },
    {
     "name": "stdout",
     "output_type": "stream",
     "text": [
      "The middle point of image:640\n",
      "Max value at x-315 left part.\n",
      "Max value at x-1044 right part.\n"
     ]
    },
    {
     "name": "stderr",
     "output_type": "stream",
     "text": [
      "\r",
      " 74%|████████████████████████████▋          | 929/1261 [04:15<01:20,  4.11it/s]"
     ]
    },
    {
     "name": "stdout",
     "output_type": "stream",
     "text": [
      "The middle point of image:640\n",
      "Max value at x-316 left part.\n",
      "Max value at x-1040 right part.\n"
     ]
    },
    {
     "name": "stderr",
     "output_type": "stream",
     "text": [
      "\r",
      " 74%|████████████████████████████▊          | 930/1261 [04:15<01:12,  4.56it/s]"
     ]
    },
    {
     "name": "stdout",
     "output_type": "stream",
     "text": [
      "The middle point of image:640\n",
      "Max value at x-318 left part.\n",
      "Max value at x-1033 right part.\n"
     ]
    },
    {
     "name": "stderr",
     "output_type": "stream",
     "text": [
      "\r",
      " 74%|████████████████████████████▊          | 931/1261 [04:15<01:41,  3.24it/s]"
     ]
    },
    {
     "name": "stdout",
     "output_type": "stream",
     "text": [
      "The middle point of image:640\n",
      "Max value at x-317 left part.\n",
      "Max value at x-1029 right part.\n"
     ]
    },
    {
     "name": "stderr",
     "output_type": "stream",
     "text": [
      "\r",
      " 74%|████████████████████████████▊          | 932/1261 [04:16<01:27,  3.78it/s]"
     ]
    },
    {
     "name": "stdout",
     "output_type": "stream",
     "text": [
      "The middle point of image:640\n",
      "Max value at x-340 left part.\n",
      "Max value at x-1035 right part.\n"
     ]
    },
    {
     "name": "stderr",
     "output_type": "stream",
     "text": [
      "\r",
      " 74%|████████████████████████████▊          | 933/1261 [04:16<01:15,  4.33it/s]"
     ]
    },
    {
     "name": "stdout",
     "output_type": "stream",
     "text": [
      "The middle point of image:640\n",
      "Max value at x-336 left part.\n",
      "Max value at x-1033 right part.\n"
     ]
    },
    {
     "name": "stderr",
     "output_type": "stream",
     "text": [
      "\r",
      " 74%|████████████████████████████▉          | 934/1261 [04:16<01:18,  4.14it/s]"
     ]
    },
    {
     "name": "stdout",
     "output_type": "stream",
     "text": [
      "The middle point of image:640\n",
      "Max value at x-347 left part.\n",
      "Max value at x-1031 right part.\n"
     ]
    },
    {
     "name": "stderr",
     "output_type": "stream",
     "text": [
      "\r",
      " 74%|████████████████████████████▉          | 935/1261 [04:16<01:40,  3.24it/s]"
     ]
    },
    {
     "name": "stdout",
     "output_type": "stream",
     "text": [
      "The middle point of image:640\n",
      "Max value at x-346 left part.\n",
      "Max value at x-1030 right part.\n"
     ]
    },
    {
     "name": "stderr",
     "output_type": "stream",
     "text": [
      "\r",
      " 74%|████████████████████████████▉          | 936/1261 [04:17<01:23,  3.88it/s]"
     ]
    },
    {
     "name": "stdout",
     "output_type": "stream",
     "text": [
      "The middle point of image:640\n",
      "Max value at x-329 left part.\n",
      "Max value at x-1030 right part.\n"
     ]
    },
    {
     "name": "stderr",
     "output_type": "stream",
     "text": [
      "\r",
      " 74%|████████████████████████████▉          | 937/1261 [04:17<01:12,  4.45it/s]"
     ]
    },
    {
     "name": "stdout",
     "output_type": "stream",
     "text": [
      "The middle point of image:640\n",
      "Max value at x-341 left part.\n",
      "Max value at x-1030 right part.\n"
     ]
    },
    {
     "name": "stderr",
     "output_type": "stream",
     "text": [
      "\r",
      " 74%|█████████████████████████████          | 938/1261 [04:17<01:13,  4.41it/s]"
     ]
    },
    {
     "name": "stdout",
     "output_type": "stream",
     "text": [
      "The middle point of image:640\n",
      "Max value at x-337 left part.\n",
      "Max value at x-1030 right part.\n"
     ]
    },
    {
     "name": "stderr",
     "output_type": "stream",
     "text": [
      "\r",
      " 74%|█████████████████████████████          | 939/1261 [04:17<01:11,  4.53it/s]"
     ]
    },
    {
     "name": "stdout",
     "output_type": "stream",
     "text": [
      "The middle point of image:640\n",
      "Max value at x-334 left part.\n",
      "Max value at x-1033 right part.\n"
     ]
    },
    {
     "name": "stderr",
     "output_type": "stream",
     "text": [
      "\r",
      " 75%|█████████████████████████████          | 940/1261 [04:17<01:11,  4.47it/s]"
     ]
    },
    {
     "name": "stdout",
     "output_type": "stream",
     "text": [
      "The middle point of image:640\n",
      "Max value at x-327 left part.\n",
      "Max value at x-1042 right part.\n"
     ]
    },
    {
     "name": "stderr",
     "output_type": "stream",
     "text": [
      "\r",
      " 75%|█████████████████████████████          | 941/1261 [04:18<01:58,  2.71it/s]"
     ]
    },
    {
     "name": "stdout",
     "output_type": "stream",
     "text": [
      "The middle point of image:640\n",
      "Max value at x-327 left part.\n",
      "Max value at x-1040 right part.\n"
     ]
    },
    {
     "name": "stderr",
     "output_type": "stream",
     "text": [
      "\r",
      " 75%|█████████████████████████████▏         | 942/1261 [04:18<01:42,  3.11it/s]"
     ]
    },
    {
     "name": "stdout",
     "output_type": "stream",
     "text": [
      "The middle point of image:640\n",
      "Max value at x-327 left part.\n",
      "Max value at x-1033 right part.\n"
     ]
    },
    {
     "name": "stderr",
     "output_type": "stream",
     "text": [
      "\r",
      " 75%|█████████████████████████████▏         | 943/1261 [04:19<01:27,  3.64it/s]"
     ]
    },
    {
     "name": "stdout",
     "output_type": "stream",
     "text": [
      "The middle point of image:640\n",
      "Max value at x-329 left part.\n",
      "Max value at x-1034 right part.\n"
     ]
    },
    {
     "name": "stderr",
     "output_type": "stream",
     "text": [
      "\r",
      " 75%|█████████████████████████████▏         | 944/1261 [04:19<01:31,  3.45it/s]"
     ]
    },
    {
     "name": "stdout",
     "output_type": "stream",
     "text": [
      "The middle point of image:640\n",
      "Max value at x-327 left part.\n",
      "Max value at x-1027 right part.\n"
     ]
    },
    {
     "name": "stderr",
     "output_type": "stream",
     "text": [
      "\r",
      " 75%|█████████████████████████████▏         | 945/1261 [04:19<01:25,  3.69it/s]"
     ]
    },
    {
     "name": "stdout",
     "output_type": "stream",
     "text": [
      "The middle point of image:640\n",
      "Max value at x-327 left part.\n",
      "Max value at x-1029 right part.\n"
     ]
    },
    {
     "name": "stderr",
     "output_type": "stream",
     "text": [
      "\r",
      " 75%|█████████████████████████████▎         | 946/1261 [04:19<01:13,  4.26it/s]"
     ]
    },
    {
     "name": "stdout",
     "output_type": "stream",
     "text": [
      "The middle point of image:640\n",
      "Max value at x-327 left part.\n",
      "Max value at x-1023 right part.\n"
     ]
    },
    {
     "name": "stderr",
     "output_type": "stream",
     "text": [
      "\r",
      " 75%|█████████████████████████████▎         | 947/1261 [04:19<01:12,  4.35it/s]"
     ]
    },
    {
     "name": "stdout",
     "output_type": "stream",
     "text": [
      "The middle point of image:640\n",
      "Max value at x-329 left part.\n",
      "Max value at x-1026 right part.\n"
     ]
    },
    {
     "name": "stderr",
     "output_type": "stream",
     "text": [
      "\r",
      " 75%|█████████████████████████████▎         | 948/1261 [04:20<01:19,  3.93it/s]"
     ]
    },
    {
     "name": "stdout",
     "output_type": "stream",
     "text": [
      "The middle point of image:640\n",
      "Max value at x-329 left part.\n",
      "Max value at x-1025 right part.\n"
     ]
    },
    {
     "name": "stderr",
     "output_type": "stream",
     "text": [
      "\r",
      " 75%|█████████████████████████████▎         | 949/1261 [04:20<01:12,  4.32it/s]"
     ]
    },
    {
     "name": "stdout",
     "output_type": "stream",
     "text": [
      "The middle point of image:640\n",
      "Max value at x-328 left part.\n",
      "Max value at x-1022 right part.\n"
     ]
    },
    {
     "name": "stderr",
     "output_type": "stream",
     "text": [
      "\r",
      " 75%|█████████████████████████████▍         | 950/1261 [04:20<01:39,  3.12it/s]"
     ]
    },
    {
     "name": "stdout",
     "output_type": "stream",
     "text": [
      "The middle point of image:640\n",
      "Max value at x-327 left part.\n",
      "Max value at x-1058 right part.\n"
     ]
    },
    {
     "name": "stderr",
     "output_type": "stream",
     "text": [
      "\r",
      " 75%|█████████████████████████████▍         | 951/1261 [04:21<01:25,  3.62it/s]"
     ]
    },
    {
     "name": "stdout",
     "output_type": "stream",
     "text": [
      "The middle point of image:640\n",
      "Max value at x-324 left part.\n",
      "Max value at x-1060 right part.\n"
     ]
    },
    {
     "name": "stderr",
     "output_type": "stream",
     "text": [
      "\r",
      " 75%|█████████████████████████████▍         | 952/1261 [04:21<01:13,  4.21it/s]"
     ]
    },
    {
     "name": "stdout",
     "output_type": "stream",
     "text": [
      "The middle point of image:640\n",
      "Max value at x-324 left part.\n",
      "Max value at x-1055 right part.\n"
     ]
    },
    {
     "name": "stderr",
     "output_type": "stream",
     "text": [
      "\r",
      " 76%|█████████████████████████████▍         | 953/1261 [04:21<01:19,  3.86it/s]"
     ]
    },
    {
     "name": "stdout",
     "output_type": "stream",
     "text": [
      "The middle point of image:640\n",
      "Max value at x-321 left part.\n",
      "Max value at x-1059 right part.\n"
     ]
    },
    {
     "name": "stderr",
     "output_type": "stream",
     "text": [
      "\r",
      " 76%|█████████████████████████████▌         | 954/1261 [04:21<01:09,  4.40it/s]"
     ]
    },
    {
     "name": "stdout",
     "output_type": "stream",
     "text": [
      "The middle point of image:640\n",
      "Max value at x-322 left part.\n",
      "Max value at x-1050 right part.\n"
     ]
    },
    {
     "name": "stderr",
     "output_type": "stream",
     "text": [
      "\r",
      " 76%|█████████████████████████████▌         | 955/1261 [04:22<01:25,  3.57it/s]"
     ]
    },
    {
     "name": "stdout",
     "output_type": "stream",
     "text": [
      "The middle point of image:640\n",
      "Max value at x-342 left part.\n",
      "Max value at x-1043 right part.\n"
     ]
    },
    {
     "name": "stderr",
     "output_type": "stream",
     "text": [
      "\r",
      " 76%|█████████████████████████████▌         | 956/1261 [04:22<01:14,  4.11it/s]"
     ]
    },
    {
     "name": "stdout",
     "output_type": "stream",
     "text": [
      "The middle point of image:640\n",
      "Max value at x-343 left part.\n",
      "Max value at x-1041 right part.\n"
     ]
    },
    {
     "name": "stderr",
     "output_type": "stream",
     "text": [
      "\r",
      " 76%|█████████████████████████████▌         | 957/1261 [04:22<01:08,  4.44it/s]"
     ]
    },
    {
     "name": "stdout",
     "output_type": "stream",
     "text": [
      "The middle point of image:640\n",
      "Max value at x-347 left part.\n",
      "Max value at x-1035 right part.\n"
     ]
    },
    {
     "name": "stderr",
     "output_type": "stream",
     "text": [
      "\r",
      " 76%|█████████████████████████████▋         | 958/1261 [04:22<01:09,  4.36it/s]"
     ]
    },
    {
     "name": "stdout",
     "output_type": "stream",
     "text": [
      "The middle point of image:640\n",
      "Max value at x-334 left part.\n",
      "Max value at x-1037 right part.\n"
     ]
    },
    {
     "name": "stderr",
     "output_type": "stream",
     "text": [
      "\r",
      " 76%|█████████████████████████████▋         | 959/1261 [04:22<01:03,  4.73it/s]"
     ]
    },
    {
     "name": "stdout",
     "output_type": "stream",
     "text": [
      "The middle point of image:640\n",
      "Max value at x-334 left part.\n",
      "Max value at x-1030 right part.\n"
     ]
    },
    {
     "name": "stderr",
     "output_type": "stream",
     "text": [
      "\r",
      " 76%|█████████████████████████████▋         | 960/1261 [04:23<01:16,  3.95it/s]"
     ]
    },
    {
     "name": "stdout",
     "output_type": "stream",
     "text": [
      "The middle point of image:640\n",
      "Max value at x-332 left part.\n",
      "Max value at x-1038 right part.\n"
     ]
    },
    {
     "name": "stderr",
     "output_type": "stream",
     "text": [
      "\r",
      " 76%|█████████████████████████████▋         | 961/1261 [04:23<01:13,  4.10it/s]"
     ]
    },
    {
     "name": "stdout",
     "output_type": "stream",
     "text": [
      "The middle point of image:640\n",
      "Max value at x-334 left part.\n",
      "Max value at x-1041 right part.\n"
     ]
    },
    {
     "name": "stderr",
     "output_type": "stream",
     "text": [
      "\r",
      " 76%|█████████████████████████████▊         | 962/1261 [04:23<01:06,  4.52it/s]"
     ]
    },
    {
     "name": "stdout",
     "output_type": "stream",
     "text": [
      "The middle point of image:640\n",
      "Max value at x-337 left part.\n",
      "Max value at x-1075 right part.\n"
     ]
    },
    {
     "name": "stderr",
     "output_type": "stream",
     "text": [
      "\r",
      " 76%|█████████████████████████████▊         | 963/1261 [04:24<01:29,  3.31it/s]"
     ]
    },
    {
     "name": "stdout",
     "output_type": "stream",
     "text": [
      "The middle point of image:640\n",
      "Max value at x-338 left part.\n",
      "Max value at x-1076 right part.\n"
     ]
    },
    {
     "name": "stderr",
     "output_type": "stream",
     "text": [
      "\r",
      " 76%|█████████████████████████████▊         | 964/1261 [04:24<01:17,  3.85it/s]"
     ]
    },
    {
     "name": "stdout",
     "output_type": "stream",
     "text": [
      "The middle point of image:640\n",
      "Max value at x-344 left part.\n",
      "Max value at x-1069 right part.\n"
     ]
    },
    {
     "name": "stderr",
     "output_type": "stream",
     "text": [
      "\r",
      " 77%|█████████████████████████████▊         | 965/1261 [04:24<01:07,  4.38it/s]"
     ]
    },
    {
     "name": "stdout",
     "output_type": "stream",
     "text": [
      "The middle point of image:640\n",
      "Max value at x-341 left part.\n",
      "Max value at x-1064 right part.\n"
     ]
    },
    {
     "name": "stderr",
     "output_type": "stream",
     "text": [
      "\r",
      " 77%|█████████████████████████████▉         | 966/1261 [04:24<01:08,  4.30it/s]"
     ]
    },
    {
     "name": "stdout",
     "output_type": "stream",
     "text": [
      "The middle point of image:640\n",
      "Max value at x-363 left part.\n",
      "Max value at x-1061 right part.\n"
     ]
    },
    {
     "name": "stderr",
     "output_type": "stream",
     "text": [
      "\r",
      " 77%|█████████████████████████████▉         | 967/1261 [04:24<01:02,  4.68it/s]"
     ]
    },
    {
     "name": "stdout",
     "output_type": "stream",
     "text": [
      "The middle point of image:640\n",
      "Max value at x-355 left part.\n",
      "Max value at x-1051 right part.\n"
     ]
    },
    {
     "name": "stderr",
     "output_type": "stream",
     "text": [
      "\r",
      " 77%|█████████████████████████████▉         | 968/1261 [04:25<01:17,  3.77it/s]"
     ]
    },
    {
     "name": "stdout",
     "output_type": "stream",
     "text": [
      "The middle point of image:640\n",
      "Max value at x-359 left part.\n",
      "Max value at x-1058 right part.\n"
     ]
    },
    {
     "name": "stderr",
     "output_type": "stream",
     "text": [
      "\r",
      " 77%|█████████████████████████████▉         | 969/1261 [04:25<01:09,  4.18it/s]"
     ]
    },
    {
     "name": "stdout",
     "output_type": "stream",
     "text": [
      "The middle point of image:640\n",
      "Max value at x-353 left part.\n",
      "Max value at x-1058 right part.\n"
     ]
    },
    {
     "name": "stderr",
     "output_type": "stream",
     "text": [
      "\r",
      " 77%|██████████████████████████████         | 970/1261 [04:25<01:02,  4.65it/s]"
     ]
    },
    {
     "name": "stdout",
     "output_type": "stream",
     "text": [
      "The middle point of image:640\n",
      "Max value at x-346 left part.\n",
      "Max value at x-1049 right part.\n"
     ]
    },
    {
     "name": "stderr",
     "output_type": "stream",
     "text": [
      "\r",
      " 77%|██████████████████████████████         | 971/1261 [04:25<01:08,  4.22it/s]"
     ]
    },
    {
     "name": "stdout",
     "output_type": "stream",
     "text": [
      "The middle point of image:640\n",
      "Max value at x-347 left part.\n",
      "Max value at x-1057 right part.\n"
     ]
    },
    {
     "name": "stderr",
     "output_type": "stream",
     "text": [
      "\r",
      " 77%|██████████████████████████████         | 972/1261 [04:26<01:08,  4.22it/s]"
     ]
    },
    {
     "name": "stdout",
     "output_type": "stream",
     "text": [
      "The middle point of image:640\n",
      "Max value at x-351 left part.\n",
      "Max value at x-1056 right part.\n"
     ]
    },
    {
     "name": "stderr",
     "output_type": "stream",
     "text": [
      "\r",
      " 77%|██████████████████████████████         | 973/1261 [04:26<01:06,  4.35it/s]"
     ]
    },
    {
     "name": "stdout",
     "output_type": "stream",
     "text": [
      "The middle point of image:640\n",
      "Max value at x-350 left part.\n",
      "Max value at x-1063 right part.\n"
     ]
    },
    {
     "name": "stderr",
     "output_type": "stream",
     "text": [
      "\r",
      " 77%|██████████████████████████████         | 974/1261 [04:26<01:24,  3.42it/s]"
     ]
    },
    {
     "name": "stdout",
     "output_type": "stream",
     "text": [
      "The middle point of image:640\n",
      "Max value at x-350 left part.\n",
      "Max value at x-1062 right part.\n"
     ]
    },
    {
     "name": "stderr",
     "output_type": "stream",
     "text": [
      "\r",
      " 77%|██████████████████████████████▏        | 975/1261 [04:26<01:11,  3.98it/s]"
     ]
    },
    {
     "name": "stdout",
     "output_type": "stream",
     "text": [
      "The middle point of image:640\n",
      "Max value at x-351 left part.\n",
      "Max value at x-1062 right part.\n"
     ]
    },
    {
     "name": "stderr",
     "output_type": "stream",
     "text": [
      "\r",
      " 77%|██████████████████████████████▏        | 976/1261 [04:27<01:02,  4.56it/s]"
     ]
    },
    {
     "name": "stdout",
     "output_type": "stream",
     "text": [
      "The middle point of image:640\n",
      "Max value at x-371 left part.\n",
      "Max value at x-1061 right part.\n"
     ]
    },
    {
     "name": "stderr",
     "output_type": "stream",
     "text": [
      "\r",
      " 77%|██████████████████████████████▏        | 977/1261 [04:27<01:08,  4.13it/s]"
     ]
    },
    {
     "name": "stdout",
     "output_type": "stream",
     "text": [
      "The middle point of image:640\n",
      "Max value at x-357 left part.\n",
      "Max value at x-1056 right part.\n"
     ]
    },
    {
     "name": "stderr",
     "output_type": "stream",
     "text": [
      "\r",
      " 78%|██████████████████████████████▏        | 978/1261 [04:27<01:06,  4.24it/s]"
     ]
    },
    {
     "name": "stdout",
     "output_type": "stream",
     "text": [
      "The middle point of image:640\n",
      "Max value at x-367 left part.\n",
      "Max value at x-1049 right part.\n"
     ]
    },
    {
     "name": "stderr",
     "output_type": "stream",
     "text": [
      "\r",
      " 78%|██████████████████████████████▎        | 979/1261 [04:27<01:17,  3.65it/s]"
     ]
    },
    {
     "name": "stdout",
     "output_type": "stream",
     "text": [
      "The middle point of image:640\n",
      "Max value at x-363 left part.\n",
      "Max value at x-1048 right part.\n"
     ]
    },
    {
     "name": "stderr",
     "output_type": "stream",
     "text": [
      "\r",
      " 78%|██████████████████████████████▎        | 980/1261 [04:28<01:06,  4.22it/s]"
     ]
    },
    {
     "name": "stdout",
     "output_type": "stream",
     "text": [
      "The middle point of image:640\n",
      "Max value at x-365 left part.\n",
      "Max value at x-1050 right part.\n"
     ]
    },
    {
     "name": "stderr",
     "output_type": "stream",
     "text": [
      "\r",
      " 78%|██████████████████████████████▎        | 981/1261 [04:28<00:58,  4.77it/s]"
     ]
    },
    {
     "name": "stdout",
     "output_type": "stream",
     "text": [
      "The middle point of image:640\n",
      "Max value at x-358 left part.\n",
      "Max value at x-1051 right part.\n"
     ]
    },
    {
     "name": "stderr",
     "output_type": "stream",
     "text": [
      "\r",
      " 78%|██████████████████████████████▎        | 982/1261 [04:28<01:02,  4.44it/s]"
     ]
    },
    {
     "name": "stdout",
     "output_type": "stream",
     "text": [
      "The middle point of image:640\n",
      "Max value at x-360 left part.\n",
      "Max value at x-1049 right part.\n"
     ]
    },
    {
     "name": "stderr",
     "output_type": "stream",
     "text": [
      "\r",
      " 78%|██████████████████████████████▍        | 983/1261 [04:28<01:00,  4.60it/s]"
     ]
    },
    {
     "name": "stdout",
     "output_type": "stream",
     "text": [
      "The middle point of image:640\n",
      "Max value at x-356 left part.\n",
      "Max value at x-1050 right part.\n"
     ]
    },
    {
     "name": "stderr",
     "output_type": "stream",
     "text": [
      "\r",
      " 78%|██████████████████████████████▍        | 984/1261 [04:29<01:33,  2.98it/s]"
     ]
    },
    {
     "name": "stdout",
     "output_type": "stream",
     "text": [
      "The middle point of image:640\n",
      "Max value at x-364 left part.\n",
      "Max value at x-1053 right part.\n"
     ]
    },
    {
     "name": "stderr",
     "output_type": "stream",
     "text": [
      "\r",
      " 78%|██████████████████████████████▍        | 985/1261 [04:29<01:22,  3.34it/s]"
     ]
    },
    {
     "name": "stdout",
     "output_type": "stream",
     "text": [
      "The middle point of image:640\n",
      "Max value at x-365 left part.\n",
      "Max value at x-1050 right part.\n"
     ]
    },
    {
     "name": "stderr",
     "output_type": "stream",
     "text": [
      "\r",
      " 78%|██████████████████████████████▍        | 986/1261 [04:29<01:10,  3.92it/s]"
     ]
    },
    {
     "name": "stdout",
     "output_type": "stream",
     "text": [
      "The middle point of image:640\n",
      "Max value at x-361 left part.\n",
      "Max value at x-1045 right part.\n"
     ]
    },
    {
     "name": "stderr",
     "output_type": "stream",
     "text": [
      "\r",
      " 78%|██████████████████████████████▌        | 987/1261 [04:29<01:07,  4.04it/s]"
     ]
    },
    {
     "name": "stdout",
     "output_type": "stream",
     "text": [
      "The middle point of image:640\n",
      "Max value at x-360 left part.\n",
      "Max value at x-1062 right part.\n"
     ]
    },
    {
     "name": "stderr",
     "output_type": "stream",
     "text": [
      "\r",
      " 78%|██████████████████████████████▌        | 988/1261 [04:30<01:11,  3.83it/s]"
     ]
    },
    {
     "name": "stdout",
     "output_type": "stream",
     "text": [
      "The middle point of image:640\n",
      "Max value at x-357 left part.\n",
      "Max value at x-1063 right part.\n"
     ]
    },
    {
     "name": "stderr",
     "output_type": "stream",
     "text": [
      "\r",
      " 78%|██████████████████████████████▌        | 989/1261 [04:30<01:01,  4.42it/s]"
     ]
    },
    {
     "name": "stdout",
     "output_type": "stream",
     "text": [
      "The middle point of image:640\n",
      "Max value at x-348 left part.\n",
      "Max value at x-1062 right part.\n"
     ]
    },
    {
     "name": "stderr",
     "output_type": "stream",
     "text": [
      "\r",
      " 79%|██████████████████████████████▌        | 990/1261 [04:30<01:17,  3.49it/s]"
     ]
    },
    {
     "name": "stdout",
     "output_type": "stream",
     "text": [
      "The middle point of image:640\n",
      "Max value at x-347 left part.\n",
      "Max value at x-1058 right part.\n"
     ]
    },
    {
     "name": "stderr",
     "output_type": "stream",
     "text": [
      "\r",
      " 79%|██████████████████████████████▋        | 991/1261 [04:30<01:06,  4.03it/s]"
     ]
    },
    {
     "name": "stdout",
     "output_type": "stream",
     "text": [
      "The middle point of image:640\n",
      "Max value at x-343 left part.\n",
      "Max value at x-1057 right part.\n"
     ]
    },
    {
     "name": "stderr",
     "output_type": "stream",
     "text": [
      "\r",
      " 79%|██████████████████████████████▋        | 992/1261 [04:31<01:00,  4.44it/s]"
     ]
    },
    {
     "name": "stdout",
     "output_type": "stream",
     "text": [
      "The middle point of image:640\n",
      "Max value at x-343 left part.\n",
      "Max value at x-1048 right part.\n"
     ]
    },
    {
     "name": "stderr",
     "output_type": "stream",
     "text": [
      "\r",
      " 79%|██████████████████████████████▋        | 993/1261 [04:31<01:03,  4.21it/s]"
     ]
    },
    {
     "name": "stdout",
     "output_type": "stream",
     "text": [
      "The middle point of image:640\n",
      "Max value at x-339 left part.\n",
      "Max value at x-1035 right part.\n"
     ]
    },
    {
     "name": "stderr",
     "output_type": "stream",
     "text": [
      "\r",
      " 79%|██████████████████████████████▋        | 994/1261 [04:31<00:58,  4.53it/s]"
     ]
    },
    {
     "name": "stdout",
     "output_type": "stream",
     "text": [
      "The middle point of image:640\n",
      "Max value at x-336 left part.\n",
      "Max value at x-1029 right part.\n"
     ]
    },
    {
     "name": "stderr",
     "output_type": "stream",
     "text": [
      "\r",
      " 79%|██████████████████████████████▊        | 995/1261 [04:31<01:14,  3.59it/s]"
     ]
    },
    {
     "name": "stdout",
     "output_type": "stream",
     "text": [
      "The middle point of image:640\n",
      "Max value at x-341 left part.\n",
      "Max value at x-1030 right part.\n"
     ]
    },
    {
     "name": "stderr",
     "output_type": "stream",
     "text": [
      "\r",
      " 79%|██████████████████████████████▊        | 996/1261 [04:32<01:03,  4.15it/s]"
     ]
    },
    {
     "name": "stdout",
     "output_type": "stream",
     "text": [
      "The middle point of image:640\n",
      "Max value at x-327 left part.\n",
      "Max value at x-1032 right part.\n"
     ]
    },
    {
     "name": "stderr",
     "output_type": "stream",
     "text": [
      "\r",
      " 79%|██████████████████████████████▊        | 997/1261 [04:32<00:58,  4.54it/s]"
     ]
    },
    {
     "name": "stdout",
     "output_type": "stream",
     "text": [
      "The middle point of image:640\n",
      "Max value at x-331 left part.\n",
      "Max value at x-1032 right part.\n"
     ]
    },
    {
     "name": "stderr",
     "output_type": "stream",
     "text": [
      "\r",
      " 79%|██████████████████████████████▊        | 998/1261 [04:32<00:59,  4.44it/s]"
     ]
    },
    {
     "name": "stdout",
     "output_type": "stream",
     "text": [
      "The middle point of image:640\n",
      "Max value at x-326 left part.\n",
      "Max value at x-1032 right part.\n"
     ]
    },
    {
     "name": "stderr",
     "output_type": "stream",
     "text": [
      "\r",
      " 79%|██████████████████████████████▉        | 999/1261 [04:32<01:00,  4.34it/s]"
     ]
    },
    {
     "name": "stdout",
     "output_type": "stream",
     "text": [
      "The middle point of image:640\n",
      "Max value at x-322 left part.\n",
      "Max value at x-1037 right part.\n"
     ]
    },
    {
     "name": "stderr",
     "output_type": "stream",
     "text": [
      "\r",
      " 79%|██████████████████████████████▏       | 1000/1261 [04:33<01:21,  3.20it/s]"
     ]
    },
    {
     "name": "stdout",
     "output_type": "stream",
     "text": [
      "The middle point of image:640\n",
      "Max value at x-316 left part.\n",
      "Max value at x-1039 right part.\n"
     ]
    },
    {
     "name": "stderr",
     "output_type": "stream",
     "text": [
      "\r",
      " 79%|██████████████████████████████▏       | 1001/1261 [04:33<01:09,  3.76it/s]"
     ]
    },
    {
     "name": "stdout",
     "output_type": "stream",
     "text": [
      "The middle point of image:640\n",
      "Max value at x-303 left part.\n",
      "Max value at x-1062 right part.\n"
     ]
    },
    {
     "name": "stderr",
     "output_type": "stream",
     "text": [
      "\r",
      " 79%|██████████████████████████████▏       | 1002/1261 [04:33<01:05,  3.93it/s]"
     ]
    },
    {
     "name": "stdout",
     "output_type": "stream",
     "text": [
      "The middle point of image:640\n",
      "Max value at x-289 left part.\n",
      "Max value at x-1065 right part.\n"
     ]
    },
    {
     "name": "stderr",
     "output_type": "stream",
     "text": [
      "\r",
      " 80%|██████████████████████████████▏       | 1003/1261 [04:33<01:04,  4.02it/s]"
     ]
    },
    {
     "name": "stdout",
     "output_type": "stream",
     "text": [
      "The middle point of image:640\n",
      "Max value at x-273 left part.\n",
      "Max value at x-1079 right part.\n"
     ]
    },
    {
     "name": "stderr",
     "output_type": "stream",
     "text": [
      "\r",
      " 80%|██████████████████████████████▎       | 1004/1261 [04:34<01:21,  3.15it/s]"
     ]
    },
    {
     "name": "stdout",
     "output_type": "stream",
     "text": [
      "The middle point of image:640\n",
      "Max value at x-275 left part.\n",
      "Max value at x-1075 right part.\n"
     ]
    },
    {
     "name": "stderr",
     "output_type": "stream",
     "text": [
      "\r",
      " 80%|██████████████████████████████▎       | 1005/1261 [04:34<01:09,  3.69it/s]"
     ]
    },
    {
     "name": "stdout",
     "output_type": "stream",
     "text": [
      "The middle point of image:640\n",
      "Max value at x-304 left part.\n",
      "Max value at x-1043 right part.\n"
     ]
    },
    {
     "name": "stderr",
     "output_type": "stream",
     "text": [
      "\r",
      " 80%|██████████████████████████████▎       | 1006/1261 [04:34<00:58,  4.37it/s]"
     ]
    },
    {
     "name": "stdout",
     "output_type": "stream",
     "text": [
      "The middle point of image:640\n",
      "Max value at x-304 left part.\n",
      "Max value at x-1045 right part.\n"
     ]
    },
    {
     "name": "stderr",
     "output_type": "stream",
     "text": [
      "\r",
      " 80%|██████████████████████████████▎       | 1007/1261 [04:34<01:06,  3.82it/s]"
     ]
    },
    {
     "name": "stdout",
     "output_type": "stream",
     "text": [
      "The middle point of image:640\n",
      "Max value at x-307 left part.\n",
      "Max value at x-1029 right part.\n"
     ]
    },
    {
     "name": "stderr",
     "output_type": "stream",
     "text": [
      "\r",
      " 80%|██████████████████████████████▍       | 1008/1261 [04:35<01:08,  3.71it/s]"
     ]
    },
    {
     "name": "stdout",
     "output_type": "stream",
     "text": [
      "The middle point of image:640\n",
      "Max value at x-306 left part.\n",
      "Max value at x-1027 right part.\n"
     ]
    },
    {
     "name": "stderr",
     "output_type": "stream",
     "text": [
      "\r",
      " 80%|██████████████████████████████▍       | 1009/1261 [04:35<00:59,  4.23it/s]"
     ]
    },
    {
     "name": "stdout",
     "output_type": "stream",
     "text": [
      "The middle point of image:640\n",
      "Max value at x-299 left part.\n",
      "Max value at x-1020 right part.\n"
     ]
    },
    {
     "name": "stderr",
     "output_type": "stream",
     "text": [
      "\r",
      " 80%|██████████████████████████████▍       | 1010/1261 [04:35<01:20,  3.11it/s]"
     ]
    },
    {
     "name": "stdout",
     "output_type": "stream",
     "text": [
      "The middle point of image:640\n",
      "Max value at x-298 left part.\n",
      "Max value at x-1029 right part.\n"
     ]
    },
    {
     "name": "stderr",
     "output_type": "stream",
     "text": [
      "\r",
      " 80%|██████████████████████████████▍       | 1011/1261 [04:36<01:11,  3.48it/s]"
     ]
    },
    {
     "name": "stdout",
     "output_type": "stream",
     "text": [
      "The middle point of image:640\n",
      "Max value at x-288 left part.\n",
      "Max value at x-1027 right part.\n"
     ]
    },
    {
     "name": "stderr",
     "output_type": "stream",
     "text": [
      "\r",
      " 80%|██████████████████████████████▍       | 1012/1261 [04:36<00:59,  4.17it/s]"
     ]
    },
    {
     "name": "stdout",
     "output_type": "stream",
     "text": [
      "The middle point of image:640\n",
      "Max value at x-284 left part.\n",
      "Max value at x-1031 right part.\n"
     ]
    },
    {
     "name": "stderr",
     "output_type": "stream",
     "text": [
      "\r",
      " 80%|██████████████████████████████▌       | 1013/1261 [04:36<00:52,  4.73it/s]"
     ]
    },
    {
     "name": "stdout",
     "output_type": "stream",
     "text": [
      "The middle point of image:640\n",
      "Max value at x-285 left part.\n",
      "Max value at x-1045 right part.\n"
     ]
    },
    {
     "name": "stderr",
     "output_type": "stream",
     "text": [
      "\r",
      " 80%|██████████████████████████████▌       | 1014/1261 [04:36<01:17,  3.20it/s]"
     ]
    },
    {
     "name": "stdout",
     "output_type": "stream",
     "text": [
      "The middle point of image:640\n",
      "Max value at x-280 left part.\n",
      "Max value at x-1042 right part.\n"
     ]
    },
    {
     "name": "stderr",
     "output_type": "stream",
     "text": [
      "\r",
      " 80%|██████████████████████████████▌       | 1015/1261 [04:37<01:04,  3.79it/s]"
     ]
    },
    {
     "name": "stdout",
     "output_type": "stream",
     "text": [
      "The middle point of image:640\n",
      "Max value at x-279 left part.\n",
      "Max value at x-1043 right part.\n"
     ]
    },
    {
     "name": "stderr",
     "output_type": "stream",
     "text": [
      "\r",
      " 81%|██████████████████████████████▌       | 1016/1261 [04:37<00:55,  4.40it/s]"
     ]
    },
    {
     "name": "stdout",
     "output_type": "stream",
     "text": [
      "The middle point of image:640\n",
      "Max value at x-280 left part.\n",
      "Max value at x-1038 right part.\n"
     ]
    },
    {
     "name": "stderr",
     "output_type": "stream",
     "text": [
      "\r",
      " 81%|██████████████████████████████▋       | 1017/1261 [04:37<01:05,  3.70it/s]"
     ]
    },
    {
     "name": "stdout",
     "output_type": "stream",
     "text": [
      "The middle point of image:640\n",
      "Max value at x-284 left part.\n",
      "Max value at x-1027 right part.\n"
     ]
    },
    {
     "name": "stderr",
     "output_type": "stream",
     "text": [
      "\r",
      " 81%|██████████████████████████████▋       | 1018/1261 [04:37<00:58,  4.18it/s]"
     ]
    },
    {
     "name": "stdout",
     "output_type": "stream",
     "text": [
      "The middle point of image:640\n",
      "Max value at x-283 left part.\n",
      "Max value at x-1022 right part.\n"
     ]
    },
    {
     "name": "stderr",
     "output_type": "stream",
     "text": [
      "\r",
      " 81%|██████████████████████████████▋       | 1019/1261 [04:38<01:20,  3.01it/s]"
     ]
    },
    {
     "name": "stdout",
     "output_type": "stream",
     "text": [
      "The middle point of image:640\n",
      "Max value at x-278 left part.\n",
      "Max value at x-1024 right part.\n"
     ]
    },
    {
     "name": "stderr",
     "output_type": "stream",
     "text": [
      "\r",
      " 81%|██████████████████████████████▋       | 1020/1261 [04:38<01:07,  3.55it/s]"
     ]
    },
    {
     "name": "stdout",
     "output_type": "stream",
     "text": [
      "The middle point of image:640\n",
      "Max value at x-287 left part.\n",
      "Max value at x-1022 right part.\n"
     ]
    },
    {
     "name": "stderr",
     "output_type": "stream",
     "text": [
      "\r",
      " 81%|██████████████████████████████▊       | 1021/1261 [04:38<00:57,  4.17it/s]"
     ]
    },
    {
     "name": "stdout",
     "output_type": "stream",
     "text": [
      "The middle point of image:640\n",
      "Max value at x-283 left part.\n",
      "Max value at x-1022 right part.\n"
     ]
    },
    {
     "name": "stderr",
     "output_type": "stream",
     "text": [
      "\r",
      " 81%|██████████████████████████████▊       | 1022/1261 [04:39<01:06,  3.61it/s]"
     ]
    },
    {
     "name": "stdout",
     "output_type": "stream",
     "text": [
      "The middle point of image:640\n",
      "Max value at x-276 left part.\n",
      "Max value at x-1011 right part.\n"
     ]
    },
    {
     "name": "stderr",
     "output_type": "stream",
     "text": [
      "\r",
      " 81%|██████████████████████████████▊       | 1023/1261 [04:39<00:59,  4.02it/s]"
     ]
    },
    {
     "name": "stdout",
     "output_type": "stream",
     "text": [
      "The middle point of image:640\n",
      "Max value at x-269 left part.\n",
      "Max value at x-1020 right part.\n"
     ]
    },
    {
     "name": "stderr",
     "output_type": "stream",
     "text": [
      "\r",
      " 81%|██████████████████████████████▊       | 1024/1261 [04:39<01:10,  3.37it/s]"
     ]
    },
    {
     "name": "stdout",
     "output_type": "stream",
     "text": [
      "The middle point of image:640\n",
      "Max value at x-263 left part.\n",
      "Max value at x-1059 right part.\n"
     ]
    },
    {
     "name": "stderr",
     "output_type": "stream",
     "text": [
      "\r",
      " 81%|██████████████████████████████▉       | 1025/1261 [04:39<01:00,  3.93it/s]"
     ]
    },
    {
     "name": "stdout",
     "output_type": "stream",
     "text": [
      "The middle point of image:640\n",
      "Max value at x-270 left part.\n",
      "Max value at x-1044 right part.\n"
     ]
    },
    {
     "name": "stderr",
     "output_type": "stream",
     "text": [
      "\r",
      " 81%|██████████████████████████████▉       | 1026/1261 [04:39<00:53,  4.42it/s]"
     ]
    },
    {
     "name": "stdout",
     "output_type": "stream",
     "text": [
      "The middle point of image:640\n",
      "Max value at x-273 left part.\n",
      "Max value at x-1030 right part.\n"
     ]
    },
    {
     "name": "stderr",
     "output_type": "stream",
     "text": [
      "\r",
      " 81%|██████████████████████████████▉       | 1027/1261 [04:40<00:58,  4.00it/s]"
     ]
    },
    {
     "name": "stdout",
     "output_type": "stream",
     "text": [
      "The middle point of image:640\n",
      "Max value at x-275 left part.\n",
      "Max value at x-1022 right part.\n"
     ]
    },
    {
     "name": "stderr",
     "output_type": "stream",
     "text": [
      "\r",
      " 82%|██████████████████████████████▉       | 1028/1261 [04:40<00:55,  4.18it/s]"
     ]
    },
    {
     "name": "stdout",
     "output_type": "stream",
     "text": [
      "The middle point of image:640\n",
      "Max value at x-278 left part.\n",
      "Max value at x-1020 right part.\n"
     ]
    },
    {
     "name": "stderr",
     "output_type": "stream",
     "text": [
      "\r",
      " 82%|███████████████████████████████       | 1029/1261 [04:41<01:25,  2.70it/s]"
     ]
    },
    {
     "name": "stdout",
     "output_type": "stream",
     "text": [
      "The middle point of image:640\n",
      "Max value at x-273 left part.\n",
      "Max value at x-1020 right part.\n"
     ]
    },
    {
     "name": "stderr",
     "output_type": "stream",
     "text": [
      "\r",
      " 82%|███████████████████████████████       | 1030/1261 [04:41<01:15,  3.06it/s]"
     ]
    },
    {
     "name": "stdout",
     "output_type": "stream",
     "text": [
      "The middle point of image:640\n",
      "Max value at x-271 left part.\n",
      "Max value at x-1017 right part.\n"
     ]
    },
    {
     "name": "stderr",
     "output_type": "stream",
     "text": [
      "\r",
      " 82%|███████████████████████████████       | 1031/1261 [04:41<01:03,  3.64it/s]"
     ]
    },
    {
     "name": "stdout",
     "output_type": "stream",
     "text": [
      "The middle point of image:640\n",
      "Max value at x-268 left part.\n",
      "Max value at x-1006 right part.\n"
     ]
    },
    {
     "name": "stderr",
     "output_type": "stream",
     "text": [
      "\r",
      " 82%|███████████████████████████████       | 1032/1261 [04:41<01:05,  3.47it/s]"
     ]
    },
    {
     "name": "stdout",
     "output_type": "stream",
     "text": [
      "The middle point of image:640\n",
      "Max value at x-267 left part.\n",
      "Max value at x-1010 right part.\n"
     ]
    },
    {
     "name": "stderr",
     "output_type": "stream",
     "text": [
      "\r",
      " 82%|███████████████████████████████▏      | 1033/1261 [04:42<01:00,  3.78it/s]"
     ]
    },
    {
     "name": "stdout",
     "output_type": "stream",
     "text": [
      "The middle point of image:640\n",
      "Max value at x-270 left part.\n",
      "Max value at x-1011 right part.\n"
     ]
    },
    {
     "name": "stderr",
     "output_type": "stream",
     "text": [
      "\r",
      " 82%|███████████████████████████████▏      | 1034/1261 [04:42<00:57,  3.97it/s]"
     ]
    },
    {
     "name": "stdout",
     "output_type": "stream",
     "text": [
      "The middle point of image:640\n",
      "Max value at x-273 left part.\n",
      "Max value at x-1014 right part.\n"
     ]
    },
    {
     "name": "stderr",
     "output_type": "stream",
     "text": [
      "\r",
      " 82%|███████████████████████████████▏      | 1035/1261 [04:42<00:58,  3.87it/s]"
     ]
    },
    {
     "name": "stdout",
     "output_type": "stream",
     "text": [
      "The middle point of image:640\n",
      "Max value at x-277 left part.\n",
      "Max value at x-1003 right part.\n"
     ]
    },
    {
     "name": "stderr",
     "output_type": "stream",
     "text": [
      "\r",
      " 82%|███████████████████████████████▏      | 1036/1261 [04:42<01:07,  3.35it/s]"
     ]
    },
    {
     "name": "stdout",
     "output_type": "stream",
     "text": [
      "The middle point of image:640\n",
      "Max value at x-275 left part.\n",
      "Max value at x-1003 right part.\n"
     ]
    },
    {
     "name": "stderr",
     "output_type": "stream",
     "text": [
      "\r",
      " 82%|███████████████████████████████▏      | 1037/1261 [04:43<01:16,  2.91it/s]"
     ]
    },
    {
     "name": "stdout",
     "output_type": "stream",
     "text": [
      "The middle point of image:640\n",
      "Max value at x-282 left part.\n",
      "Max value at x-806 right part.\n"
     ]
    },
    {
     "name": "stderr",
     "output_type": "stream",
     "text": [
      "\r",
      " 82%|███████████████████████████████▎      | 1038/1261 [04:43<01:08,  3.26it/s]"
     ]
    },
    {
     "name": "stdout",
     "output_type": "stream",
     "text": [
      "The middle point of image:640\n",
      "Max value at x-284 left part.\n",
      "Max value at x-995 right part.\n"
     ]
    },
    {
     "name": "stderr",
     "output_type": "stream",
     "text": [
      "\r",
      " 82%|███████████████████████████████▎      | 1039/1261 [04:43<00:58,  3.81it/s]"
     ]
    },
    {
     "name": "stdout",
     "output_type": "stream",
     "text": [
      "The middle point of image:640\n",
      "Max value at x-280 left part.\n",
      "Max value at x-990 right part.\n"
     ]
    },
    {
     "name": "stderr",
     "output_type": "stream",
     "text": [
      "\r",
      " 82%|███████████████████████████████▎      | 1040/1261 [04:44<01:02,  3.55it/s]"
     ]
    },
    {
     "name": "stdout",
     "output_type": "stream",
     "text": [
      "The middle point of image:640\n",
      "Max value at x-273 left part.\n",
      "Max value at x-989 right part.\n"
     ]
    },
    {
     "name": "stderr",
     "output_type": "stream",
     "text": [
      "\r",
      " 83%|███████████████████████████████▎      | 1041/1261 [04:44<00:55,  3.98it/s]"
     ]
    },
    {
     "name": "stdout",
     "output_type": "stream",
     "text": [
      "The middle point of image:640\n",
      "Max value at x-273 left part.\n",
      "Max value at x-778 right part.\n"
     ]
    },
    {
     "name": "stderr",
     "output_type": "stream",
     "text": [
      "\r",
      " 83%|███████████████████████████████▍      | 1042/1261 [04:44<01:18,  2.80it/s]"
     ]
    },
    {
     "name": "stdout",
     "output_type": "stream",
     "text": [
      "The middle point of image:640\n",
      "Max value at x-333 left part.\n",
      "Max value at x-766 right part.\n"
     ]
    },
    {
     "name": "stderr",
     "output_type": "stream",
     "text": [
      "\r",
      " 83%|███████████████████████████████▍      | 1043/1261 [04:45<01:09,  3.14it/s]"
     ]
    },
    {
     "name": "stdout",
     "output_type": "stream",
     "text": [
      "The middle point of image:640\n",
      "Max value at x-321 left part.\n",
      "Max value at x-792 right part.\n"
     ]
    },
    {
     "name": "stderr",
     "output_type": "stream",
     "text": [
      "\r",
      " 83%|███████████████████████████████▍      | 1044/1261 [04:45<01:02,  3.49it/s]"
     ]
    },
    {
     "name": "stdout",
     "output_type": "stream",
     "text": [
      "The middle point of image:640\n",
      "Max value at x-305 left part.\n",
      "Max value at x-776 right part.\n"
     ]
    },
    {
     "name": "stderr",
     "output_type": "stream",
     "text": [
      "\r",
      " 83%|███████████████████████████████▍      | 1045/1261 [04:45<01:14,  2.90it/s]"
     ]
    },
    {
     "name": "stdout",
     "output_type": "stream",
     "text": [
      "The middle point of image:640\n",
      "Max value at x-317 left part.\n",
      "Max value at x-1047 right part.\n"
     ]
    },
    {
     "name": "stderr",
     "output_type": "stream",
     "text": [
      "\r",
      " 83%|███████████████████████████████▌      | 1046/1261 [04:46<01:06,  3.24it/s]"
     ]
    },
    {
     "name": "stdout",
     "output_type": "stream",
     "text": [
      "The middle point of image:640\n",
      "Max value at x-298 left part.\n",
      "Max value at x-1024 right part.\n"
     ]
    },
    {
     "name": "stderr",
     "output_type": "stream",
     "text": [
      "\r",
      " 83%|███████████████████████████████▌      | 1047/1261 [04:46<00:59,  3.61it/s]"
     ]
    },
    {
     "name": "stdout",
     "output_type": "stream",
     "text": [
      "The middle point of image:640\n",
      "Max value at x-280 left part.\n",
      "Max value at x-1055 right part.\n"
     ]
    },
    {
     "name": "stderr",
     "output_type": "stream",
     "text": [
      "\r",
      " 83%|███████████████████████████████▌      | 1048/1261 [04:46<00:58,  3.62it/s]"
     ]
    },
    {
     "name": "stdout",
     "output_type": "stream",
     "text": [
      "The middle point of image:640\n",
      "Max value at x-273 left part.\n",
      "Max value at x-670 right part.\n"
     ]
    },
    {
     "name": "stderr",
     "output_type": "stream",
     "text": [
      "\r",
      " 83%|███████████████████████████████▌      | 1049/1261 [04:46<00:54,  3.89it/s]"
     ]
    },
    {
     "name": "stdout",
     "output_type": "stream",
     "text": [
      "The middle point of image:640\n",
      "Max value at x-267 left part.\n",
      "Max value at x-681 right part.\n"
     ]
    },
    {
     "name": "stderr",
     "output_type": "stream",
     "text": [
      "\r",
      " 83%|███████████████████████████████▋      | 1050/1261 [04:46<00:48,  4.34it/s]"
     ]
    },
    {
     "name": "stdout",
     "output_type": "stream",
     "text": [
      "The middle point of image:640\n",
      "Max value at x-273 left part.\n",
      "Max value at x-1029 right part.\n"
     ]
    },
    {
     "name": "stderr",
     "output_type": "stream",
     "text": [
      "\r",
      " 83%|███████████████████████████████▋      | 1051/1261 [04:47<00:56,  3.69it/s]"
     ]
    },
    {
     "name": "stdout",
     "output_type": "stream",
     "text": [
      "The middle point of image:640\n",
      "Max value at x-272 left part.\n",
      "Max value at x-1026 right part.\n"
     ]
    },
    {
     "name": "stderr",
     "output_type": "stream",
     "text": [
      "\r",
      " 83%|███████████████████████████████▋      | 1052/1261 [04:47<00:49,  4.20it/s]"
     ]
    },
    {
     "name": "stdout",
     "output_type": "stream",
     "text": [
      "The middle point of image:640\n",
      "Max value at x-268 left part.\n",
      "Max value at x-1023 right part.\n"
     ]
    },
    {
     "name": "stderr",
     "output_type": "stream",
     "text": [
      "\r",
      " 84%|███████████████████████████████▋      | 1053/1261 [04:47<00:54,  3.82it/s]"
     ]
    },
    {
     "name": "stdout",
     "output_type": "stream",
     "text": [
      "The middle point of image:640\n",
      "Max value at x-274 left part.\n",
      "Max value at x-1011 right part.\n"
     ]
    },
    {
     "name": "stderr",
     "output_type": "stream",
     "text": [
      "\r",
      " 84%|███████████████████████████████▊      | 1054/1261 [04:47<00:50,  4.11it/s]"
     ]
    },
    {
     "name": "stdout",
     "output_type": "stream",
     "text": [
      "The middle point of image:640\n",
      "Max value at x-276 left part.\n",
      "Max value at x-1005 right part.\n"
     ]
    },
    {
     "name": "stderr",
     "output_type": "stream",
     "text": [
      "\r",
      " 84%|███████████████████████████████▊      | 1055/1261 [04:48<01:04,  3.21it/s]"
     ]
    },
    {
     "name": "stdout",
     "output_type": "stream",
     "text": [
      "The middle point of image:640\n",
      "Max value at x-277 left part.\n",
      "Max value at x-1002 right part.\n"
     ]
    },
    {
     "name": "stderr",
     "output_type": "stream",
     "text": [
      "\r",
      " 84%|███████████████████████████████▊      | 1056/1261 [04:48<00:55,  3.72it/s]"
     ]
    },
    {
     "name": "stdout",
     "output_type": "stream",
     "text": [
      "The middle point of image:640\n",
      "Max value at x-281 left part.\n",
      "Max value at x-1008 right part.\n"
     ]
    },
    {
     "name": "stderr",
     "output_type": "stream",
     "text": [
      "\r",
      " 84%|███████████████████████████████▊      | 1057/1261 [04:48<00:46,  4.38it/s]"
     ]
    },
    {
     "name": "stdout",
     "output_type": "stream",
     "text": [
      "The middle point of image:640\n",
      "Max value at x-343 left part.\n",
      "Max value at x-1020 right part.\n"
     ]
    },
    {
     "name": "stderr",
     "output_type": "stream",
     "text": [
      "\r",
      " 84%|███████████████████████████████▉      | 1058/1261 [04:48<00:51,  3.96it/s]"
     ]
    },
    {
     "name": "stdout",
     "output_type": "stream",
     "text": [
      "The middle point of image:640\n",
      "Max value at x-338 left part.\n",
      "Max value at x-1007 right part.\n"
     ]
    },
    {
     "name": "stderr",
     "output_type": "stream",
     "text": [
      "\r",
      " 84%|███████████████████████████████▉      | 1059/1261 [04:49<00:44,  4.51it/s]"
     ]
    },
    {
     "name": "stdout",
     "output_type": "stream",
     "text": [
      "The middle point of image:640\n",
      "Max value at x-344 left part.\n",
      "Max value at x-1007 right part.\n"
     ]
    },
    {
     "name": "stderr",
     "output_type": "stream",
     "text": [
      "\r",
      " 84%|███████████████████████████████▉      | 1060/1261 [04:49<01:04,  3.13it/s]"
     ]
    },
    {
     "name": "stdout",
     "output_type": "stream",
     "text": [
      "The middle point of image:640\n",
      "Max value at x-340 left part.\n",
      "Max value at x-1009 right part.\n"
     ]
    },
    {
     "name": "stderr",
     "output_type": "stream",
     "text": [
      "\r",
      " 84%|███████████████████████████████▉      | 1061/1261 [04:49<00:57,  3.48it/s]"
     ]
    },
    {
     "name": "stdout",
     "output_type": "stream",
     "text": [
      "The middle point of image:640\n",
      "Max value at x-363 left part.\n",
      "Max value at x-1011 right part.\n"
     ]
    },
    {
     "name": "stderr",
     "output_type": "stream",
     "text": [
      "\r",
      " 84%|████████████████████████████████      | 1062/1261 [04:50<00:53,  3.71it/s]"
     ]
    },
    {
     "name": "stdout",
     "output_type": "stream",
     "text": [
      "The middle point of image:640\n",
      "Max value at x-352 left part.\n",
      "Max value at x-1020 right part.\n"
     ]
    },
    {
     "name": "stderr",
     "output_type": "stream",
     "text": [
      "\r",
      " 84%|████████████████████████████████      | 1063/1261 [04:50<00:57,  3.42it/s]"
     ]
    },
    {
     "name": "stdout",
     "output_type": "stream",
     "text": [
      "The middle point of image:640\n",
      "Max value at x-331 left part.\n",
      "Max value at x-1016 right part.\n"
     ]
    },
    {
     "name": "stderr",
     "output_type": "stream",
     "text": [
      "\r",
      " 84%|████████████████████████████████      | 1064/1261 [04:50<00:53,  3.70it/s]"
     ]
    },
    {
     "name": "stdout",
     "output_type": "stream",
     "text": [
      "The middle point of image:640\n",
      "Max value at x-335 left part.\n",
      "Max value at x-1022 right part.\n"
     ]
    },
    {
     "name": "stderr",
     "output_type": "stream",
     "text": [
      "\r",
      " 84%|████████████████████████████████      | 1065/1261 [04:50<00:54,  3.63it/s]"
     ]
    },
    {
     "name": "stdout",
     "output_type": "stream",
     "text": [
      "The middle point of image:640\n",
      "Max value at x-314 left part.\n",
      "Max value at x-1022 right part.\n"
     ]
    },
    {
     "name": "stderr",
     "output_type": "stream",
     "text": [
      "\r",
      " 85%|████████████████████████████████      | 1066/1261 [04:51<00:52,  3.72it/s]"
     ]
    },
    {
     "name": "stdout",
     "output_type": "stream",
     "text": [
      "The middle point of image:640\n",
      "Max value at x-320 left part.\n",
      "Max value at x-1028 right part.\n"
     ]
    },
    {
     "name": "stderr",
     "output_type": "stream",
     "text": [
      "\r",
      " 85%|████████████████████████████████▏     | 1067/1261 [04:51<00:49,  3.91it/s]"
     ]
    },
    {
     "name": "stdout",
     "output_type": "stream",
     "text": [
      "The middle point of image:640\n",
      "Max value at x-317 left part.\n",
      "Max value at x-1027 right part.\n"
     ]
    },
    {
     "name": "stderr",
     "output_type": "stream",
     "text": [
      "\r",
      " 85%|████████████████████████████████▏     | 1068/1261 [04:51<00:47,  4.09it/s]"
     ]
    },
    {
     "name": "stdout",
     "output_type": "stream",
     "text": [
      "The middle point of image:640\n",
      "Max value at x-322 left part.\n",
      "Max value at x-1023 right part.\n"
     ]
    },
    {
     "name": "stderr",
     "output_type": "stream",
     "text": [
      "\r",
      " 85%|████████████████████████████████▏     | 1069/1261 [04:52<01:13,  2.62it/s]"
     ]
    },
    {
     "name": "stdout",
     "output_type": "stream",
     "text": [
      "The middle point of image:640\n",
      "Max value at x-322 left part.\n",
      "Max value at x-1033 right part.\n"
     ]
    },
    {
     "name": "stderr",
     "output_type": "stream",
     "text": [
      "\r",
      " 85%|████████████████████████████████▏     | 1070/1261 [04:52<01:02,  3.05it/s]"
     ]
    },
    {
     "name": "stdout",
     "output_type": "stream",
     "text": [
      "The middle point of image:640\n",
      "Max value at x-321 left part.\n",
      "Max value at x-1041 right part.\n"
     ]
    },
    {
     "name": "stderr",
     "output_type": "stream",
     "text": [
      "\r",
      " 85%|████████████████████████████████▎     | 1071/1261 [04:52<00:52,  3.59it/s]"
     ]
    },
    {
     "name": "stdout",
     "output_type": "stream",
     "text": [
      "The middle point of image:640\n",
      "Max value at x-322 left part.\n",
      "Max value at x-1044 right part.\n"
     ]
    },
    {
     "name": "stderr",
     "output_type": "stream",
     "text": [
      "\r",
      " 85%|████████████████████████████████▎     | 1072/1261 [04:53<01:02,  3.01it/s]"
     ]
    },
    {
     "name": "stdout",
     "output_type": "stream",
     "text": [
      "The middle point of image:640\n",
      "Max value at x-330 left part.\n",
      "Max value at x-1038 right part.\n"
     ]
    },
    {
     "name": "stderr",
     "output_type": "stream",
     "text": [
      "\r",
      " 85%|████████████████████████████████▎     | 1073/1261 [04:53<00:56,  3.34it/s]"
     ]
    },
    {
     "name": "stdout",
     "output_type": "stream",
     "text": [
      "The middle point of image:640\n",
      "Max value at x-328 left part.\n",
      "Max value at x-1039 right part.\n"
     ]
    },
    {
     "name": "stderr",
     "output_type": "stream",
     "text": [
      "\r",
      " 85%|████████████████████████████████▎     | 1074/1261 [04:53<00:58,  3.22it/s]"
     ]
    },
    {
     "name": "stdout",
     "output_type": "stream",
     "text": [
      "The middle point of image:640\n",
      "Max value at x-344 left part.\n",
      "Max value at x-1037 right part.\n"
     ]
    },
    {
     "name": "stderr",
     "output_type": "stream",
     "text": [
      "\r",
      " 85%|████████████████████████████████▍     | 1075/1261 [04:54<01:04,  2.89it/s]"
     ]
    },
    {
     "name": "stdout",
     "output_type": "stream",
     "text": [
      "The middle point of image:640\n",
      "Max value at x-343 left part.\n",
      "Max value at x-1037 right part.\n"
     ]
    },
    {
     "name": "stderr",
     "output_type": "stream",
     "text": [
      "\r",
      " 85%|████████████████████████████████▍     | 1076/1261 [04:54<01:11,  2.58it/s]"
     ]
    },
    {
     "name": "stdout",
     "output_type": "stream",
     "text": [
      "The middle point of image:640\n",
      "Max value at x-353 left part.\n",
      "Max value at x-1027 right part.\n"
     ]
    },
    {
     "name": "stderr",
     "output_type": "stream",
     "text": [
      "\r",
      " 85%|████████████████████████████████▍     | 1077/1261 [04:55<01:09,  2.65it/s]"
     ]
    },
    {
     "name": "stdout",
     "output_type": "stream",
     "text": [
      "The middle point of image:640\n",
      "Max value at x-353 left part.\n",
      "Max value at x-1024 right part.\n"
     ]
    },
    {
     "name": "stderr",
     "output_type": "stream",
     "text": [
      "\r",
      " 85%|████████████████████████████████▍     | 1078/1261 [04:55<00:56,  3.23it/s]"
     ]
    },
    {
     "name": "stdout",
     "output_type": "stream",
     "text": [
      "The middle point of image:640\n",
      "Max value at x-350 left part.\n",
      "Max value at x-1022 right part.\n"
     ]
    },
    {
     "name": "stderr",
     "output_type": "stream",
     "text": [
      "\r",
      " 86%|████████████████████████████████▌     | 1079/1261 [04:55<00:47,  3.84it/s]"
     ]
    },
    {
     "name": "stdout",
     "output_type": "stream",
     "text": [
      "The middle point of image:640\n",
      "Max value at x-353 left part.\n",
      "Max value at x-1031 right part.\n"
     ]
    },
    {
     "name": "stderr",
     "output_type": "stream",
     "text": [
      "\r",
      " 86%|████████████████████████████████▌     | 1080/1261 [04:55<01:01,  2.92it/s]"
     ]
    },
    {
     "name": "stdout",
     "output_type": "stream",
     "text": [
      "The middle point of image:640\n",
      "Max value at x-343 left part.\n",
      "Max value at x-1037 right part.\n"
     ]
    },
    {
     "name": "stderr",
     "output_type": "stream",
     "text": [
      "\r",
      " 86%|████████████████████████████████▌     | 1081/1261 [04:56<01:15,  2.39it/s]"
     ]
    },
    {
     "name": "stdout",
     "output_type": "stream",
     "text": [
      "The middle point of image:640\n",
      "Max value at x-342 left part.\n",
      "Max value at x-1067 right part.\n"
     ]
    },
    {
     "name": "stderr",
     "output_type": "stream",
     "text": [
      "\r",
      " 86%|████████████████████████████████▌     | 1082/1261 [04:56<01:02,  2.86it/s]"
     ]
    },
    {
     "name": "stdout",
     "output_type": "stream",
     "text": [
      "The middle point of image:640\n",
      "Max value at x-342 left part.\n",
      "Max value at x-1076 right part.\n"
     ]
    },
    {
     "name": "stderr",
     "output_type": "stream",
     "text": [
      "\r",
      " 86%|████████████████████████████████▋     | 1083/1261 [04:57<01:22,  2.16it/s]"
     ]
    },
    {
     "name": "stdout",
     "output_type": "stream",
     "text": [
      "The middle point of image:640\n",
      "Max value at x-339 left part.\n",
      "Max value at x-1075 right part.\n"
     ]
    },
    {
     "name": "stderr",
     "output_type": "stream",
     "text": [
      "\r",
      " 86%|████████████████████████████████▋     | 1084/1261 [04:57<01:10,  2.49it/s]"
     ]
    },
    {
     "name": "stdout",
     "output_type": "stream",
     "text": [
      "The middle point of image:640\n",
      "Max value at x-341 left part.\n",
      "Max value at x-1067 right part.\n"
     ]
    },
    {
     "name": "stderr",
     "output_type": "stream",
     "text": [
      "\r",
      " 86%|████████████████████████████████▋     | 1085/1261 [04:57<01:01,  2.87it/s]"
     ]
    },
    {
     "name": "stdout",
     "output_type": "stream",
     "text": [
      "The middle point of image:640\n",
      "Max value at x-339 left part.\n",
      "Max value at x-1063 right part.\n"
     ]
    },
    {
     "name": "stderr",
     "output_type": "stream",
     "text": [
      "\r",
      " 86%|████████████████████████████████▋     | 1086/1261 [04:58<00:58,  2.98it/s]"
     ]
    },
    {
     "name": "stdout",
     "output_type": "stream",
     "text": [
      "The middle point of image:640\n",
      "Max value at x-339 left part.\n",
      "Max value at x-1055 right part.\n"
     ]
    },
    {
     "name": "stderr",
     "output_type": "stream",
     "text": [
      "\r",
      " 86%|████████████████████████████████▊     | 1087/1261 [04:58<01:11,  2.42it/s]"
     ]
    },
    {
     "name": "stdout",
     "output_type": "stream",
     "text": [
      "The middle point of image:640\n",
      "Max value at x-347 left part.\n",
      "Max value at x-1049 right part.\n"
     ]
    },
    {
     "name": "stderr",
     "output_type": "stream",
     "text": [
      "\r",
      " 86%|████████████████████████████████▊     | 1088/1261 [04:59<01:15,  2.30it/s]"
     ]
    },
    {
     "name": "stdout",
     "output_type": "stream",
     "text": [
      "The middle point of image:640\n",
      "Max value at x-350 left part.\n",
      "Max value at x-1047 right part.\n"
     ]
    },
    {
     "name": "stderr",
     "output_type": "stream",
     "text": [
      "\r",
      " 86%|████████████████████████████████▊     | 1089/1261 [04:59<01:18,  2.20it/s]"
     ]
    },
    {
     "name": "stdout",
     "output_type": "stream",
     "text": [
      "The middle point of image:640\n",
      "Max value at x-356 left part.\n",
      "Max value at x-1044 right part.\n"
     ]
    },
    {
     "name": "stderr",
     "output_type": "stream",
     "text": [
      "\r",
      " 86%|████████████████████████████████▊     | 1090/1261 [05:00<01:22,  2.07it/s]"
     ]
    },
    {
     "name": "stdout",
     "output_type": "stream",
     "text": [
      "The middle point of image:640\n",
      "Max value at x-346 left part.\n",
      "Max value at x-1039 right part.\n"
     ]
    },
    {
     "name": "stderr",
     "output_type": "stream",
     "text": [
      "\r",
      " 87%|████████████████████████████████▉     | 1091/1261 [05:00<01:25,  1.99it/s]"
     ]
    },
    {
     "name": "stdout",
     "output_type": "stream",
     "text": [
      "The middle point of image:640\n",
      "Max value at x-341 left part.\n",
      "Max value at x-1038 right part.\n"
     ]
    },
    {
     "name": "stderr",
     "output_type": "stream",
     "text": [
      "\r",
      " 87%|████████████████████████████████▉     | 1092/1261 [05:01<01:26,  1.96it/s]"
     ]
    },
    {
     "name": "stdout",
     "output_type": "stream",
     "text": [
      "The middle point of image:640\n",
      "Max value at x-342 left part.\n",
      "Max value at x-1036 right part.\n"
     ]
    },
    {
     "name": "stderr",
     "output_type": "stream",
     "text": [
      "\r",
      " 87%|████████████████████████████████▉     | 1093/1261 [05:01<01:09,  2.42it/s]"
     ]
    },
    {
     "name": "stdout",
     "output_type": "stream",
     "text": [
      "The middle point of image:640\n",
      "Max value at x-343 left part.\n",
      "Max value at x-1084 right part.\n"
     ]
    },
    {
     "name": "stderr",
     "output_type": "stream",
     "text": [
      "\r",
      " 87%|████████████████████████████████▉     | 1094/1261 [05:02<01:11,  2.35it/s]"
     ]
    },
    {
     "name": "stdout",
     "output_type": "stream",
     "text": [
      "The middle point of image:640\n",
      "Max value at x-343 left part.\n",
      "Max value at x-1057 right part.\n"
     ]
    },
    {
     "name": "stderr",
     "output_type": "stream",
     "text": [
      "\r",
      " 87%|████████████████████████████████▉     | 1095/1261 [05:02<00:58,  2.83it/s]"
     ]
    },
    {
     "name": "stdout",
     "output_type": "stream",
     "text": [
      "The middle point of image:640\n",
      "Max value at x-345 left part.\n",
      "Max value at x-1056 right part.\n"
     ]
    },
    {
     "name": "stderr",
     "output_type": "stream",
     "text": [
      "\r",
      " 87%|█████████████████████████████████     | 1096/1261 [05:02<00:50,  3.28it/s]"
     ]
    },
    {
     "name": "stdout",
     "output_type": "stream",
     "text": [
      "The middle point of image:640\n",
      "Max value at x-344 left part.\n",
      "Max value at x-1048 right part.\n"
     ]
    },
    {
     "name": "stderr",
     "output_type": "stream",
     "text": [
      "\r",
      " 87%|█████████████████████████████████     | 1097/1261 [05:02<00:43,  3.81it/s]"
     ]
    },
    {
     "name": "stdout",
     "output_type": "stream",
     "text": [
      "The middle point of image:640\n",
      "Max value at x-347 left part.\n",
      "Max value at x-1044 right part.\n"
     ]
    },
    {
     "name": "stderr",
     "output_type": "stream",
     "text": [
      "\r",
      " 87%|█████████████████████████████████     | 1098/1261 [05:03<01:01,  2.64it/s]"
     ]
    },
    {
     "name": "stdout",
     "output_type": "stream",
     "text": [
      "The middle point of image:640\n",
      "Max value at x-348 left part.\n",
      "Max value at x-1044 right part.\n"
     ]
    },
    {
     "name": "stderr",
     "output_type": "stream",
     "text": [
      "\r",
      " 87%|█████████████████████████████████     | 1099/1261 [05:03<01:00,  2.66it/s]"
     ]
    },
    {
     "name": "stdout",
     "output_type": "stream",
     "text": [
      "The middle point of image:640\n",
      "Max value at x-366 left part.\n",
      "Max value at x-1041 right part.\n"
     ]
    },
    {
     "name": "stderr",
     "output_type": "stream",
     "text": [
      "\r",
      " 87%|█████████████████████████████████▏    | 1100/1261 [05:03<00:53,  3.02it/s]"
     ]
    },
    {
     "name": "stdout",
     "output_type": "stream",
     "text": [
      "The middle point of image:640\n",
      "Max value at x-354 left part.\n",
      "Max value at x-1043 right part.\n"
     ]
    },
    {
     "name": "stderr",
     "output_type": "stream",
     "text": [
      "\r",
      " 87%|█████████████████████████████████▏    | 1101/1261 [05:04<00:56,  2.85it/s]"
     ]
    },
    {
     "name": "stdout",
     "output_type": "stream",
     "text": [
      "The middle point of image:640\n",
      "Max value at x-350 left part.\n",
      "Max value at x-1049 right part.\n"
     ]
    },
    {
     "name": "stderr",
     "output_type": "stream",
     "text": [
      "\r",
      " 87%|█████████████████████████████████▏    | 1102/1261 [05:04<00:53,  2.95it/s]"
     ]
    },
    {
     "name": "stdout",
     "output_type": "stream",
     "text": [
      "The middle point of image:640\n",
      "Max value at x-359 left part.\n",
      "Max value at x-1048 right part.\n"
     ]
    },
    {
     "name": "stderr",
     "output_type": "stream",
     "text": [
      "\r",
      " 87%|█████████████████████████████████▏    | 1103/1261 [05:04<00:44,  3.57it/s]"
     ]
    },
    {
     "name": "stdout",
     "output_type": "stream",
     "text": [
      "The middle point of image:640\n",
      "Max value at x-358 left part.\n",
      "Max value at x-1049 right part.\n"
     ]
    },
    {
     "name": "stderr",
     "output_type": "stream",
     "text": [
      "\r",
      " 88%|█████████████████████████████████▎    | 1104/1261 [05:05<01:01,  2.55it/s]"
     ]
    },
    {
     "name": "stdout",
     "output_type": "stream",
     "text": [
      "The middle point of image:640\n",
      "Max value at x-356 left part.\n",
      "Max value at x-1072 right part.\n"
     ]
    },
    {
     "name": "stderr",
     "output_type": "stream",
     "text": [
      "\r",
      " 88%|█████████████████████████████████▎    | 1105/1261 [05:05<00:54,  2.84it/s]"
     ]
    },
    {
     "name": "stdout",
     "output_type": "stream",
     "text": [
      "The middle point of image:640\n",
      "Max value at x-360 left part.\n",
      "Max value at x-1072 right part.\n"
     ]
    },
    {
     "name": "stderr",
     "output_type": "stream",
     "text": [
      "\r",
      " 88%|█████████████████████████████████▎    | 1106/1261 [05:05<00:45,  3.40it/s]"
     ]
    },
    {
     "name": "stdout",
     "output_type": "stream",
     "text": [
      "The middle point of image:640\n",
      "Max value at x-353 left part.\n",
      "Max value at x-1084 right part.\n"
     ]
    },
    {
     "name": "stderr",
     "output_type": "stream",
     "text": [
      "\r",
      " 88%|█████████████████████████████████▎    | 1107/1261 [05:06<00:51,  2.98it/s]"
     ]
    },
    {
     "name": "stdout",
     "output_type": "stream",
     "text": [
      "The middle point of image:640\n",
      "Max value at x-359 left part.\n",
      "Max value at x-1063 right part.\n"
     ]
    },
    {
     "name": "stderr",
     "output_type": "stream",
     "text": [
      "\r",
      " 88%|█████████████████████████████████▍    | 1108/1261 [05:06<00:54,  2.83it/s]"
     ]
    },
    {
     "name": "stdout",
     "output_type": "stream",
     "text": [
      "The middle point of image:640\n",
      "Max value at x-356 left part.\n",
      "Max value at x-1074 right part.\n"
     ]
    },
    {
     "name": "stderr",
     "output_type": "stream",
     "text": [
      "\r",
      " 88%|█████████████████████████████████▍    | 1109/1261 [05:06<00:44,  3.43it/s]"
     ]
    },
    {
     "name": "stdout",
     "output_type": "stream",
     "text": [
      "The middle point of image:640\n",
      "Max value at x-355 left part.\n",
      "Max value at x-1062 right part.\n"
     ]
    },
    {
     "name": "stderr",
     "output_type": "stream",
     "text": [
      "\r",
      " 88%|█████████████████████████████████▍    | 1110/1261 [05:07<00:52,  2.87it/s]"
     ]
    },
    {
     "name": "stdout",
     "output_type": "stream",
     "text": [
      "The middle point of image:640\n",
      "Max value at x-359 left part.\n",
      "Max value at x-1052 right part.\n"
     ]
    },
    {
     "name": "stderr",
     "output_type": "stream",
     "text": [
      "\r",
      " 88%|█████████████████████████████████▍    | 1111/1261 [05:07<00:48,  3.07it/s]"
     ]
    },
    {
     "name": "stdout",
     "output_type": "stream",
     "text": [
      "The middle point of image:640\n",
      "Max value at x-354 left part.\n",
      "Max value at x-1051 right part.\n"
     ]
    },
    {
     "name": "stderr",
     "output_type": "stream",
     "text": [
      "\r",
      " 88%|█████████████████████████████████▌    | 1112/1261 [05:07<00:48,  3.06it/s]"
     ]
    },
    {
     "name": "stdout",
     "output_type": "stream",
     "text": [
      "The middle point of image:640\n",
      "Max value at x-358 left part.\n",
      "Max value at x-1042 right part.\n"
     ]
    },
    {
     "name": "stderr",
     "output_type": "stream",
     "text": [
      "\r",
      " 88%|█████████████████████████████████▌    | 1113/1261 [05:08<00:56,  2.60it/s]"
     ]
    },
    {
     "name": "stdout",
     "output_type": "stream",
     "text": [
      "The middle point of image:640\n",
      "Max value at x-354 left part.\n",
      "Max value at x-1045 right part.\n"
     ]
    },
    {
     "name": "stderr",
     "output_type": "stream",
     "text": [
      "\r",
      " 88%|█████████████████████████████████▌    | 1114/1261 [05:08<00:46,  3.16it/s]"
     ]
    },
    {
     "name": "stdout",
     "output_type": "stream",
     "text": [
      "The middle point of image:640\n",
      "Max value at x-351 left part.\n",
      "Max value at x-1047 right part.\n"
     ]
    },
    {
     "name": "stderr",
     "output_type": "stream",
     "text": [
      "\r",
      " 88%|█████████████████████████████████▌    | 1115/1261 [05:08<00:39,  3.65it/s]"
     ]
    },
    {
     "name": "stdout",
     "output_type": "stream",
     "text": [
      "The middle point of image:640\n",
      "Max value at x-357 left part.\n",
      "Max value at x-1037 right part.\n"
     ]
    },
    {
     "name": "stderr",
     "output_type": "stream",
     "text": [
      "\r",
      " 89%|█████████████████████████████████▋    | 1116/1261 [05:08<00:41,  3.48it/s]"
     ]
    },
    {
     "name": "stdout",
     "output_type": "stream",
     "text": [
      "The middle point of image:640\n",
      "Max value at x-358 left part.\n",
      "Max value at x-1044 right part.\n"
     ]
    },
    {
     "name": "stderr",
     "output_type": "stream",
     "text": [
      "\r",
      " 89%|█████████████████████████████████▋    | 1117/1261 [05:09<00:38,  3.78it/s]"
     ]
    },
    {
     "name": "stdout",
     "output_type": "stream",
     "text": [
      "The middle point of image:640\n",
      "Max value at x-360 left part.\n",
      "Max value at x-1034 right part.\n"
     ]
    },
    {
     "name": "stderr",
     "output_type": "stream",
     "text": [
      "\r",
      " 89%|█████████████████████████████████▋    | 1118/1261 [05:09<00:43,  3.27it/s]"
     ]
    },
    {
     "name": "stdout",
     "output_type": "stream",
     "text": [
      "The middle point of image:640\n",
      "Max value at x-357 left part.\n",
      "Max value at x-1034 right part.\n"
     ]
    },
    {
     "name": "stderr",
     "output_type": "stream",
     "text": [
      "\r",
      " 89%|█████████████████████████████████▋    | 1119/1261 [05:09<00:36,  3.84it/s]"
     ]
    },
    {
     "name": "stdout",
     "output_type": "stream",
     "text": [
      "The middle point of image:640\n",
      "Max value at x-350 left part.\n",
      "Max value at x-1040 right part.\n"
     ]
    },
    {
     "name": "stderr",
     "output_type": "stream",
     "text": [
      "\r",
      " 89%|█████████████████████████████████▊    | 1120/1261 [05:09<00:31,  4.42it/s]"
     ]
    },
    {
     "name": "stdout",
     "output_type": "stream",
     "text": [
      "The middle point of image:640\n",
      "Max value at x-348 left part.\n",
      "Max value at x-1039 right part.\n"
     ]
    },
    {
     "name": "stderr",
     "output_type": "stream",
     "text": [
      "\r",
      " 89%|█████████████████████████████████▊    | 1121/1261 [05:10<00:37,  3.75it/s]"
     ]
    },
    {
     "name": "stdout",
     "output_type": "stream",
     "text": [
      "The middle point of image:640\n",
      "Max value at x-345 left part.\n",
      "Max value at x-1040 right part.\n"
     ]
    },
    {
     "name": "stderr",
     "output_type": "stream",
     "text": [
      "\r",
      " 89%|█████████████████████████████████▊    | 1122/1261 [05:10<00:31,  4.35it/s]"
     ]
    },
    {
     "name": "stdout",
     "output_type": "stream",
     "text": [
      "The middle point of image:640\n",
      "Max value at x-343 left part.\n",
      "Max value at x-1040 right part.\n"
     ]
    },
    {
     "name": "stderr",
     "output_type": "stream",
     "text": [
      "\r",
      " 89%|█████████████████████████████████▊    | 1123/1261 [05:10<00:37,  3.64it/s]"
     ]
    },
    {
     "name": "stdout",
     "output_type": "stream",
     "text": [
      "The middle point of image:640\n",
      "Max value at x-343 left part.\n",
      "Max value at x-1044 right part.\n"
     ]
    },
    {
     "name": "stderr",
     "output_type": "stream",
     "text": [
      "\r",
      " 89%|█████████████████████████████████▊    | 1124/1261 [05:10<00:32,  4.18it/s]"
     ]
    },
    {
     "name": "stdout",
     "output_type": "stream",
     "text": [
      "The middle point of image:640\n",
      "Max value at x-336 left part.\n",
      "Max value at x-1043 right part.\n"
     ]
    },
    {
     "name": "stderr",
     "output_type": "stream",
     "text": [
      "\r",
      " 89%|█████████████████████████████████▉    | 1125/1261 [05:11<00:29,  4.67it/s]"
     ]
    },
    {
     "name": "stdout",
     "output_type": "stream",
     "text": [
      "The middle point of image:640\n",
      "Max value at x-336 left part.\n",
      "Max value at x-1040 right part.\n"
     ]
    },
    {
     "name": "stderr",
     "output_type": "stream",
     "text": [
      "\r",
      " 89%|█████████████████████████████████▉    | 1126/1261 [05:11<00:31,  4.32it/s]"
     ]
    },
    {
     "name": "stdout",
     "output_type": "stream",
     "text": [
      "The middle point of image:640\n",
      "Max value at x-339 left part.\n",
      "Max value at x-1035 right part.\n"
     ]
    },
    {
     "name": "stderr",
     "output_type": "stream",
     "text": [
      "\r",
      " 89%|█████████████████████████████████▉    | 1127/1261 [05:11<00:43,  3.06it/s]"
     ]
    },
    {
     "name": "stdout",
     "output_type": "stream",
     "text": [
      "The middle point of image:640\n",
      "Max value at x-345 left part.\n",
      "Max value at x-1065 right part.\n"
     ]
    },
    {
     "name": "stderr",
     "output_type": "stream",
     "text": [
      "\r",
      " 89%|█████████████████████████████████▉    | 1128/1261 [05:12<00:47,  2.77it/s]"
     ]
    },
    {
     "name": "stdout",
     "output_type": "stream",
     "text": [
      "The middle point of image:640\n",
      "Max value at x-339 left part.\n",
      "Max value at x-1066 right part.\n"
     ]
    },
    {
     "name": "stderr",
     "output_type": "stream",
     "text": [
      "\r",
      " 90%|██████████████████████████████████    | 1129/1261 [05:12<00:53,  2.46it/s]"
     ]
    },
    {
     "name": "stdout",
     "output_type": "stream",
     "text": [
      "The middle point of image:640\n",
      "Max value at x-347 left part.\n",
      "Max value at x-1057 right part.\n"
     ]
    },
    {
     "name": "stderr",
     "output_type": "stream",
     "text": [
      "\r",
      " 90%|██████████████████████████████████    | 1130/1261 [05:13<01:00,  2.18it/s]"
     ]
    },
    {
     "name": "stdout",
     "output_type": "stream",
     "text": [
      "The middle point of image:640\n",
      "Max value at x-340 left part.\n",
      "Max value at x-1055 right part.\n"
     ]
    },
    {
     "name": "stderr",
     "output_type": "stream",
     "text": [
      "\r",
      " 90%|██████████████████████████████████    | 1131/1261 [05:14<01:05,  2.00it/s]"
     ]
    },
    {
     "name": "stdout",
     "output_type": "stream",
     "text": [
      "The middle point of image:640\n",
      "Max value at x-347 left part.\n",
      "Max value at x-1040 right part.\n"
     ]
    },
    {
     "name": "stderr",
     "output_type": "stream",
     "text": [
      "\r",
      " 90%|██████████████████████████████████    | 1132/1261 [05:14<01:04,  2.00it/s]"
     ]
    },
    {
     "name": "stdout",
     "output_type": "stream",
     "text": [
      "The middle point of image:640\n",
      "Max value at x-344 left part.\n",
      "Max value at x-1043 right part.\n"
     ]
    },
    {
     "name": "stderr",
     "output_type": "stream",
     "text": [
      "\r",
      " 90%|██████████████████████████████████▏   | 1133/1261 [05:15<01:06,  1.92it/s]"
     ]
    },
    {
     "name": "stdout",
     "output_type": "stream",
     "text": [
      "The middle point of image:640\n",
      "Max value at x-343 left part.\n",
      "Max value at x-1033 right part.\n"
     ]
    },
    {
     "name": "stderr",
     "output_type": "stream",
     "text": [
      "\r",
      " 90%|██████████████████████████████████▏   | 1134/1261 [05:15<01:06,  1.91it/s]"
     ]
    },
    {
     "name": "stdout",
     "output_type": "stream",
     "text": [
      "The middle point of image:640\n",
      "Max value at x-342 left part.\n",
      "Max value at x-1037 right part.\n"
     ]
    },
    {
     "name": "stderr",
     "output_type": "stream",
     "text": [
      "\r",
      " 90%|██████████████████████████████████▏   | 1135/1261 [05:16<01:03,  1.97it/s]"
     ]
    },
    {
     "name": "stdout",
     "output_type": "stream",
     "text": [
      "The middle point of image:640\n",
      "Max value at x-345 left part.\n",
      "Max value at x-1032 right part.\n"
     ]
    },
    {
     "name": "stderr",
     "output_type": "stream",
     "text": [
      "\r",
      " 90%|██████████████████████████████████▏   | 1136/1261 [05:17<01:19,  1.58it/s]"
     ]
    },
    {
     "name": "stdout",
     "output_type": "stream",
     "text": [
      "The middle point of image:640\n",
      "Max value at x-346 left part.\n",
      "Max value at x-1037 right part.\n"
     ]
    },
    {
     "name": "stderr",
     "output_type": "stream",
     "text": [
      "\r",
      " 90%|██████████████████████████████████▎   | 1137/1261 [05:17<01:26,  1.43it/s]"
     ]
    },
    {
     "name": "stdout",
     "output_type": "stream",
     "text": [
      "The middle point of image:640\n",
      "Max value at x-344 left part.\n",
      "Max value at x-1042 right part.\n"
     ]
    },
    {
     "name": "stderr",
     "output_type": "stream",
     "text": [
      "\r",
      " 90%|██████████████████████████████████▎   | 1138/1261 [05:18<01:05,  1.88it/s]"
     ]
    },
    {
     "name": "stdout",
     "output_type": "stream",
     "text": [
      "The middle point of image:640\n",
      "Max value at x-343 left part.\n",
      "Max value at x-1037 right part.\n"
     ]
    },
    {
     "name": "stderr",
     "output_type": "stream",
     "text": [
      "\r",
      " 90%|██████████████████████████████████▎   | 1139/1261 [05:18<00:58,  2.07it/s]"
     ]
    },
    {
     "name": "stdout",
     "output_type": "stream",
     "text": [
      "The middle point of image:640\n",
      "Max value at x-343 left part.\n",
      "Max value at x-1037 right part.\n"
     ]
    },
    {
     "name": "stderr",
     "output_type": "stream",
     "text": [
      "\r",
      " 90%|██████████████████████████████████▎   | 1140/1261 [05:18<00:47,  2.57it/s]"
     ]
    },
    {
     "name": "stdout",
     "output_type": "stream",
     "text": [
      "The middle point of image:640\n",
      "Max value at x-347 left part.\n",
      "Max value at x-1052 right part.\n"
     ]
    },
    {
     "name": "stderr",
     "output_type": "stream",
     "text": [
      "\r",
      " 90%|██████████████████████████████████▍   | 1141/1261 [05:18<00:38,  3.11it/s]"
     ]
    },
    {
     "name": "stdout",
     "output_type": "stream",
     "text": [
      "The middle point of image:640\n",
      "Max value at x-347 left part.\n",
      "Max value at x-1038 right part.\n"
     ]
    },
    {
     "name": "stderr",
     "output_type": "stream",
     "text": [
      "\r",
      " 91%|██████████████████████████████████▍   | 1142/1261 [05:18<00:35,  3.37it/s]"
     ]
    },
    {
     "name": "stdout",
     "output_type": "stream",
     "text": [
      "The middle point of image:640\n",
      "Max value at x-347 left part.\n",
      "Max value at x-1038 right part.\n"
     ]
    },
    {
     "name": "stderr",
     "output_type": "stream",
     "text": [
      "\r",
      " 91%|██████████████████████████████████▍   | 1143/1261 [05:19<00:31,  3.78it/s]"
     ]
    },
    {
     "name": "stdout",
     "output_type": "stream",
     "text": [
      "The middle point of image:640\n",
      "Max value at x-346 left part.\n",
      "Max value at x-1043 right part.\n"
     ]
    },
    {
     "name": "stderr",
     "output_type": "stream",
     "text": [
      "\r",
      " 91%|██████████████████████████████████▍   | 1144/1261 [05:19<00:33,  3.47it/s]"
     ]
    },
    {
     "name": "stdout",
     "output_type": "stream",
     "text": [
      "The middle point of image:640\n",
      "Max value at x-354 left part.\n",
      "Max value at x-1033 right part.\n"
     ]
    },
    {
     "name": "stderr",
     "output_type": "stream",
     "text": [
      "\r",
      " 91%|██████████████████████████████████▌   | 1145/1261 [05:19<00:30,  3.81it/s]"
     ]
    },
    {
     "name": "stdout",
     "output_type": "stream",
     "text": [
      "The middle point of image:640\n",
      "Max value at x-345 left part.\n",
      "Max value at x-1034 right part.\n"
     ]
    },
    {
     "name": "stderr",
     "output_type": "stream",
     "text": [
      "\r",
      " 91%|██████████████████████████████████▌   | 1146/1261 [05:19<00:25,  4.44it/s]"
     ]
    },
    {
     "name": "stdout",
     "output_type": "stream",
     "text": [
      "The middle point of image:640\n",
      "Max value at x-344 left part.\n",
      "Max value at x-1030 right part.\n"
     ]
    },
    {
     "name": "stderr",
     "output_type": "stream",
     "text": [
      "\r",
      " 91%|██████████████████████████████████▌   | 1147/1261 [05:20<00:29,  3.92it/s]"
     ]
    },
    {
     "name": "stdout",
     "output_type": "stream",
     "text": [
      "The middle point of image:640\n",
      "Max value at x-348 left part.\n",
      "Max value at x-1032 right part.\n"
     ]
    },
    {
     "name": "stderr",
     "output_type": "stream",
     "text": [
      "\r",
      " 91%|██████████████████████████████████▌   | 1148/1261 [05:20<00:32,  3.44it/s]"
     ]
    },
    {
     "name": "stdout",
     "output_type": "stream",
     "text": [
      "The middle point of image:640\n",
      "Max value at x-343 left part.\n",
      "Max value at x-1041 right part.\n"
     ]
    },
    {
     "name": "stderr",
     "output_type": "stream",
     "text": [
      "\r",
      " 91%|██████████████████████████████████▌   | 1149/1261 [05:20<00:28,  3.90it/s]"
     ]
    },
    {
     "name": "stdout",
     "output_type": "stream",
     "text": [
      "The middle point of image:640\n",
      "Max value at x-343 left part.\n",
      "Max value at x-1036 right part.\n"
     ]
    },
    {
     "name": "stderr",
     "output_type": "stream",
     "text": [
      "\r",
      " 91%|██████████████████████████████████▋   | 1150/1261 [05:21<00:35,  3.11it/s]"
     ]
    },
    {
     "name": "stdout",
     "output_type": "stream",
     "text": [
      "The middle point of image:640\n",
      "Max value at x-342 left part.\n",
      "Max value at x-1036 right part.\n"
     ]
    },
    {
     "name": "stderr",
     "output_type": "stream",
     "text": [
      "\r",
      " 91%|██████████████████████████████████▋   | 1151/1261 [05:21<00:30,  3.62it/s]"
     ]
    },
    {
     "name": "stdout",
     "output_type": "stream",
     "text": [
      "The middle point of image:640\n",
      "Max value at x-341 left part.\n",
      "Max value at x-1044 right part.\n"
     ]
    },
    {
     "name": "stderr",
     "output_type": "stream",
     "text": [
      "\r",
      " 91%|██████████████████████████████████▋   | 1152/1261 [05:21<00:26,  4.12it/s]"
     ]
    },
    {
     "name": "stdout",
     "output_type": "stream",
     "text": [
      "The middle point of image:640\n",
      "Max value at x-342 left part.\n",
      "Max value at x-1043 right part.\n"
     ]
    },
    {
     "name": "stderr",
     "output_type": "stream",
     "text": [
      "\r",
      " 91%|██████████████████████████████████▋   | 1153/1261 [05:21<00:27,  3.92it/s]"
     ]
    },
    {
     "name": "stdout",
     "output_type": "stream",
     "text": [
      "The middle point of image:640\n",
      "Max value at x-334 left part.\n",
      "Max value at x-1044 right part.\n"
     ]
    },
    {
     "name": "stderr",
     "output_type": "stream",
     "text": [
      "\r",
      " 92%|██████████████████████████████████▊   | 1154/1261 [05:21<00:24,  4.44it/s]"
     ]
    },
    {
     "name": "stdout",
     "output_type": "stream",
     "text": [
      "The middle point of image:640\n",
      "Max value at x-337 left part.\n",
      "Max value at x-1043 right part.\n"
     ]
    },
    {
     "name": "stderr",
     "output_type": "stream",
     "text": [
      "\r",
      " 92%|██████████████████████████████████▊   | 1155/1261 [05:22<00:30,  3.50it/s]"
     ]
    },
    {
     "name": "stdout",
     "output_type": "stream",
     "text": [
      "The middle point of image:640\n",
      "Max value at x-337 left part.\n",
      "Max value at x-1040 right part.\n"
     ]
    },
    {
     "name": "stderr",
     "output_type": "stream",
     "text": [
      "\r",
      " 92%|██████████████████████████████████▊   | 1156/1261 [05:22<00:25,  4.06it/s]"
     ]
    },
    {
     "name": "stdout",
     "output_type": "stream",
     "text": [
      "The middle point of image:640\n",
      "Max value at x-330 left part.\n",
      "Max value at x-1043 right part.\n"
     ]
    },
    {
     "name": "stderr",
     "output_type": "stream",
     "text": [
      "\r",
      " 92%|██████████████████████████████████▊   | 1157/1261 [05:22<00:23,  4.46it/s]"
     ]
    },
    {
     "name": "stdout",
     "output_type": "stream",
     "text": [
      "The middle point of image:640\n",
      "Max value at x-335 left part.\n",
      "Max value at x-1040 right part.\n"
     ]
    },
    {
     "name": "stderr",
     "output_type": "stream",
     "text": [
      "\r",
      " 92%|██████████████████████████████████▉   | 1158/1261 [05:22<00:23,  4.36it/s]"
     ]
    },
    {
     "name": "stdout",
     "output_type": "stream",
     "text": [
      "The middle point of image:640\n",
      "Max value at x-332 left part.\n",
      "Max value at x-1036 right part.\n"
     ]
    },
    {
     "name": "stderr",
     "output_type": "stream",
     "text": [
      "\r",
      " 92%|██████████████████████████████████▉   | 1159/1261 [05:23<00:21,  4.77it/s]"
     ]
    },
    {
     "name": "stdout",
     "output_type": "stream",
     "text": [
      "The middle point of image:640\n",
      "Max value at x-336 left part.\n",
      "Max value at x-1032 right part.\n"
     ]
    },
    {
     "name": "stderr",
     "output_type": "stream",
     "text": [
      "\r",
      " 92%|██████████████████████████████████▉   | 1160/1261 [05:23<00:25,  4.00it/s]"
     ]
    },
    {
     "name": "stdout",
     "output_type": "stream",
     "text": [
      "The middle point of image:640\n",
      "Max value at x-338 left part.\n",
      "Max value at x-1036 right part.\n"
     ]
    },
    {
     "name": "stderr",
     "output_type": "stream",
     "text": [
      "\r",
      " 92%|██████████████████████████████████▉   | 1161/1261 [05:23<00:23,  4.24it/s]"
     ]
    },
    {
     "name": "stdout",
     "output_type": "stream",
     "text": [
      "The middle point of image:640\n",
      "Max value at x-335 left part.\n",
      "Max value at x-1060 right part.\n"
     ]
    },
    {
     "name": "stderr",
     "output_type": "stream",
     "text": [
      "\r",
      " 92%|███████████████████████████████████   | 1162/1261 [05:23<00:20,  4.74it/s]"
     ]
    },
    {
     "name": "stdout",
     "output_type": "stream",
     "text": [
      "The middle point of image:640\n",
      "Max value at x-338 left part.\n",
      "Max value at x-1046 right part.\n"
     ]
    },
    {
     "name": "stderr",
     "output_type": "stream",
     "text": [
      "\r",
      " 92%|███████████████████████████████████   | 1163/1261 [05:24<00:23,  4.11it/s]"
     ]
    },
    {
     "name": "stdout",
     "output_type": "stream",
     "text": [
      "The middle point of image:640\n",
      "Max value at x-337 left part.\n",
      "Max value at x-1042 right part.\n"
     ]
    },
    {
     "name": "stderr",
     "output_type": "stream",
     "text": [
      "\r",
      " 92%|███████████████████████████████████   | 1164/1261 [05:24<00:22,  4.22it/s]"
     ]
    },
    {
     "name": "stdout",
     "output_type": "stream",
     "text": [
      "The middle point of image:640\n",
      "Max value at x-334 left part.\n",
      "Max value at x-1043 right part.\n"
     ]
    },
    {
     "name": "stderr",
     "output_type": "stream",
     "text": [
      "\r",
      " 92%|███████████████████████████████████   | 1165/1261 [05:24<00:21,  4.46it/s]"
     ]
    },
    {
     "name": "stdout",
     "output_type": "stream",
     "text": [
      "The middle point of image:640\n",
      "Max value at x-333 left part.\n",
      "Max value at x-1041 right part.\n"
     ]
    },
    {
     "name": "stderr",
     "output_type": "stream",
     "text": [
      "\r",
      " 92%|███████████████████████████████████▏  | 1166/1261 [05:24<00:27,  3.45it/s]"
     ]
    },
    {
     "name": "stdout",
     "output_type": "stream",
     "text": [
      "The middle point of image:640\n",
      "Max value at x-337 left part.\n",
      "Max value at x-1039 right part.\n"
     ]
    },
    {
     "name": "stderr",
     "output_type": "stream",
     "text": [
      "\r",
      " 93%|███████████████████████████████████▏  | 1167/1261 [05:25<00:30,  3.12it/s]"
     ]
    },
    {
     "name": "stdout",
     "output_type": "stream",
     "text": [
      "The middle point of image:640\n",
      "Max value at x-331 left part.\n",
      "Max value at x-1032 right part.\n"
     ]
    },
    {
     "name": "stderr",
     "output_type": "stream",
     "text": [
      "\r",
      " 93%|███████████████████████████████████▏  | 1168/1261 [05:25<00:24,  3.76it/s]"
     ]
    },
    {
     "name": "stdout",
     "output_type": "stream",
     "text": [
      "The middle point of image:640\n",
      "Max value at x-335 left part.\n",
      "Max value at x-1030 right part.\n"
     ]
    },
    {
     "name": "stderr",
     "output_type": "stream",
     "text": [
      "\r",
      " 93%|███████████████████████████████████▏  | 1169/1261 [05:25<00:29,  3.07it/s]"
     ]
    },
    {
     "name": "stdout",
     "output_type": "stream",
     "text": [
      "The middle point of image:640\n",
      "Max value at x-334 left part.\n",
      "Max value at x-1032 right part.\n"
     ]
    },
    {
     "name": "stderr",
     "output_type": "stream",
     "text": [
      "\r",
      " 93%|███████████████████████████████████▎  | 1170/1261 [05:26<00:25,  3.63it/s]"
     ]
    },
    {
     "name": "stdout",
     "output_type": "stream",
     "text": [
      "The middle point of image:640\n",
      "Max value at x-332 left part.\n",
      "Max value at x-1020 right part.\n"
     ]
    },
    {
     "name": "stderr",
     "output_type": "stream",
     "text": [
      "\r",
      " 93%|███████████████████████████████████▎  | 1171/1261 [05:26<00:21,  4.13it/s]"
     ]
    },
    {
     "name": "stdout",
     "output_type": "stream",
     "text": [
      "The middle point of image:640\n",
      "Max value at x-333 left part.\n",
      "Max value at x-1018 right part.\n"
     ]
    },
    {
     "name": "stderr",
     "output_type": "stream",
     "text": [
      "\r",
      " 93%|███████████████████████████████████▎  | 1172/1261 [05:26<00:23,  3.86it/s]"
     ]
    },
    {
     "name": "stdout",
     "output_type": "stream",
     "text": [
      "The middle point of image:640\n",
      "Max value at x-331 left part.\n",
      "Max value at x-1058 right part.\n"
     ]
    },
    {
     "name": "stderr",
     "output_type": "stream",
     "text": [
      "\r",
      " 93%|███████████████████████████████████▎  | 1173/1261 [05:26<00:22,  3.95it/s]"
     ]
    },
    {
     "name": "stdout",
     "output_type": "stream",
     "text": [
      "The middle point of image:640\n",
      "Max value at x-355 left part.\n",
      "Max value at x-1048 right part.\n"
     ]
    },
    {
     "name": "stderr",
     "output_type": "stream",
     "text": [
      "\r",
      " 93%|███████████████████████████████████▍  | 1174/1261 [05:27<00:29,  2.97it/s]"
     ]
    },
    {
     "name": "stdout",
     "output_type": "stream",
     "text": [
      "The middle point of image:640\n",
      "Max value at x-351 left part.\n",
      "Max value at x-1051 right part.\n"
     ]
    },
    {
     "name": "stderr",
     "output_type": "stream",
     "text": [
      "\r",
      " 93%|███████████████████████████████████▍  | 1175/1261 [05:27<00:24,  3.52it/s]"
     ]
    },
    {
     "name": "stdout",
     "output_type": "stream",
     "text": [
      "The middle point of image:640\n",
      "Max value at x-347 left part.\n",
      "Max value at x-1049 right part.\n"
     ]
    },
    {
     "name": "stderr",
     "output_type": "stream",
     "text": [
      "\r",
      " 93%|███████████████████████████████████▍  | 1176/1261 [05:27<00:20,  4.10it/s]"
     ]
    },
    {
     "name": "stdout",
     "output_type": "stream",
     "text": [
      "The middle point of image:640\n",
      "Max value at x-348 left part.\n",
      "Max value at x-1042 right part.\n"
     ]
    },
    {
     "name": "stderr",
     "output_type": "stream",
     "text": [
      "\r",
      " 93%|███████████████████████████████████▍  | 1177/1261 [05:27<00:22,  3.77it/s]"
     ]
    },
    {
     "name": "stdout",
     "output_type": "stream",
     "text": [
      "The middle point of image:640\n",
      "Max value at x-345 left part.\n",
      "Max value at x-1045 right part.\n"
     ]
    },
    {
     "name": "stderr",
     "output_type": "stream",
     "text": [
      "\r",
      " 93%|███████████████████████████████████▍  | 1178/1261 [05:28<00:20,  3.97it/s]"
     ]
    },
    {
     "name": "stdout",
     "output_type": "stream",
     "text": [
      "The middle point of image:640\n",
      "Max value at x-363 left part.\n",
      "Max value at x-1041 right part.\n"
     ]
    },
    {
     "name": "stderr",
     "output_type": "stream",
     "text": [
      "\r",
      " 93%|███████████████████████████████████▌  | 1179/1261 [05:28<00:28,  2.91it/s]"
     ]
    },
    {
     "name": "stdout",
     "output_type": "stream",
     "text": [
      "The middle point of image:640\n",
      "Max value at x-364 left part.\n",
      "Max value at x-1039 right part.\n"
     ]
    },
    {
     "name": "stderr",
     "output_type": "stream",
     "text": [
      "\r",
      " 94%|███████████████████████████████████▌  | 1180/1261 [05:28<00:23,  3.40it/s]"
     ]
    },
    {
     "name": "stdout",
     "output_type": "stream",
     "text": [
      "The middle point of image:640\n",
      "Max value at x-358 left part.\n",
      "Max value at x-1037 right part.\n"
     ]
    },
    {
     "name": "stderr",
     "output_type": "stream",
     "text": [
      "\r",
      " 94%|███████████████████████████████████▌  | 1181/1261 [05:29<00:19,  4.00it/s]"
     ]
    },
    {
     "name": "stdout",
     "output_type": "stream",
     "text": [
      "The middle point of image:640\n",
      "Max value at x-358 left part.\n",
      "Max value at x-1032 right part.\n"
     ]
    },
    {
     "name": "stderr",
     "output_type": "stream",
     "text": [
      "\r",
      " 94%|███████████████████████████████████▌  | 1182/1261 [05:29<00:18,  4.36it/s]"
     ]
    },
    {
     "name": "stdout",
     "output_type": "stream",
     "text": [
      "The middle point of image:640\n",
      "Max value at x-356 left part.\n",
      "Max value at x-1034 right part.\n"
     ]
    },
    {
     "name": "stderr",
     "output_type": "stream",
     "text": [
      "\r",
      " 94%|███████████████████████████████████▋  | 1183/1261 [05:29<00:24,  3.23it/s]"
     ]
    },
    {
     "name": "stdout",
     "output_type": "stream",
     "text": [
      "The middle point of image:640\n",
      "Max value at x-356 left part.\n",
      "Max value at x-1069 right part.\n"
     ]
    },
    {
     "name": "stderr",
     "output_type": "stream",
     "text": [
      "\r",
      " 94%|███████████████████████████████████▋  | 1184/1261 [05:29<00:20,  3.70it/s]"
     ]
    },
    {
     "name": "stdout",
     "output_type": "stream",
     "text": [
      "The middle point of image:640\n",
      "Max value at x-375 left part.\n",
      "Max value at x-1076 right part.\n"
     ]
    },
    {
     "name": "stderr",
     "output_type": "stream",
     "text": [
      "\r",
      " 94%|███████████████████████████████████▋  | 1185/1261 [05:30<00:17,  4.34it/s]"
     ]
    },
    {
     "name": "stdout",
     "output_type": "stream",
     "text": [
      "The middle point of image:640\n",
      "Max value at x-368 left part.\n",
      "Max value at x-1076 right part.\n"
     ]
    },
    {
     "name": "stderr",
     "output_type": "stream",
     "text": [
      "\r",
      " 94%|███████████████████████████████████▋  | 1186/1261 [05:30<00:15,  4.91it/s]"
     ]
    },
    {
     "name": "stdout",
     "output_type": "stream",
     "text": [
      "The middle point of image:640\n",
      "Max value at x-369 left part.\n",
      "Max value at x-1070 right part.\n"
     ]
    },
    {
     "name": "stderr",
     "output_type": "stream",
     "text": [
      "\r",
      " 94%|███████████████████████████████████▊  | 1187/1261 [05:30<00:15,  4.65it/s]"
     ]
    },
    {
     "name": "stdout",
     "output_type": "stream",
     "text": [
      "The middle point of image:640\n",
      "Max value at x-366 left part.\n",
      "Max value at x-1063 right part.\n"
     ]
    },
    {
     "name": "stderr",
     "output_type": "stream",
     "text": [
      "\r",
      " 94%|███████████████████████████████████▊  | 1188/1261 [05:30<00:18,  3.95it/s]"
     ]
    },
    {
     "name": "stdout",
     "output_type": "stream",
     "text": [
      "The middle point of image:640\n",
      "Max value at x-358 left part.\n",
      "Max value at x-1062 right part.\n"
     ]
    },
    {
     "name": "stderr",
     "output_type": "stream",
     "text": [
      "\r",
      " 94%|███████████████████████████████████▊  | 1189/1261 [05:31<00:17,  4.17it/s]"
     ]
    },
    {
     "name": "stdout",
     "output_type": "stream",
     "text": [
      "The middle point of image:640\n",
      "Max value at x-359 left part.\n",
      "Max value at x-1059 right part.\n"
     ]
    },
    {
     "name": "stderr",
     "output_type": "stream",
     "text": [
      "\r",
      " 94%|███████████████████████████████████▊  | 1190/1261 [05:31<00:23,  3.00it/s]"
     ]
    },
    {
     "name": "stdout",
     "output_type": "stream",
     "text": [
      "The middle point of image:640\n",
      "Max value at x-366 left part.\n",
      "Max value at x-1054 right part.\n"
     ]
    },
    {
     "name": "stderr",
     "output_type": "stream",
     "text": [
      "\r",
      " 94%|███████████████████████████████████▉  | 1191/1261 [05:32<00:25,  2.72it/s]"
     ]
    },
    {
     "name": "stdout",
     "output_type": "stream",
     "text": [
      "The middle point of image:640\n",
      "Max value at x-367 left part.\n",
      "Max value at x-1049 right part.\n"
     ]
    },
    {
     "name": "stderr",
     "output_type": "stream",
     "text": [
      "\r",
      " 95%|███████████████████████████████████▉  | 1192/1261 [05:32<00:20,  3.34it/s]"
     ]
    },
    {
     "name": "stdout",
     "output_type": "stream",
     "text": [
      "The middle point of image:640\n",
      "Max value at x-362 left part.\n",
      "Max value at x-1044 right part.\n"
     ]
    },
    {
     "name": "stderr",
     "output_type": "stream",
     "text": [
      "\r",
      " 95%|███████████████████████████████████▉  | 1193/1261 [05:32<00:17,  3.89it/s]"
     ]
    },
    {
     "name": "stdout",
     "output_type": "stream",
     "text": [
      "The middle point of image:640\n",
      "Max value at x-362 left part.\n",
      "Max value at x-1042 right part.\n"
     ]
    },
    {
     "name": "stderr",
     "output_type": "stream",
     "text": [
      "\r",
      " 95%|███████████████████████████████████▉  | 1194/1261 [05:32<00:16,  3.98it/s]"
     ]
    },
    {
     "name": "stdout",
     "output_type": "stream",
     "text": [
      "The middle point of image:640\n",
      "Max value at x-363 left part.\n",
      "Max value at x-1055 right part.\n"
     ]
    },
    {
     "name": "stderr",
     "output_type": "stream",
     "text": [
      "\r",
      " 95%|████████████████████████████████████  | 1195/1261 [05:32<00:19,  3.33it/s]"
     ]
    },
    {
     "name": "stdout",
     "output_type": "stream",
     "text": [
      "The middle point of image:640\n",
      "Max value at x-364 left part.\n",
      "Max value at x-1062 right part.\n"
     ]
    },
    {
     "name": "stderr",
     "output_type": "stream",
     "text": [
      "\r",
      " 95%|████████████████████████████████████  | 1196/1261 [05:33<00:22,  2.93it/s]"
     ]
    },
    {
     "name": "stdout",
     "output_type": "stream",
     "text": [
      "The middle point of image:640\n",
      "Max value at x-363 left part.\n",
      "Max value at x-1062 right part.\n"
     ]
    },
    {
     "name": "stderr",
     "output_type": "stream",
     "text": [
      "\r",
      " 95%|████████████████████████████████████  | 1197/1261 [05:33<00:17,  3.57it/s]"
     ]
    },
    {
     "name": "stdout",
     "output_type": "stream",
     "text": [
      "The middle point of image:640\n",
      "Max value at x-362 left part.\n",
      "Max value at x-1065 right part.\n"
     ]
    },
    {
     "name": "stderr",
     "output_type": "stream",
     "text": [
      "\r",
      " 95%|████████████████████████████████████  | 1198/1261 [05:33<00:14,  4.21it/s]"
     ]
    },
    {
     "name": "stdout",
     "output_type": "stream",
     "text": [
      "The middle point of image:640\n",
      "Max value at x-357 left part.\n",
      "Max value at x-1072 right part.\n"
     ]
    },
    {
     "name": "stderr",
     "output_type": "stream",
     "text": [
      "\r",
      " 95%|████████████████████████████████████▏ | 1199/1261 [05:33<00:14,  4.22it/s]"
     ]
    },
    {
     "name": "stdout",
     "output_type": "stream",
     "text": [
      "The middle point of image:640\n",
      "Max value at x-353 left part.\n",
      "Max value at x-1075 right part.\n"
     ]
    },
    {
     "name": "stderr",
     "output_type": "stream",
     "text": [
      "\r",
      " 95%|████████████████████████████████████▏ | 1200/1261 [05:34<00:21,  2.89it/s]"
     ]
    },
    {
     "name": "stdout",
     "output_type": "stream",
     "text": [
      "The middle point of image:640\n",
      "Max value at x-355 left part.\n",
      "Max value at x-1066 right part.\n"
     ]
    },
    {
     "name": "stderr",
     "output_type": "stream",
     "text": [
      "\r",
      " 95%|████████████████████████████████████▏ | 1201/1261 [05:34<00:18,  3.24it/s]"
     ]
    },
    {
     "name": "stdout",
     "output_type": "stream",
     "text": [
      "The middle point of image:640\n",
      "Max value at x-353 left part.\n",
      "Max value at x-1070 right part.\n"
     ]
    },
    {
     "name": "stderr",
     "output_type": "stream",
     "text": [
      "\r",
      " 95%|████████████████████████████████████▏ | 1202/1261 [05:34<00:15,  3.80it/s]"
     ]
    },
    {
     "name": "stdout",
     "output_type": "stream",
     "text": [
      "The middle point of image:640\n",
      "Max value at x-360 left part.\n",
      "Max value at x-1068 right part.\n"
     ]
    },
    {
     "name": "stderr",
     "output_type": "stream",
     "text": [
      "\r",
      " 95%|████████████████████████████████████▎ | 1203/1261 [05:35<00:18,  3.15it/s]"
     ]
    },
    {
     "name": "stdout",
     "output_type": "stream",
     "text": [
      "The middle point of image:640\n",
      "Max value at x-361 left part.\n",
      "Max value at x-1065 right part.\n"
     ]
    },
    {
     "name": "stderr",
     "output_type": "stream",
     "text": [
      "\r",
      " 95%|████████████████████████████████████▎ | 1204/1261 [05:35<00:15,  3.60it/s]"
     ]
    },
    {
     "name": "stdout",
     "output_type": "stream",
     "text": [
      "The middle point of image:640\n",
      "Max value at x-365 left part.\n",
      "Max value at x-1056 right part.\n"
     ]
    },
    {
     "name": "stderr",
     "output_type": "stream",
     "text": [
      "\r",
      " 96%|████████████████████████████████████▎ | 1205/1261 [05:35<00:13,  4.23it/s]"
     ]
    },
    {
     "name": "stdout",
     "output_type": "stream",
     "text": [
      "The middle point of image:640\n",
      "Max value at x-377 left part.\n",
      "Max value at x-1070 right part.\n"
     ]
    },
    {
     "name": "stderr",
     "output_type": "stream",
     "text": [
      "\r",
      " 96%|████████████████████████████████████▎ | 1206/1261 [05:35<00:13,  4.21it/s]"
     ]
    },
    {
     "name": "stdout",
     "output_type": "stream",
     "text": [
      "The middle point of image:640\n",
      "Max value at x-384 left part.\n",
      "Max value at x-1067 right part.\n"
     ]
    },
    {
     "name": "stderr",
     "output_type": "stream",
     "text": [
      "\r",
      " 96%|████████████████████████████████████▎ | 1207/1261 [05:36<00:12,  4.47it/s]"
     ]
    },
    {
     "name": "stdout",
     "output_type": "stream",
     "text": [
      "The middle point of image:640\n",
      "Max value at x-379 left part.\n",
      "Max value at x-1078 right part.\n"
     ]
    },
    {
     "name": "stderr",
     "output_type": "stream",
     "text": [
      "\r",
      " 96%|████████████████████████████████████▍ | 1208/1261 [05:36<00:14,  3.78it/s]"
     ]
    },
    {
     "name": "stdout",
     "output_type": "stream",
     "text": [
      "The middle point of image:640\n",
      "Max value at x-387 left part.\n",
      "Max value at x-1066 right part.\n"
     ]
    },
    {
     "name": "stderr",
     "output_type": "stream",
     "text": [
      "\r",
      " 96%|████████████████████████████████████▍ | 1209/1261 [05:36<00:13,  3.80it/s]"
     ]
    },
    {
     "name": "stdout",
     "output_type": "stream",
     "text": [
      "The middle point of image:640\n",
      "Max value at x-374 left part.\n",
      "Max value at x-1067 right part.\n"
     ]
    },
    {
     "name": "stderr",
     "output_type": "stream",
     "text": [
      "\r",
      " 96%|████████████████████████████████████▍ | 1210/1261 [05:36<00:12,  3.96it/s]"
     ]
    },
    {
     "name": "stdout",
     "output_type": "stream",
     "text": [
      "The middle point of image:640\n",
      "Max value at x-375 left part.\n",
      "Max value at x-1059 right part.\n"
     ]
    },
    {
     "name": "stderr",
     "output_type": "stream",
     "text": [
      "\r",
      " 96%|████████████████████████████████████▍ | 1211/1261 [05:37<00:12,  4.12it/s]"
     ]
    },
    {
     "name": "stdout",
     "output_type": "stream",
     "text": [
      "The middle point of image:640\n",
      "Max value at x-373 left part.\n",
      "Max value at x-1059 right part.\n"
     ]
    },
    {
     "name": "stderr",
     "output_type": "stream",
     "text": [
      "\r",
      " 96%|████████████████████████████████████▌ | 1212/1261 [05:37<00:11,  4.20it/s]"
     ]
    },
    {
     "name": "stdout",
     "output_type": "stream",
     "text": [
      "The middle point of image:640\n",
      "Max value at x-370 left part.\n",
      "Max value at x-1063 right part.\n"
     ]
    },
    {
     "name": "stderr",
     "output_type": "stream",
     "text": [
      "\r",
      " 96%|████████████████████████████████████▌ | 1213/1261 [05:37<00:10,  4.55it/s]"
     ]
    },
    {
     "name": "stdout",
     "output_type": "stream",
     "text": [
      "The middle point of image:640\n",
      "Max value at x-374 left part.\n",
      "Max value at x-1059 right part.\n"
     ]
    },
    {
     "name": "stderr",
     "output_type": "stream",
     "text": [
      "\r",
      " 96%|████████████████████████████████████▌ | 1214/1261 [05:37<00:13,  3.61it/s]"
     ]
    },
    {
     "name": "stdout",
     "output_type": "stream",
     "text": [
      "The middle point of image:640\n",
      "Max value at x-374 left part.\n",
      "Max value at x-1053 right part.\n"
     ]
    },
    {
     "name": "stderr",
     "output_type": "stream",
     "text": [
      "\r",
      " 96%|████████████████████████████████████▌ | 1215/1261 [05:38<00:11,  4.09it/s]"
     ]
    },
    {
     "name": "stdout",
     "output_type": "stream",
     "text": [
      "The middle point of image:640\n",
      "Max value at x-374 left part.\n",
      "Max value at x-1053 right part.\n"
     ]
    },
    {
     "name": "stderr",
     "output_type": "stream",
     "text": [
      "\r",
      " 96%|████████████████████████████████████▋ | 1216/1261 [05:38<00:09,  4.65it/s]"
     ]
    },
    {
     "name": "stdout",
     "output_type": "stream",
     "text": [
      "The middle point of image:640\n",
      "Max value at x-372 left part.\n",
      "Max value at x-1060 right part.\n"
     ]
    },
    {
     "name": "stderr",
     "output_type": "stream",
     "text": [
      "\r",
      " 97%|████████████████████████████████████▋ | 1217/1261 [05:38<00:10,  4.21it/s]"
     ]
    },
    {
     "name": "stdout",
     "output_type": "stream",
     "text": [
      "The middle point of image:640\n",
      "Max value at x-373 left part.\n",
      "Max value at x-1092 right part.\n"
     ]
    },
    {
     "name": "stderr",
     "output_type": "stream",
     "text": [
      "\r",
      " 97%|████████████████████████████████████▋ | 1218/1261 [05:38<00:09,  4.52it/s]"
     ]
    },
    {
     "name": "stdout",
     "output_type": "stream",
     "text": [
      "The middle point of image:640\n",
      "Max value at x-377 left part.\n",
      "Max value at x-1106 right part.\n"
     ]
    },
    {
     "name": "stderr",
     "output_type": "stream",
     "text": [
      "\r",
      " 97%|████████████████████████████████████▋ | 1219/1261 [05:39<00:11,  3.60it/s]"
     ]
    },
    {
     "name": "stdout",
     "output_type": "stream",
     "text": [
      "The middle point of image:640\n",
      "Max value at x-395 left part.\n",
      "Max value at x-1090 right part.\n"
     ]
    },
    {
     "name": "stderr",
     "output_type": "stream",
     "text": [
      "\r",
      " 97%|████████████████████████████████████▊ | 1220/1261 [05:39<00:10,  3.97it/s]"
     ]
    },
    {
     "name": "stdout",
     "output_type": "stream",
     "text": [
      "The middle point of image:640\n",
      "Max value at x-392 left part.\n",
      "Max value at x-1088 right part.\n"
     ]
    },
    {
     "name": "stderr",
     "output_type": "stream",
     "text": [
      "\r",
      " 97%|████████████████████████████████████▊ | 1221/1261 [05:39<00:08,  4.55it/s]"
     ]
    },
    {
     "name": "stdout",
     "output_type": "stream",
     "text": [
      "The middle point of image:640\n",
      "Max value at x-392 left part.\n",
      "Max value at x-1081 right part.\n"
     ]
    },
    {
     "name": "stderr",
     "output_type": "stream",
     "text": [
      "\r",
      " 97%|████████████████████████████████████▊ | 1222/1261 [05:39<00:08,  4.41it/s]"
     ]
    },
    {
     "name": "stdout",
     "output_type": "stream",
     "text": [
      "The middle point of image:640\n",
      "Max value at x-399 left part.\n",
      "Max value at x-1072 right part.\n"
     ]
    },
    {
     "name": "stderr",
     "output_type": "stream",
     "text": [
      "\r",
      " 97%|████████████████████████████████████▊ | 1223/1261 [05:40<00:09,  4.13it/s]"
     ]
    },
    {
     "name": "stdout",
     "output_type": "stream",
     "text": [
      "The middle point of image:640\n",
      "Max value at x-387 left part.\n",
      "Max value at x-1071 right part.\n"
     ]
    },
    {
     "name": "stderr",
     "output_type": "stream",
     "text": [
      "\r",
      " 97%|████████████████████████████████████▉ | 1224/1261 [05:40<00:13,  2.79it/s]"
     ]
    },
    {
     "name": "stdout",
     "output_type": "stream",
     "text": [
      "The middle point of image:640\n",
      "Max value at x-393 left part.\n",
      "Max value at x-1064 right part.\n"
     ]
    },
    {
     "name": "stderr",
     "output_type": "stream",
     "text": [
      "\r",
      " 97%|████████████████████████████████████▉ | 1225/1261 [05:41<00:13,  2.73it/s]"
     ]
    },
    {
     "name": "stdout",
     "output_type": "stream",
     "text": [
      "The middle point of image:640\n",
      "Max value at x-381 left part.\n",
      "Max value at x-1064 right part.\n"
     ]
    },
    {
     "name": "stderr",
     "output_type": "stream",
     "text": [
      "\r",
      " 97%|████████████████████████████████████▉ | 1226/1261 [05:41<00:10,  3.35it/s]"
     ]
    },
    {
     "name": "stdout",
     "output_type": "stream",
     "text": [
      "The middle point of image:640\n",
      "Max value at x-379 left part.\n",
      "Max value at x-1063 right part.\n"
     ]
    },
    {
     "name": "stderr",
     "output_type": "stream",
     "text": [
      "\r",
      " 97%|████████████████████████████████████▉ | 1227/1261 [05:41<00:08,  3.89it/s]"
     ]
    },
    {
     "name": "stdout",
     "output_type": "stream",
     "text": [
      "The middle point of image:640\n",
      "Max value at x-379 left part.\n",
      "Max value at x-1062 right part.\n"
     ]
    },
    {
     "name": "stderr",
     "output_type": "stream",
     "text": [
      "\r",
      " 97%|█████████████████████████████████████ | 1228/1261 [05:41<00:11,  2.96it/s]"
     ]
    },
    {
     "name": "stdout",
     "output_type": "stream",
     "text": [
      "The middle point of image:640\n",
      "Max value at x-377 left part.\n",
      "Max value at x-1111 right part.\n"
     ]
    },
    {
     "name": "stderr",
     "output_type": "stream",
     "text": [
      "\r",
      " 97%|█████████████████████████████████████ | 1229/1261 [05:42<00:09,  3.23it/s]"
     ]
    },
    {
     "name": "stdout",
     "output_type": "stream",
     "text": [
      "The middle point of image:640\n",
      "Max value at x-381 left part.\n",
      "Max value at x-1101 right part.\n"
     ]
    },
    {
     "name": "stderr",
     "output_type": "stream",
     "text": [
      "\r",
      " 98%|█████████████████████████████████████ | 1230/1261 [05:42<00:08,  3.82it/s]"
     ]
    },
    {
     "name": "stdout",
     "output_type": "stream",
     "text": [
      "The middle point of image:640\n",
      "Max value at x-387 left part.\n",
      "Max value at x-1095 right part.\n"
     ]
    },
    {
     "name": "stderr",
     "output_type": "stream",
     "text": [
      "\r",
      " 98%|█████████████████████████████████████ | 1231/1261 [05:42<00:08,  3.59it/s]"
     ]
    },
    {
     "name": "stdout",
     "output_type": "stream",
     "text": [
      "The middle point of image:640\n",
      "Max value at x-387 left part.\n",
      "Max value at x-1093 right part.\n"
     ]
    },
    {
     "name": "stderr",
     "output_type": "stream",
     "text": [
      "\r",
      " 98%|█████████████████████████████████████▏| 1232/1261 [05:42<00:07,  3.85it/s]"
     ]
    },
    {
     "name": "stdout",
     "output_type": "stream",
     "text": [
      "The middle point of image:640\n",
      "Max value at x-388 left part.\n",
      "Max value at x-1079 right part.\n"
     ]
    },
    {
     "name": "stderr",
     "output_type": "stream",
     "text": [
      "\r",
      " 98%|█████████████████████████████████████▏| 1233/1261 [05:42<00:06,  4.39it/s]"
     ]
    },
    {
     "name": "stdout",
     "output_type": "stream",
     "text": [
      "The middle point of image:640\n",
      "Max value at x-386 left part.\n",
      "Max value at x-1077 right part.\n"
     ]
    },
    {
     "name": "stderr",
     "output_type": "stream",
     "text": [
      "\r",
      " 98%|█████████████████████████████████████▏| 1234/1261 [05:43<00:06,  4.04it/s]"
     ]
    },
    {
     "name": "stdout",
     "output_type": "stream",
     "text": [
      "The middle point of image:640\n",
      "Max value at x-386 left part.\n",
      "Max value at x-1077 right part.\n"
     ]
    },
    {
     "name": "stderr",
     "output_type": "stream",
     "text": [
      "\r",
      " 98%|█████████████████████████████████████▏| 1235/1261 [05:43<00:06,  3.98it/s]"
     ]
    },
    {
     "name": "stdout",
     "output_type": "stream",
     "text": [
      "The middle point of image:640\n",
      "Max value at x-386 left part.\n",
      "Max value at x-1076 right part.\n"
     ]
    },
    {
     "name": "stderr",
     "output_type": "stream",
     "text": [
      "\r",
      " 98%|█████████████████████████████████████▏| 1236/1261 [05:43<00:05,  4.22it/s]"
     ]
    },
    {
     "name": "stdout",
     "output_type": "stream",
     "text": [
      "The middle point of image:640\n",
      "Max value at x-384 left part.\n",
      "Max value at x-1073 right part.\n"
     ]
    },
    {
     "name": "stderr",
     "output_type": "stream",
     "text": [
      "\r",
      " 98%|█████████████████████████████████████▎| 1237/1261 [05:44<00:07,  3.36it/s]"
     ]
    },
    {
     "name": "stdout",
     "output_type": "stream",
     "text": [
      "The middle point of image:640\n",
      "Max value at x-386 left part.\n",
      "Max value at x-1072 right part.\n"
     ]
    },
    {
     "name": "stderr",
     "output_type": "stream",
     "text": [
      "\r",
      " 98%|█████████████████████████████████████▎| 1238/1261 [05:44<00:07,  2.92it/s]"
     ]
    },
    {
     "name": "stdout",
     "output_type": "stream",
     "text": [
      "The middle point of image:640\n",
      "Max value at x-386 left part.\n",
      "Max value at x-1076 right part.\n"
     ]
    },
    {
     "name": "stderr",
     "output_type": "stream",
     "text": [
      "\r",
      " 98%|█████████████████████████████████████▎| 1239/1261 [05:44<00:06,  3.38it/s]"
     ]
    },
    {
     "name": "stdout",
     "output_type": "stream",
     "text": [
      "The middle point of image:640\n",
      "Max value at x-390 left part.\n",
      "Max value at x-1093 right part.\n"
     ]
    },
    {
     "name": "stderr",
     "output_type": "stream",
     "text": [
      "\r",
      " 98%|█████████████████████████████████████▎| 1240/1261 [05:44<00:05,  4.00it/s]"
     ]
    },
    {
     "name": "stdout",
     "output_type": "stream",
     "text": [
      "The middle point of image:640\n",
      "Max value at x-391 left part.\n",
      "Max value at x-1090 right part.\n"
     ]
    },
    {
     "name": "stderr",
     "output_type": "stream",
     "text": [
      "\r",
      " 98%|█████████████████████████████████████▍| 1241/1261 [05:45<00:04,  4.55it/s]"
     ]
    },
    {
     "name": "stdout",
     "output_type": "stream",
     "text": [
      "The middle point of image:640\n",
      "Max value at x-386 left part.\n",
      "Max value at x-1097 right part.\n"
     ]
    },
    {
     "name": "stderr",
     "output_type": "stream",
     "text": [
      "\r",
      " 98%|█████████████████████████████████████▍| 1242/1261 [05:45<00:05,  3.28it/s]"
     ]
    },
    {
     "name": "stdout",
     "output_type": "stream",
     "text": [
      "The middle point of image:640\n",
      "Max value at x-381 left part.\n",
      "Max value at x-1099 right part.\n"
     ]
    },
    {
     "name": "stderr",
     "output_type": "stream",
     "text": [
      "\r",
      " 99%|█████████████████████████████████████▍| 1243/1261 [05:46<00:06,  2.89it/s]"
     ]
    },
    {
     "name": "stdout",
     "output_type": "stream",
     "text": [
      "The middle point of image:640\n",
      "Max value at x-384 left part.\n",
      "Max value at x-1092 right part.\n"
     ]
    },
    {
     "name": "stderr",
     "output_type": "stream",
     "text": [
      "\r",
      " 99%|█████████████████████████████████████▍| 1244/1261 [05:46<00:05,  2.88it/s]"
     ]
    },
    {
     "name": "stdout",
     "output_type": "stream",
     "text": [
      "The middle point of image:640\n",
      "Max value at x-383 left part.\n",
      "Max value at x-1093 right part.\n"
     ]
    },
    {
     "name": "stderr",
     "output_type": "stream",
     "text": [
      "\r",
      " 99%|█████████████████████████████████████▌| 1245/1261 [05:46<00:06,  2.61it/s]"
     ]
    },
    {
     "name": "stdout",
     "output_type": "stream",
     "text": [
      "The middle point of image:640\n",
      "Max value at x-380 left part.\n",
      "Max value at x-1091 right part.\n"
     ]
    },
    {
     "name": "stderr",
     "output_type": "stream",
     "text": [
      "\r",
      " 99%|█████████████████████████████████████▌| 1246/1261 [05:47<00:05,  2.51it/s]"
     ]
    },
    {
     "name": "stdout",
     "output_type": "stream",
     "text": [
      "The middle point of image:640\n",
      "Max value at x-387 left part.\n",
      "Max value at x-1078 right part.\n"
     ]
    },
    {
     "name": "stderr",
     "output_type": "stream",
     "text": [
      "\r",
      " 99%|█████████████████████████████████████▌| 1247/1261 [05:48<00:08,  1.68it/s]"
     ]
    },
    {
     "name": "stdout",
     "output_type": "stream",
     "text": [
      "The middle point of image:640\n",
      "Max value at x-388 left part.\n",
      "Max value at x-1078 right part.\n"
     ]
    },
    {
     "name": "stderr",
     "output_type": "stream",
     "text": [
      "\r",
      " 99%|█████████████████████████████████████▌| 1248/1261 [05:48<00:06,  2.06it/s]"
     ]
    },
    {
     "name": "stdout",
     "output_type": "stream",
     "text": [
      "The middle point of image:640\n",
      "Max value at x-390 left part.\n",
      "Max value at x-1075 right part.\n"
     ]
    },
    {
     "name": "stderr",
     "output_type": "stream",
     "text": [
      "\r",
      " 99%|█████████████████████████████████████▋| 1249/1261 [05:48<00:04,  2.59it/s]"
     ]
    },
    {
     "name": "stdout",
     "output_type": "stream",
     "text": [
      "The middle point of image:640\n",
      "Max value at x-385 left part.\n",
      "Max value at x-1071 right part.\n"
     ]
    },
    {
     "name": "stderr",
     "output_type": "stream",
     "text": [
      "\r",
      " 99%|█████████████████████████████████████▋| 1250/1261 [05:49<00:04,  2.61it/s]"
     ]
    },
    {
     "name": "stdout",
     "output_type": "stream",
     "text": [
      "The middle point of image:640\n",
      "Max value at x-377 left part.\n",
      "Max value at x-1075 right part.\n"
     ]
    },
    {
     "name": "stderr",
     "output_type": "stream",
     "text": [
      "\r",
      " 99%|█████████████████████████████████████▋| 1251/1261 [05:49<00:03,  3.17it/s]"
     ]
    },
    {
     "name": "stdout",
     "output_type": "stream",
     "text": [
      "The middle point of image:640\n",
      "Max value at x-375 left part.\n",
      "Max value at x-1076 right part.\n"
     ]
    },
    {
     "name": "stderr",
     "output_type": "stream",
     "text": [
      "\r",
      " 99%|█████████████████████████████████████▋| 1252/1261 [05:49<00:02,  3.48it/s]"
     ]
    },
    {
     "name": "stdout",
     "output_type": "stream",
     "text": [
      "The middle point of image:640\n",
      "Max value at x-383 left part.\n",
      "Max value at x-1068 right part.\n"
     ]
    },
    {
     "name": "stderr",
     "output_type": "stream",
     "text": [
      "\r",
      " 99%|█████████████████████████████████████▊| 1253/1261 [05:49<00:02,  2.87it/s]"
     ]
    },
    {
     "name": "stdout",
     "output_type": "stream",
     "text": [
      "The middle point of image:640\n",
      "Max value at x-370 left part.\n",
      "Max value at x-1069 right part.\n"
     ]
    },
    {
     "name": "stderr",
     "output_type": "stream",
     "text": [
      "\r",
      " 99%|█████████████████████████████████████▊| 1254/1261 [05:50<00:02,  3.39it/s]"
     ]
    },
    {
     "name": "stdout",
     "output_type": "stream",
     "text": [
      "The middle point of image:640\n",
      "Max value at x-371 left part.\n",
      "Max value at x-1063 right part.\n"
     ]
    },
    {
     "name": "stderr",
     "output_type": "stream",
     "text": [
      "\r",
      "100%|█████████████████████████████████████▊| 1255/1261 [05:50<00:01,  3.92it/s]"
     ]
    },
    {
     "name": "stdout",
     "output_type": "stream",
     "text": [
      "The middle point of image:640\n",
      "Max value at x-379 left part.\n",
      "Max value at x-1069 right part.\n"
     ]
    },
    {
     "name": "stderr",
     "output_type": "stream",
     "text": [
      "\r",
      "100%|█████████████████████████████████████▊| 1256/1261 [05:50<00:01,  3.68it/s]"
     ]
    },
    {
     "name": "stdout",
     "output_type": "stream",
     "text": [
      "The middle point of image:640\n",
      "Max value at x-363 left part.\n",
      "Max value at x-1059 right part.\n"
     ]
    },
    {
     "name": "stderr",
     "output_type": "stream",
     "text": [
      "\r",
      "100%|█████████████████████████████████████▉| 1257/1261 [05:50<00:00,  4.04it/s]"
     ]
    },
    {
     "name": "stdout",
     "output_type": "stream",
     "text": [
      "The middle point of image:640\n",
      "Max value at x-367 left part.\n",
      "Max value at x-1065 right part.\n"
     ]
    },
    {
     "name": "stderr",
     "output_type": "stream",
     "text": [
      "\r",
      "100%|█████████████████████████████████████▉| 1258/1261 [05:50<00:00,  4.54it/s]"
     ]
    },
    {
     "name": "stdout",
     "output_type": "stream",
     "text": [
      "The middle point of image:640\n",
      "Max value at x-357 left part.\n",
      "Max value at x-1066 right part.\n"
     ]
    },
    {
     "name": "stderr",
     "output_type": "stream",
     "text": [
      "\r",
      "100%|█████████████████████████████████████▉| 1259/1261 [05:51<00:00,  4.98it/s]"
     ]
    },
    {
     "name": "stdout",
     "output_type": "stream",
     "text": [
      "The middle point of image:640\n",
      "Max value at x-362 left part.\n",
      "Max value at x-1067 right part.\n"
     ]
    },
    {
     "name": "stderr",
     "output_type": "stream",
     "text": [
      "100%|█████████████████████████████████████▉| 1260/1261 [05:51<00:00,  3.47it/s]\n"
     ]
    },
    {
     "name": "stdout",
     "output_type": "stream",
     "text": [
      "[MoviePy] Done.\n",
      "[MoviePy] >>>> Video ready: ../output_images/project_video_output.mp4 \n",
      "\n",
      "Wall time: 5min 54s\n"
     ]
    }
   ],
   "source": [
    "video_output = \"../output_images/project_video_output.mp4\"\n",
    "## To speed up the testing process you may want to try your pipeline on a shorter subclip of the video\n",
    "## To do so add .subclip(start_second,end_second) to the end of the line below\n",
    "## Where start_second and end_second are integer values representing the start and end of the subclip\n",
    "## You may also uncomment the following line for a subclip of the first 5 seconds\n",
    "#clip1 = VideoFileClip(\"../project_video.mp4\").subclip(0,5)\n",
    "clip1 = VideoFileClip(\"../project_video.mp4\")\n",
    "white_clip = clip1.fl_image(process_image) #NOTE: this function expects color images!!\n",
    "%time white_clip.write_videofile(video_output, audio=False)"
   ]
  }
 ],
 "metadata": {
  "kernelspec": {
   "display_name": "Python 3",
   "language": "python",
   "name": "python3"
  },
  "language_info": {
   "codemirror_mode": {
    "name": "ipython",
    "version": 3
   },
   "file_extension": ".py",
   "mimetype": "text/x-python",
   "name": "python",
   "nbconvert_exporter": "python",
   "pygments_lexer": "ipython3",
   "version": "3.5.1"
  }
 },
 "nbformat": 4,
 "nbformat_minor": 0
}
